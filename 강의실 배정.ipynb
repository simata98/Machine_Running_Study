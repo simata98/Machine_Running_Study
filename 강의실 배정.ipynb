{
 "cells": [
  {
   "cell_type": "code",
   "execution_count": 1,
   "id": "82dbd4ba",
   "metadata": {},
   "outputs": [],
   "source": [
    "import pandas as pd"
   ]
  },
  {
   "cell_type": "code",
   "execution_count": 2,
   "id": "c67adac4",
   "metadata": {},
   "outputs": [],
   "source": [
    "df = pd.read_csv('data/enrolment_2.csv')"
   ]
  },
  {
   "cell_type": "code",
   "execution_count": 3,
   "id": "2690dcfe",
   "metadata": {},
   "outputs": [],
   "source": [
    "allowed = df[\"status\"] == \"allowed\""
   ]
  },
  {
   "cell_type": "code",
   "execution_count": 9,
   "id": "76a76da5",
   "metadata": {},
   "outputs": [],
   "source": [
    "course_counts = df.loc[allowed, \"course name\"].value_counts()"
   ]
  },
  {
   "cell_type": "code",
   "execution_count": 27,
   "id": "0e1dda75",
   "metadata": {},
   "outputs": [],
   "source": [
    "auditoriumlist = list(course_counts[course_counts >= 80].index)"
   ]
  },
  {
   "cell_type": "code",
   "execution_count": 35,
   "id": "27f79c1a",
   "metadata": {},
   "outputs": [],
   "source": [
    "largeroomlist = list(course_counts[(course_counts < 80) & (course_counts >= 40)].index)"
   ]
  },
  {
   "cell_type": "code",
   "execution_count": 36,
   "id": "3f80b998",
   "metadata": {},
   "outputs": [],
   "source": [
    "mediumroomlist = list(course_counts[(course_counts < 40) & (course_counts >= 15)].index)"
   ]
  },
  {
   "cell_type": "code",
   "execution_count": 37,
   "id": "41fb89d6",
   "metadata": {},
   "outputs": [],
   "source": [
    "smallroomlist = list(course_counts[(course_counts > 4) & (course_counts < 15)].index)"
   ]
  },
  {
   "cell_type": "code",
   "execution_count": 38,
   "id": "66abd6f3",
   "metadata": {},
   "outputs": [],
   "source": [
    "not_allowed = df[\"status\"] == \"not allowed\""
   ]
  },
  {
   "cell_type": "code",
   "execution_count": 39,
   "id": "40484e8b",
   "metadata": {},
   "outputs": [],
   "source": [
    "df.loc[not_allowed, \"room assignment\"] = \"not assigned\""
   ]
  },
  {
   "cell_type": "code",
   "execution_count": 40,
   "id": "54378c06",
   "metadata": {},
   "outputs": [],
   "source": [
    "for course in auditoriumlist:\n",
    "    df.loc[(df[\"course name\"] == course) & allowed, \"room assignment\"] = \"Auditorium\"\n",
    "for course in largeroomlist:\n",
    "    df.loc[(df[\"course name\"] == course) & allowed, \"room assignment\"] = \"Large room\"\n",
    "for course in mediumroomlist:\n",
    "    df.loc[(df[\"course name\"] == course) & allowed, \"room assignment\"] = \"Medium room\"\n",
    "for course in smallroomlist:\n",
    "    df.loc[(df[\"course name\"] == course) & allowed, \"room assignment\"] = \"Small room\""
   ]
  },
  {
   "cell_type": "code",
   "execution_count": 41,
   "id": "63b10298",
   "metadata": {},
   "outputs": [
    {
     "data": {
      "text/html": [
       "<div>\n",
       "<style scoped>\n",
       "    .dataframe tbody tr th:only-of-type {\n",
       "        vertical-align: middle;\n",
       "    }\n",
       "\n",
       "    .dataframe tbody tr th {\n",
       "        vertical-align: top;\n",
       "    }\n",
       "\n",
       "    .dataframe thead th {\n",
       "        text-align: right;\n",
       "    }\n",
       "</style>\n",
       "<table border=\"1\" class=\"dataframe\">\n",
       "  <thead>\n",
       "    <tr style=\"text-align: right;\">\n",
       "      <th></th>\n",
       "      <th>id</th>\n",
       "      <th>year</th>\n",
       "      <th>course name</th>\n",
       "      <th>status</th>\n",
       "      <th>room assignment</th>\n",
       "    </tr>\n",
       "  </thead>\n",
       "  <tbody>\n",
       "    <tr>\n",
       "      <th>0</th>\n",
       "      <td>2777729</td>\n",
       "      <td>1</td>\n",
       "      <td>science</td>\n",
       "      <td>allowed</td>\n",
       "      <td>Auditorium</td>\n",
       "    </tr>\n",
       "    <tr>\n",
       "      <th>1</th>\n",
       "      <td>2777730</td>\n",
       "      <td>2</td>\n",
       "      <td>science</td>\n",
       "      <td>allowed</td>\n",
       "      <td>Auditorium</td>\n",
       "    </tr>\n",
       "    <tr>\n",
       "      <th>2</th>\n",
       "      <td>2777765</td>\n",
       "      <td>1</td>\n",
       "      <td>arts</td>\n",
       "      <td>allowed</td>\n",
       "      <td>Auditorium</td>\n",
       "    </tr>\n",
       "    <tr>\n",
       "      <th>3</th>\n",
       "      <td>2777766</td>\n",
       "      <td>2</td>\n",
       "      <td>arts</td>\n",
       "      <td>allowed</td>\n",
       "      <td>Auditorium</td>\n",
       "    </tr>\n",
       "    <tr>\n",
       "      <th>4</th>\n",
       "      <td>2777785</td>\n",
       "      <td>1</td>\n",
       "      <td>mba</td>\n",
       "      <td>allowed</td>\n",
       "      <td>Small room</td>\n",
       "    </tr>\n",
       "    <tr>\n",
       "      <th>...</th>\n",
       "      <td>...</td>\n",
       "      <td>...</td>\n",
       "      <td>...</td>\n",
       "      <td>...</td>\n",
       "      <td>...</td>\n",
       "    </tr>\n",
       "    <tr>\n",
       "      <th>1995</th>\n",
       "      <td>2796805</td>\n",
       "      <td>3</td>\n",
       "      <td>computer application</td>\n",
       "      <td>allowed</td>\n",
       "      <td>Medium room</td>\n",
       "    </tr>\n",
       "    <tr>\n",
       "      <th>1996</th>\n",
       "      <td>2796812</td>\n",
       "      <td>1</td>\n",
       "      <td>nursing</td>\n",
       "      <td>allowed</td>\n",
       "      <td>Medium room</td>\n",
       "    </tr>\n",
       "    <tr>\n",
       "      <th>1997</th>\n",
       "      <td>2796813</td>\n",
       "      <td>2</td>\n",
       "      <td>nursing</td>\n",
       "      <td>allowed</td>\n",
       "      <td>Medium room</td>\n",
       "    </tr>\n",
       "    <tr>\n",
       "      <th>1998</th>\n",
       "      <td>2796814</td>\n",
       "      <td>3</td>\n",
       "      <td>nursing</td>\n",
       "      <td>allowed</td>\n",
       "      <td>Medium room</td>\n",
       "    </tr>\n",
       "    <tr>\n",
       "      <th>1999</th>\n",
       "      <td>2796815</td>\n",
       "      <td>4</td>\n",
       "      <td>nursing</td>\n",
       "      <td>allowed</td>\n",
       "      <td>Medium room</td>\n",
       "    </tr>\n",
       "  </tbody>\n",
       "</table>\n",
       "<p>2000 rows × 5 columns</p>\n",
       "</div>"
      ],
      "text/plain": [
       "           id  year           course name   status room assignment\n",
       "0     2777729     1               science  allowed      Auditorium\n",
       "1     2777730     2               science  allowed      Auditorium\n",
       "2     2777765     1                  arts  allowed      Auditorium\n",
       "3     2777766     2                  arts  allowed      Auditorium\n",
       "4     2777785     1                   mba  allowed      Small room\n",
       "...       ...   ...                   ...      ...             ...\n",
       "1995  2796805     3  computer application  allowed     Medium room\n",
       "1996  2796812     1               nursing  allowed     Medium room\n",
       "1997  2796813     2               nursing  allowed     Medium room\n",
       "1998  2796814     3               nursing  allowed     Medium room\n",
       "1999  2796815     4               nursing  allowed     Medium room\n",
       "\n",
       "[2000 rows x 5 columns]"
      ]
     },
     "execution_count": 41,
     "metadata": {},
     "output_type": "execute_result"
    }
   ],
   "source": [
    "df"
   ]
  },
  {
   "cell_type": "code",
   "execution_count": null,
   "id": "0380724c",
   "metadata": {},
   "outputs": [],
   "source": []
  }
 ],
 "metadata": {
  "kernelspec": {
   "display_name": "Python 3",
   "language": "python",
   "name": "python3"
  },
  "language_info": {
   "codemirror_mode": {
    "name": "ipython",
    "version": 3
   },
   "file_extension": ".py",
   "mimetype": "text/x-python",
   "name": "python",
   "nbconvert_exporter": "python",
   "pygments_lexer": "ipython3",
   "version": "3.8.8"
  }
 },
 "nbformat": 4,
 "nbformat_minor": 5
}
