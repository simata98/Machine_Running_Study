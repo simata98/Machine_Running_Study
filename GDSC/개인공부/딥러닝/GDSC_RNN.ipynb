{
 "cells": [
  {
   "cell_type": "code",
   "execution_count": 1,
   "metadata": {},
   "outputs": [],
   "source": [
    "from tensorflow.keras.datasets import imdb\n",
    "\n",
    "(train_input, train_target), (test_input, test_target) = imdb.load_data(num_words=500)"
   ]
  },
  {
   "cell_type": "code",
   "execution_count": 2,
   "metadata": {},
   "outputs": [
    {
     "name": "stdout",
     "output_type": "stream",
     "text": [
      "(25000,) (25000,)\n"
     ]
    }
   ],
   "source": [
    "print(train_input.shape, test_input.shape)"
   ]
  },
  {
   "cell_type": "code",
   "execution_count": 3,
   "metadata": {},
   "outputs": [
    {
     "name": "stdout",
     "output_type": "stream",
     "text": [
      "[1, 14, 22, 16, 43, 2, 2, 2, 2, 65, 458, 2, 66, 2, 4, 173, 36, 256, 5, 25, 100, 43, 2, 112, 50, 2, 2, 9, 35, 480, 284, 5, 150, 4, 172, 112, 167, 2, 336, 385, 39, 4, 172, 2, 2, 17, 2, 38, 13, 447, 4, 192, 50, 16, 6, 147, 2, 19, 14, 22, 4, 2, 2, 469, 4, 22, 71, 87, 12, 16, 43, 2, 38, 76, 15, 13, 2, 4, 22, 17, 2, 17, 12, 16, 2, 18, 2, 5, 62, 386, 12, 8, 316, 8, 106, 5, 4, 2, 2, 16, 480, 66, 2, 33, 4, 130, 12, 16, 38, 2, 5, 25, 124, 51, 36, 135, 48, 25, 2, 33, 6, 22, 12, 215, 28, 77, 52, 5, 14, 407, 16, 82, 2, 8, 4, 107, 117, 2, 15, 256, 4, 2, 7, 2, 5, 2, 36, 71, 43, 2, 476, 26, 400, 317, 46, 7, 4, 2, 2, 13, 104, 88, 4, 381, 15, 297, 98, 32, 2, 56, 26, 141, 6, 194, 2, 18, 4, 226, 22, 21, 134, 476, 26, 480, 5, 144, 30, 2, 18, 51, 36, 28, 224, 92, 25, 104, 4, 226, 65, 16, 38, 2, 88, 12, 16, 283, 5, 16, 2, 113, 103, 32, 15, 16, 2, 19, 178, 32]\n"
     ]
    }
   ],
   "source": [
    "print(train_input[0])"
   ]
  },
  {
   "cell_type": "code",
   "execution_count": 4,
   "metadata": {},
   "outputs": [
    {
     "name": "stdout",
     "output_type": "stream",
     "text": [
      "218\n"
     ]
    }
   ],
   "source": [
    "print(len(train_input[0]))"
   ]
  },
  {
   "cell_type": "code",
   "execution_count": 5,
   "metadata": {},
   "outputs": [
    {
     "name": "stdout",
     "output_type": "stream",
     "text": [
      "189\n"
     ]
    }
   ],
   "source": [
    "print(len(train_input[1]))"
   ]
  },
  {
   "cell_type": "code",
   "execution_count": 6,
   "metadata": {},
   "outputs": [
    {
     "name": "stdout",
     "output_type": "stream",
     "text": [
      "[1 0 0 1 0 0 1 0 1 0 1 0 0 0 0 0 1 1 0 1]\n"
     ]
    }
   ],
   "source": [
    "print(train_target[:20])"
   ]
  },
  {
   "cell_type": "code",
   "execution_count": 7,
   "metadata": {},
   "outputs": [],
   "source": [
    "from sklearn.model_selection import train_test_split\n",
    "\n",
    "train_input, val_input, train_target, val_target = train_test_split(\n",
    "    train_input, train_target, test_size=0.2, random_state=42)"
   ]
  },
  {
   "cell_type": "code",
   "execution_count": 8,
   "metadata": {},
   "outputs": [],
   "source": [
    "import numpy as np\n",
    "\n",
    "lengths = np.array([len(x) for x in train_input])"
   ]
  },
  {
   "cell_type": "code",
   "execution_count": 9,
   "metadata": {},
   "outputs": [
    {
     "name": "stdout",
     "output_type": "stream",
     "text": [
      "239.00925 178.0\n"
     ]
    }
   ],
   "source": [
    "print(np.mean(lengths), np.median(lengths)) # 평균과 중앙값 출력"
   ]
  },
  {
   "cell_type": "code",
   "execution_count": 10,
   "metadata": {},
   "outputs": [
    {
     "data": {
      "image/png": "[encoded data removed]",
      "text/plain": [
       "<Figure size 432x288 with 1 Axes>"
      ]
     },
     "metadata": {
      "needs_background": "light"
     },
     "output_type": "display_data"
    }
   ],
   "source": [
    "import matplotlib.pyplot as plt\n",
    "\n",
    "plt.hist(lengths)\n",
    "plt.xlabel('length')\n",
    "plt.ylabel('frequency')\n",
    "plt.show()"
   ]
  },
  {
   "cell_type": "code",
   "execution_count": 11,
   "metadata": {},
   "outputs": [],
   "source": [
    "from tensorflow.keras.preprocessing.sequence import pad_sequences\n",
    "\n",
    "train_seq = pad_sequences(train_input, maxlen=100) # 100보다 긴경우는 자르고, 짧은 경우는 0으로 패딩 처리"
   ]
  },
  {
   "cell_type": "code",
   "execution_count": 12,
   "metadata": {},
   "outputs": [
    {
     "name": "stdout",
     "output_type": "stream",
     "text": [
      "[ 10   4  20   9   2 364 352   5  45   6   2   2  33 269   8   2 142   2\n",
      "   5   2  17  73  17 204   5   2  19  55   2   2  92  66 104  14  20  93\n",
      "  76   2 151  33   4  58  12 188   2 151  12 215  69 224 142  73 237   6\n",
      "   2   7   2   2 188   2 103  14  31  10  10 451   7   2   5   2  80  91\n",
      "   2  30   2  34  14  20 151  50  26 131  49   2  84  46  50  37  80  79\n",
      "   6   2  46   7  14  20  10  10 470 158]\n"
     ]
    }
   ],
   "source": [
    "print(train_seq[0])"
   ]
  },
  {
   "cell_type": "code",
   "execution_count": 13,
   "metadata": {},
   "outputs": [
    {
     "name": "stdout",
     "output_type": "stream",
     "text": [
      "[6, 2, 46, 7, 14, 20, 10, 10, 470, 158]\n"
     ]
    }
   ],
   "source": [
    "print(train_input[0][-10:]) # train_seq[0]의 뒷부분과 일치 => 즉, train_seq는 100이 넘을 시 앞부분을 잘랐음\n",
    "# pad_sequences 함수의 truncationg 매개변수의 기본값은 'pre'. 이를  'post'로 바꾸면 뒷부분을 자르게 된다."
   ]
  },
  {
   "cell_type": "code",
   "execution_count": 14,
   "metadata": {},
   "outputs": [
    {
     "name": "stdout",
     "output_type": "stream",
     "text": [
      "[  0   0   0   0   1   2 195  19  49   2   2 190   4   2 352   2 183  10\n",
      "  10  13  82  79   4   2  36  71 269   8   2  25  19  49   7   4   2   2\n",
      "   2   2   2  10  10  48  25  40   2  11   2   2  40   2   2   5   4   2\n",
      "   2  95  14 238  56 129   2  10  10  21   2  94 364 352   2   2  11 190\n",
      "  24 484   2   7  94 205 405  10  10  87   2  34  49   2   7   2   2   2\n",
      "   2   2 290   2  46  48  64  18   4   2]\n"
     ]
    }
   ],
   "source": [
    "print(train_seq[5]) # 시퀀스의 마지막 부분에 해당할수록 영향력이 커지는 경향이 있으므로, 일반적으로 패딩을 앞부분에 처리한다."
   ]
  },
  {
   "cell_type": "code",
   "execution_count": 15,
   "metadata": {},
   "outputs": [],
   "source": [
    "val_seq = pad_sequences(val_input, maxlen=100)"
   ]
  },
  {
   "cell_type": "markdown",
   "metadata": {},
   "source": [
    "**순환 신경망 만들기**"
   ]
  },
  {
   "cell_type": "code",
   "execution_count": 16,
   "metadata": {},
   "outputs": [
    {
     "data": {
      "text/plain": [
       "array([ 10,   4,  20,   9,   2, 364, 352,   5,  45,   6,   2,   2,  33,\n",
       "       269,   8,   2, 142,   2,   5,   2,  17,  73,  17, 204,   5,   2,\n",
       "        19,  55,   2,   2,  92,  66, 104,  14,  20,  93,  76,   2, 151,\n",
       "        33,   4,  58,  12, 188,   2, 151,  12, 215,  69, 224, 142,  73,\n",
       "       237,   6,   2,   7,   2,   2, 188,   2, 103,  14,  31,  10,  10,\n",
       "       451,   7,   2,   5,   2,  80,  91,   2,  30,   2,  34,  14,  20,\n",
       "       151,  50,  26, 131,  49,   2,  84,  46,  50,  37,  80,  79,   6,\n",
       "         2,  46,   7,  14,  20,  10,  10, 470, 158], dtype=int32)"
      ]
     },
     "execution_count": 16,
     "metadata": {},
     "output_type": "execute_result"
    }
   ],
   "source": [
    "train_seq[0]"
   ]
  },
  {
   "cell_type": "code",
   "execution_count": 19,
   "metadata": {},
   "outputs": [],
   "source": [
    "import keras\n",
    "train_oh = keras.utils.np_utils.to_categorical(train_seq) # 정수 시퀀스를 원핫 인코딩으로 변환"
   ]
  },
  {
   "cell_type": "code",
   "execution_count": 20,
   "metadata": {},
   "outputs": [
    {
     "data": {
      "text/plain": [
       "array([[0., 0., 0., ..., 0., 0., 0.],\n",
       "       [0., 0., 0., ..., 0., 0., 0.],\n",
       "       [0., 0., 0., ..., 0., 0., 0.],\n",
       "       ...,\n",
       "       [0., 0., 0., ..., 0., 0., 0.],\n",
       "       [0., 0., 0., ..., 0., 0., 0.],\n",
       "       [0., 0., 0., ..., 0., 0., 0.]], dtype=float32)"
      ]
     },
     "execution_count": 20,
     "metadata": {},
     "output_type": "execute_result"
    }
   ],
   "source": [
    "train_oh[0]"
   ]
  },
  {
   "cell_type": "code",
   "execution_count": 21,
   "metadata": {},
   "outputs": [
    {
     "name": "stdout",
     "output_type": "stream",
     "text": [
      "(20000, 100, 500)\n"
     ]
    }
   ],
   "source": [
    "print(train_oh.shape)"
   ]
  },
  {
   "cell_type": "code",
   "execution_count": 23,
   "metadata": {},
   "outputs": [
    {
     "name": "stdout",
     "output_type": "stream",
     "text": [
      "[0. 0. 0. 0. 0. 0. 0. 0. 0. 0. 1. 0.]\n"
     ]
    }
   ],
   "source": [
    "print(train_oh[0][0][:12])"
   ]
  },
  {
   "cell_type": "code",
   "execution_count": 24,
   "metadata": {},
   "outputs": [
    {
     "name": "stdout",
     "output_type": "stream",
     "text": [
      "1.0\n"
     ]
    }
   ],
   "source": [
    "print(np.sum(train_oh[0][0]))"
   ]
  },
  {
   "cell_type": "code",
   "execution_count": 25,
   "metadata": {},
   "outputs": [],
   "source": [
    "val_oh = keras.utils.np_utils.to_categorical(val_seq)"
   ]
  },
  {
   "cell_type": "code",
   "execution_count": 26,
   "metadata": {},
   "outputs": [
    {
     "name": "stderr",
     "output_type": "stream",
     "text": [
      "2022-02-15 13:12:47.799845: I tensorflow/core/platform/cpu_feature_guard.cc:142] This TensorFlow binary is optimized with oneAPI Deep Neural Network Library (oneDNN) to use the following CPU instructions in performance-critical operations:  SSE4.1 SSE4.2 AVX AVX2 AVX512F FMA\n",
      "To enable them in other operations, rebuild TensorFlow with the appropriate compiler flags.\n",
      "2022-02-15 13:12:49.437504: I tensorflow/core/common_runtime/gpu/gpu_device.cc:1510] Created device /job:localhost/replica:0/task:0/device:GPU:0 with 30974 MB memory:  -> device: 0, name: Tesla V100S-PCIE-32GB, pci bus id: 0000:3b:00.0, compute capability: 7.0\n"
     ]
    }
   ],
   "source": [
    "from tensorflow import keras\n",
    "\n",
    "model = keras.Sequential() # 순차적인 레이어(keras.layers.~~)를 더하는(add) 형태로 구성되는 모델\n",
    "\n",
    "# 8은 순환층의 뉴런 개수\n",
    "model.add(keras.layers.SimpleRNN(8, input_shape=(100, 500))) # 기본적으로 활성화 함수는 tanh을 사용\n",
    "model.add(keras.layers.Dense(1, activation='sigmoid')) # 이진분류"
   ]
  },
  {
   "cell_type": "code",
   "execution_count": 27,
   "metadata": {},
   "outputs": [
    {
     "name": "stdout",
     "output_type": "stream",
     "text": [
      "Model: \"sequential\"\n",
      "_________________________________________________________________\n",
      "Layer (type)                 Output Shape              Param #   \n",
      "=================================================================\n",
      "simple_rnn (SimpleRNN)       (None, 8)                 4072      \n",
      "_________________________________________________________________\n",
      "dense (Dense)                (None, 1)                 9         \n",
      "=================================================================\n",
      "Total params: 4,081\n",
      "Trainable params: 4,081\n",
      "Non-trainable params: 0\n",
      "_________________________________________________________________\n"
     ]
    }
   ],
   "source": [
    "model.summary()"
   ]
  },
  {
   "cell_type": "code",
   "execution_count": 28,
   "metadata": {},
   "outputs": [
    {
     "name": "stderr",
     "output_type": "stream",
     "text": [
      "2022-02-15 13:13:31.734604: I tensorflow/compiler/mlir/mlir_graph_optimization_pass.cc:185] None of the MLIR Optimization Passes are enabled (registered 2)\n"
     ]
    },
    {
     "name": "stdout",
     "output_type": "stream",
     "text": [
      "Epoch 1/100\n",
      "313/313 [==============================] - 20s 56ms/step - loss: 0.6969 - accuracy: 0.4946 - val_loss: 0.6962 - val_accuracy: 0.4820\n",
      "Epoch 2/100\n",
      "313/313 [==============================] - 17s 53ms/step - loss: 0.6933 - accuracy: 0.5078 - val_loss: 0.6938 - val_accuracy: 0.4968\n",
      "Epoch 3/100\n",
      "313/313 [==============================] - 16s 51ms/step - loss: 0.6913 - accuracy: 0.5199 - val_loss: 0.6923 - val_accuracy: 0.5102\n",
      "Epoch 4/100\n",
      "313/313 [==============================] - 15s 47ms/step - loss: 0.6896 - accuracy: 0.5321 - val_loss: 0.6912 - val_accuracy: 0.5176\n",
      "Epoch 5/100\n",
      "313/313 [==============================] - 15s 48ms/step - loss: 0.6878 - accuracy: 0.5397 - val_loss: 0.6902 - val_accuracy: 0.5262\n",
      "Epoch 6/100\n",
      "313/313 [==============================] - 16s 51ms/step - loss: 0.6860 - accuracy: 0.5525 - val_loss: 0.6892 - val_accuracy: 0.5370\n",
      "Epoch 7/100\n",
      "313/313 [==============================] - 15s 48ms/step - loss: 0.6843 - accuracy: 0.5562 - val_loss: 0.6884 - val_accuracy: 0.5382\n",
      "Epoch 8/100\n",
      "313/313 [==============================] - 16s 50ms/step - loss: 0.6826 - accuracy: 0.5635 - val_loss: 0.6873 - val_accuracy: 0.5466\n",
      "Epoch 9/100\n",
      "313/313 [==============================] - 15s 49ms/step - loss: 0.6809 - accuracy: 0.5689 - val_loss: 0.6865 - val_accuracy: 0.5458\n",
      "Epoch 10/100\n",
      "313/313 [==============================] - 16s 50ms/step - loss: 0.6791 - accuracy: 0.5743 - val_loss: 0.6856 - val_accuracy: 0.5490\n",
      "Epoch 11/100\n",
      "313/313 [==============================] - 15s 49ms/step - loss: 0.6773 - accuracy: 0.5796 - val_loss: 0.6848 - val_accuracy: 0.5534\n",
      "Epoch 12/100\n",
      "313/313 [==============================] - 16s 50ms/step - loss: 0.6752 - accuracy: 0.5869 - val_loss: 0.6829 - val_accuracy: 0.5612\n",
      "Epoch 13/100\n",
      "313/313 [==============================] - 16s 50ms/step - loss: 0.6712 - accuracy: 0.5982 - val_loss: 0.6771 - val_accuracy: 0.5814\n",
      "Epoch 14/100\n",
      "313/313 [==============================] - 16s 50ms/step - loss: 0.6615 - accuracy: 0.6277 - val_loss: 0.6632 - val_accuracy: 0.6216\n",
      "Epoch 15/100\n",
      "313/313 [==============================] - 15s 47ms/step - loss: 0.6462 - accuracy: 0.6593 - val_loss: 0.6468 - val_accuracy: 0.6584\n",
      "Epoch 16/100\n",
      "313/313 [==============================] - 15s 47ms/step - loss: 0.6283 - accuracy: 0.6862 - val_loss: 0.6304 - val_accuracy: 0.6804\n",
      "Epoch 17/100\n",
      "313/313 [==============================] - 15s 49ms/step - loss: 0.6108 - accuracy: 0.7061 - val_loss: 0.6112 - val_accuracy: 0.7076\n",
      "Epoch 18/100\n",
      "313/313 [==============================] - 15s 48ms/step - loss: 0.5938 - accuracy: 0.7223 - val_loss: 0.5983 - val_accuracy: 0.7180\n",
      "Epoch 19/100\n",
      "313/313 [==============================] - 15s 48ms/step - loss: 0.5794 - accuracy: 0.7340 - val_loss: 0.5866 - val_accuracy: 0.7262\n",
      "Epoch 20/100\n",
      "313/313 [==============================] - 15s 49ms/step - loss: 0.5654 - accuracy: 0.7483 - val_loss: 0.5721 - val_accuracy: 0.7380\n",
      "Epoch 21/100\n",
      "313/313 [==============================] - 16s 50ms/step - loss: 0.5541 - accuracy: 0.7522 - val_loss: 0.5631 - val_accuracy: 0.7418\n",
      "Epoch 22/100\n",
      "313/313 [==============================] - 15s 46ms/step - loss: 0.5434 - accuracy: 0.7592 - val_loss: 0.5549 - val_accuracy: 0.7502\n",
      "Epoch 23/100\n",
      "313/313 [==============================] - 15s 48ms/step - loss: 0.5348 - accuracy: 0.7642 - val_loss: 0.5475 - val_accuracy: 0.7502\n",
      "Epoch 24/100\n",
      "313/313 [==============================] - 15s 49ms/step - loss: 0.5262 - accuracy: 0.7693 - val_loss: 0.5413 - val_accuracy: 0.7516\n",
      "Epoch 25/100\n",
      "313/313 [==============================] - 15s 49ms/step - loss: 0.5181 - accuracy: 0.7746 - val_loss: 0.5345 - val_accuracy: 0.7570\n",
      "Epoch 26/100\n",
      "313/313 [==============================] - 15s 47ms/step - loss: 0.5105 - accuracy: 0.7786 - val_loss: 0.5300 - val_accuracy: 0.7554\n",
      "Epoch 27/100\n",
      "313/313 [==============================] - 15s 47ms/step - loss: 0.5054 - accuracy: 0.7796 - val_loss: 0.5226 - val_accuracy: 0.7630\n",
      "Epoch 28/100\n",
      "313/313 [==============================] - 14s 44ms/step - loss: 0.4990 - accuracy: 0.7830 - val_loss: 0.5207 - val_accuracy: 0.7598\n",
      "Epoch 29/100\n",
      "313/313 [==============================] - 14s 46ms/step - loss: 0.4934 - accuracy: 0.7861 - val_loss: 0.5162 - val_accuracy: 0.7640\n",
      "Epoch 30/100\n",
      "313/313 [==============================] - 15s 48ms/step - loss: 0.4874 - accuracy: 0.7897 - val_loss: 0.5118 - val_accuracy: 0.7660\n",
      "Epoch 31/100\n",
      "313/313 [==============================] - 14s 43ms/step - loss: 0.4828 - accuracy: 0.7907 - val_loss: 0.5098 - val_accuracy: 0.7646\n",
      "Epoch 32/100\n",
      "313/313 [==============================] - 14s 43ms/step - loss: 0.4784 - accuracy: 0.7926 - val_loss: 0.5096 - val_accuracy: 0.7648\n",
      "Epoch 33/100\n",
      "313/313 [==============================] - 14s 45ms/step - loss: 0.4743 - accuracy: 0.7939 - val_loss: 0.5057 - val_accuracy: 0.7652\n",
      "Epoch 34/100\n",
      "313/313 [==============================] - 15s 47ms/step - loss: 0.4714 - accuracy: 0.7951 - val_loss: 0.5031 - val_accuracy: 0.7672\n",
      "Epoch 35/100\n",
      "313/313 [==============================] - 14s 44ms/step - loss: 0.4669 - accuracy: 0.7973 - val_loss: 0.4994 - val_accuracy: 0.7682\n",
      "Epoch 36/100\n",
      "313/313 [==============================] - 15s 48ms/step - loss: 0.4627 - accuracy: 0.7989 - val_loss: 0.4973 - val_accuracy: 0.7690\n",
      "Epoch 37/100\n",
      "313/313 [==============================] - 14s 45ms/step - loss: 0.4607 - accuracy: 0.8010 - val_loss: 0.5026 - val_accuracy: 0.7658\n",
      "Epoch 38/100\n",
      "313/313 [==============================] - 15s 47ms/step - loss: 0.4568 - accuracy: 0.8031 - val_loss: 0.5021 - val_accuracy: 0.7658\n",
      "Epoch 39/100\n",
      "313/313 [==============================] - 14s 46ms/step - loss: 0.4547 - accuracy: 0.8031 - val_loss: 0.4930 - val_accuracy: 0.7712\n",
      "Epoch 40/100\n",
      "313/313 [==============================] - 13s 43ms/step - loss: 0.4519 - accuracy: 0.8048 - val_loss: 0.5001 - val_accuracy: 0.7640\n",
      "Epoch 41/100\n",
      "313/313 [==============================] - 15s 47ms/step - loss: 0.4508 - accuracy: 0.8041 - val_loss: 0.4900 - val_accuracy: 0.7706\n",
      "Epoch 42/100\n",
      "313/313 [==============================] - 15s 47ms/step - loss: 0.4473 - accuracy: 0.8058 - val_loss: 0.4975 - val_accuracy: 0.7680\n",
      "Epoch 43/100\n",
      "313/313 [==============================] - 15s 48ms/step - loss: 0.4453 - accuracy: 0.8070 - val_loss: 0.4865 - val_accuracy: 0.7754\n",
      "Epoch 44/100\n",
      "313/313 [==============================] - 15s 48ms/step - loss: 0.4422 - accuracy: 0.8094 - val_loss: 0.4843 - val_accuracy: 0.7754\n",
      "Epoch 45/100\n",
      "313/313 [==============================] - 15s 46ms/step - loss: 0.4408 - accuracy: 0.8099 - val_loss: 0.4857 - val_accuracy: 0.7738\n",
      "Epoch 46/100\n",
      "313/313 [==============================] - 14s 44ms/step - loss: 0.4383 - accuracy: 0.8109 - val_loss: 0.4835 - val_accuracy: 0.7774\n",
      "Epoch 47/100\n",
      "313/313 [==============================] - 15s 47ms/step - loss: 0.4364 - accuracy: 0.8132 - val_loss: 0.4838 - val_accuracy: 0.7726\n",
      "Epoch 48/100\n",
      "313/313 [==============================] - 15s 48ms/step - loss: 0.4343 - accuracy: 0.8130 - val_loss: 0.4811 - val_accuracy: 0.7760\n",
      "Epoch 49/100\n",
      "313/313 [==============================] - 15s 47ms/step - loss: 0.4324 - accuracy: 0.8138 - val_loss: 0.4821 - val_accuracy: 0.7768\n",
      "Epoch 50/100\n",
      "313/313 [==============================] - 15s 49ms/step - loss: 0.4303 - accuracy: 0.8139 - val_loss: 0.4808 - val_accuracy: 0.7802\n",
      "Epoch 51/100\n",
      "313/313 [==============================] - 15s 48ms/step - loss: 0.4289 - accuracy: 0.8159 - val_loss: 0.4787 - val_accuracy: 0.7794\n",
      "Epoch 52/100\n",
      "313/313 [==============================] - 15s 49ms/step - loss: 0.4276 - accuracy: 0.8166 - val_loss: 0.4775 - val_accuracy: 0.7812\n",
      "Epoch 53/100\n",
      "313/313 [==============================] - 14s 44ms/step - loss: 0.4258 - accuracy: 0.8177 - val_loss: 0.4761 - val_accuracy: 0.7818\n",
      "Epoch 54/100\n",
      "313/313 [==============================] - 15s 47ms/step - loss: 0.4244 - accuracy: 0.8185 - val_loss: 0.4760 - val_accuracy: 0.7806\n",
      "Epoch 55/100\n",
      "313/313 [==============================] - 15s 47ms/step - loss: 0.4224 - accuracy: 0.8190 - val_loss: 0.4770 - val_accuracy: 0.7808\n",
      "Epoch 56/100\n",
      "313/313 [==============================] - 14s 46ms/step - loss: 0.4216 - accuracy: 0.8189 - val_loss: 0.4743 - val_accuracy: 0.7818\n",
      "Epoch 57/100\n",
      "313/313 [==============================] - 15s 48ms/step - loss: 0.4202 - accuracy: 0.8204 - val_loss: 0.4817 - val_accuracy: 0.7794\n",
      "Epoch 58/100\n",
      "313/313 [==============================] - 15s 48ms/step - loss: 0.4187 - accuracy: 0.8203 - val_loss: 0.4730 - val_accuracy: 0.7826\n",
      "Epoch 59/100\n",
      "313/313 [==============================] - 14s 43ms/step - loss: 0.4175 - accuracy: 0.8221 - val_loss: 0.4716 - val_accuracy: 0.7870\n",
      "Epoch 60/100\n",
      "313/313 [==============================] - 14s 46ms/step - loss: 0.4162 - accuracy: 0.8214 - val_loss: 0.4735 - val_accuracy: 0.7836\n",
      "Epoch 61/100\n",
      "313/313 [==============================] - 15s 48ms/step - loss: 0.4144 - accuracy: 0.8235 - val_loss: 0.4722 - val_accuracy: 0.7864\n",
      "Epoch 62/100\n",
      "313/313 [==============================] - 13s 43ms/step - loss: 0.4138 - accuracy: 0.8230 - val_loss: 0.4751 - val_accuracy: 0.7822\n"
     ]
    }
   ],
   "source": [
    "rmsprop = keras.optimizers.RMSprop(learning_rate=1e-4) # 학습률을 0.0001로 지정\n",
    "model.compile(optimizer=rmsprop, loss='binary_crossentropy', \n",
    "              metrics=['accuracy'])\n",
    "\n",
    "checkpoint_cb = keras.callbacks.ModelCheckpoint('best-simplernn-model.h5', \n",
    "                                                save_best_only=True)\n",
    "early_stopping_cb = keras.callbacks.EarlyStopping(patience=3,\n",
    "                                                  restore_best_weights=True)\n",
    "\n",
    "history = model.fit(train_oh, train_target, epochs=100, batch_size=64,\n",
    "                    validation_data=(val_oh, val_target),\n",
    "                    callbacks=[checkpoint_cb, early_stopping_cb])"
   ]
  },
  {
   "cell_type": "code",
   "execution_count": 29,
   "metadata": {},
   "outputs": [
    {
     "data": {
      "image/png": "[encoded data removed]",
      "text/plain": [
       "<Figure size 432x288 with 1 Axes>"
      ]
     },
     "metadata": {
      "needs_background": "light"
     },
     "output_type": "display_data"
    }
   ],
   "source": [
    "plt.plot(history.history['loss'])\n",
    "plt.plot(history.history['val_loss'])\n",
    "plt.xlabel('epoch')\n",
    "plt.ylabel('loss')\n",
    "plt.legend(['train', 'val'])\n",
    "plt.show()"
   ]
  },
  {
   "cell_type": "code",
   "execution_count": 30,
   "metadata": {},
   "outputs": [
    {
     "name": "stdout",
     "output_type": "stream",
     "text": [
      "Model: \"sequential_1\"\n",
      "_________________________________________________________________\n",
      "Layer (type)                 Output Shape              Param #   \n",
      "=================================================================\n",
      "embedding (Embedding)        (None, 100, 16)           8000      \n",
      "_________________________________________________________________\n",
      "simple_rnn_1 (SimpleRNN)     (None, 8)                 200       \n",
      "_________________________________________________________________\n",
      "dense_1 (Dense)              (None, 1)                 9         \n",
      "=================================================================\n",
      "Total params: 8,209\n",
      "Trainable params: 8,209\n",
      "Non-trainable params: 0\n",
      "_________________________________________________________________\n"
     ]
    }
   ],
   "source": [
    "model2 = keras.Sequential()\n",
    "\n",
    "model2.add(keras.layers.Embedding(500, 16, input_length=100)) # 16은 임베딩 벡터의 크기\n",
    "model2.add(keras.layers.SimpleRNN(8))\n",
    "model2.add(keras.layers.Dense(1, activation='sigmoid'))\n",
    "\n",
    "model2.summary()"
   ]
  },
  {
   "cell_type": "code",
   "execution_count": 31,
   "metadata": {},
   "outputs": [
    {
     "name": "stdout",
     "output_type": "stream",
     "text": [
      "Epoch 1/100\n",
      "313/313 [==============================] - 17s 51ms/step - loss: 0.6831 - accuracy: 0.5720 - val_loss: 0.6701 - val_accuracy: 0.6278\n",
      "Epoch 2/100\n",
      "313/313 [==============================] - 17s 54ms/step - loss: 0.6565 - accuracy: 0.6615 - val_loss: 0.6456 - val_accuracy: 0.6820\n",
      "Epoch 3/100\n",
      "313/313 [==============================] - 16s 52ms/step - loss: 0.6293 - accuracy: 0.7075 - val_loss: 0.6205 - val_accuracy: 0.7118\n",
      "Epoch 4/100\n",
      "313/313 [==============================] - 17s 53ms/step - loss: 0.6057 - accuracy: 0.7333 - val_loss: 0.6001 - val_accuracy: 0.7336\n",
      "Epoch 5/100\n",
      "313/313 [==============================] - 16s 51ms/step - loss: 0.5849 - accuracy: 0.7514 - val_loss: 0.5821 - val_accuracy: 0.7482\n",
      "Epoch 6/100\n",
      "313/313 [==============================] - 15s 49ms/step - loss: 0.5667 - accuracy: 0.7615 - val_loss: 0.5718 - val_accuracy: 0.7420\n",
      "Epoch 7/100\n",
      "313/313 [==============================] - 15s 49ms/step - loss: 0.5499 - accuracy: 0.7697 - val_loss: 0.5490 - val_accuracy: 0.7726\n",
      "Epoch 8/100\n",
      "313/313 [==============================] - 16s 51ms/step - loss: 0.5335 - accuracy: 0.7779 - val_loss: 0.5414 - val_accuracy: 0.7530\n",
      "Epoch 9/100\n",
      "313/313 [==============================] - 16s 52ms/step - loss: 0.5187 - accuracy: 0.7853 - val_loss: 0.5231 - val_accuracy: 0.7744\n",
      "Epoch 10/100\n",
      "313/313 [==============================] - 17s 54ms/step - loss: 0.5055 - accuracy: 0.7908 - val_loss: 0.5154 - val_accuracy: 0.7738\n",
      "Epoch 11/100\n",
      "313/313 [==============================] - 17s 53ms/step - loss: 0.4936 - accuracy: 0.7944 - val_loss: 0.5012 - val_accuracy: 0.7860\n",
      "Epoch 12/100\n",
      "313/313 [==============================] - 16s 51ms/step - loss: 0.4821 - accuracy: 0.7987 - val_loss: 0.4942 - val_accuracy: 0.7866\n",
      "Epoch 13/100\n",
      "313/313 [==============================] - 17s 53ms/step - loss: 0.4726 - accuracy: 0.8021 - val_loss: 0.4853 - val_accuracy: 0.7884\n",
      "Epoch 14/100\n",
      "313/313 [==============================] - 16s 52ms/step - loss: 0.4634 - accuracy: 0.8049 - val_loss: 0.4780 - val_accuracy: 0.7926\n",
      "Epoch 15/100\n",
      "313/313 [==============================] - 16s 52ms/step - loss: 0.4552 - accuracy: 0.8087 - val_loss: 0.4731 - val_accuracy: 0.7908\n",
      "Epoch 16/100\n",
      "313/313 [==============================] - 15s 46ms/step - loss: 0.4469 - accuracy: 0.8115 - val_loss: 0.4669 - val_accuracy: 0.7928\n",
      "Epoch 17/100\n",
      "313/313 [==============================] - 16s 53ms/step - loss: 0.4407 - accuracy: 0.8141 - val_loss: 0.4635 - val_accuracy: 0.7952\n",
      "Epoch 18/100\n",
      "313/313 [==============================] - 16s 52ms/step - loss: 0.4354 - accuracy: 0.8144 - val_loss: 0.4615 - val_accuracy: 0.7916\n",
      "Epoch 19/100\n",
      "313/313 [==============================] - 15s 49ms/step - loss: 0.4304 - accuracy: 0.8157 - val_loss: 0.4574 - val_accuracy: 0.7938\n",
      "Epoch 20/100\n",
      "313/313 [==============================] - 16s 53ms/step - loss: 0.4258 - accuracy: 0.8199 - val_loss: 0.4584 - val_accuracy: 0.7920\n",
      "Epoch 21/100\n",
      "313/313 [==============================] - 17s 53ms/step - loss: 0.4216 - accuracy: 0.8192 - val_loss: 0.4559 - val_accuracy: 0.7912\n",
      "Epoch 22/100\n",
      "313/313 [==============================] - 16s 51ms/step - loss: 0.4181 - accuracy: 0.8210 - val_loss: 0.4598 - val_accuracy: 0.7866\n",
      "Epoch 23/100\n",
      "313/313 [==============================] - 16s 50ms/step - loss: 0.4153 - accuracy: 0.8219 - val_loss: 0.4538 - val_accuracy: 0.7920\n",
      "Epoch 24/100\n",
      "313/313 [==============================] - 15s 47ms/step - loss: 0.4125 - accuracy: 0.8213 - val_loss: 0.4539 - val_accuracy: 0.7930\n",
      "Epoch 25/100\n",
      "313/313 [==============================] - 15s 47ms/step - loss: 0.4096 - accuracy: 0.8242 - val_loss: 0.4511 - val_accuracy: 0.7938\n",
      "Epoch 26/100\n",
      "313/313 [==============================] - 15s 48ms/step - loss: 0.4067 - accuracy: 0.8255 - val_loss: 0.4533 - val_accuracy: 0.7938\n",
      "Epoch 27/100\n",
      "313/313 [==============================] - 15s 49ms/step - loss: 0.4052 - accuracy: 0.8245 - val_loss: 0.4539 - val_accuracy: 0.7960\n",
      "Epoch 28/100\n",
      "313/313 [==============================] - 16s 52ms/step - loss: 0.4031 - accuracy: 0.8268 - val_loss: 0.4495 - val_accuracy: 0.7948\n",
      "Epoch 29/100\n",
      "313/313 [==============================] - 16s 52ms/step - loss: 0.4011 - accuracy: 0.8259 - val_loss: 0.4566 - val_accuracy: 0.7942\n",
      "Epoch 30/100\n",
      "313/313 [==============================] - 17s 53ms/step - loss: 0.3993 - accuracy: 0.8273 - val_loss: 0.4539 - val_accuracy: 0.7926\n",
      "Epoch 31/100\n",
      "313/313 [==============================] - 17s 53ms/step - loss: 0.3974 - accuracy: 0.8304 - val_loss: 0.4491 - val_accuracy: 0.7956\n",
      "Epoch 32/100\n",
      "313/313 [==============================] - 15s 49ms/step - loss: 0.3958 - accuracy: 0.8292 - val_loss: 0.4518 - val_accuracy: 0.7954\n",
      "Epoch 33/100\n",
      "313/313 [==============================] - 15s 49ms/step - loss: 0.3941 - accuracy: 0.8306 - val_loss: 0.4524 - val_accuracy: 0.7940\n",
      "Epoch 34/100\n",
      "313/313 [==============================] - 16s 50ms/step - loss: 0.3923 - accuracy: 0.8321 - val_loss: 0.4491 - val_accuracy: 0.7956\n",
      "Epoch 35/100\n",
      "313/313 [==============================] - 15s 49ms/step - loss: 0.3916 - accuracy: 0.8324 - val_loss: 0.4548 - val_accuracy: 0.7920\n",
      "Epoch 36/100\n",
      "313/313 [==============================] - 15s 48ms/step - loss: 0.3892 - accuracy: 0.8332 - val_loss: 0.4514 - val_accuracy: 0.7940\n",
      "Epoch 37/100\n",
      "313/313 [==============================] - 15s 49ms/step - loss: 0.3882 - accuracy: 0.8350 - val_loss: 0.4510 - val_accuracy: 0.7934\n"
     ]
    }
   ],
   "source": [
    "rmsprop = keras.optimizers.RMSprop(learning_rate=1e-4)\n",
    "model2.compile(optimizer=rmsprop, loss='binary_crossentropy', \n",
    "               metrics=['accuracy'])\n",
    "\n",
    "checkpoint_cb = keras.callbacks.ModelCheckpoint('best-embedding-model.h5', \n",
    "                                                save_best_only=True)\n",
    "early_stopping_cb = keras.callbacks.EarlyStopping(patience=3,\n",
    "                                                  restore_best_weights=True)\n",
    "\n",
    "history = model2.fit(train_seq, train_target, epochs=100, batch_size=64,\n",
    "                     validation_data=(val_seq, val_target),\n",
    "                     callbacks=[checkpoint_cb, early_stopping_cb])"
   ]
  },
  {
   "cell_type": "code",
   "execution_count": 32,
   "metadata": {},
   "outputs": [
    {
     "data": {
      "image/png": "[encoded data removed]",
      "text/plain": [
       "<Figure size 432x288 with 1 Axes>"
      ]
     },
     "metadata": {
      "needs_background": "light"
     },
     "output_type": "display_data"
    }
   ],
   "source": [
    "plt.plot(history.history['loss'])\n",
    "plt.plot(history.history['val_loss'])\n",
    "plt.xlabel('epoch')\n",
    "plt.ylabel('loss')\n",
    "plt.legend(['train', 'val'])\n",
    "plt.show()"
   ]
  },
  {
   "cell_type": "code",
   "execution_count": null,
   "metadata": {},
   "outputs": [],
   "source": []
  }
 ],
 "metadata": {
  "interpreter": {
   "hash": "263279b5c7f5294ef7179eeb038e9113bb5dce42ff0c0d19b3e81ce1438dd79a"
  },
  "kernelspec": {
   "display_name": "Python 3.8.12 ('keras_env')",
   "language": "python",
   "name": "python3"
  },
  "language_info": {
   "codemirror_mode": {
    "name": "ipython",
    "version": 3
   },
   "file_extension": ".py",
   "mimetype": "text/x-python",
   "name": "python",
   "nbconvert_exporter": "python",
   "pygments_lexer": "ipython3",
   "version": "3.8.12"
  },
  "orig_nbformat": 4
 },
 "nbformat": 4,
 "nbformat_minor": 2
}
