{
 "cells": [
  {
   "cell_type": "code",
   "execution_count": 1,
   "metadata": {},
   "outputs": [],
   "source": [
    "from tensorflow import keras\n",
    "import numpy as np\n",
    "import matplotlib.pyplot as plt"
   ]
  },
  {
   "cell_type": "code",
   "execution_count": 2,
   "metadata": {},
   "outputs": [],
   "source": [
    "(x_train, y_train), (x_test, y_test) = keras.datasets.mnist.load_data()"
   ]
  },
  {
   "cell_type": "code",
   "execution_count": 3,
   "metadata": {},
   "outputs": [
    {
     "name": "stdout",
     "output_type": "stream",
     "text": [
      "(60000, 28, 28)\n",
      "(60000,)\n",
      "(10000, 28, 28)\n",
      "(10000,)\n"
     ]
    }
   ],
   "source": [
    "print(x_train.shape) \n",
    "print(y_train.shape) \n",
    "print(x_test.shape)\n",
    "print(y_test.shape)"
   ]
  },
  {
   "cell_type": "code",
   "execution_count": 4,
   "metadata": {},
   "outputs": [],
   "source": [
    "x_train = x_train / 255.0\n",
    "x_test = x_test / 255.0"
   ]
  },
  {
   "cell_type": "code",
   "execution_count": 5,
   "metadata": {},
   "outputs": [
    {
     "name": "stdout",
     "output_type": "stream",
     "text": [
      "Model: \"sequential\"\n",
      "_________________________________________________________________\n",
      "Layer (type)                 Output Shape              Param #   \n",
      "=================================================================\n",
      "flatten (Flatten)            (None, 784)               0         \n",
      "_________________________________________________________________\n",
      "dense (Dense)                (None, 100)               78500     \n",
      "_________________________________________________________________\n",
      "dropout (Dropout)            (None, 100)               0         \n",
      "_________________________________________________________________\n",
      "dense_1 (Dense)              (None, 10)                1010      \n",
      "=================================================================\n",
      "Total params: 79,510\n",
      "Trainable params: 79,510\n",
      "Non-trainable params: 0\n",
      "_________________________________________________________________\n",
      "None\n"
     ]
    }
   ],
   "source": [
    "model = keras.Sequential();\n",
    "model.add(keras.layers.Flatten(input_shape=(28,28)))\n",
    "model.add(keras.layers.Dense(100,activation='relu'))\n",
    "model.add(keras.layers.Dropout(0.3)) #30% 뉴런의 출력을 0으로 만듦\n",
    "model.add(keras.layers.Dense(10,activation='softmax'))\n",
    "print(model.summary())"
   ]
  },
  {
   "cell_type": "code",
   "execution_count": 6,
   "metadata": {},
   "outputs": [
    {
     "name": "stdout",
     "output_type": "stream",
     "text": [
      "Epoch 1/20\n",
      "1875/1875 [==============================] - 4s 2ms/step - loss: 0.3356 - accuracy: 0.9024 - val_loss: 0.1676 - val_accuracy: 0.9498\n",
      "Epoch 2/20\n",
      "1875/1875 [==============================] - 4s 2ms/step - loss: 0.1954 - accuracy: 0.9450 - val_loss: 0.1252 - val_accuracy: 0.9642\n",
      "Epoch 3/20\n",
      "1875/1875 [==============================] - 4s 2ms/step - loss: 0.1648 - accuracy: 0.9542 - val_loss: 0.1229 - val_accuracy: 0.9674\n",
      "Epoch 4/20\n",
      "1875/1875 [==============================] - 4s 2ms/step - loss: 0.1519 - accuracy: 0.9582 - val_loss: 0.1116 - val_accuracy: 0.9711\n",
      "Epoch 5/20\n",
      "1875/1875 [==============================] - 4s 2ms/step - loss: 0.1420 - accuracy: 0.9626 - val_loss: 0.1120 - val_accuracy: 0.9710\n",
      "Epoch 6/20\n",
      "1875/1875 [==============================] - 4s 2ms/step - loss: 0.1403 - accuracy: 0.9627 - val_loss: 0.1093 - val_accuracy: 0.9728\n",
      "Epoch 7/20\n",
      "1875/1875 [==============================] - 4s 2ms/step - loss: 0.1328 - accuracy: 0.9650 - val_loss: 0.1101 - val_accuracy: 0.9750\n",
      "Epoch 8/20\n",
      "1875/1875 [==============================] - 4s 2ms/step - loss: 0.1310 - accuracy: 0.9663 - val_loss: 0.1185 - val_accuracy: 0.9738\n",
      "Epoch 9/20\n",
      "1875/1875 [==============================] - 4s 2ms/step - loss: 0.1280 - accuracy: 0.9681 - val_loss: 0.1138 - val_accuracy: 0.9759\n",
      "Epoch 10/20\n",
      "1875/1875 [==============================] - 4s 2ms/step - loss: 0.1240 - accuracy: 0.9694 - val_loss: 0.1179 - val_accuracy: 0.9753\n",
      "Epoch 11/20\n",
      "1875/1875 [==============================] - 4s 2ms/step - loss: 0.1239 - accuracy: 0.9690 - val_loss: 0.1126 - val_accuracy: 0.9767\n",
      "Epoch 12/20\n",
      "1875/1875 [==============================] - 4s 2ms/step - loss: 0.1206 - accuracy: 0.9707 - val_loss: 0.1158 - val_accuracy: 0.9770\n",
      "Epoch 13/20\n",
      "1875/1875 [==============================] - 4s 2ms/step - loss: 0.1211 - accuracy: 0.9707 - val_loss: 0.1147 - val_accuracy: 0.9770\n",
      "Epoch 14/20\n",
      "1875/1875 [==============================] - 4s 2ms/step - loss: 0.1159 - accuracy: 0.9709 - val_loss: 0.1223 - val_accuracy: 0.9758\n",
      "Epoch 15/20\n",
      "1875/1875 [==============================] - 4s 2ms/step - loss: 0.1190 - accuracy: 0.9726 - val_loss: 0.1230 - val_accuracy: 0.9759\n",
      "Epoch 16/20\n",
      "1875/1875 [==============================] - 4s 2ms/step - loss: 0.1213 - accuracy: 0.9725 - val_loss: 0.1235 - val_accuracy: 0.9753\n",
      "Epoch 17/20\n",
      "1875/1875 [==============================] - 4s 2ms/step - loss: 0.1163 - accuracy: 0.9728 - val_loss: 0.1250 - val_accuracy: 0.9766\n",
      "Epoch 18/20\n",
      "1875/1875 [==============================] - 4s 2ms/step - loss: 0.1210 - accuracy: 0.9737 - val_loss: 0.1306 - val_accuracy: 0.9758\n",
      "Epoch 19/20\n",
      "1875/1875 [==============================] - 4s 2ms/step - loss: 0.1145 - accuracy: 0.9735 - val_loss: 0.1370 - val_accuracy: 0.9753\n",
      "Epoch 20/20\n",
      "1875/1875 [==============================] - 4s 2ms/step - loss: 0.1187 - accuracy: 0.9741 - val_loss: 0.1338 - val_accuracy: 0.9762\n"
     ]
    }
   ],
   "source": [
    "model.compile(loss='sparse_categorical_crossentropy',metrics='accuracy') #앞에서 배운 것에 sparse가 추가되었다. 이러면 원-핫코딩(to_categorical)을 사용할 필요가 없다\n",
    "#옵티마이저는 적지 않을 경우 Minibatch-SGD(미니배치 확률적 경사하강법)이 기본값으로 설정되어 있다.\n",
    "history = model.fit(x_train, y_train,epochs = 20, validation_data = (x_test, y_test))\n"
   ]
  },
  {
   "cell_type": "code",
   "execution_count": 7,
   "metadata": {},
   "outputs": [
    {
     "data": {
      "image/png": "[encoded data removed]",
      "text/plain": [
       "<Figure size 432x288 with 1 Axes>"
      ]
     },
     "metadata": {
      "needs_background": "light"
     },
     "output_type": "display_data"
    }
   ],
   "source": [
    "plt.plot(history.history['loss'])\n",
    "plt.plot(history.history['val_loss'])\n",
    "plt.xlabel('epoch')\n",
    "plt.ylabel('loss')\n",
    "plt.legend(['train','val'])\n",
    "plt.show()"
   ]
  },
  {
   "cell_type": "code",
   "execution_count": 8,
   "metadata": {},
   "outputs": [
    {
     "name": "stdout",
     "output_type": "stream",
     "text": [
      "-rw-rw-r-- 1 c4nd0it c4nd0it 661320  1월 12 16:18 best-model.h5\n",
      "-rw-rw-r-- 1 c4nd0it c4nd0it 332480  1월 12 16:24 model-weights2.h5\n",
      "-rw-rw-r-- 1 c4nd0it c4nd0it 332480  1월 12 16:17 model-weights.h5\n",
      "-rw-rw-r-- 1 c4nd0it c4nd0it 661264  1월 12 16:24 model-whole2.h5\n",
      "-rw-rw-r-- 1 c4nd0it c4nd0it 333808  1월 12 16:17 model-whole.h5\n"
     ]
    }
   ],
   "source": [
    "model.save_weights('model-weights2.h5') #모델의 파라미터만 저장\n",
    "model.save('model-whole2.h5') #모델과 파라미터 둘 다 저장\n",
    "!ls -al *.h5 #노트안에서 셸 명령을 사용할 땐 !을 쓴다"
   ]
  },
  {
   "cell_type": "code",
   "execution_count": 9,
   "metadata": {},
   "outputs": [],
   "source": [
    "model1 = keras.Sequential();\n",
    "model1.add(keras.layers.Flatten(input_shape=(28,28)))\n",
    "model1.add(keras.layers.Dense(100,activation='relu'))\n",
    "model1.add(keras.layers.Dropout(0.3)) #30% 뉴런의 출력을 0으로 만듦\n",
    "model1.add(keras.layers.Dense(10,activation='softmax'))\n",
    "model1.load_weights('model-weights2.h5') # 저장된 파라미터를 가져온다"
   ]
  },
  {
   "cell_type": "code",
   "execution_count": 10,
   "metadata": {},
   "outputs": [],
   "source": [
    "pred = model1.predict(x_test)"
   ]
  },
  {
   "cell_type": "code",
   "execution_count": 11,
   "metadata": {},
   "outputs": [
    {
     "name": "stdout",
     "output_type": "stream",
     "text": [
      "x_test의 0번째 정답은 : 7\n",
      "실제 0번째 정답은 : 7\n"
     ]
    }
   ],
   "source": [
    "print('x_test의 0번째 정답은 :',np.argmax(pred[0])) # 모델이 예측한 x_test의 첫번째 값\n",
    "print('실제 0번째 정답은 :',y_test[0]) # 실제 정답"
   ]
  },
  {
   "cell_type": "code",
   "execution_count": 12,
   "metadata": {},
   "outputs": [
    {
     "data": {
      "text/plain": [
       "<matplotlib.image.AxesImage at 0x7f942847a7f0>"
      ]
     },
     "execution_count": 12,
     "metadata": {},
     "output_type": "execute_result"
    },
    {
     "data": {
      "image/png": "[encoded data removed]",
      "text/plain": [
       "<Figure size 432x288 with 1 Axes>"
      ]
     },
     "metadata": {
      "needs_background": "light"
     },
     "output_type": "display_data"
    }
   ],
   "source": [
    "plt.imshow(x_test[0].reshape(28,28)) # 이미지 출력"
   ]
  },
  {
   "cell_type": "code",
   "execution_count": 13,
   "metadata": {},
   "outputs": [],
   "source": [
    "model2 = keras.models.load_model('model-whole2.h5')# 모델과 파라미터를 불러오는 것도 간단하다"
   ]
  },
  {
   "cell_type": "code",
   "execution_count": 14,
   "metadata": {},
   "outputs": [
    {
     "name": "stdout",
     "output_type": "stream",
     "text": [
      "Model: \"sequential_2\"\n",
      "_________________________________________________________________\n",
      "Layer (type)                 Output Shape              Param #   \n",
      "=================================================================\n",
      "flatten_2 (Flatten)          (None, 784)               0         \n",
      "_________________________________________________________________\n",
      "dense_4 (Dense)              (None, 100)               78500     \n",
      "_________________________________________________________________\n",
      "dropout_2 (Dropout)          (None, 100)               0         \n",
      "_________________________________________________________________\n",
      "dense_5 (Dense)              (None, 10)                1010      \n",
      "=================================================================\n",
      "Total params: 79,510\n",
      "Trainable params: 79,510\n",
      "Non-trainable params: 0\n",
      "_________________________________________________________________\n",
      "None\n",
      "Epoch 1/20\n",
      "1875/1875 [==============================] - 4s 2ms/step - loss: 0.3353 - accuracy: 0.9016 - val_loss: 0.1560 - val_accuracy: 0.9532\n",
      "Epoch 2/20\n",
      "1875/1875 [==============================] - 4s 2ms/step - loss: 0.1900 - accuracy: 0.9463 - val_loss: 0.1261 - val_accuracy: 0.9626\n",
      "Epoch 3/20\n",
      "1875/1875 [==============================] - 4s 2ms/step - loss: 0.1662 - accuracy: 0.9534 - val_loss: 0.1235 - val_accuracy: 0.9661\n",
      "Epoch 4/20\n",
      "1875/1875 [==============================] - 4s 2ms/step - loss: 0.1508 - accuracy: 0.9589 - val_loss: 0.1104 - val_accuracy: 0.9711\n",
      "Epoch 5/20\n",
      "1875/1875 [==============================] - 4s 2ms/step - loss: 0.1412 - accuracy: 0.9621 - val_loss: 0.1072 - val_accuracy: 0.9723\n",
      "Epoch 6/20\n",
      "1875/1875 [==============================] - 4s 2ms/step - loss: 0.1350 - accuracy: 0.9642 - val_loss: 0.1041 - val_accuracy: 0.9742\n",
      "Epoch 7/20\n",
      "1875/1875 [==============================] - 4s 2ms/step - loss: 0.1339 - accuracy: 0.9667 - val_loss: 0.1106 - val_accuracy: 0.9732\n",
      "Epoch 8/20\n",
      "1875/1875 [==============================] - 4s 2ms/step - loss: 0.1299 - accuracy: 0.9665 - val_loss: 0.1106 - val_accuracy: 0.9741\n"
     ]
    }
   ],
   "source": [
    "model = keras.Sequential();\n",
    "model.add(keras.layers.Flatten(input_shape=(28,28)))\n",
    "model.add(keras.layers.Dense(100,activation='relu'))\n",
    "model.add(keras.layers.Dropout(0.3)) \n",
    "model.add(keras.layers.Dense(10,activation='softmax'))\n",
    "print(model.summary())\n",
    "\n",
    "checkpoint_cb = keras.callbacks.ModelCheckpoint('best-model2.h5',save_best_only = True)\n",
    "early_stopping_cb = keras.callbacks.EarlyStopping(patience=2,restore_best_weights=True)\n",
    "\n",
    "model.compile(loss='sparse_categorical_crossentropy',metrics='accuracy')\n",
    "history = model.fit(x_train, y_train,epochs = 20, validation_data = (x_test, y_test),callbacks=[checkpoint_cb,early_stopping_cb])"
   ]
  },
  {
   "cell_type": "code",
   "execution_count": 15,
   "metadata": {},
   "outputs": [
    {
     "data": {
      "image/png": "[encoded data removed]",
      "text/plain": [
       "<Figure size 432x288 with 1 Axes>"
      ]
     },
     "metadata": {
      "needs_background": "light"
     },
     "output_type": "display_data"
    }
   ],
   "source": [
    "plt.plot(history.history['loss'])\n",
    "plt.plot(history.history['val_loss'])\n",
    "plt.xlabel('epoch')\n",
    "plt.ylabel('loss')\n",
    "plt.legend(['train','val'])\n",
    "plt.show()"
   ]
  },
  {
   "cell_type": "code",
   "execution_count": null,
   "metadata": {},
   "outputs": [],
   "source": []
  }
 ],
 "metadata": {
  "interpreter": {
   "hash": "e97318e417bfc0cbd6345cf2d2ceaecb510147ea20a42bf6ee8ebbcdf0c422e4"
  },
  "kernelspec": {
   "display_name": "Python 3.8.5 64-bit ('base': conda)",
   "language": "python",
   "name": "python3"
  },
  "language_info": {
   "codemirror_mode": {
    "name": "ipython",
    "version": 3
   },
   "file_extension": ".py",
   "mimetype": "text/x-python",
   "name": "python",
   "nbconvert_exporter": "python",
   "pygments_lexer": "ipython3",
   "version": "3.8.5"
  },
  "orig_nbformat": 4
 },
 "nbformat": 4,
 "nbformat_minor": 2
}
