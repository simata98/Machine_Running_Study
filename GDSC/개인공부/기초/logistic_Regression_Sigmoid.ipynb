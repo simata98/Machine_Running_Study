version https://git-lfs.github.com/spec/v1
oid sha256:457dbd3d21daec7e979a1139fa6c7f538efab01feca14ee827a597cb1cc50d99
size 1022
