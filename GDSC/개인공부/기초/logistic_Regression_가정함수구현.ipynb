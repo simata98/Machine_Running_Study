version https://git-lfs.github.com/spec/v1
oid sha256:f9ee139fc46d16a8109baede422b4f875201c0ee650e9a29e558b7605713b233
size 2823
