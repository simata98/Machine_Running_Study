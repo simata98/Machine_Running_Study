version https://git-lfs.github.com/spec/v1
oid sha256:e6bd33aca2e753a0f795244968c8b072b56efec4784e79b41f09343c8227e2f6
size 20162
