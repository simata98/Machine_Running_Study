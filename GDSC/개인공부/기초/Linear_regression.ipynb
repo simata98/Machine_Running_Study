{
 "cells": [
  {
   "cell_type": "markdown",
   "metadata": {},
   "source": [
    "## 단순선형회귀"
   ]
  },
  {
   "cell_type": "code",
   "execution_count": 1,
   "metadata": {},
   "outputs": [],
   "source": [
    "import numpy as np"
   ]
  },
  {
   "cell_type": "code",
   "execution_count": 3,
   "metadata": {},
   "outputs": [],
   "source": [
    "# 농어들의 길이\n",
    "perch_length = np.array([8.4, 13.7, 15.0, 16.2, 17.4, 18.0, 18.7, 19.0, 19.6, 20.0, 21.0,\n",
    "      21.0, 21.0, 21.3, 22.0, 22.0, 22.0, 22.0, 22.0, 22.5, 22.5, 22.7,\n",
    "      23.0, 23.5, 24.0, 24.0, 24.6, 25.0, 25.6, 26.5, 27.3, 27.5, 27.5,\n",
    "      27.5, 28.0, 28.7, 30.0, 32.8, 34.5, 35.0, 36.5, 36.0, 37.0, 37.0,\n",
    "      39.0, 39.0, 39.0, 40.0, 40.0, 40.0, 40.0, 42.0, 43.0, 43.0, 43.5,\n",
    "      44.0])\n",
    "# 농어들의 무게\n",
    "perch_weight = np.array([5.9, 32.0, 40.0, 51.5, 70.0, 100.0, 78.0, 80.0, 85.0, 85.0, 110.0,\n",
    "      115.0, 125.0, 130.0, 120.0, 120.0, 130.0, 135.0, 110.0, 130.0,\n",
    "      150.0, 145.0, 150.0, 170.0, 225.0, 145.0, 188.0, 180.0, 197.0,\n",
    "      218.0, 300.0, 260.0, 265.0, 250.0, 250.0, 300.0, 320.0, 514.0,\n",
    "      556.0, 840.0, 685.0, 700.0, 700.0, 690.0, 900.0, 650.0, 820.0,\n",
    "      850.0, 900.0, 1015.0, 820.0, 1100.0, 1000.0, 1100.0, 1000.0,\n",
    "      1000.0])"
   ]
  },
  {
   "cell_type": "code",
   "execution_count": 4,
   "metadata": {},
   "outputs": [],
   "source": [
    "from sklearn.model_selection import train_test_split\n",
    "\n",
    "# 데이터셋 나누기\n",
    "train_input,test_input,train_target,test_target=train_test_split(perch_length,perch_weight,random_state=42)"
   ]
  },
  {
   "cell_type": "code",
   "execution_count": 11,
   "metadata": {},
   "outputs": [],
   "source": [
    "# 레이블이 아닌 데이터셋들을 2차원 배열로 바꿔줌\n",
    "train_input=train_input.reshape(-1,1)\n",
    "test_input=test_input.reshape(-1,1)\n",
    "# (-1, 1)은 '열(column)차원의 정수에 따라 1개의 원소가 빠짐없이 배치될 수 있도록 행의 개수가 가변적으로 정해짐"
   ]
  },
  {
   "cell_type": "markdown",
   "metadata": {},
   "source": [
    "shape함수 같은 경우에는 많이 사용하니까 지속적으로 사용하면서 익히는 것이 좋아보인다."
   ]
  },
  {
   "cell_type": "code",
   "execution_count": 6,
   "metadata": {},
   "outputs": [
    {
     "data": {
      "text/plain": [
       "<matplotlib.collections.PathCollection at 0x14c7ecdcb80>"
      ]
     },
     "execution_count": 6,
     "metadata": {},
     "output_type": "execute_result"
    },
    {
     "data": {
      "image/png": "[encoded data removed]",
      "text/plain": [
       "<Figure size 432x288 with 1 Axes>"
      ]
     },
     "metadata": {
      "needs_background": "light"
     },
     "output_type": "display_data"
    }
   ],
   "source": [
    "import matplotlib.pyplot as plt\n",
    "\n",
    "# 훈련세트 산점도 그리기\n",
    "plt.scatter(train_input,train_target)"
   ]
  },
  {
   "cell_type": "code",
   "execution_count": 12,
   "metadata": {},
   "outputs": [
    {
     "data": {
      "text/plain": [
       "LinearRegression()"
      ]
     },
     "execution_count": 12,
     "metadata": {},
     "output_type": "execute_result"
    }
   ],
   "source": [
    "from sklearn.linear_model import LinearRegression\n",
    "lr=LinearRegression()\n",
    "\n",
    "#선형회귀 모델 훈련\n",
    "lr.fit(train_input,train_target)"
   ]
  },
  {
   "cell_type": "code",
   "execution_count": 13,
   "metadata": {},
   "outputs": [
    {
     "name": "stdout",
     "output_type": "stream",
     "text": [
      "[1241.83860323]\n"
     ]
    }
   ],
   "source": [
    "# 50cm인 농어에 대해 무게 예측하기\n",
    "print(lr.predict([[50]]))"
   ]
  },
  {
   "cell_type": "code",
   "execution_count": 14,
   "metadata": {},
   "outputs": [
    {
     "name": "stdout",
     "output_type": "stream",
     "text": [
      "[39.01714496] -709.0186449535477\n"
     ]
    }
   ],
   "source": [
    "# 선형회귀 모델이므로, lr 객체에 기울기(coefficient)와 절편(intercept) 속성이 저장되어 있다.\n",
    "print(lr.coef_,lr.intercept_)"
   ]
  },
  {
   "cell_type": "code",
   "execution_count": 15,
   "metadata": {},
   "outputs": [
    {
     "data": {
      "image/png": "[encoded data removed]",
      "text/plain": [
       "<Figure size 432x288 with 1 Axes>"
      ]
     },
     "metadata": {
      "needs_background": "light"
     },
     "output_type": "display_data"
    }
   ],
   "source": [
    "plt.scatter(train_input,train_target)\n",
    "\n",
    "# x 축인 농어의 길이가 15에서 50인 것까지들을 기준으로 그래프를 그린다.\n",
    "plt.plot([15,50],[15*lr.coef_+lr.intercept_,50*lr.coef_+lr.intercept_])\n",
    "\n",
    "# 50cm 농어를 예측한 데이터\n",
    "plt.scatter(50,1241.8,marker='^')\n",
    "plt.xlabel('length')\n",
    "plt.ylabel('weight')\n",
    "plt.show()"
   ]
  },
  {
   "cell_type": "code",
   "execution_count": 16,
   "metadata": {},
   "outputs": [
    {
     "name": "stdout",
     "output_type": "stream",
     "text": [
      "0.939846333997604\n",
      "0.8247503123313558\n"
     ]
    }
   ],
   "source": [
    "print(lr.score(train_input,train_target))\n",
    "print(lr.score(test_input,test_target)) "
   ]
  },
  {
   "cell_type": "markdown",
   "metadata": {},
   "source": [
    "테스트 데이터의 점수가 훈련 데이터 점수에 비해 낮다. 일차곡선의 한계는 이를 크게 벗어나는 데이터의 경우 정확도가 떨어지며 조금 구부러진 곡선의 형태를 띄게하여 더 알맞은 예측을 하게끔 만들면 좋을 것 같다.\n",
    "\n",
    "이를 위해 **제곱항**을 추가하여 **다항회귀(2차 함수 이상)** 형태를 만들어 주면 된다."
   ]
  },
  {
   "cell_type": "markdown",
   "metadata": {},
   "source": [
    "## 다항회귀"
   ]
  },
  {
   "cell_type": "code",
   "execution_count": 17,
   "metadata": {},
   "outputs": [],
   "source": [
    "# 농어의 길이를 제곱한 것을 원래 데이터에 추가한 데이터 생성\n",
    "train_poly=np.column_stack((train_input**2,train_input))\n",
    "test_poly=np.column_stack((test_input**2,test_input))"
   ]
  },
  {
   "cell_type": "markdown",
   "metadata": {},
   "source": [
    "np.column_stack은 벡터를 열벡터로 인식한 뒤, 열 방향(가로방향)으로 합쳐준다.\n",
    "\n",
    "a = np.array((1,2,3))\n",
    "b = np.array((2,3,4))\n",
    "np.column_stack((a,b))\n",
    "\n",
    ">array([[1, 2],\n",
    "        [2, 3],\n",
    "        [3, 4]])\n",
    "\n",
    "이 말고도 hstack은 열 방향(가로방향)으로 합쳐준다.\n",
    "vstack은 행 방향(세로방향)으로 합쳐준다.\n"
   ]
  },
  {
   "cell_type": "code",
   "execution_count": 18,
   "metadata": {},
   "outputs": [
    {
     "name": "stdout",
     "output_type": "stream",
     "text": [
      "[[ 384.16   19.6 ]\n",
      " [ 484.     22.  ]\n",
      " [ 349.69   18.7 ]\n",
      " [ 302.76   17.4 ]\n",
      " [1296.     36.  ]]\n",
      "[[ 70.56   8.4 ]\n",
      " [324.    18.  ]\n",
      " [756.25  27.5 ]\n",
      " [453.69  21.3 ]\n",
      " [506.25  22.5 ]]\n",
      "(42, 2)\n",
      "(14, 2)\n"
     ]
    }
   ],
   "source": [
    "# 데이터 확인\n",
    "print(train_poly[:5])\n",
    "print(test_poly[:5])\n",
    "print(train_poly.shape)\n",
    "print(test_poly.shape)"
   ]
  },
  {
   "cell_type": "code",
   "execution_count": 19,
   "metadata": {},
   "outputs": [
    {
     "name": "stdout",
     "output_type": "stream",
     "text": [
      "[1573.98423528]\n"
     ]
    }
   ],
   "source": [
    "lr=LinearRegression()\n",
    "lr.fit(train_poly,train_target)\n",
    "\n",
    "print(lr.predict([[50**2,50]]))"
   ]
  },
  {
   "cell_type": "code",
   "execution_count": 20,
   "metadata": {},
   "outputs": [
    {
     "name": "stdout",
     "output_type": "stream",
     "text": [
      "[  1.01433211 -21.55792498] 116.05021078278259\n"
     ]
    }
   ],
   "source": [
    "print(lr.coef_,lr.intercept_)"
   ]
  },
  {
   "cell_type": "markdown",
   "metadata": {},
   "source": [
    "이때 다항 회귀 방정식은\n",
    "  무게 = 1.01 x 길이<sup>2</sup> - 21.6 x 길이 +116.05"
   ]
  },
  {
   "cell_type": "code",
   "execution_count": 21,
   "metadata": {},
   "outputs": [
    {
     "data": {
      "image/png": "[encoded data removed]",
      "text/plain": [
       "<Figure size 432x288 with 1 Axes>"
      ]
     },
     "metadata": {
      "needs_background": "light"
     },
     "output_type": "display_data"
    }
   ],
   "source": [
    "# 15~50 구간으로 그래프를 그리기 위한 정수 배열을 생성\n",
    "point=np.arange(15,50)\n",
    "# 훈련 세트의 산점도 그리기\n",
    "plt.scatter(train_input,train_target)\n",
    "# 회귀선 그리기\n",
    "plt.plot(point,1.01*point**2-21.6*point+116.05)\n",
    "\n",
    "# 50cm 농어를 예측한 데이터\n",
    "plt.scatter(50,1574,marker='^')\n",
    "plt.xlabel('length')\n",
    "plt.ylabel('weight')\n",
    "plt.show()"
   ]
  },
  {
   "cell_type": "code",
   "execution_count": 42,
   "metadata": {},
   "outputs": [
    {
     "name": "stdout",
     "output_type": "stream",
     "text": [
      "훈련세트 스코어 : 0.9900974417605036\n",
      "테스트세트 스코어 : 0.9766805886149273\n"
     ]
    }
   ],
   "source": [
    "print(f'훈련세트 스코어 : {lr.score(train_poly,train_target)}')\n",
    "print(f'테스트세트 스코어 : {lr.score(test_poly,test_target)}') "
   ]
  },
  {
   "cell_type": "markdown",
   "metadata": {},
   "source": [
    "## 규제"
   ]
  },
  {
   "cell_type": "markdown",
   "metadata": {},
   "source": [
    "머신러닝 모델이 훈련 데이터셋을 과도한 학습하여 오버피팅이 일어나는 것을 방지하는 것이다.\n",
    "선형 회귀모델의 경우, 특성에 곱해지는 계수(기울기)의 크기를 작게 만드는 것이다."
   ]
  },
  {
   "cell_type": "code",
   "execution_count": 24,
   "metadata": {},
   "outputs": [
    {
     "name": "stdout",
     "output_type": "stream",
     "text": [
      "[[ 8.4   2.11  1.41]\n",
      " [13.7   3.53  2.  ]\n",
      " [15.    3.82  2.43]\n",
      " [16.2   4.59  2.63]\n",
      " [17.4   4.59  2.94]\n",
      " [18.    5.22  3.32]\n",
      " [18.7   5.2   3.12]\n",
      " [19.    5.64  3.05]\n",
      " [19.6   5.14  3.04]\n",
      " [20.    5.08  2.77]]\n",
      "(56, 3)\n"
     ]
    }
   ],
   "source": [
    "import pandas as pd\n",
    "\n",
    "df = pd.read_csv('https://bit.ly/perch_csv_data')\n",
    "perch_full = df.to_numpy()\n",
    "print(perch_full[:10])\n",
    "print(perch_full.shape) # 열의 개수 => 특성(feature) 개수"
   ]
  },
  {
   "cell_type": "markdown",
   "metadata": {},
   "source": [
    "위 데이터는 길이, 높이, 너비라는 3가지 특징으로 이루어져있어서 다중선형회귀를 구현할 수 있다."
   ]
  },
  {
   "cell_type": "code",
   "execution_count": 25,
   "metadata": {},
   "outputs": [],
   "source": [
    "import numpy as np\n",
    "# 타깃 변수인 농어의 무게 데이터\n",
    "perch_weight = np.array(\n",
    "    [5.9, 32.0, 40.0, 51.5, 70.0, 100.0, 78.0, 80.0, 85.0, 85.0, \n",
    "    110.0, 115.0, 125.0, 130.0, 120.0, 120.0, 130.0, 135.0, 110.0, \n",
    "    130.0, 150.0, 145.0, 150.0, 170.0, 225.0, 145.0, 188.0, 180.0, \n",
    "    197.0, 218.0, 300.0, 260.0, 265.0, 250.0, 250.0, 300.0, 320.0, \n",
    "    514.0, 556.0, 840.0, 685.0, 700.0, 700.0, 690.0, 900.0, 650.0, \n",
    "    820.0, 850.0, 900.0, 1015.0, 820.0, 1100.0, 1000.0, 1100.0, \n",
    "    1000.0, 1000.0]\n",
    "    )"
   ]
  },
  {
   "cell_type": "code",
   "execution_count": 30,
   "metadata": {},
   "outputs": [
    {
     "name": "stdout",
     "output_type": "stream",
     "text": [
      "44 12\n"
     ]
    }
   ],
   "source": [
    "from sklearn.model_selection import train_test_split\n",
    "\n",
    "train_input, test_input, train_target, test_target = train_test_split(perch_full, perch_weight, random_state=42, test_size=0.2)\n",
    "print(train_input.shape[0], test_input.shape[0])"
   ]
  },
  {
   "cell_type": "code",
   "execution_count": 32,
   "metadata": {},
   "outputs": [
    {
     "name": "stdout",
     "output_type": "stream",
     "text": [
      "[[2. 3. 4. 6. 9.]]\n"
     ]
    }
   ],
   "source": [
    "from sklearn.preprocessing import PolynomialFeatures\n",
    "\n",
    "poly = PolynomialFeatures(include_bias=False) # include_bias는 절편을 만드는 것으로 test에 있는 코드 참조\n",
    "# 어떤 식으로 변환이 되는지 확인하고자 샘플 데이터로 [[2, 3]]을 대입\n",
    "poly.fit([[2, 3]])\n",
    "print(poly.transform([[2, 3]]))\n",
    "# poly.fit_trasform([[2,3]])"
   ]
  },
  {
   "cell_type": "code",
   "execution_count": 33,
   "metadata": {},
   "outputs": [
    {
     "name": "stdout",
     "output_type": "stream",
     "text": [
      "Not poly train data : (44, 3) / Not poly test data : (12, 3)\n",
      "Poly train data : (44, 9) / Poly test data : (12, 9)\n",
      "\n"
     ]
    }
   ],
   "source": [
    "#PolynomailFeatures() 를 적용하기 전의 데이터 형태\n",
    "print(\"Not poly train data : {} / Not poly test data : {}\".format(train_input.shape, test_input.shape))\n",
    "\n",
    "poly = PolynomialFeatures(include_bias=False)\n",
    "\n",
    "train_poly = poly.fit_transform(train_input)\n",
    "test_poly = poly.transform(test_input)\n",
    "\n",
    "#PolynomialFeatures() 를 적용한 후의 데이터 형태\n",
    "print(\"Poly train data : {} / Poly test data : {}\\n\".format(train_poly.shape, test_poly.shape))"
   ]
  },
  {
   "cell_type": "markdown",
   "metadata": {},
   "source": [
    "3가지 였던 특성이 9개의 특성으로 변형되었음을 알 수 있다."
   ]
  },
  {
   "cell_type": "code",
   "execution_count": 34,
   "metadata": {},
   "outputs": [
    {
     "data": {
      "text/plain": [
       "['x0', 'x1', 'x2', 'x0^2', 'x0 x1', 'x0 x2', 'x1^2', 'x1 x2', 'x2^2']"
      ]
     },
     "execution_count": 34,
     "metadata": {},
     "output_type": "execute_result"
    }
   ],
   "source": [
    "#Polynomial data shape\n",
    "poly.get_feature_names()"
   ]
  },
  {
   "cell_type": "markdown",
   "metadata": {},
   "source": [
    "***get_feature_names*** 라는 메소드 호출시 데이터가 어떤 식으로 변형되었는지도 확인할 수 있다. **x0 x1 x2**는 길이 높이 너비를 표현한 것이고 **degree**는 2로 자동 설정되어있어 **최대 2의 제곱**으로 변형되었다."
   ]
  },
  {
   "cell_type": "code",
   "execution_count": 39,
   "metadata": {},
   "outputs": [
    {
     "name": "stdout",
     "output_type": "stream",
     "text": [
      "훈련데이터의 정확도 : 0.9900974417605036\n",
      "테스트 데이터의 정확도 : 0.9766805886149273\n"
     ]
    }
   ],
   "source": [
    "from sklearn.linear_model import LinearRegression\n",
    "\n",
    "lr = LinearRegression()\n",
    "lr.fit(train_poly, train_target)\n",
    "\n",
    "#훈련 데이터의 정확도\n",
    "print(f'훈련데이터의 정확도 : {lr.score(train_poly, train_target)}' )\n",
    "#테스트 데이터의 정확도\n",
    "print(f'테스트 데이터의 정확도 : {lr.score(test_poly, test_target)}')"
   ]
  },
  {
   "cell_type": "markdown",
   "metadata": {},
   "source": [
    "**오버피팅 해결 전 스코어(정확도)**  \n",
    "훈련세트 스코어 : 0.9900974417605036  \n",
    "테스트세트 스코어 : 0.9766805886149273  \n",
    "\n",
    "**오버피팅 해결 후 스코어(정확도)**  \n",
    "훈련데이터의 스코어 : 0.9900974417605036  \n",
    "테스트 데이터의 스코어 : 0.9766805886149273  "
   ]
  },
  {
   "cell_type": "markdown",
   "metadata": {},
   "source": [
    "남은건 DEGREE(차수) 문제다. 차수를 적절히 높이면 100%에 가까운 모델을 만들 수 있을 것 같다."
   ]
  },
  {
   "cell_type": "code",
   "execution_count": 43,
   "metadata": {},
   "outputs": [
    {
     "name": "stdout",
     "output_type": "stream",
     "text": [
      "0.9999999999147758\n",
      "-167.24095186604714\n"
     ]
    }
   ],
   "source": [
    "poly = PolynomialFeatures(degree=5, include_bias=False)\n",
    "train_poly = poly.fit_transform(train_input)\n",
    "test_poly = poly.transform(test_input)\n",
    "\n",
    "#최대 차수가 5인 데이터를 훈련시킨다.\n",
    "lr.fit(train_poly, train_target)\n",
    "\n",
    "#훈련 데이터의 정확도\n",
    "print(lr.score(train_poly, train_target))\n",
    "#테스트 데이터의 정확도\n",
    "print(lr.score(test_poly, test_target))"
   ]
  },
  {
   "cell_type": "markdown",
   "metadata": {},
   "source": [
    "우선 특성의 개수(degree)가 과도하게 많아져서 과대적합(Overfitting)이 이루어졌다.  \n",
    "\n",
    "위와 같은 문제로 사이킷런은 선형회귀에서 이러한 상황을 해결하기 위해 규제 클래스를 제공해준다."
   ]
  },
  {
   "cell_type": "markdown",
   "metadata": {},
   "source": [
    "### 정규화"
   ]
  },
  {
   "cell_type": "markdown",
   "metadata": {},
   "source": [
    "규제를 적용하기 전에 정규화를 해야하는데 그 이유는 각 계수들 값의 크기가 다르면, 규제 적용이 계수에 따라 다른 정도로 적용되기 때문이다."
   ]
  },
  {
   "cell_type": "code",
   "execution_count": 47,
   "metadata": {},
   "outputs": [
    {
     "data": {
      "text/plain": [
       "array([[-0.0479615 , -0.07964602, -0.35896578, ..., -0.5910714 ,\n",
       "        -0.60804899, -0.62001131],\n",
       "       [-0.13002895,  0.09842435,  0.19091661, ..., -0.38069718,\n",
       "        -0.36855326, -0.3560834 ],\n",
       "       [-1.03277088, -1.03410324, -1.03754405, ..., -0.75473951,\n",
       "        -0.74961471, -0.74119993],\n",
       "       ...,\n",
       "       [-0.32933561, -0.52838337, -0.33556653, ..., -0.64509246,\n",
       "        -0.63028045, -0.61267124],\n",
       "       [ 1.59338748,  1.69393493,  1.20293421, ...,  1.50826805,\n",
       "         1.24314217,  0.99961831],\n",
       "       [ 0.71409339,  0.78933742,  0.9221432 , ...,  0.39979257,\n",
       "         0.43347046,  0.46159204]])"
      ]
     },
     "execution_count": 47,
     "metadata": {},
     "output_type": "execute_result"
    }
   ],
   "source": [
    "from sklearn.preprocessing import StandardScaler\n",
    "ss=StandardScaler()\n",
    "# 훈련 데이터셋으로 정규화 학습\n",
    "ss.fit(train_poly)\n",
    "train_scaled=ss.transform(train_poly)\n",
    "test_scaled=ss.transform(test_poly)\n",
    "\n",
    "train_scaled"
   ]
  },
  {
   "cell_type": "markdown",
   "metadata": {},
   "source": [
    "StandardScaler 클래스를 임포트하여 전처리를 먼저 시켜준다. 이 데이터전처리(Preprocessing)를 하면 각 특징(Feature)의 범위가 다를 수도 있는 경우를 방지하여 정확도를 더 높일 수 있다.  \n",
    "\n",
    "예를 들어, 생선의 길이는 20~50cm이지만, 생선의 너비는 2~6cm 정도 밖에 되지 않아서 각 데이터의 범위의 차이로 정확도가 떨어질 수 있는데, 표준점수로 변환하여 비슷한 범위 내에서 데이터를 처리하면 정확도를 높일 수 있다.\n",
    "\n",
    "**fit()** **transform()** 메소드를 사용하여 표준점수로 변형시키면 된다."
   ]
  },
  {
   "cell_type": "markdown",
   "metadata": {},
   "source": [
    "## 릿지(Ridge) [L2규제]"
   ]
  },
  {
   "cell_type": "code",
   "execution_count": 45,
   "metadata": {},
   "outputs": [
    {
     "name": "stdout",
     "output_type": "stream",
     "text": [
      "0.9896004835191297\n",
      "0.9789200583251781\n"
     ]
    }
   ],
   "source": [
    "from sklearn.linear_model import Ridge\n",
    "\n",
    "#릿지\n",
    "ridge = Ridge()\n",
    "ridge.fit(train_scaled, train_target)\n",
    "\n",
    "#훈련 데이터의 정확도\n",
    "print(ridge.score(train_scaled, train_target))\n",
    "#테스트 데이터의 정확도\n",
    "print(ridge.score(test_scaled, test_target))"
   ]
  },
  {
   "cell_type": "markdown",
   "metadata": {},
   "source": [
    "마이너스 였던 정확도가 97퍼센트까지 상승했고 L2규제를 통한 변수의 계수를 줄인 결과이다.  \n",
    "\n",
    "이 Ridge() 클래스에는 alpha라는 매개변수를 통해 이를 조절할 수 있는 하이퍼 파라미터(Hyper Parameter)가 존재한다.\n",
    "0.001~100 까지 값을 조절해가며, 최적의 alpha값을 찾아보도록한다."
   ]
  },
  {
   "cell_type": "code",
   "execution_count": 48,
   "metadata": {},
   "outputs": [],
   "source": [
    "import matplotlib.pyplot as plt\n",
    "\n",
    "train_score = []\n",
    "test_score = []\n",
    "\n",
    "alpha_list = [0.001, 0.01, 0.1, 1, 10, 100]\n",
    "for alpha in alpha_list:\n",
    "    # 릿지 모델을 만듭니다\n",
    "    ridge = Ridge(alpha=alpha)\n",
    "    # 릿지 모델을 훈련합니다\n",
    "    ridge.fit(train_scaled, train_target)\n",
    "    # 훈련 점수와 테스트 점수를 저장합니다\n",
    "    train_score.append(ridge.score(train_scaled, train_target))\n",
    "    test_score.append(ridge.score(test_scaled, test_target))"
   ]
  },
  {
   "cell_type": "code",
   "execution_count": 49,
   "metadata": {},
   "outputs": [
    {
     "data": {
      "image/png": "[encoded data removed]",
      "text/plain": [
       "<Figure size 432x288 with 1 Axes>"
      ]
     },
     "metadata": {
      "needs_background": "light"
     },
     "output_type": "display_data"
    }
   ],
   "source": [
    "plt.plot(np.log10(alpha_list), train_score)\n",
    "plt.plot(np.log10(alpha_list), test_score)\n",
    "plt.xlabel('alpha')\n",
    "plt.ylabel('R^2')\n",
    "plt.show()"
   ]
  },
  {
   "cell_type": "markdown",
   "metadata": {},
   "source": [
    "R^2는 결정계수라고 불리며 1에 가까울수록 정확도가 높다는 뜻으로 해석하면 된다.  \n",
    "\n",
    "그래프에서는 alpha가 -1 (10^-1)일 때, 테스트 점수와 훈련 점수 차이가 적으면서, 결정계수까지 높으므로 이 모델에서 최적의 **alpha** 값은 1/10이라는 것을 알 수 있다."
   ]
  },
  {
   "cell_type": "markdown",
   "metadata": {},
   "source": [
    "## 라쏘(Lasso) [L1규제]"
   ]
  },
  {
   "cell_type": "code",
   "execution_count": 50,
   "metadata": {},
   "outputs": [
    {
     "name": "stdout",
     "output_type": "stream",
     "text": [
      "0.9897812228260618\n",
      "0.9800354016844836\n"
     ]
    }
   ],
   "source": [
    "from sklearn.linear_model import Lasso\n",
    "\n",
    "lasso = Lasso()\n",
    "lasso.fit(train_scaled, train_target)\n",
    "\n",
    "print(lasso.score(train_scaled, train_target))\n",
    "print(lasso.score(test_scaled, test_target))"
   ]
  },
  {
   "cell_type": "code",
   "execution_count": 51,
   "metadata": {},
   "outputs": [
    {
     "data": {
      "image/png": "[encoded data removed]",
      "text/plain": [
       "<Figure size 432x288 with 1 Axes>"
      ]
     },
     "metadata": {
      "needs_background": "light"
     },
     "output_type": "display_data"
    }
   ],
   "source": [
    "plt.plot(np.log10(alpha_list), train_score)\n",
    "plt.plot(np.log10(alpha_list), test_score)\n",
    "plt.xlabel('alpha')\n",
    "plt.ylabel('R^2')\n",
    "plt.show()"
   ]
  },
  {
   "cell_type": "markdown",
   "metadata": {},
   "source": [
    "라쏘 또한 마찬가지로 alpha가 -1(1/10)일때, 가장 높은 점수를 기록하였다.  \n",
    "라쏘는 계수를 0으로 만들어 과대적합(overfitting)이나 과소적합(Underfitting)을 해결한다. 몇개의 feaature의 계수를 0으로 만들었는지 확인해보겠다."
   ]
  },
  {
   "cell_type": "code",
   "execution_count": 52,
   "metadata": {},
   "outputs": [
    {
     "name": "stdout",
     "output_type": "stream",
     "text": [
      "41\n"
     ]
    }
   ],
   "source": [
    "#사용되지 않는 특징의 개수\n",
    "print(np.sum(lasso.coef_ == 0))"
   ]
  },
  {
   "cell_type": "markdown",
   "metadata": {},
   "source": [
    "lasso 모델의 계수를 출력하는 coef_변수에서 계수가 0인 갯수를 합하는 것이다. 그렇게된 갯수가 41개라는 소리다"
   ]
  }
 ],
 "metadata": {
  "interpreter": {
   "hash": "e1cccd04e85b6896c0b444fb4c711c31b631e3aead8bbe915e9db3696d19a850"
  },
  "kernelspec": {
   "display_name": "Python 3.8.3 64-bit ('base': conda)",
   "language": "python",
   "name": "python3"
  },
  "language_info": {
   "codemirror_mode": {
    "name": "ipython",
    "version": 3
   },
   "file_extension": ".py",
   "mimetype": "text/x-python",
   "name": "python",
   "nbconvert_exporter": "python",
   "pygments_lexer": "ipython3",
   "version": "3.8.3"
  },
  "orig_nbformat": 4
 },
 "nbformat": 4,
 "nbformat_minor": 2
}
