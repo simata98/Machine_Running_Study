version https://git-lfs.github.com/spec/v1
oid sha256:1086765bbdbfbea4e8bff1bd1de4a35bedf4ac6ca10b9b1f6dad91d61f8deb14
size 389041
