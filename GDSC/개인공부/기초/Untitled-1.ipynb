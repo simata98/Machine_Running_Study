version https://git-lfs.github.com/spec/v1
oid sha256:62c8494392f657cc9c641dc67740c2b13ccf8d9739354c3a7d225e79229e6fb8
size 92493
