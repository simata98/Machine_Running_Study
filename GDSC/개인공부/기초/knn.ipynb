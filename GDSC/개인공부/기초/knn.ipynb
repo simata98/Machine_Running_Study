version https://git-lfs.github.com/spec/v1
oid sha256:d434b1e60678ea3cd1012c533696ea753a5196d9fb39b1bc0093904ce9ca8e05
size 87527
