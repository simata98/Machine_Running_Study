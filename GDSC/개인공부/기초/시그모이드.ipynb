version https://git-lfs.github.com/spec/v1
oid sha256:e2ef06667fb1352835f59fd556651d3d5ac74f87ee0e4f71844c5d34e231c48c
size 19998
