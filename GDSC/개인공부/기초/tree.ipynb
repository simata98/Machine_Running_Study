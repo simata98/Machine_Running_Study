version https://git-lfs.github.com/spec/v1
oid sha256:7c8d1125cf5508b9a5d82173172ae218a1ccfab5bc7a33cadb56aa7aa2a838f6
size 438101
