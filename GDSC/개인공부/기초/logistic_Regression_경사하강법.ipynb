{
 "cells": [
  {
   "cell_type": "code",
   "execution_count": 22,
   "metadata": {},
   "outputs": [],
   "source": [
    "import numpy as np\n"
   ]
  },
  {
   "cell_type": "code",
   "execution_count": 23,
   "metadata": {},
   "outputs": [],
   "source": [
    "def sigmoid(x):\n",
    "    \"\"\"시그모이드 함수\"\"\"\n",
    "    return 1 / (1 + np.exp(-x))"
   ]
  },
  {
   "cell_type": "code",
   "execution_count": 24,
   "metadata": {},
   "outputs": [],
   "source": [
    "def prediction(X, theta):\n",
    "    \"\"\"로지스틱 회귀 가정 함수\"\"\"\n",
    "    return sigmoid(X@theta)"
   ]
  },
  {
   "cell_type": "code",
   "execution_count": 25,
   "metadata": {},
   "outputs": [],
   "source": [
    "def gradient_descent(X, theta, y, iterations, alpha):\n",
    "    \"\"\"로지스틱 회귀 경사 하강 알고리즘\"\"\"\n",
    "    m = len(X)  # 입력 변수 개수 저장\n",
    "\n",
    "    for _ in range(iterations):\n",
    "        # 코드를 쓰세요\n",
    "        error = prediction(X, theta) - y\n",
    "        theta = theta - alpha / m * (X.T @ error)\n",
    "            \n",
    "    return theta"
   ]
  },
  {
   "cell_type": "code",
   "execution_count": 26,
   "metadata": {},
   "outputs": [],
   "source": [
    "# 입력 변수\n",
    "hours_studied = np.array([0.2, 0.3, 0.7, 1, 1.3, 1.8, 2, 2.1, 2.2, 3, 4, 4.2, 4, 4.7, 5.0, 5.9])  # 공부 시간 (단위: 100시간)\n",
    "gpa_rank = np.array([0.9, 0.95, 0.8, 0.82, 0.7, 0.6, 0.55, 0.67, 0.4, 0.3, 0.2, 0.2, 0.15, 0.18, 0.15, 0.05]) # 학년 내신 (백분률)\n",
    "number_of_tries = np.array([1, 2, 2, 2, 4, 2, 2, 2, 3, 3, 3, 3, 2, 4, 1, 2])  # 시험 응시 횟수"
   ]
  },
  {
   "cell_type": "code",
   "execution_count": 27,
   "metadata": {},
   "outputs": [],
   "source": [
    "# 목표 변수\n",
    "passed = np.array([0, 0, 0, 0, 0, 0, 0, 0, 1, 1, 1, 1, 1, 1, 1, 1])  # 시험 통과 여부 (0: 탈락, 1:통과)"
   ]
  },
  {
   "cell_type": "code",
   "execution_count": 28,
   "metadata": {},
   "outputs": [],
   "source": [
    "# 설계 행렬 X 정의\n",
    "X = np.array([\n",
    "    np.ones(16),\n",
    "    hours_studied,\n",
    "    gpa_rank,\n",
    "    number_of_tries\n",
    "]).T"
   ]
  },
  {
   "cell_type": "code",
   "execution_count": 29,
   "metadata": {},
   "outputs": [
    {
     "data": {
      "text/plain": [
       "array([[1.  , 0.2 , 0.9 , 1.  ],\n",
       "       [1.  , 0.3 , 0.95, 2.  ],\n",
       "       [1.  , 0.7 , 0.8 , 2.  ],\n",
       "       [1.  , 1.  , 0.82, 2.  ],\n",
       "       [1.  , 1.3 , 0.7 , 4.  ],\n",
       "       [1.  , 1.8 , 0.6 , 2.  ],\n",
       "       [1.  , 2.  , 0.55, 2.  ],\n",
       "       [1.  , 2.1 , 0.67, 2.  ],\n",
       "       [1.  , 2.2 , 0.4 , 3.  ],\n",
       "       [1.  , 3.  , 0.3 , 3.  ],\n",
       "       [1.  , 4.  , 0.2 , 3.  ],\n",
       "       [1.  , 4.2 , 0.2 , 3.  ],\n",
       "       [1.  , 4.  , 0.15, 2.  ],\n",
       "       [1.  , 4.7 , 0.18, 4.  ],\n",
       "       [1.  , 5.  , 0.15, 1.  ],\n",
       "       [1.  , 5.9 , 0.05, 2.  ]])"
      ]
     },
     "execution_count": 29,
     "metadata": {},
     "output_type": "execute_result"
    }
   ],
   "source": [
    "X"
   ]
  },
  {
   "cell_type": "code",
   "execution_count": 30,
   "metadata": {},
   "outputs": [],
   "source": [
    "y = passed"
   ]
  },
  {
   "cell_type": "code",
   "execution_count": 31,
   "metadata": {},
   "outputs": [
    {
     "data": {
      "text/plain": [
       "array([-1.35280508,  1.61640725, -1.83666046, -0.60286277])"
      ]
     },
     "execution_count": 31,
     "metadata": {},
     "output_type": "execute_result"
    }
   ],
   "source": [
    "theta = [0, 0, 0, 0]  # 파라미터 초기값 설정\n",
    "theta = gradient_descent(X, theta, y, 300, 0.1)  # 경사 하강법을 사용해서 최적의 파라미터를 찾는다\n",
    "theta"
   ]
  },
  {
   "cell_type": "code",
   "execution_count": null,
   "metadata": {},
   "outputs": [],
   "source": []
  }
 ],
 "metadata": {
  "interpreter": {
   "hash": "e1cccd04e85b6896c0b444fb4c711c31b631e3aead8bbe915e9db3696d19a850"
  },
  "kernelspec": {
   "display_name": "Python 3.8.3 64-bit ('base': conda)",
   "language": "python",
   "name": "python3"
  },
  "language_info": {
   "codemirror_mode": {
    "name": "ipython",
    "version": 3
   },
   "file_extension": ".py",
   "mimetype": "text/x-python",
   "name": "python",
   "nbconvert_exporter": "python",
   "pygments_lexer": "ipython3",
   "version": "3.8.3"
  },
  "orig_nbformat": 4
 },
 "nbformat": 4,
 "nbformat_minor": 2
}
