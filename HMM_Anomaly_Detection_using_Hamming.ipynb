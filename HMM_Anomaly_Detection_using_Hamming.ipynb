{
 "cells": [
  {
   "cell_type": "code",
   "execution_count": 26,
   "metadata": {},
   "outputs": [],
   "source": [
    "import pandas as pd\n",
    "import numpy as np"
   ]
  },
  {
   "cell_type": "code",
   "execution_count": 27,
   "metadata": {},
   "outputs": [],
   "source": [
    "with open('./data/CAN traffic (normal only).txt', 'r') as f:\n",
    "  normal_data_list = [line.rstrip().split(\"\\t\") for line in f]"
   ]
  },
  {
   "cell_type": "code",
   "execution_count": 28,
   "metadata": {},
   "outputs": [],
   "source": [
    "with open('./data/CAN traffic (attack included).txt', 'r') as f:\n",
    "  abnormal_data_list = [line.rstrip().split(\"\\t\") for line in f]"
   ]
  },
  {
   "cell_type": "code",
   "execution_count": 29,
   "metadata": {},
   "outputs": [],
   "source": [
    "normal_data_df = pd.DataFrame(normal_data_list, columns=['Timestamp', 'Arbitration ID', 'DLC', 'data', 'Class'])\n",
    "abnormal_data_df = pd.DataFrame(abnormal_data_list, columns=['Timestamp', 'Arbitration ID', 'DLC', 'data', 'Class', 'SubClass'])"
   ]
  },
  {
   "cell_type": "code",
   "execution_count": 30,
   "metadata": {},
   "outputs": [
    {
     "data": {
      "text/html": [
       "<div>\n",
       "<style scoped>\n",
       "    .dataframe tbody tr th:only-of-type {\n",
       "        vertical-align: middle;\n",
       "    }\n",
       "\n",
       "    .dataframe tbody tr th {\n",
       "        vertical-align: top;\n",
       "    }\n",
       "\n",
       "    .dataframe thead th {\n",
       "        text-align: right;\n",
       "    }\n",
       "</style>\n",
       "<table border=\"1\" class=\"dataframe\">\n",
       "  <thead>\n",
       "    <tr style=\"text-align: right;\">\n",
       "      <th></th>\n",
       "      <th>Timestamp</th>\n",
       "      <th>Arbitration ID</th>\n",
       "      <th>DLC</th>\n",
       "      <th>data</th>\n",
       "      <th>Class</th>\n",
       "    </tr>\n",
       "  </thead>\n",
       "  <tbody>\n",
       "    <tr>\n",
       "      <th>0</th>\n",
       "      <td>1597707827</td>\n",
       "      <td>260</td>\n",
       "      <td>8</td>\n",
       "      <td>06 25 05 30 FF CF 71 55</td>\n",
       "      <td>Normal</td>\n",
       "    </tr>\n",
       "    <tr>\n",
       "      <th>1</th>\n",
       "      <td>1597707827</td>\n",
       "      <td>329</td>\n",
       "      <td>8</td>\n",
       "      <td>4A C5 7E 8C 31 2D 01 10</td>\n",
       "      <td>Normal</td>\n",
       "    </tr>\n",
       "    <tr>\n",
       "      <th>2</th>\n",
       "      <td>1597707827</td>\n",
       "      <td>38D</td>\n",
       "      <td>8</td>\n",
       "      <td>00 00 49 00 90 7F FE 01</td>\n",
       "      <td>Normal</td>\n",
       "    </tr>\n",
       "    <tr>\n",
       "      <th>3</th>\n",
       "      <td>1597707827</td>\n",
       "      <td>420</td>\n",
       "      <td>8</td>\n",
       "      <td>50 1E 00 C8 FC 4F 6A 00</td>\n",
       "      <td>Normal</td>\n",
       "    </tr>\n",
       "    <tr>\n",
       "      <th>4</th>\n",
       "      <td>1597707827</td>\n",
       "      <td>421</td>\n",
       "      <td>8</td>\n",
       "      <td>FE 07 00 FF E3 7F 00 52</td>\n",
       "      <td>Normal</td>\n",
       "    </tr>\n",
       "  </tbody>\n",
       "</table>\n",
       "</div>"
      ],
      "text/plain": [
       "    Timestamp Arbitration ID DLC                     data   Class\n",
       "0  1597707827            260   8  06 25 05 30 FF CF 71 55  Normal\n",
       "1  1597707827            329   8  4A C5 7E 8C 31 2D 01 10  Normal\n",
       "2  1597707827            38D   8  00 00 49 00 90 7F FE 01  Normal\n",
       "3  1597707827            420   8  50 1E 00 C8 FC 4F 6A 00  Normal\n",
       "4  1597707827            421   8  FE 07 00 FF E3 7F 00 52  Normal"
      ]
     },
     "execution_count": 30,
     "metadata": {},
     "output_type": "execute_result"
    }
   ],
   "source": [
    "normal_data_df.head()"
   ]
  },
  {
   "cell_type": "code",
   "execution_count": 31,
   "metadata": {},
   "outputs": [
    {
     "data": {
      "text/html": [
       "<div>\n",
       "<style scoped>\n",
       "    .dataframe tbody tr th:only-of-type {\n",
       "        vertical-align: middle;\n",
       "    }\n",
       "\n",
       "    .dataframe tbody tr th {\n",
       "        vertical-align: top;\n",
       "    }\n",
       "\n",
       "    .dataframe thead th {\n",
       "        text-align: right;\n",
       "    }\n",
       "</style>\n",
       "<table border=\"1\" class=\"dataframe\">\n",
       "  <thead>\n",
       "    <tr style=\"text-align: right;\">\n",
       "      <th></th>\n",
       "      <th>Timestamp</th>\n",
       "      <th>Arbitration ID</th>\n",
       "      <th>DLC</th>\n",
       "      <th>data</th>\n",
       "      <th>Class</th>\n",
       "      <th>SubClass</th>\n",
       "    </tr>\n",
       "  </thead>\n",
       "  <tbody>\n",
       "    <tr>\n",
       "      <th>0</th>\n",
       "      <td>1597759710</td>\n",
       "      <td>153</td>\n",
       "      <td>8</td>\n",
       "      <td>20 A1 10 FF 00 FF 50 1F</td>\n",
       "      <td>Normal</td>\n",
       "      <td>Normal</td>\n",
       "    </tr>\n",
       "    <tr>\n",
       "      <th>1</th>\n",
       "      <td>1597759710</td>\n",
       "      <td>220</td>\n",
       "      <td>8</td>\n",
       "      <td>13 24 7F 60 05 FF BF 10</td>\n",
       "      <td>Normal</td>\n",
       "      <td>Normal</td>\n",
       "    </tr>\n",
       "    <tr>\n",
       "      <th>2</th>\n",
       "      <td>1597759710</td>\n",
       "      <td>507</td>\n",
       "      <td>4</td>\n",
       "      <td>08 00 00 01</td>\n",
       "      <td>Normal</td>\n",
       "      <td>Normal</td>\n",
       "    </tr>\n",
       "    <tr>\n",
       "      <th>3</th>\n",
       "      <td>1597759710</td>\n",
       "      <td>356</td>\n",
       "      <td>8</td>\n",
       "      <td>00 00 00 80 16 00 00 00</td>\n",
       "      <td>Normal</td>\n",
       "      <td>Normal</td>\n",
       "    </tr>\n",
       "    <tr>\n",
       "      <th>4</th>\n",
       "      <td>1597759710</td>\n",
       "      <td>340</td>\n",
       "      <td>8</td>\n",
       "      <td>FC 03 00 E4 B7 21 FA 3C</td>\n",
       "      <td>Normal</td>\n",
       "      <td>Normal</td>\n",
       "    </tr>\n",
       "  </tbody>\n",
       "</table>\n",
       "</div>"
      ],
      "text/plain": [
       "    Timestamp Arbitration ID DLC                     data   Class SubClass\n",
       "0  1597759710            153   8  20 A1 10 FF 00 FF 50 1F  Normal   Normal\n",
       "1  1597759710            220   8  13 24 7F 60 05 FF BF 10  Normal   Normal\n",
       "2  1597759710            507   4              08 00 00 01  Normal   Normal\n",
       "3  1597759710            356   8  00 00 00 80 16 00 00 00  Normal   Normal\n",
       "4  1597759710            340   8  FC 03 00 E4 B7 21 FA 3C  Normal   Normal"
      ]
     },
     "execution_count": 31,
     "metadata": {},
     "output_type": "execute_result"
    }
   ],
   "source": [
    "abnormal_data_df.head()"
   ]
  },
  {
   "cell_type": "markdown",
   "metadata": {},
   "source": [
    "**Using Hamming Distance**"
   ]
  },
  {
   "cell_type": "code",
   "execution_count": 32,
   "metadata": {},
   "outputs": [],
   "source": [
    "normal_data_df['data'] = normal_data_df['data'].str.replace(' ','')\n",
    "abnormal_data_df['data'] = abnormal_data_df['data'].str.replace(' ','')"
   ]
  },
  {
   "cell_type": "code",
   "execution_count": 33,
   "metadata": {},
   "outputs": [
    {
     "data": {
      "text/html": [
       "<div>\n",
       "<style scoped>\n",
       "    .dataframe tbody tr th:only-of-type {\n",
       "        vertical-align: middle;\n",
       "    }\n",
       "\n",
       "    .dataframe tbody tr th {\n",
       "        vertical-align: top;\n",
       "    }\n",
       "\n",
       "    .dataframe thead th {\n",
       "        text-align: right;\n",
       "    }\n",
       "</style>\n",
       "<table border=\"1\" class=\"dataframe\">\n",
       "  <thead>\n",
       "    <tr style=\"text-align: right;\">\n",
       "      <th></th>\n",
       "      <th>Timestamp</th>\n",
       "      <th>Arbitration ID</th>\n",
       "      <th>DLC</th>\n",
       "      <th>data</th>\n",
       "      <th>Class</th>\n",
       "    </tr>\n",
       "  </thead>\n",
       "  <tbody>\n",
       "    <tr>\n",
       "      <th>0</th>\n",
       "      <td>1597707827</td>\n",
       "      <td>260</td>\n",
       "      <td>8</td>\n",
       "      <td>06250530FFCF7155</td>\n",
       "      <td>Normal</td>\n",
       "    </tr>\n",
       "    <tr>\n",
       "      <th>1</th>\n",
       "      <td>1597707827</td>\n",
       "      <td>329</td>\n",
       "      <td>8</td>\n",
       "      <td>4AC57E8C312D0110</td>\n",
       "      <td>Normal</td>\n",
       "    </tr>\n",
       "    <tr>\n",
       "      <th>2</th>\n",
       "      <td>1597707827</td>\n",
       "      <td>38D</td>\n",
       "      <td>8</td>\n",
       "      <td>00004900907FFE01</td>\n",
       "      <td>Normal</td>\n",
       "    </tr>\n",
       "    <tr>\n",
       "      <th>3</th>\n",
       "      <td>1597707827</td>\n",
       "      <td>420</td>\n",
       "      <td>8</td>\n",
       "      <td>501E00C8FC4F6A00</td>\n",
       "      <td>Normal</td>\n",
       "    </tr>\n",
       "    <tr>\n",
       "      <th>4</th>\n",
       "      <td>1597707827</td>\n",
       "      <td>421</td>\n",
       "      <td>8</td>\n",
       "      <td>FE0700FFE37F0052</td>\n",
       "      <td>Normal</td>\n",
       "    </tr>\n",
       "  </tbody>\n",
       "</table>\n",
       "</div>"
      ],
      "text/plain": [
       "    Timestamp Arbitration ID DLC              data   Class\n",
       "0  1597707827            260   8  06250530FFCF7155  Normal\n",
       "1  1597707827            329   8  4AC57E8C312D0110  Normal\n",
       "2  1597707827            38D   8  00004900907FFE01  Normal\n",
       "3  1597707827            420   8  501E00C8FC4F6A00  Normal\n",
       "4  1597707827            421   8  FE0700FFE37F0052  Normal"
      ]
     },
     "execution_count": 33,
     "metadata": {},
     "output_type": "execute_result"
    }
   ],
   "source": [
    "normal_data_df.head()"
   ]
  },
  {
   "cell_type": "markdown",
   "metadata": {},
   "source": [
    "**Normal Dataset 가공**"
   ]
  },
  {
   "cell_type": "code",
   "execution_count": 34,
   "metadata": {},
   "outputs": [
    {
     "data": {
      "text/plain": [
       "['00', '00', '49', '00', '90', '7F', 'FE', '01']"
      ]
     },
     "execution_count": 34,
     "metadata": {},
     "output_type": "execute_result"
    }
   ],
   "source": [
    "[normal_data_df['data'].loc[2][i:i+2] for i in range(0, len(normal_data_df['data'].loc[2]), 2)]"
   ]
  },
  {
   "cell_type": "code",
   "execution_count": 35,
   "metadata": {},
   "outputs": [
    {
     "data": {
      "text/plain": [
       "179346"
      ]
     },
     "execution_count": 35,
     "metadata": {},
     "output_type": "execute_result"
    }
   ],
   "source": [
    "len(normal_data_df)"
   ]
  },
  {
   "cell_type": "code",
   "execution_count": 36,
   "metadata": {},
   "outputs": [],
   "source": [
    "normal_data_df['splited_data'] = 0"
   ]
  },
  {
   "cell_type": "code",
   "execution_count": 37,
   "metadata": {},
   "outputs": [
    {
     "data": {
      "text/html": [
       "<div>\n",
       "<style scoped>\n",
       "    .dataframe tbody tr th:only-of-type {\n",
       "        vertical-align: middle;\n",
       "    }\n",
       "\n",
       "    .dataframe tbody tr th {\n",
       "        vertical-align: top;\n",
       "    }\n",
       "\n",
       "    .dataframe thead th {\n",
       "        text-align: right;\n",
       "    }\n",
       "</style>\n",
       "<table border=\"1\" class=\"dataframe\">\n",
       "  <thead>\n",
       "    <tr style=\"text-align: right;\">\n",
       "      <th></th>\n",
       "      <th>Timestamp</th>\n",
       "      <th>Arbitration ID</th>\n",
       "      <th>DLC</th>\n",
       "      <th>data</th>\n",
       "      <th>Class</th>\n",
       "      <th>splited_data</th>\n",
       "    </tr>\n",
       "  </thead>\n",
       "  <tbody>\n",
       "    <tr>\n",
       "      <th>0</th>\n",
       "      <td>1597707827</td>\n",
       "      <td>260</td>\n",
       "      <td>8</td>\n",
       "      <td>06250530FFCF7155</td>\n",
       "      <td>Normal</td>\n",
       "      <td>0</td>\n",
       "    </tr>\n",
       "    <tr>\n",
       "      <th>1</th>\n",
       "      <td>1597707827</td>\n",
       "      <td>329</td>\n",
       "      <td>8</td>\n",
       "      <td>4AC57E8C312D0110</td>\n",
       "      <td>Normal</td>\n",
       "      <td>0</td>\n",
       "    </tr>\n",
       "    <tr>\n",
       "      <th>2</th>\n",
       "      <td>1597707827</td>\n",
       "      <td>38D</td>\n",
       "      <td>8</td>\n",
       "      <td>00004900907FFE01</td>\n",
       "      <td>Normal</td>\n",
       "      <td>0</td>\n",
       "    </tr>\n",
       "    <tr>\n",
       "      <th>3</th>\n",
       "      <td>1597707827</td>\n",
       "      <td>420</td>\n",
       "      <td>8</td>\n",
       "      <td>501E00C8FC4F6A00</td>\n",
       "      <td>Normal</td>\n",
       "      <td>0</td>\n",
       "    </tr>\n",
       "    <tr>\n",
       "      <th>4</th>\n",
       "      <td>1597707827</td>\n",
       "      <td>421</td>\n",
       "      <td>8</td>\n",
       "      <td>FE0700FFE37F0052</td>\n",
       "      <td>Normal</td>\n",
       "      <td>0</td>\n",
       "    </tr>\n",
       "    <tr>\n",
       "      <th>...</th>\n",
       "      <td>...</td>\n",
       "      <td>...</td>\n",
       "      <td>...</td>\n",
       "      <td>...</td>\n",
       "      <td>...</td>\n",
       "      <td>...</td>\n",
       "    </tr>\n",
       "    <tr>\n",
       "      <th>179341</th>\n",
       "      <td>1597707902</td>\n",
       "      <td>391</td>\n",
       "      <td>8</td>\n",
       "      <td>00000000000008EB</td>\n",
       "      <td>Normal</td>\n",
       "      <td>0</td>\n",
       "    </tr>\n",
       "    <tr>\n",
       "      <th>179342</th>\n",
       "      <td>1597707902</td>\n",
       "      <td>260</td>\n",
       "      <td>8</td>\n",
       "      <td>06391A30FFD1A163</td>\n",
       "      <td>Normal</td>\n",
       "      <td>0</td>\n",
       "    </tr>\n",
       "    <tr>\n",
       "      <th>179343</th>\n",
       "      <td>1597707902</td>\n",
       "      <td>421</td>\n",
       "      <td>8</td>\n",
       "      <td>FE0700FFE37F009E</td>\n",
       "      <td>Normal</td>\n",
       "      <td>0</td>\n",
       "    </tr>\n",
       "    <tr>\n",
       "      <th>179344</th>\n",
       "      <td>1597707902</td>\n",
       "      <td>130</td>\n",
       "      <td>8</td>\n",
       "      <td>948EF08100000BAC</td>\n",
       "      <td>Normal</td>\n",
       "      <td>0</td>\n",
       "    </tr>\n",
       "    <tr>\n",
       "      <th>179345</th>\n",
       "      <td>1597707902</td>\n",
       "      <td>140</td>\n",
       "      <td>8</td>\n",
       "      <td>3080006F20000B35</td>\n",
       "      <td>Normal</td>\n",
       "      <td>0</td>\n",
       "    </tr>\n",
       "  </tbody>\n",
       "</table>\n",
       "<p>179346 rows × 6 columns</p>\n",
       "</div>"
      ],
      "text/plain": [
       "         Timestamp Arbitration ID DLC              data   Class  splited_data\n",
       "0       1597707827            260   8  06250530FFCF7155  Normal             0\n",
       "1       1597707827            329   8  4AC57E8C312D0110  Normal             0\n",
       "2       1597707827            38D   8  00004900907FFE01  Normal             0\n",
       "3       1597707827            420   8  501E00C8FC4F6A00  Normal             0\n",
       "4       1597707827            421   8  FE0700FFE37F0052  Normal             0\n",
       "...            ...            ...  ..               ...     ...           ...\n",
       "179341  1597707902            391   8  00000000000008EB  Normal             0\n",
       "179342  1597707902            260   8  06391A30FFD1A163  Normal             0\n",
       "179343  1597707902            421   8  FE0700FFE37F009E  Normal             0\n",
       "179344  1597707902            130   8  948EF08100000BAC  Normal             0\n",
       "179345  1597707902            140   8  3080006F20000B35  Normal             0\n",
       "\n",
       "[179346 rows x 6 columns]"
      ]
     },
     "execution_count": 37,
     "metadata": {},
     "output_type": "execute_result"
    }
   ],
   "source": [
    "normal_data_df"
   ]
  },
  {
   "cell_type": "code",
   "execution_count": 38,
   "metadata": {},
   "outputs": [
    {
     "data": {
      "text/plain": [
       "16"
      ]
     },
     "execution_count": 38,
     "metadata": {},
     "output_type": "execute_result"
    }
   ],
   "source": [
    "len(normal_data_df['data'].loc[0])"
   ]
  },
  {
   "cell_type": "code",
   "execution_count": 39,
   "metadata": {},
   "outputs": [],
   "source": [
    "def convert(x):\n",
    "  if len(x) < 16:\n",
    "    while len(x) < 16:\n",
    "      x = '00' + x\n",
    "    return x\n",
    "  else:\n",
    "    return x\n"
   ]
  },
  {
   "cell_type": "code",
   "execution_count": 40,
   "metadata": {},
   "outputs": [],
   "source": [
    "normal_data_df['converted_data'] = normal_data_df['data'].apply(convert)"
   ]
  },
  {
   "cell_type": "code",
   "execution_count": 41,
   "metadata": {},
   "outputs": [
    {
     "data": {
      "text/plain": [
       "0         06250530FFCF7155\n",
       "1         4AC57E8C312D0110\n",
       "2         00004900907FFE01\n",
       "3         501E00C8FC4F6A00\n",
       "4         FE0700FFE37F0052\n",
       "                ...       \n",
       "179341    00000000000008EB\n",
       "179342    06391A30FFD1A163\n",
       "179343    FE0700FFE37F009E\n",
       "179344    948EF08100000BAC\n",
       "179345    3080006F20000B35\n",
       "Name: converted_data, Length: 179346, dtype: object"
      ]
     },
     "execution_count": 41,
     "metadata": {},
     "output_type": "execute_result"
    }
   ],
   "source": [
    "normal_data_df['converted_data']"
   ]
  },
  {
   "cell_type": "code",
   "execution_count": 42,
   "metadata": {},
   "outputs": [
    {
     "data": {
      "text/plain": [
       "'0000000000081CFA'"
      ]
     },
     "execution_count": 42,
     "metadata": {},
     "output_type": "execute_result"
    }
   ],
   "source": [
    "normal_data_df['converted_data'].loc[14]"
   ]
  },
  {
   "cell_type": "code",
   "execution_count": 44,
   "metadata": {},
   "outputs": [],
   "source": [
    "for j in range(len(normal_data_df)):\n",
    "  normal_data_df['splited_data'].loc[j] = [normal_data_df['converted_data'].loc[j][i:i+2] for i in range(0, len(normal_data_df['converted_data'].loc[j]), 2)]"
   ]
  },
  {
   "cell_type": "code",
   "execution_count": 45,
   "metadata": {},
   "outputs": [
    {
     "data": {
      "text/plain": [
       "['00', '00', '00', '00', '00', '08', '1C', 'FA']"
      ]
     },
     "execution_count": 45,
     "metadata": {},
     "output_type": "execute_result"
    }
   ],
   "source": [
    "normal_data_df['splited_data'].loc[14]"
   ]
  },
  {
   "cell_type": "code",
   "execution_count": 46,
   "metadata": {},
   "outputs": [],
   "source": [
    "from scipy.spatial.distance import hamming"
   ]
  },
  {
   "cell_type": "code",
   "execution_count": 47,
   "metadata": {},
   "outputs": [
    {
     "data": {
      "text/plain": [
       "8.0"
      ]
     },
     "execution_count": 47,
     "metadata": {},
     "output_type": "execute_result"
    }
   ],
   "source": [
    "x = normal_data_df['splited_data'].loc[0]\n",
    "y = normal_data_df['splited_data'].loc[1]\n",
    "hamming(x, y) * len(x)"
   ]
  },
  {
   "cell_type": "code",
   "execution_count": 48,
   "metadata": {},
   "outputs": [],
   "source": [
    "normal_data_df['hamming_distance'] = 0"
   ]
  },
  {
   "cell_type": "code",
   "execution_count": 49,
   "metadata": {},
   "outputs": [
    {
     "data": {
      "text/html": [
       "<div>\n",
       "<style scoped>\n",
       "    .dataframe tbody tr th:only-of-type {\n",
       "        vertical-align: middle;\n",
       "    }\n",
       "\n",
       "    .dataframe tbody tr th {\n",
       "        vertical-align: top;\n",
       "    }\n",
       "\n",
       "    .dataframe thead th {\n",
       "        text-align: right;\n",
       "    }\n",
       "</style>\n",
       "<table border=\"1\" class=\"dataframe\">\n",
       "  <thead>\n",
       "    <tr style=\"text-align: right;\">\n",
       "      <th></th>\n",
       "      <th>Timestamp</th>\n",
       "      <th>Arbitration ID</th>\n",
       "      <th>DLC</th>\n",
       "      <th>data</th>\n",
       "      <th>Class</th>\n",
       "      <th>splited_data</th>\n",
       "      <th>converted_data</th>\n",
       "      <th>hamming_distance</th>\n",
       "    </tr>\n",
       "  </thead>\n",
       "  <tbody>\n",
       "    <tr>\n",
       "      <th>0</th>\n",
       "      <td>1597707827</td>\n",
       "      <td>260</td>\n",
       "      <td>8</td>\n",
       "      <td>06250530FFCF7155</td>\n",
       "      <td>Normal</td>\n",
       "      <td>[06, 25, 05, 30, FF, CF, 71, 55]</td>\n",
       "      <td>06250530FFCF7155</td>\n",
       "      <td>0</td>\n",
       "    </tr>\n",
       "    <tr>\n",
       "      <th>1</th>\n",
       "      <td>1597707827</td>\n",
       "      <td>329</td>\n",
       "      <td>8</td>\n",
       "      <td>4AC57E8C312D0110</td>\n",
       "      <td>Normal</td>\n",
       "      <td>[4A, C5, 7E, 8C, 31, 2D, 01, 10]</td>\n",
       "      <td>4AC57E8C312D0110</td>\n",
       "      <td>0</td>\n",
       "    </tr>\n",
       "    <tr>\n",
       "      <th>2</th>\n",
       "      <td>1597707827</td>\n",
       "      <td>38D</td>\n",
       "      <td>8</td>\n",
       "      <td>00004900907FFE01</td>\n",
       "      <td>Normal</td>\n",
       "      <td>[00, 00, 49, 00, 90, 7F, FE, 01]</td>\n",
       "      <td>00004900907FFE01</td>\n",
       "      <td>0</td>\n",
       "    </tr>\n",
       "    <tr>\n",
       "      <th>3</th>\n",
       "      <td>1597707827</td>\n",
       "      <td>420</td>\n",
       "      <td>8</td>\n",
       "      <td>501E00C8FC4F6A00</td>\n",
       "      <td>Normal</td>\n",
       "      <td>[50, 1E, 00, C8, FC, 4F, 6A, 00]</td>\n",
       "      <td>501E00C8FC4F6A00</td>\n",
       "      <td>0</td>\n",
       "    </tr>\n",
       "    <tr>\n",
       "      <th>4</th>\n",
       "      <td>1597707827</td>\n",
       "      <td>421</td>\n",
       "      <td>8</td>\n",
       "      <td>FE0700FFE37F0052</td>\n",
       "      <td>Normal</td>\n",
       "      <td>[FE, 07, 00, FF, E3, 7F, 00, 52]</td>\n",
       "      <td>FE0700FFE37F0052</td>\n",
       "      <td>0</td>\n",
       "    </tr>\n",
       "    <tr>\n",
       "      <th>...</th>\n",
       "      <td>...</td>\n",
       "      <td>...</td>\n",
       "      <td>...</td>\n",
       "      <td>...</td>\n",
       "      <td>...</td>\n",
       "      <td>...</td>\n",
       "      <td>...</td>\n",
       "      <td>...</td>\n",
       "    </tr>\n",
       "    <tr>\n",
       "      <th>179341</th>\n",
       "      <td>1597707902</td>\n",
       "      <td>391</td>\n",
       "      <td>8</td>\n",
       "      <td>00000000000008EB</td>\n",
       "      <td>Normal</td>\n",
       "      <td>[00, 00, 00, 00, 00, 00, 08, EB]</td>\n",
       "      <td>00000000000008EB</td>\n",
       "      <td>0</td>\n",
       "    </tr>\n",
       "    <tr>\n",
       "      <th>179342</th>\n",
       "      <td>1597707902</td>\n",
       "      <td>260</td>\n",
       "      <td>8</td>\n",
       "      <td>06391A30FFD1A163</td>\n",
       "      <td>Normal</td>\n",
       "      <td>[06, 39, 1A, 30, FF, D1, A1, 63]</td>\n",
       "      <td>06391A30FFD1A163</td>\n",
       "      <td>0</td>\n",
       "    </tr>\n",
       "    <tr>\n",
       "      <th>179343</th>\n",
       "      <td>1597707902</td>\n",
       "      <td>421</td>\n",
       "      <td>8</td>\n",
       "      <td>FE0700FFE37F009E</td>\n",
       "      <td>Normal</td>\n",
       "      <td>[FE, 07, 00, FF, E3, 7F, 00, 9E]</td>\n",
       "      <td>FE0700FFE37F009E</td>\n",
       "      <td>0</td>\n",
       "    </tr>\n",
       "    <tr>\n",
       "      <th>179344</th>\n",
       "      <td>1597707902</td>\n",
       "      <td>130</td>\n",
       "      <td>8</td>\n",
       "      <td>948EF08100000BAC</td>\n",
       "      <td>Normal</td>\n",
       "      <td>[94, 8E, F0, 81, 00, 00, 0B, AC]</td>\n",
       "      <td>948EF08100000BAC</td>\n",
       "      <td>0</td>\n",
       "    </tr>\n",
       "    <tr>\n",
       "      <th>179345</th>\n",
       "      <td>1597707902</td>\n",
       "      <td>140</td>\n",
       "      <td>8</td>\n",
       "      <td>3080006F20000B35</td>\n",
       "      <td>Normal</td>\n",
       "      <td>[30, 80, 00, 6F, 20, 00, 0B, 35]</td>\n",
       "      <td>3080006F20000B35</td>\n",
       "      <td>0</td>\n",
       "    </tr>\n",
       "  </tbody>\n",
       "</table>\n",
       "<p>179346 rows × 8 columns</p>\n",
       "</div>"
      ],
      "text/plain": [
       "         Timestamp Arbitration ID DLC              data   Class  \\\n",
       "0       1597707827            260   8  06250530FFCF7155  Normal   \n",
       "1       1597707827            329   8  4AC57E8C312D0110  Normal   \n",
       "2       1597707827            38D   8  00004900907FFE01  Normal   \n",
       "3       1597707827            420   8  501E00C8FC4F6A00  Normal   \n",
       "4       1597707827            421   8  FE0700FFE37F0052  Normal   \n",
       "...            ...            ...  ..               ...     ...   \n",
       "179341  1597707902            391   8  00000000000008EB  Normal   \n",
       "179342  1597707902            260   8  06391A30FFD1A163  Normal   \n",
       "179343  1597707902            421   8  FE0700FFE37F009E  Normal   \n",
       "179344  1597707902            130   8  948EF08100000BAC  Normal   \n",
       "179345  1597707902            140   8  3080006F20000B35  Normal   \n",
       "\n",
       "                            splited_data    converted_data  hamming_distance  \n",
       "0       [06, 25, 05, 30, FF, CF, 71, 55]  06250530FFCF7155                 0  \n",
       "1       [4A, C5, 7E, 8C, 31, 2D, 01, 10]  4AC57E8C312D0110                 0  \n",
       "2       [00, 00, 49, 00, 90, 7F, FE, 01]  00004900907FFE01                 0  \n",
       "3       [50, 1E, 00, C8, FC, 4F, 6A, 00]  501E00C8FC4F6A00                 0  \n",
       "4       [FE, 07, 00, FF, E3, 7F, 00, 52]  FE0700FFE37F0052                 0  \n",
       "...                                  ...               ...               ...  \n",
       "179341  [00, 00, 00, 00, 00, 00, 08, EB]  00000000000008EB                 0  \n",
       "179342  [06, 39, 1A, 30, FF, D1, A1, 63]  06391A30FFD1A163                 0  \n",
       "179343  [FE, 07, 00, FF, E3, 7F, 00, 9E]  FE0700FFE37F009E                 0  \n",
       "179344  [94, 8E, F0, 81, 00, 00, 0B, AC]  948EF08100000BAC                 0  \n",
       "179345  [30, 80, 00, 6F, 20, 00, 0B, 35]  3080006F20000B35                 0  \n",
       "\n",
       "[179346 rows x 8 columns]"
      ]
     },
     "execution_count": 49,
     "metadata": {},
     "output_type": "execute_result"
    }
   ],
   "source": [
    "normal_data_df"
   ]
  },
  {
   "cell_type": "code",
   "execution_count": 50,
   "metadata": {},
   "outputs": [
    {
     "name": "stderr",
     "output_type": "stream",
     "text": [
      "C:\\Users\\wlsrn\\anaconda3\\lib\\site-packages\\pandas\\core\\indexing.py:1637: SettingWithCopyWarning: \n",
      "A value is trying to be set on a copy of a slice from a DataFrame\n",
      "\n",
      "See the caveats in the documentation: https://pandas.pydata.org/pandas-docs/stable/user_guide/indexing.html#returning-a-view-versus-a-copy\n",
      "  self._setitem_single_block(indexer, value, name)\n"
     ]
    }
   ],
   "source": [
    "for i in range(len(normal_data_df) - 1):\n",
    "  normal_data_df['hamming_distance'].loc[i] = hamming(normal_data_df['splited_data'].loc[i], normal_data_df['splited_data'].loc[i+1]) * len(normal_data_df['splited_data'].loc[i])"
   ]
  },
  {
   "cell_type": "code",
   "execution_count": 52,
   "metadata": {},
   "outputs": [
    {
     "data": {
      "text/html": [
       "<div>\n",
       "<style scoped>\n",
       "    .dataframe tbody tr th:only-of-type {\n",
       "        vertical-align: middle;\n",
       "    }\n",
       "\n",
       "    .dataframe tbody tr th {\n",
       "        vertical-align: top;\n",
       "    }\n",
       "\n",
       "    .dataframe thead th {\n",
       "        text-align: right;\n",
       "    }\n",
       "</style>\n",
       "<table border=\"1\" class=\"dataframe\">\n",
       "  <thead>\n",
       "    <tr style=\"text-align: right;\">\n",
       "      <th></th>\n",
       "      <th>Timestamp</th>\n",
       "      <th>Arbitration ID</th>\n",
       "      <th>DLC</th>\n",
       "      <th>data</th>\n",
       "      <th>Class</th>\n",
       "      <th>splited_data</th>\n",
       "      <th>converted_data</th>\n",
       "      <th>hamming_distance</th>\n",
       "    </tr>\n",
       "  </thead>\n",
       "  <tbody>\n",
       "    <tr>\n",
       "      <th>0</th>\n",
       "      <td>1597707827</td>\n",
       "      <td>260</td>\n",
       "      <td>8</td>\n",
       "      <td>06250530FFCF7155</td>\n",
       "      <td>Normal</td>\n",
       "      <td>[06, 25, 05, 30, FF, CF, 71, 55]</td>\n",
       "      <td>06250530FFCF7155</td>\n",
       "      <td>8.0</td>\n",
       "    </tr>\n",
       "    <tr>\n",
       "      <th>1</th>\n",
       "      <td>1597707827</td>\n",
       "      <td>329</td>\n",
       "      <td>8</td>\n",
       "      <td>4AC57E8C312D0110</td>\n",
       "      <td>Normal</td>\n",
       "      <td>[4A, C5, 7E, 8C, 31, 2D, 01, 10]</td>\n",
       "      <td>4AC57E8C312D0110</td>\n",
       "      <td>8.0</td>\n",
       "    </tr>\n",
       "    <tr>\n",
       "      <th>2</th>\n",
       "      <td>1597707827</td>\n",
       "      <td>38D</td>\n",
       "      <td>8</td>\n",
       "      <td>00004900907FFE01</td>\n",
       "      <td>Normal</td>\n",
       "      <td>[00, 00, 49, 00, 90, 7F, FE, 01]</td>\n",
       "      <td>00004900907FFE01</td>\n",
       "      <td>8.0</td>\n",
       "    </tr>\n",
       "    <tr>\n",
       "      <th>3</th>\n",
       "      <td>1597707827</td>\n",
       "      <td>420</td>\n",
       "      <td>8</td>\n",
       "      <td>501E00C8FC4F6A00</td>\n",
       "      <td>Normal</td>\n",
       "      <td>[50, 1E, 00, C8, FC, 4F, 6A, 00]</td>\n",
       "      <td>501E00C8FC4F6A00</td>\n",
       "      <td>7.0</td>\n",
       "    </tr>\n",
       "    <tr>\n",
       "      <th>4</th>\n",
       "      <td>1597707827</td>\n",
       "      <td>421</td>\n",
       "      <td>8</td>\n",
       "      <td>FE0700FFE37F0052</td>\n",
       "      <td>Normal</td>\n",
       "      <td>[FE, 07, 00, FF, E3, 7F, 00, 52]</td>\n",
       "      <td>FE0700FFE37F0052</td>\n",
       "      <td>7.0</td>\n",
       "    </tr>\n",
       "  </tbody>\n",
       "</table>\n",
       "</div>"
      ],
      "text/plain": [
       "    Timestamp Arbitration ID DLC              data   Class  \\\n",
       "0  1597707827            260   8  06250530FFCF7155  Normal   \n",
       "1  1597707827            329   8  4AC57E8C312D0110  Normal   \n",
       "2  1597707827            38D   8  00004900907FFE01  Normal   \n",
       "3  1597707827            420   8  501E00C8FC4F6A00  Normal   \n",
       "4  1597707827            421   8  FE0700FFE37F0052  Normal   \n",
       "\n",
       "                       splited_data    converted_data  hamming_distance  \n",
       "0  [06, 25, 05, 30, FF, CF, 71, 55]  06250530FFCF7155               8.0  \n",
       "1  [4A, C5, 7E, 8C, 31, 2D, 01, 10]  4AC57E8C312D0110               8.0  \n",
       "2  [00, 00, 49, 00, 90, 7F, FE, 01]  00004900907FFE01               8.0  \n",
       "3  [50, 1E, 00, C8, FC, 4F, 6A, 00]  501E00C8FC4F6A00               7.0  \n",
       "4  [FE, 07, 00, FF, E3, 7F, 00, 52]  FE0700FFE37F0052               7.0  "
      ]
     },
     "execution_count": 52,
     "metadata": {},
     "output_type": "execute_result"
    }
   ],
   "source": [
    "normal_data_df.head()"
   ]
  },
  {
   "cell_type": "markdown",
   "metadata": {},
   "source": [
    "**abnormal dataset 가공**"
   ]
  },
  {
   "cell_type": "code",
   "execution_count": 53,
   "metadata": {},
   "outputs": [],
   "source": [
    "abnormal_data_df['splited_data'] = 0"
   ]
  },
  {
   "cell_type": "code",
   "execution_count": 54,
   "metadata": {},
   "outputs": [],
   "source": [
    "abnormal_data_df['converted_data'] = abnormal_data_df['data'].apply(convert)"
   ]
  },
  {
   "cell_type": "code",
   "execution_count": 55,
   "metadata": {},
   "outputs": [
    {
     "name": "stderr",
     "output_type": "stream",
     "text": [
      "C:\\Users\\wlsrn\\anaconda3\\lib\\site-packages\\pandas\\core\\indexing.py:1637: SettingWithCopyWarning: \n",
      "A value is trying to be set on a copy of a slice from a DataFrame\n",
      "\n",
      "See the caveats in the documentation: https://pandas.pydata.org/pandas-docs/stable/user_guide/indexing.html#returning-a-view-versus-a-copy\n",
      "  self._setitem_single_block(indexer, value, name)\n"
     ]
    }
   ],
   "source": [
    "for j in range(len(abnormal_data_df)):\n",
    "  abnormal_data_df['splited_data'].loc[j] = [abnormal_data_df['converted_data'].loc[j][i:i+2] for i in range(0, len(abnormal_data_df['converted_data'].loc[j]), 2)]"
   ]
  },
  {
   "cell_type": "code",
   "execution_count": 57,
   "metadata": {},
   "outputs": [
    {
     "data": {
      "text/plain": [
       "0         [20, A1, 10, FF, 00, FF, 50, 1F]\n",
       "1         [13, 24, 7F, 60, 05, FF, BF, 10]\n",
       "2         [00, 00, 00, 00, 08, 00, 00, 01]\n",
       "3         [00, 00, 00, 80, 16, 00, 00, 00]\n",
       "4         [FC, 03, 00, E4, B7, 21, FA, 3C]\n",
       "                        ...               \n",
       "806385    [00, 3B, 28, 0B, 3B, 30, 00, 01]\n",
       "806386    [00, 00, 00, 00, 05, 00, 00, 00]\n",
       "806387    [00, 00, 00, 00, 01, 28, 0B, 42]\n",
       "806388    [04, 7F, FF, FF, 00, 7B, 00, 26]\n",
       "806389    [00, 00, 00, 00, 00, 00, 00, 00]\n",
       "Name: splited_data, Length: 806390, dtype: object"
      ]
     },
     "execution_count": 57,
     "metadata": {},
     "output_type": "execute_result"
    }
   ],
   "source": [
    "abnormal_data_df['splited_data']"
   ]
  },
  {
   "cell_type": "code",
   "execution_count": 58,
   "metadata": {},
   "outputs": [],
   "source": [
    "abnormal_data_df['hamming_distance'] = 0"
   ]
  },
  {
   "cell_type": "code",
   "execution_count": 59,
   "metadata": {},
   "outputs": [
    {
     "name": "stderr",
     "output_type": "stream",
     "text": [
      "C:\\Users\\wlsrn\\anaconda3\\lib\\site-packages\\pandas\\core\\indexing.py:1637: SettingWithCopyWarning: \n",
      "A value is trying to be set on a copy of a slice from a DataFrame\n",
      "\n",
      "See the caveats in the documentation: https://pandas.pydata.org/pandas-docs/stable/user_guide/indexing.html#returning-a-view-versus-a-copy\n",
      "  self._setitem_single_block(indexer, value, name)\n"
     ]
    }
   ],
   "source": [
    "for i in range(len(abnormal_data_df) - 1):\n",
    "  abnormal_data_df['hamming_distance'].loc[i] = hamming(abnormal_data_df['splited_data'].loc[i], abnormal_data_df['splited_data'].loc[i+1]) * len(abnormal_data_df['splited_data'].loc[i])"
   ]
  },
  {
   "cell_type": "code",
   "execution_count": 60,
   "metadata": {},
   "outputs": [
    {
     "data": {
      "text/plain": [
       "0         7.0\n",
       "1         8.0\n",
       "2         3.0\n",
       "3         7.0\n",
       "4         8.0\n",
       "         ... \n",
       "806385    6.0\n",
       "806386    4.0\n",
       "806387    8.0\n",
       "806388    6.0\n",
       "806389    0.0\n",
       "Name: hamming_distance, Length: 806390, dtype: float64"
      ]
     },
     "execution_count": 60,
     "metadata": {},
     "output_type": "execute_result"
    }
   ],
   "source": [
    "abnormal_data_df['hamming_distance']"
   ]
  },
  {
   "cell_type": "code",
   "execution_count": 91,
   "metadata": {},
   "outputs": [],
   "source": [
    "def get_splited_arbid_seq_by_wnd(hamming_seq, window_size=3):\n",
    "  splited = np.lib.stride_tricks.as_strided(hamming_seq, shape=(np.size(hamming_seq)-window_size+1, window_size), strides=(hamming_seq.strides[0],hamming_seq.strides[0]))\n",
    "  return splited"
   ]
  },
  {
   "cell_type": "code",
   "execution_count": 92,
   "metadata": {},
   "outputs": [],
   "source": [
    "train_ham_seq = normal_data_df['hamming_distance'].to_numpy()\n",
    "test_ham_seq = abnormal_data_df['hamming_distance'].to_numpy()"
   ]
  },
  {
   "cell_type": "code",
   "execution_count": 93,
   "metadata": {},
   "outputs": [
    {
     "name": "stdout",
     "output_type": "stream",
     "text": [
      "179346\n",
      "806390\n"
     ]
    }
   ],
   "source": [
    "print(len(train_ham_seq))\n",
    "print(len(test_ham_seq))"
   ]
  },
  {
   "cell_type": "code",
   "execution_count": 94,
   "metadata": {},
   "outputs": [],
   "source": [
    "tr_set = get_splited_arbid_seq_by_wnd(train_ham_seq)\n",
    "te_set = get_splited_arbid_seq_by_wnd(test_ham_seq)"
   ]
  },
  {
   "cell_type": "code",
   "execution_count": 95,
   "metadata": {},
   "outputs": [],
   "source": [
    "import hmmlearn.hmm as hmm"
   ]
  },
  {
   "cell_type": "code",
   "execution_count": 96,
   "metadata": {},
   "outputs": [
    {
     "name": "stdout",
     "output_type": "stream",
     "text": [
      "179344\n",
      "806388\n"
     ]
    }
   ],
   "source": [
    "print(len(tr_set))\n",
    "print(len(te_set))"
   ]
  },
  {
   "cell_type": "code",
   "execution_count": 97,
   "metadata": {},
   "outputs": [],
   "source": [
    "tr_set_size = len(tr_set)\n",
    "te_set_size = len(te_set)"
   ]
  },
  {
   "cell_type": "code",
   "execution_count": 1,
   "metadata": {},
   "outputs": [
    {
     "ename": "NameError",
     "evalue": "name 'hmm' is not defined",
     "output_type": "error",
     "traceback": [
      "\u001b[1;31m---------------------------------------------------------------------------\u001b[0m",
      "\u001b[1;31mNameError\u001b[0m                                 Traceback (most recent call last)",
      "\u001b[1;32m<ipython-input-1-30b347455344>\u001b[0m in \u001b[0;36m<module>\u001b[1;34m\u001b[0m\n\u001b[1;32m----> 1\u001b[1;33m \u001b[0mh\u001b[0m \u001b[1;33m=\u001b[0m \u001b[0mhmm\u001b[0m\u001b[1;33m.\u001b[0m\u001b[0mGaussianHMM\u001b[0m\u001b[1;33m(\u001b[0m\u001b[1;36m2\u001b[0m\u001b[1;33m)\u001b[0m \u001b[1;31m# 모델 파라미터 설정, 모델링 객체 생성\u001b[0m\u001b[1;33m\u001b[0m\u001b[1;33m\u001b[0m\u001b[0m\n\u001b[0m\u001b[0;32m      2\u001b[0m \u001b[0mprint\u001b[0m\u001b[1;33m(\u001b[0m\u001b[1;34m'--------------------'\u001b[0m\u001b[1;33m)\u001b[0m\u001b[1;33m\u001b[0m\u001b[1;33m\u001b[0m\u001b[0m\n\u001b[0;32m      3\u001b[0m \u001b[0mh\u001b[0m\u001b[1;33m.\u001b[0m\u001b[0mfit\u001b[0m\u001b[1;33m(\u001b[0m\u001b[0mtr_set\u001b[0m\u001b[1;33m)\u001b[0m \u001b[1;31m# 학습진행\u001b[0m\u001b[1;33m\u001b[0m\u001b[1;33m\u001b[0m\u001b[0m\n\u001b[0;32m      4\u001b[0m \u001b[0mprint\u001b[0m\u001b[1;33m(\u001b[0m\u001b[0mh\u001b[0m\u001b[1;33m.\u001b[0m\u001b[0mscore\u001b[0m\u001b[1;33m(\u001b[0m\u001b[0mtr_set\u001b[0m\u001b[1;33m)\u001b[0m\u001b[1;33m)\u001b[0m \u001b[1;31m# log(foward prob)\u001b[0m\u001b[1;33m\u001b[0m\u001b[1;33m\u001b[0m\u001b[0m\n\u001b[0;32m      5\u001b[0m \u001b[0mprint\u001b[0m\u001b[1;33m(\u001b[0m\u001b[0mh\u001b[0m\u001b[1;33m.\u001b[0m\u001b[0mscore\u001b[0m\u001b[1;33m(\u001b[0m\u001b[0mte_set\u001b[0m\u001b[1;33m)\u001b[0m\u001b[1;33m/\u001b[0m\u001b[1;33m(\u001b[0m\u001b[0mte_set_size\u001b[0m\u001b[1;33m/\u001b[0m\u001b[0mtr_set_size\u001b[0m\u001b[1;33m)\u001b[0m\u001b[1;33m)\u001b[0m\u001b[1;33m\u001b[0m\u001b[1;33m\u001b[0m\u001b[0m\n",
      "\u001b[1;31mNameError\u001b[0m: name 'hmm' is not defined"
     ]
    }
   ],
   "source": [
    "h = hmm.GaussianHMM(2) # 모델 파라미터 설정, 모델링 객체 생성\n",
    "print('--------------------')\n",
    "h.fit(tr_set) # 학습진행\n",
    "print(h.score(tr_set)) # log(foward prob)\n",
    "print(h.score(te_set)/(te_set_size/tr_set_size))\n",
    "print('--------------------')\n",
    "print(h.startprob_)\n",
    "print(h.transmat_)"
   ]
  },
  {
   "cell_type": "code",
   "execution_count": 99,
   "metadata": {},
   "outputs": [
    {
     "name": "stdout",
     "output_type": "stream",
     "text": [
      "--------------------\n",
      "-826898.8899274276\n",
      "-870018.7437751665\n",
      "--------------------\n",
      "[1.00000000e+00 5.55273230e-15 4.78199402e-29]\n",
      "[[8.29994249e-01 4.62881512e-07 1.70005289e-01]\n",
      " [5.57901790e-01 3.77006758e-01 6.50914517e-02]\n",
      " [2.63255709e-08 5.00290597e-01 4.99709377e-01]]\n"
     ]
    }
   ],
   "source": [
    "h = hmm.GaussianHMM(3) # 모델 파라미터 설정, 모델링 객체 생성\n",
    "print('--------------------')\n",
    "h.fit(tr_set) # 학습진행\n",
    "print(h.score(tr_set)) # log(foward prob)\n",
    "print(h.score(te_set)/(te_set_size/tr_set_size))\n",
    "print('--------------------')\n",
    "print(h.startprob_)\n",
    "print(h.transmat_)"
   ]
  },
  {
   "cell_type": "code",
   "execution_count": 72,
   "metadata": {},
   "outputs": [
    {
     "name": "stdout",
     "output_type": "stream",
     "text": [
      "--------------------\n",
      "-1374846.1310721096\n",
      "-1454209.9680619794\n",
      "--------------------\n",
      "[1.00000000e+00 3.28177901e-27 6.62318111e-15 5.65322935e-38]\n",
      "[[8.22765704e-01 1.77233184e-01 1.11176760e-06 1.02686214e-10]\n",
      " [2.29333907e-06 4.55433407e-01 5.67724543e-10 5.44564299e-01]\n",
      " [4.29041859e-01 1.26268249e-01 4.44689875e-01 1.66387946e-08]\n",
      " [2.99172079e-11 1.12381937e-03 5.18401162e-01 4.80475019e-01]]\n"
     ]
    }
   ],
   "source": [
    "h = hmm.GaussianHMM(4) # 모델 파라미터 설정, 모델링 객체 생성\n",
    "print('--------------------')\n",
    "h.fit(tr_set) # 학습진행\n",
    "print(h.score(tr_set)) # log(foward prob)\n",
    "print(h.score(te_set)/(te_set_size/tr_set_size))\n",
    "print('--------------------')\n",
    "print(h.startprob_)\n",
    "print(h.transmat_)"
   ]
  },
  {
   "cell_type": "code",
   "execution_count": null,
   "metadata": {},
   "outputs": [],
   "source": [
    "V = "
   ]
  }
 ],
 "metadata": {
  "interpreter": {
   "hash": "e1cccd04e85b6896c0b444fb4c711c31b631e3aead8bbe915e9db3696d19a850"
  },
  "kernelspec": {
   "display_name": "Python 3.8.8 64-bit ('base': conda)",
   "language": "python",
   "name": "python3"
  },
  "language_info": {
   "codemirror_mode": {
    "name": "ipython",
    "version": 3
   },
   "file_extension": ".py",
   "mimetype": "text/x-python",
   "name": "python",
   "nbconvert_exporter": "python",
   "pygments_lexer": "ipython3",
   "version": "3.8.8"
  },
  "orig_nbformat": 4
 },
 "nbformat": 4,
 "nbformat_minor": 2
}
