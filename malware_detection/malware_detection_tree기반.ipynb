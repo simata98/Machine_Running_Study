version https://git-lfs.github.com/spec/v1
oid sha256:49a033455159f85fe428f8ae803128c334acf92ef82e2b3eb95346be7325a4ab
size 109679
