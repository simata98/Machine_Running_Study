{
 "cells": [
  {
   "cell_type": "code",
   "execution_count": 3,
   "metadata": {},
   "outputs": [],
   "source": [
    "import os\n",
    "os.environ['TF_CPP_MIN_LOG_LEVEL'] = '3'\n",
    "\n",
    "from pathlib import Path\n",
    "import numpy as np\n",
    "from matplotlib import pyplot as plt\n",
    "from sklearn import metrics\n",
    "from sklearn.model_selection import train_test_split\n",
    "from tensorflow.keras.preprocessing.text import Tokenizer\n",
    "from tensorflow.keras.preprocessing.sequence import pad_sequences\n",
    "from tensorflow.keras.models import Sequential\n",
    "from tensorflow.keras.layers import Dense, Embedding, LSTM, SpatialDropout1D, Bidirectional\n",
    "from tensorflow.keras.callbacks import ModelCheckpoint\n",
    "import itertools \n"
   ]
  },
  {
   "cell_type": "code",
   "execution_count": 4,
   "metadata": {},
   "outputs": [],
   "source": [
    "corpus = list()\n",
    "labels = list()\n",
    "\n",
    "with open(Path('all_benign.txt'), 'r') as f:\n",
    "  lines = f.read().split('\\n')[:-1]\n",
    "  # print(lines[0][33:])\n",
    "for line in lines:\n",
    "  doc = line[33:]\n",
    "  corpus.append(doc)\n",
    "  labels.append(0)\n",
    "\n",
    "with open(Path('all_malware.txt'), 'r') as f:\n",
    "  lines = f.read().split('\\n')[:-1]\n",
    "  # print(lines[0][33:])\n",
    "for line in lines:\n",
    "  doc = line[33:]\n",
    "  corpus.append(doc)\n",
    "  labels.append(1)"
   ]
  },
  {
   "cell_type": "code",
   "execution_count": 5,
   "metadata": {},
   "outputs": [],
   "source": [
    "y = np.array(labels)"
   ]
  },
  {
   "cell_type": "code",
   "execution_count": 6,
   "metadata": {},
   "outputs": [],
   "source": [
    "from sklearn.feature_extraction.text import CountVectorizer\n",
    "cv1 = CountVectorizer()\n",
    "X1 = cv1.fit_transform(corpus).toarray()\n",
    "cv2 = CountVectorizer(ngram_range=(2,2))\n",
    "X2 = cv2.fit_transform(corpus).toarray()\n",
    "cv3 = CountVectorizer(ngram_range=(3,3))\n",
    "X3 = cv3.fit_transform(corpus).toarray()"
   ]
  },
  {
   "cell_type": "code",
   "execution_count": 16,
   "metadata": {},
   "outputs": [],
   "source": [
    "from sklearn.model_selection import train_test_split\n",
    "\n",
    "X11_train, X11_test, y11_train, y11_test = train_test_split(X1, y, test_size = 0.25, random_state = 0)\n",
    "X21_train, X21_test, y21_train, y21_test = train_test_split(X2, y, test_size = 0.25, random_state = 0)\n",
    "X31_train, X31_test, y31_train, y31_test = train_test_split(X3, y, test_size = 0.25, random_state = 0)"
   ]
  },
  {
   "cell_type": "code",
   "execution_count": 17,
   "metadata": {},
   "outputs": [],
   "source": [
    "v1=np.array(X1).astype(np.float32)\n",
    "for i in range(len(corpus)):\n",
    "    s=sum(X1[i])\n",
    "    v1[i]=((X1[i]/s)*100).astype(np.float32)\n",
    "    \n",
    "X12_train, X12_test, y12_train, y12_test = train_test_split(v1, y, test_size = 0.1, random_state = 0)\n",
    "\n",
    "v2=np.array(X2).astype(np.float32)\n",
    "for i in range(len(corpus)):\n",
    "    s=sum(X2[i])\n",
    "    v2[i]=((X2[i]/s)*100).astype(np.float32)\n",
    "\n",
    "X22_train, X22_test, y22_train, y22_test = train_test_split(v2, y, test_size = 0.1, random_state = 0)\n",
    "\n",
    "v3=np.array(X3).astype(np.float32)\n",
    "for i in range(len(corpus)):\n",
    "    s=sum(X3[i])\n",
    "    v3[i]=((X3[i]/s)*100).astype(np.float32)\n",
    "\n",
    "X32_train, X32_test, y32_train, y32_test = train_test_split(v3, y, test_size = 0.1, random_state = 0)"
   ]
  },
  {
   "cell_type": "code",
   "execution_count": 18,
   "metadata": {},
   "outputs": [],
   "source": [
    "from sklearn.metrics import confusion_matrix\n",
    "from sklearn.metrics import accuracy_score"
   ]
  },
  {
   "cell_type": "code",
   "execution_count": 20,
   "metadata": {},
   "outputs": [
    {
     "name": "stdout",
     "output_type": "stream",
     "text": [
      "GB \n",
      "\n",
      "[[ 46 307]\n",
      " [ 20 327]]\n",
      "              precision    recall  f1-score   support\n",
      "\n",
      "           0     0.6970    0.1303    0.2196       353\n",
      "           1     0.5158    0.9424    0.6667       347\n",
      "\n",
      "    accuracy                         0.5329       700\n",
      "   macro avg     0.6064    0.5363    0.4431       700\n",
      "weighted avg     0.6071    0.5329    0.4412       700\n",
      "\n",
      "0.5328571428571428\n",
      "\n",
      "\n",
      "[[341  12]\n",
      " [264  83]]\n",
      "              precision    recall  f1-score   support\n",
      "\n",
      "           0     0.5636    0.9660    0.7119       353\n",
      "           1     0.8737    0.2392    0.3756       347\n",
      "\n",
      "    accuracy                         0.6057       700\n",
      "   macro avg     0.7187    0.6026    0.5437       700\n",
      "weighted avg     0.7173    0.6057    0.5452       700\n",
      "\n",
      "0.6057142857142858\n",
      "\n",
      "\n",
      "[[ 49 304]\n",
      " [ 13 334]]\n",
      "              precision    recall  f1-score   support\n",
      "\n",
      "           0     0.7903    0.1388    0.2361       353\n",
      "           1     0.5235    0.9625    0.6782       347\n",
      "\n",
      "    accuracy                         0.5471       700\n",
      "   macro avg     0.6569    0.5507    0.4572       700\n",
      "weighted avg     0.6581    0.5471    0.4553       700\n",
      "\n",
      "0.5471428571428572\n",
      "\n",
      "\n",
      "[[332  21]\n",
      " [231 116]]\n",
      "              precision    recall  f1-score   support\n",
      "\n",
      "           0     0.5897    0.9405    0.7249       353\n",
      "           1     0.8467    0.3343    0.4793       347\n",
      "\n",
      "    accuracy                         0.6400       700\n",
      "   macro avg     0.7182    0.6374    0.6021       700\n",
      "weighted avg     0.7171    0.6400    0.6032       700\n",
      "\n",
      "0.64\n",
      "\n",
      "\n"
     ]
    }
   ],
   "source": [
    "print(\"GB \\n\")\n",
    "\n",
    "from sklearn.naive_bayes import GaussianNB\n",
    "classifierGB11 = GaussianNB()\n",
    "classifierGB11.fit(X11_train, y11_train)\n",
    "y11_pred = classifierGB11.predict(X11_test)\n",
    "cm11 = confusion_matrix(y11_test, y11_pred)\n",
    "print(cm11)\n",
    "print(metrics.classification_report(y11_test, y11_pred, digits=4))\n",
    "print(accuracy_score(y11_test, y11_pred))\n",
    "print('\\n')\n",
    "\n",
    "classifierGB12 = GaussianNB()\n",
    "classifierGB12.fit(X12_train, y12_train)\n",
    "y12_pred = classifierGB12.predict(X12_test)\n",
    "cm12 = confusion_matrix(y12_test, y12_pred)\n",
    "print(cm12)\n",
    "print(metrics.classification_report(y12_test, y12_pred, digits=4))\n",
    "print(accuracy_score(y12_test, y12_pred))\n",
    "print('\\n')"
   ]
  },
  {
   "cell_type": "code",
   "execution_count": null,
   "metadata": {},
   "outputs": [],
   "source": [
    "classifierGB21 = GaussianNB()\n",
    "classifierGB21.fit(X21_train, y21_train)\n",
    "y21_pred = classifierGB21.predict(X21_test)\n",
    "cm21 = confusion_matrix(y21_test, y21_pred)\n",
    "print(cm21)\n",
    "print(metrics.classification_report(y21_test, y21_pred, digits=4))\n",
    "print(accuracy_score(y21_test, y21_pred))\n",
    "print('\\n')\n",
    "\n",
    "classifierGB22 = GaussianNB()\n",
    "classifierGB22.fit(X22_train, y22_train)\n",
    "y22_pred = classifierGB22.predict(X22_test)\n",
    "cm22 = confusion_matrix(y22_test, y22_pred)\n",
    "print(cm22)\n",
    "print(metrics.classification_report(y22_test, y22_pred, digits=4))\n",
    "print(accuracy_score(y22_test, y22_pred))\n",
    "print('\\n')"
   ]
  },
  {
   "cell_type": "code",
   "execution_count": null,
   "metadata": {},
   "outputs": [],
   "source": [
    "classifierGB31 = GaussianNB()\n",
    "classifierGB31.fit(X31_train, y31_train)\n",
    "y31_pred = classifierGB31.predict(X31_test)\n",
    "cm31 = confusion_matrix(y31_test, y31_pred)\n",
    "print(cm31)\n",
    "print(metrics.classification_report(y21_test, y21_pred, digits=4))\n",
    "print(accuracy_score(y21_test, y21_pred))\n",
    "print('\\n')\n",
    "\n",
    "classifierGB22 = GaussianNB()\n",
    "classifierGB22.fit(X22_train, y22_train)\n",
    "y22_pred = classifierGB22.predict(X22_test)\n",
    "cm22 = confusion_matrix(y22_test, y22_pred)\n",
    "print(cm22)\n",
    "print(metrics.classification_report(y22_test, y22_pred, digits=4))\n",
    "print(accuracy_score(y22_test, y22_pred))\n",
    "print('\\n')\n",
    "\n",
    "print(\"RF \\n\")"
   ]
  },
  {
   "cell_type": "code",
   "execution_count": null,
   "metadata": {},
   "outputs": [],
   "source": [
    "from sklearn.svm import SVC"
   ]
  },
  {
   "cell_type": "code",
   "execution_count": null,
   "metadata": {},
   "outputs": [],
   "source": [
    "classifiersvc11 = SVC(kernel = 'linear', random_state = 0)\n",
    "classifiersvc11.fit(X11_train, y11_train)\n",
    "classifiersvc12= SVC(kernel = 'linear', random_state = 0)\n",
    "classifiersvc12.fit(X12_train, y12_train)"
   ]
  },
  {
   "cell_type": "code",
   "execution_count": null,
   "metadata": {},
   "outputs": [],
   "source": [
    "classifiersvc21 = SVC(kernel = 'linear', random_state = 0)\n",
    "classifiersvc21.fit(X21_train, y21_train)\n",
    "classifiersvc22 = SVC(kernel = 'linear', random_state = 0)\n",
    "classifiersvc22.fit(X22_train, y22_train)"
   ]
  },
  {
   "cell_type": "code",
   "execution_count": null,
   "metadata": {},
   "outputs": [],
   "source": [
    "classifiersvc31 = SVC(kernel = 'linear', random_state = 0)\n",
    "classifiersvc31.fit(X31_train, y31_train)\n",
    "classifiersvc32 = SVC(kernel = 'linear', random_state = 0)\n",
    "classifiersvc32.fit(X32_train, y32_train)"
   ]
  },
  {
   "cell_type": "code",
   "execution_count": null,
   "metadata": {},
   "outputs": [],
   "source": [
    "ysvc11_pred=classifiersvc11.predict(X11_test)\n",
    "ysvc12_pred=classifiersvc12.predict(X12_test)"
   ]
  },
  {
   "cell_type": "code",
   "execution_count": null,
   "metadata": {},
   "outputs": [],
   "source": [
    "ysvc21_pred=classifiersvc21.predict(X21_test)\n",
    "ysvc22_pred=classifiersvc22.predict(X22_test)"
   ]
  },
  {
   "cell_type": "code",
   "execution_count": null,
   "metadata": {},
   "outputs": [],
   "source": [
    "ysvc31_pred=classifiersvc31.predict(X31_test)\n",
    "ysvc32_pred=classifiersvc32.predict(X32_test)"
   ]
  },
  {
   "cell_type": "code",
   "execution_count": null,
   "metadata": {},
   "outputs": [],
   "source": [
    "cm11 = confusion_matrix(y11_test, ysvc11_pred)\n",
    "print(cm11)\n",
    "print(accuracy_score(y11_test, ysvc11_pred))\n",
    "print('\\n')\n",
    "cm12 = confusion_matrix(y12_test, ysvc12_pred)\n",
    "print(cm12)\n",
    "print('\\n')\n",
    "print(accuracy_score(y12_test, ysvc12_pred))"
   ]
  },
  {
   "cell_type": "code",
   "execution_count": null,
   "metadata": {},
   "outputs": [],
   "source": [
    "cm21 = confusion_matrix(y21_test, ysvc21_pred)\n",
    "print(cm21)\n",
    "print('\\n')\n",
    "print(accuracy_score(y21_test, ysvc21_pred))\n",
    "cm22 = confusion_matrix(y22_test, ysvc22_pred)\n",
    "print(cm22)\n",
    "print(accuracy_score(y22_test, ysvc22_pred))\n",
    "print('\\n')"
   ]
  },
  {
   "cell_type": "code",
   "execution_count": null,
   "metadata": {},
   "outputs": [],
   "source": [
    "cm31 = confusion_matrix(y31_test, ysvc31_pred)\n",
    "print(cm31)\n",
    "print('\\n')\n",
    "print(accuracy_score(y31_test, ysvc31_pred))\n",
    "cm32 = confusion_matrix(y32_test, ysvc32_pred)\n",
    "print(cm32)\n",
    "print(accuracy_score(y32_test, ysvc32_pred))\n",
    "print('\\n')"
   ]
  },
  {
   "cell_type": "code",
   "execution_count": 15,
   "metadata": {},
   "outputs": [
    {
     "name": "stdout",
     "output_type": "stream",
     "text": [
      "RF \n",
      "\n",
      "[[340  13]\n",
      " [ 35 312]]\n",
      "              precision    recall  f1-score   support\n",
      "\n",
      "           0     0.9067    0.9632    0.9341       353\n",
      "           1     0.9600    0.8991    0.9286       347\n",
      "\n",
      "    accuracy                         0.9314       700\n",
      "   macro avg     0.9333    0.9312    0.9313       700\n",
      "weighted avg     0.9331    0.9314    0.9313       700\n",
      "\n",
      "0.9314285714285714\n",
      "\n",
      "\n",
      "[[340  13]\n",
      " [ 32 315]]\n",
      "              precision    recall  f1-score   support\n",
      "\n",
      "           0     0.9140    0.9632    0.9379       353\n",
      "           1     0.9604    0.9078    0.9333       347\n",
      "\n",
      "    accuracy                         0.9357       700\n",
      "   macro avg     0.9372    0.9355    0.9356       700\n",
      "weighted avg     0.9370    0.9357    0.9357       700\n",
      "\n",
      "0.9357142857142857\n",
      "\n",
      "\n",
      "[[345   8]\n",
      " [ 31 316]]\n",
      "              precision    recall  f1-score   support\n",
      "\n",
      "           0     0.9176    0.9773    0.9465       353\n",
      "           1     0.9753    0.9107    0.9419       347\n",
      "\n",
      "    accuracy                         0.9443       700\n",
      "   macro avg     0.9464    0.9440    0.9442       700\n",
      "weighted avg     0.9462    0.9443    0.9442       700\n",
      "\n",
      "0.9442857142857143\n",
      "\n",
      "\n",
      "[[344   9]\n",
      " [ 32 315]]\n",
      "              precision    recall  f1-score   support\n",
      "\n",
      "           0     0.9149    0.9745    0.9438       353\n",
      "           1     0.9722    0.9078    0.9389       347\n",
      "\n",
      "    accuracy                         0.9414       700\n",
      "   macro avg     0.9436    0.9411    0.9413       700\n",
      "weighted avg     0.9433    0.9414    0.9413       700\n",
      "\n",
      "0.9414285714285714\n",
      "\n",
      "\n"
     ]
    }
   ],
   "source": [
    "\n",
    "from sklearn.ensemble import RandomForestClassifier\n",
    "\n",
    "classifierrf11 = RandomForestClassifier(n_estimators = 150, criterion = 'entropy', random_state = 0)\n",
    "classifierrf11.fit(X11_train, y11_train)\n",
    "classifierrf12= RandomForestClassifier(n_estimators = 150, criterion = 'entropy', random_state = 0)\n",
    "classifierrf12.fit(X12_train, y12_train)"
   ]
  },
  {
   "cell_type": "code",
   "execution_count": null,
   "metadata": {},
   "outputs": [],
   "source": [
    "classifierrf21 = RandomForestClassifier(n_estimators = 150, criterion = 'entropy', random_state = 0)\n",
    "classifierrf21.fit(X21_train, y21_train)\n",
    "classifierrf22 = RandomForestClassifier(n_estimators = 150, criterion = 'entropy', random_state = 0)\n",
    "classifierrf22.fit(X22_train, y22_train)"
   ]
  },
  {
   "cell_type": "code",
   "execution_count": null,
   "metadata": {},
   "outputs": [],
   "source": [
    "classifierrf31 = RandomForestClassifier(n_estimators = 150, criterion = 'entropy', random_state = 0)\n",
    "classifierrf31.fit(X31_train, y31_train)\n",
    "classifierrf32 = RandomForestClassifier(n_estimators = 150, criterion = 'entropy', random_state = 0)\n",
    "classifierrf32.fit(X32_train, y32_train)"
   ]
  },
  {
   "cell_type": "code",
   "execution_count": null,
   "metadata": {},
   "outputs": [],
   "source": [
    "yrf11_pred=classifierrf11.predict(X11_test)\n",
    "yrf12_pred=classifierrf12.predict(X12_test)\n",
    "yrf21_pred=classifierrf21.predict(X21_test)\n",
    "yrf22_pred=classifierrf22.predict(X22_test)\n",
    "yrf31_pred=classifierrf31.predict(X31_test)\n",
    "yrf32_pred=classifierrf32.predict(X32_test)"
   ]
  },
  {
   "cell_type": "code",
   "execution_count": null,
   "metadata": {},
   "outputs": [],
   "source": [
    "cm11 = confusion_matrix(y11_test, yrf11_pred)\n",
    "print(cm11)\n",
    "print(metrics.classification_report(y11_test, yrf11_pred, digits=4))\n",
    "print(accuracy_score(y11_test, yrf11_pred))\n",
    "print('\\n')\n",
    "cm12 = confusion_matrix(y12_test, yrf12_pred)\n",
    "print(cm12)\n",
    "print(metrics.classification_report(y12_test, yrf12_pred, digits=4))\n",
    "print(accuracy_score(y12_test, yrf12_pred))\n",
    "print('\\n')"
   ]
  },
  {
   "cell_type": "code",
   "execution_count": null,
   "metadata": {},
   "outputs": [],
   "source": [
    "cm21 = confusion_matrix(y21_test, yrf21_pred)\n",
    "print(cm21)\n",
    "print(metrics.classification_report(y21_test, yrf21_pred, digits=4))\n",
    "print(accuracy_score(y21_test, yrf21_pred))\n",
    "print('\\n')\n",
    "cm22 = confusion_matrix(y22_test, yrf22_pred)\n",
    "print(cm22)\n",
    "print(metrics.classification_report(y22_test, yrf22_pred, digits=4))\n",
    "print(accuracy_score(y22_test, yrf22_pred))\n",
    "print('\\n')"
   ]
  },
  {
   "cell_type": "code",
   "execution_count": null,
   "metadata": {},
   "outputs": [],
   "source": [
    "cm31 = confusion_matrix(y31_test, yrf31_pred)\n",
    "print(cm31)\n",
    "print(metrics.classification_report(y31_test, yrf31_pred, digits=4))\n",
    "print(accuracy_score(y31_test, yrf31_pred))\n",
    "print('\\n')\n",
    "cm32 = confusion_matrix(y32_test, yrf32_pred)\n",
    "print(cm32)\n",
    "print(metrics.classification_report(y32_test, yrf32_pred, digits=4))\n",
    "print(accuracy_score(y32_test, yrf32_pred))\n",
    "print('\\n')"
   ]
  },
  {
   "cell_type": "code",
   "execution_count": 27,
   "metadata": {},
   "outputs": [
    {
     "name": "stdout",
     "output_type": "stream",
     "text": [
      "SVM \n",
      "\n",
      "[[65 87]\n",
      " [34 94]]\n",
      "              precision    recall  f1-score   support\n",
      "\n",
      "           0     0.6566    0.4276    0.5179       152\n",
      "           1     0.5193    0.7344    0.6084       128\n",
      "\n",
      "    accuracy                         0.5679       280\n",
      "   macro avg     0.5880    0.5810    0.5632       280\n",
      "weighted avg     0.5938    0.5679    0.5593       280\n",
      "\n",
      "0.5678571428571428\n",
      "\n",
      "\n",
      "[[119  33]\n",
      " [ 47  81]]\n",
      "              precision    recall  f1-score   support\n",
      "\n",
      "           0     0.7169    0.7829    0.7484       152\n",
      "           1     0.7105    0.6328    0.6694       128\n",
      "\n",
      "    accuracy                         0.7143       280\n",
      "   macro avg     0.7137    0.7079    0.7089       280\n",
      "weighted avg     0.7140    0.7143    0.7123       280\n",
      "\n",
      "0.7142857142857143\n",
      "\n",
      "\n",
      "[[ 64  88]\n",
      " [ 14 114]]\n",
      "              precision    recall  f1-score   support\n",
      "\n",
      "           0     0.8205    0.4211    0.5565       152\n",
      "           1     0.5644    0.8906    0.6909       128\n",
      "\n",
      "    accuracy                         0.6357       280\n",
      "   macro avg     0.6924    0.6558    0.6237       280\n",
      "weighted avg     0.7034    0.6357    0.6180       280\n",
      "\n",
      "0.6357142857142857\n",
      "\n",
      "\n",
      "[[133  19]\n",
      " [ 27 101]]\n",
      "              precision    recall  f1-score   support\n",
      "\n",
      "           0     0.8313    0.8750    0.8526       152\n",
      "           1     0.8417    0.7891    0.8145       128\n",
      "\n",
      "    accuracy                         0.8357       280\n",
      "   macro avg     0.8365    0.8320    0.8335       280\n",
      "weighted avg     0.8360    0.8357    0.8352       280\n",
      "\n",
      "0.8357142857142857\n",
      "\n",
      "\n"
     ]
    }
   ],
   "source": [
    "classifiersvm11 = SVC(kernel = 'rbf', random_state = 0)\n",
    "classifiersvm11.fit(X11_train, y11_train)\n",
    "classifiersvm12= SVC(kernel = 'rbf', random_state = 0)\n",
    "classifiersvm12.fit(X12_train, y12_train)"
   ]
  },
  {
   "cell_type": "code",
   "execution_count": null,
   "metadata": {},
   "outputs": [],
   "source": [
    "classifiersvm21 = SVC(kernel = 'rbf', random_state = 0)\n",
    "classifiersvm21.fit(X21_train, y21_train)\n",
    "classifiersvm22 = SVC(kernel = 'rbf', random_state = 0)\n",
    "classifiersvm22.fit(X22_train, y22_train)"
   ]
  },
  {
   "cell_type": "code",
   "execution_count": null,
   "metadata": {},
   "outputs": [],
   "source": [
    "classifiersvm31 = SVC(kernel = 'rbf', random_state = 0)\n",
    "classifiersvm31.fit(X31_train, y31_train)\n",
    "classifiersvm32 = SVC(kernel = 'rbf', random_state = 0)\n",
    "classifiersvm32.fit(X32_train, y32_train)"
   ]
  },
  {
   "cell_type": "code",
   "execution_count": null,
   "metadata": {},
   "outputs": [],
   "source": [
    "ysvm11_pred=classifiersvm11.predict(X11_test)\n",
    "ysvm12_pred=classifiersvm12.predict(X12_test)"
   ]
  },
  {
   "cell_type": "code",
   "execution_count": null,
   "metadata": {},
   "outputs": [],
   "source": [
    "ysvm21_pred=classifiersvm21.predict(X21_test)\n",
    "ysvm22_pred=classifiersvm22.predict(X22_test)"
   ]
  },
  {
   "cell_type": "code",
   "execution_count": null,
   "metadata": {},
   "outputs": [],
   "source": [
    "ysvm31_pred=classifiersvm31.predict(X31_test)\n",
    "ysvm32_pred=classifiersvm32.predict(X32_test)"
   ]
  },
  {
   "cell_type": "code",
   "execution_count": null,
   "metadata": {},
   "outputs": [],
   "source": [
    "cm11 = confusion_matrix(y11_test, ysvm11_pred)\n",
    "print(cm11)\n",
    "print(metrics.classification_report(y11_test, ysvm11_pred, digits=4))\n",
    "print(accuracy_score(y11_test, ysvm11_pred))\n",
    "print('\\n')\n",
    "cm12 = confusion_matrix(y12_test, ysvm12_pred)\n",
    "print(cm12)\n",
    "print(metrics.classification_report(y12_test, ysvm12_pred, digits=4))\n",
    "print(accuracy_score(y12_test, ysvm12_pred))\n",
    "print('\\n')"
   ]
  },
  {
   "cell_type": "code",
   "execution_count": null,
   "metadata": {},
   "outputs": [],
   "source": [
    "cm21 = confusion_matrix(y21_test, ysvm21_pred)\n",
    "print(cm21)\n",
    "print(metrics.classification_report(y21_test, ysvm21_pred, digits=4))\n",
    "print(accuracy_score(y21_test, ysvm21_pred))\n",
    "print('\\n')\n",
    "cm22 = confusion_matrix(y22_test, ysvm22_pred)\n",
    "print(cm22)\n",
    "print(metrics.classification_report(y22_test, ysvm22_pred, digits=4))\n",
    "print(accuracy_score(y22_test, ysvm22_pred))\n",
    "print('\\n')\n"
   ]
  },
  {
   "cell_type": "code",
   "execution_count": null,
   "metadata": {},
   "outputs": [],
   "source": [
    "cm31 = confusion_matrix(y31_test, ysvm31_pred)\n",
    "print(cm31)\n",
    "print(metrics.classification_report(y31_test, ysvm31_pred, digits=4))\n",
    "print(accuracy_score(y31_test, ysvm31_pred))\n",
    "print('\\n')\n",
    "cm32 = confusion_matrix(y32_test, ysvm32_pred)\n",
    "print(cm32)\n",
    "print(metrics.classification_report(y32_test, ysvm32_pred, digits=4))\n",
    "print(accuracy_score(y32_test, ysvm32_pred))\n",
    "print('\\n')\n"
   ]
  },
  {
   "cell_type": "code",
   "execution_count": null,
   "metadata": {},
   "outputs": [],
   "source": [
    "from sklearn.tree import DecisionTreeClassifier"
   ]
  },
  {
   "cell_type": "code",
   "execution_count": null,
   "metadata": {},
   "outputs": [],
   "source": [
    "classifierdt11 =DecisionTreeClassifier(criterion = 'entropy', random_state = 0)\n",
    "classifierdt11.fit(X11_train, y11_train)\n",
    "classifierdt12= DecisionTreeClassifier(criterion = 'entropy', random_state = 0)\n",
    "classifierdt12.fit(X12_train, y12_train)"
   ]
  },
  {
   "cell_type": "code",
   "execution_count": null,
   "metadata": {},
   "outputs": [],
   "source": [
    "classifierdt21 = DecisionTreeClassifier(criterion = 'entropy', random_state = 0)\n",
    "classifierdt21.fit(X21_train, y21_train)\n",
    "classifierdt22 = DecisionTreeClassifier(criterion = 'entropy', random_state = 0)\n",
    "classifierdt22.fit(X22_train, y22_train)"
   ]
  },
  {
   "cell_type": "code",
   "execution_count": null,
   "metadata": {},
   "outputs": [],
   "source": [
    "classifierdt31 = DecisionTreeClassifier(criterion = 'entropy', random_state = 0)\n",
    "classifierdt31.fit(X31_train, y31_train)\n",
    "classifierdt32 = DecisionTreeClassifier(criterion = 'entropy', random_state = 0)\n",
    "classifierdt32.fit(X32_train, y32_train)"
   ]
  },
  {
   "cell_type": "code",
   "execution_count": null,
   "metadata": {},
   "outputs": [],
   "source": [
    "ydt11_pred=classifierdt11.predict(X11_test)\n",
    "ydt12_pred=classifierdt12.predict(X12_test)"
   ]
  },
  {
   "cell_type": "code",
   "execution_count": null,
   "metadata": {},
   "outputs": [],
   "source": [
    "ydt21_pred=classifierdt21.predict(X21_test)\n",
    "ydt22_pred=classifierdt22.predict(X22_test)"
   ]
  },
  {
   "cell_type": "code",
   "execution_count": null,
   "metadata": {},
   "outputs": [],
   "source": [
    "ydt31_pred=classifierdt31.predict(X31_test)\n",
    "ydt32_pred=classifierdt32.predict(X32_test)"
   ]
  },
  {
   "cell_type": "code",
   "execution_count": null,
   "metadata": {},
   "outputs": [],
   "source": [
    "cm11 = confusion_matrix(y11_test, ydt11_pred)\n",
    "print(cm11)\n",
    "print(accuracy_score(y11_test, ydt11_pred))\n",
    "print('\\n')\n",
    "cm12 = confusion_matrix(y12_test, ydt12_pred)\n",
    "print(cm12)\n",
    "print(accuracy_score(y12_test, ydt12_pred))\n",
    "print('\\n')"
   ]
  },
  {
   "cell_type": "code",
   "execution_count": null,
   "metadata": {},
   "outputs": [],
   "source": [
    "cm21 = confusion_matrix(y21_test, ydt21_pred)\n",
    "print(cm21)\n",
    "print(accuracy_score(y21_test, ydt21_pred))\n",
    "print('\\n')\n",
    "cm22 = confusion_matrix(y22_test, ydt22_pred)\n",
    "print(cm22)\n",
    "print(accuracy_score(y22_test, ydt22_pred))\n",
    "print('\\n')"
   ]
  },
  {
   "cell_type": "code",
   "execution_count": null,
   "metadata": {},
   "outputs": [],
   "source": [
    "from sklearn.neighbors import KNeighborsClassifier"
   ]
  },
  {
   "cell_type": "code",
   "execution_count": null,
   "metadata": {},
   "outputs": [],
   "source": [
    "classifierknn11 =KNeighborsClassifier(n_neighbors = 5, metric = 'minkowski', p = 2)\n",
    "classifierknn11.fit(X11_train, y11_train)\n",
    "classifierknn12= KNeighborsClassifier(n_neighbors = 5, metric = 'minkowski', p = 2)\n",
    "classifierknn12.fit(X12_train, y12_train)"
   ]
  },
  {
   "cell_type": "code",
   "execution_count": null,
   "metadata": {},
   "outputs": [],
   "source": [
    "classifierknn21 =KNeighborsClassifier(n_neighbors = 5, metric = 'minkowski', p = 2)\n",
    "classifierknn21.fit(X21_train, y21_train)\n",
    "classifierknn22 =KNeighborsClassifier(n_neighbors = 5, metric = 'minkowski', p = 2)\n",
    "classifierknn22.fit(X22_train, y22_train)"
   ]
  },
  {
   "cell_type": "code",
   "execution_count": null,
   "metadata": {},
   "outputs": [],
   "source": [
    "classifierknn31 =KNeighborsClassifier(n_neighbors = 5, metric = 'minkowski', p = 2)\n",
    "classifierknn31.fit(X31_train, y31_train)\n",
    "classifierknn32 =KNeighborsClassifier(n_neighbors = 5, metric = 'minkowski', p = 2)\n",
    "classifierknn32.fit(X32_train, y32_train)"
   ]
  },
  {
   "cell_type": "code",
   "execution_count": null,
   "metadata": {},
   "outputs": [],
   "source": [
    "yknn11_pred=classifierknn11.predict(X11_test)\n",
    "yknn12_pred=classifierknn12.predict(X12_test)"
   ]
  },
  {
   "cell_type": "code",
   "execution_count": null,
   "metadata": {},
   "outputs": [],
   "source": [
    "yknn21_pred=classifierknn21.predict(X21_test)\n",
    "yknn22_pred=classifierknn22.predict(X22_test)"
   ]
  },
  {
   "cell_type": "code",
   "execution_count": null,
   "metadata": {},
   "outputs": [],
   "source": [
    "yknn31_pred=classifierknn31.predict(X31_test)\n",
    "yknn32_pred=classifierknn32.predict(X32_test)"
   ]
  },
  {
   "cell_type": "code",
   "execution_count": null,
   "metadata": {},
   "outputs": [],
   "source": [
    "cm11 = confusion_matrix(y11_test, yknn11_pred)\n",
    "print(cm11)\n",
    "print(accuracy_score(y11_test, yknn11_pred))\n",
    "print('\\n')\n",
    "cm12 = confusion_matrix(y12_test, yknn12_pred)\n",
    "print(cm12)\n",
    "print(accuracy_score(y12_test, yknn12_pred))\n",
    "print('\\n')"
   ]
  },
  {
   "cell_type": "code",
   "execution_count": null,
   "metadata": {},
   "outputs": [],
   "source": [
    "cm21 = confusion_matrix(y21_test, yknn21_pred)\n",
    "print(cm21)\n",
    "print(accuracy_score(y21_test, yknn21_pred))\n",
    "print('\\n')\n",
    "cm22 = confusion_matrix(y22_test, yknn22_pred)\n",
    "print(cm22)\n",
    "print(accuracy_score(y22_test, yknn22_pred))\n",
    "print('\\n')"
   ]
  },
  {
   "cell_type": "code",
   "execution_count": null,
   "metadata": {},
   "outputs": [],
   "source": [
    "cm31 = confusion_matrix(y31_test, ydt31_pred)\n",
    "print(cm31)\n",
    "print(accuracy_score(y31_test, ydt31_pred))\n",
    "print('\\n')\n",
    "cm32 = confusion_matrix(y32_test, ydt32_pred)\n",
    "print(cm32)\n",
    "print(accuracy_score(y32_test, ydt32_pred))\n",
    "print('\\n')\n",
    "\n",
    "print(\"KNN \\n\")"
   ]
  }
 ],
 "metadata": {
  "kernelspec": {
   "display_name": "Python 3.10.3 64-bit",
   "language": "python",
   "name": "python3"
  },
  "language_info": {
   "codemirror_mode": {
    "name": "ipython",
    "version": 3
   },
   "file_extension": ".py",
   "mimetype": "text/x-python",
   "name": "python",
   "nbconvert_exporter": "python",
   "pygments_lexer": "ipython3",
   "version": "3.10.3"
  },
  "orig_nbformat": 4,
  "vscode": {
   "interpreter": {
    "hash": "a5bada7eeca34b69a40a90302b8c96c4969a9f2ffbf80edc86010c6edcb861c0"
   }
  }
 },
 "nbformat": 4,
 "nbformat_minor": 2
}
