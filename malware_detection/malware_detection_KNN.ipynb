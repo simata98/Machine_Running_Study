version https://git-lfs.github.com/spec/v1
oid sha256:4fbcc322fcb6a8f09988fdf4e880ad7aeaa7940a7c0d58c0d43796ec09478584
size 47770
