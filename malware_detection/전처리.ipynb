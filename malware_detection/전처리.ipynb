{
 "cells": [
  {
   "cell_type": "code",
   "execution_count": 6,
   "metadata": {},
   "outputs": [],
   "source": [
    "import os\n",
    "os.environ['TF_CPP_MIN_LOG_LEVEL'] = '3'\n",
    "\n",
    "from pathlib import Path\n",
    "import numpy as np\n",
    "from matplotlib import pyplot as plt\n",
    "from sklearn import metrics\n",
    "from sklearn.model_selection import train_test_split\n",
    "from tensorflow.keras.preprocessing.text import Tokenizer\n",
    "from tensorflow.keras.preprocessing.sequence import pad_sequences\n",
    "from tensorflow.keras.models import Sequential\n",
    "from tensorflow.keras.layers import Dense, Embedding, LSTM, SpatialDropout1D, Bidirectional\n",
    "from tensorflow.keras.callbacks import ModelCheckpoint\n",
    "import itertools"
   ]
  },
  {
   "cell_type": "code",
   "execution_count": 8,
   "metadata": {},
   "outputs": [],
   "source": [
    "corpus = list()\n",
    "labels = list()\n",
    "\n",
    "with open(Path('./output/benign/all_benign.txt'), 'r') as f:\n",
    "  lines = f.read().split('\\n')[:-1]\n",
    "  # print(lines[0][33:])\n",
    "for line in lines:\n",
    "  doc = line[33:]\n",
    "  corpus.append(doc)\n",
    "  labels.append(0)\n",
    "\n",
    "with open(Path('./output/malware/all_malware.txt'), 'r') as f:\n",
    "  lines = f.read().split('\\n')[:-1]\n",
    "  # print(lines[0][33:])\n",
    "for line in lines:\n",
    "  doc = line[33:]\n",
    "  corpus.append(doc)\n",
    "  labels.append(1)"
   ]
  },
  {
   "cell_type": "code",
   "execution_count": 11,
   "metadata": {},
   "outputs": [],
   "source": [
    "y = np.array(labels)"
   ]
  },
  {
   "cell_type": "code",
   "execution_count": 18,
   "metadata": {},
   "outputs": [],
   "source": [
    "from sklearn.feature_extraction.text import CountVectorizer\n",
    "cv1 = CountVectorizer()\n",
    "X1 = cv1.fit_transform(corpus).toarray()\n",
    "cv2 = CountVectorizer(ngram_range=(2,2))\n",
    "X2 = cv2.fit_transform(corpus).toarray()\n",
    "cv3 = CountVectorizer(ngram_range=(3, 3))\n",
    "X3 = cv3.fit_transform(corpus).toarray()"
   ]
  },
  {
   "cell_type": "code",
   "execution_count": 19,
   "metadata": {},
   "outputs": [],
   "source": [
    "from sklearn.model_selection import train_test_split\n",
    "\n",
    "X11_train, X11_test, y11_train, y11_test = train_test_split(X1, y, test_size = 0.2, random_state = 0)\n",
    "X21_train, X21_test, y21_train, y21_test = train_test_split(X2, y, test_size = 0.2, random_state = 0)\n",
    "X31_train, X31_test, y31_train, y31_test = train_test_split(X2, y, test_size = 0.2, random_state = 0)"
   ]
  },
  {
   "cell_type": "code",
   "execution_count": 20,
   "metadata": {},
   "outputs": [],
   "source": [
    "v1=np.array(X1).astype(np.float32)\n",
    "for i in range(len(corpus)):\n",
    "    s=sum(X1[i])\n",
    "    v1[i]=((X1[i]/s)*100).astype(np.float32)\n",
    "    \n",
    "X12_train, X12_test, y12_train, y12_test = train_test_split(v1, y, test_size = 0.25, random_state = 0)\n",
    "\n",
    "v2=np.array(X2).astype(np.float32)\n",
    "for i in range(len(corpus)):\n",
    "    s=sum(X2[i])\n",
    "    v2[i]=((X2[i]/s)*100).astype(np.float32)\n",
    "\n",
    "X22_train, X22_test, y22_train, y22_test = train_test_split(v2, y, test_size = 0.25, random_state = 0)\n",
    "\n",
    "v3=np.array(X3).astype(np.float32)\n",
    "for i in range(len(corpus)):\n",
    "    s=sum(X3[i])\n",
    "    v3[i]=((X3[i]/s)*100).astype(np.float32)\n",
    "\n",
    "X32_train, X32_test, y32_train, y32_test = train_test_split(v3, y, test_size = 0.25, random_state = 0)"
   ]
  },
  {
   "cell_type": "code",
   "execution_count": 21,
   "metadata": {},
   "outputs": [
    {
     "name": "stdout",
     "output_type": "stream",
     "text": [
      "GB \n",
      "\n",
      "[[ 36 248]\n",
      " [ 21 255]]\n",
      "0.5196428571428572\n",
      "\n",
      "\n"
     ]
    }
   ],
   "source": [
    "print(\"GB \\n\")\n",
    "\n",
    "from sklearn.naive_bayes import GaussianNB\n",
    "classifierGB11 = GaussianNB()\n",
    "classifierGB11.fit(X11_train, y11_train)\n",
    "y11_pred = classifierGB11.predict(X11_test)\n",
    "cm11 = confusion_matrix(y11_test, y11_pred)\n",
    "print(cm11)\n",
    "print(accuracy_score(y11_test, y11_pred))\n",
    "print('\\n')"
   ]
  },
  {
   "cell_type": "code",
   "execution_count": 22,
   "metadata": {},
   "outputs": [
    {
     "name": "stdout",
     "output_type": "stream",
     "text": [
      "[[341  12]\n",
      " [264  83]]\n",
      "0.6057142857142858\n",
      "\n",
      "\n"
     ]
    }
   ],
   "source": [
    "classifierGB12 = GaussianNB()\n",
    "classifierGB12.fit(X12_train, y12_train)\n",
    "y12_pred = classifierGB12.predict(X12_test)\n",
    "cm12 = confusion_matrix(y12_test, y12_pred)\n",
    "print(cm12)\n",
    "print(accuracy_score(y12_test, y12_pred))\n",
    "print('\\n')"
   ]
  },
  {
   "cell_type": "code",
   "execution_count": null,
   "metadata": {},
   "outputs": [],
   "source": [
    "from sklearn.ensemble import RandomForestClassifier\n",
    "\n",
    "classifierrf11 = RandomForestClassifier(n_estimators = 150, criterion = 'entropy', random_state = 0)\n",
    "classifierrf11.fit(X11_train, y11_train)\n",
    "classifierrf12= RandomForestClassifier(n_estimators = 150, criterion = 'entropy', random_state = 0)\n",
    "classifierrf12.fit(X12_train, y12_train)\n",
    "classifierrf21 = RandomForestClassifier(n_estimators = 150, criterion = 'entropy', random_state = 0)\n",
    "classifierrf21.fit(X21_train, y21_train)\n",
    "classifierrf22 = RandomForestClassifier(n_estimators = 150, criterion = 'entropy', random_state = 0)\n",
    "classifierrf22.fit(X22_train, y22_train)\n",
    "classifierrf31 = RandomForestClassifier(n_estimators = 150, criterion = 'entropy', random_state = 0)\n",
    "classifierrf31.fit(X31_train, y31_train)\n",
    "classifierrf32 = RandomForestClassifier(n_estimators = 150, criterion = 'entropy', random_state = 0)\n",
    "classifierrf32.fit(X32_train, y32_train)\n",
    "\n",
    "\n",
    "yrf11_pred=classifierrf11.predict(X11_test)\n",
    "yrf12_pred=classifierrf12.predict(X12_test)\n",
    "yrf21_pred=classifierrf21.predict(X21_test)\n",
    "yrf22_pred=classifierrf22.predict(X22_test)\n",
    "yrf31_pred=classifierrf31.predict(X31_test)\n",
    "yrf32_pred=classifierrf32.predict(X32_test)"
   ]
  },
  {
   "cell_type": "code",
   "execution_count": 26,
   "metadata": {},
   "outputs": [
    {
     "name": "stdout",
     "output_type": "stream",
     "text": [
      "[[271  13]\n",
      " [ 21 255]]\n",
      "              precision    recall  f1-score   support\n",
      "\n",
      "           0     0.9281    0.9542    0.9410       284\n",
      "           1     0.9515    0.9239    0.9375       276\n",
      "\n",
      "    accuracy                         0.9393       560\n",
      "   macro avg     0.9398    0.9391    0.9392       560\n",
      "weighted avg     0.9396    0.9393    0.9393       560\n",
      "\n"
     ]
    }
   ],
   "source": [
    "cm11 = confusion_matrix(y11_test, yrf11_pred)\n",
    "print(cm11)\n",
    "print(metrics.classification_report(y11_test, yrf11_pred, digits=4))"
   ]
  },
  {
   "cell_type": "code",
   "execution_count": 27,
   "metadata": {},
   "outputs": [
    {
     "name": "stdout",
     "output_type": "stream",
     "text": [
      "[[340  13]\n",
      " [ 32 315]]\n",
      "              precision    recall  f1-score   support\n",
      "\n",
      "           0     0.9140    0.9632    0.9379       353\n",
      "           1     0.9604    0.9078    0.9333       347\n",
      "\n",
      "    accuracy                         0.9357       700\n",
      "   macro avg     0.9372    0.9355    0.9356       700\n",
      "weighted avg     0.9370    0.9357    0.9357       700\n",
      "\n",
      "\n",
      "\n"
     ]
    }
   ],
   "source": [
    "cm12 = confusion_matrix(y12_test, yrf12_pred)\n",
    "print(cm12)\n",
    "print(metrics.classification_report(y12_test, yrf12_pred,digits=4))\n",
    "print('\\n')"
   ]
  },
  {
   "cell_type": "code",
   "execution_count": 28,
   "metadata": {},
   "outputs": [
    {
     "name": "stdout",
     "output_type": "stream",
     "text": [
      "[[275   9]\n",
      " [ 23 253]]\n",
      "              precision    recall  f1-score   support\n",
      "\n",
      "           0     0.9228    0.9683    0.9450       284\n",
      "           1     0.9656    0.9167    0.9405       276\n",
      "\n",
      "    accuracy                         0.9429       560\n",
      "   macro avg     0.9442    0.9425    0.9428       560\n",
      "weighted avg     0.9439    0.9429    0.9428       560\n",
      "\n",
      "\n",
      "\n"
     ]
    }
   ],
   "source": [
    "cm21 = confusion_matrix(y21_test, yrf21_pred)\n",
    "print(cm21)\n",
    "print(metrics.classification_report(y21_test, yrf21_pred, digits=4))\n",
    "print('\\n')"
   ]
  },
  {
   "cell_type": "code",
   "execution_count": 29,
   "metadata": {},
   "outputs": [
    {
     "name": "stdout",
     "output_type": "stream",
     "text": [
      "[[344   9]\n",
      " [ 32 315]]\n",
      "              precision    recall  f1-score   support\n",
      "\n",
      "           0     0.9149    0.9745    0.9438       353\n",
      "           1     0.9722    0.9078    0.9389       347\n",
      "\n",
      "    accuracy                         0.9414       700\n",
      "   macro avg     0.9436    0.9411    0.9413       700\n",
      "weighted avg     0.9433    0.9414    0.9413       700\n",
      "\n",
      "\n",
      "\n"
     ]
    }
   ],
   "source": [
    "cm22 = confusion_matrix(y22_test, yrf22_pred)\n",
    "print(cm22)\n",
    "print(metrics.classification_report(y22_test, yrf22_pred, digits=4))\n",
    "print('\\n')"
   ]
  },
  {
   "cell_type": "code",
   "execution_count": 30,
   "metadata": {},
   "outputs": [
    {
     "name": "stdout",
     "output_type": "stream",
     "text": [
      "[[275   9]\n",
      " [ 23 253]]\n",
      "              precision    recall  f1-score   support\n",
      "\n",
      "           0     0.9228    0.9683    0.9450       284\n",
      "           1     0.9656    0.9167    0.9405       276\n",
      "\n",
      "    accuracy                         0.9429       560\n",
      "   macro avg     0.9442    0.9425    0.9428       560\n",
      "weighted avg     0.9439    0.9429    0.9428       560\n",
      "\n",
      "\n",
      "\n"
     ]
    }
   ],
   "source": [
    "cm31 = confusion_matrix(y31_test, yrf31_pred)\n",
    "print(cm31)\n",
    "print(metrics.classification_report(y31_test, yrf31_pred, digits=4))\n",
    "print('\\n')"
   ]
  },
  {
   "cell_type": "code",
   "execution_count": 31,
   "metadata": {},
   "outputs": [
    {
     "name": "stdout",
     "output_type": "stream",
     "text": [
      "[[346   7]\n",
      " [ 40 307]]\n",
      "              precision    recall  f1-score   support\n",
      "\n",
      "           0     0.8964    0.9802    0.9364       353\n",
      "           1     0.9777    0.8847    0.9289       347\n",
      "\n",
      "    accuracy                         0.9329       700\n",
      "   macro avg     0.9370    0.9324    0.9326       700\n",
      "weighted avg     0.9367    0.9329    0.9327       700\n",
      "\n",
      "\n",
      "\n"
     ]
    }
   ],
   "source": [
    "cm32 = confusion_matrix(y32_test, yrf32_pred)\n",
    "print(cm32)\n",
    "print(metrics.classification_report(y32_test, yrf32_pred, digits=4))\n",
    "print('\\n')"
   ]
  },
  {
   "cell_type": "code",
   "execution_count": 32,
   "metadata": {},
   "outputs": [
    {
     "name": "stdout",
     "output_type": "stream",
     "text": [
      "[[346   7]\n",
      " [ 40 307]]\n",
      "              precision    recall  f1-score   support\n",
      "\n",
      "           0     0.8964    0.9802    0.9364       353\n",
      "           1     0.9777    0.8847    0.9289       347\n",
      "\n",
      "    accuracy                         0.9329       700\n",
      "   macro avg     0.9370    0.9324    0.9326       700\n",
      "weighted avg     0.9367    0.9329    0.9327       700\n",
      "\n",
      "\n",
      "\n"
     ]
    }
   ],
   "source": [
    "print(cm32)\n",
    "print(metrics.classification_report(y32_test, yrf32_pred, digits=4))\n",
    "print('\\n')"
   ]
  },
  {
   "cell_type": "code",
   "execution_count": 36,
   "metadata": {},
   "outputs": [],
   "source": [
    "from sklearn.svm import SVC\n",
    "\n",
    "classifiersvc11 = SVC(kernel = 'linear', random_state = 0)\n",
    "classifiersvc11.fit(X11_train, y11_train)\n",
    "classifiersvc12= SVC(kernel = 'linear', random_state = 0)\n",
    "classifiersvc12.fit(X12_train, y12_train)\n",
    "classifiersvc21 = SVC(kernel = 'linear', random_state = 0)\n",
    "classifiersvc21.fit(X21_train, y21_train)\n",
    "classifiersvc22 = SVC(kernel = 'linear', random_state = 0)\n",
    "classifiersvc22.fit(X22_train, y22_train)\n",
    "\n",
    "ysvc11_pred=classifiersvc11.predict(X11_test)\n",
    "ysvc12_pred=classifiersvc12.predict(X12_test)\n",
    "ysvc21_pred=classifiersvc21.predict(X21_test)\n",
    "ysvc22_pred=classifiersvc22.predict(X22_test)"
   ]
  },
  {
   "cell_type": "code",
   "execution_count": 38,
   "metadata": {},
   "outputs": [
    {
     "name": "stdout",
     "output_type": "stream",
     "text": [
      "[[172 112]\n",
      " [103 173]]\n",
      "              precision    recall  f1-score   support\n",
      "\n",
      "           0     0.6255    0.6056    0.6154       284\n",
      "           1     0.6070    0.6268    0.6168       276\n",
      "\n",
      "    accuracy                         0.6161       560\n",
      "   macro avg     0.6162    0.6162    0.6161       560\n",
      "weighted avg     0.6164    0.6161    0.6161       560\n",
      "\n",
      "\n",
      "\n",
      "[[264  89]\n",
      " [115 232]]\n",
      "\n",
      "\n",
      "              precision    recall  f1-score   support\n",
      "\n",
      "           0     0.6966    0.7479    0.7213       353\n",
      "           1     0.7227    0.6686    0.6946       347\n",
      "\n",
      "    accuracy                         0.7086       700\n",
      "   macro avg     0.7097    0.7082    0.7080       700\n",
      "weighted avg     0.7095    0.7086    0.7081       700\n",
      "\n",
      "[[240  44]\n",
      " [ 31 245]]\n",
      "\n",
      "\n",
      "              precision    recall  f1-score   support\n",
      "\n",
      "           0     0.8856    0.8451    0.8649       284\n",
      "           1     0.8478    0.8877    0.8673       276\n",
      "\n",
      "    accuracy                         0.8661       560\n",
      "   macro avg     0.8667    0.8664    0.8661       560\n",
      "weighted avg     0.8670    0.8661    0.8660       560\n",
      "\n",
      "[[306  47]\n",
      " [ 39 308]]\n",
      "              precision    recall  f1-score   support\n",
      "\n",
      "           0     0.8870    0.8669    0.8768       353\n",
      "           1     0.8676    0.8876    0.8775       347\n",
      "\n",
      "    accuracy                         0.8771       700\n",
      "   macro avg     0.8773    0.8772    0.8771       700\n",
      "weighted avg     0.8774    0.8771    0.8771       700\n",
      "\n",
      "\n",
      "\n"
     ]
    }
   ],
   "source": [
    "cm11 = confusion_matrix(y11_test, ysvc11_pred)\n",
    "print(cm11)\n",
    "print(metrics.classification_report(y11_test, ysvc11_pred, digits=4))\n",
    "print('\\n')\n",
    "cm12 = confusion_matrix(y12_test, ysvc12_pred)\n",
    "print(cm12)\n",
    "print('\\n')\n",
    "print(metrics.classification_report(y12_test, ysvc12_pred, digits=4))\n",
    "cm21 = confusion_matrix(y21_test, ysvc21_pred)\n",
    "print(cm21)\n",
    "print('\\n')\n",
    "print(metrics.classification_report(y21_test, ysvc21_pred, digits=4))\n",
    "cm22 = confusion_matrix(y22_test, ysvc22_pred)\n",
    "print(cm22)\n",
    "print(metrics.classification_report(y22_test, ysvc22_pred, digits=4))\n",
    "print('\\n')"
   ]
  },
  {
   "cell_type": "code",
   "execution_count": null,
   "metadata": {},
   "outputs": [],
   "source": []
  }
 ],
 "metadata": {
  "kernelspec": {
   "display_name": "Python 3.8.10 64-bit",
   "language": "python",
   "name": "python3"
  },
  "language_info": {
   "codemirror_mode": {
    "name": "ipython",
    "version": 3
   },
   "file_extension": ".py",
   "mimetype": "text/x-python",
   "name": "python",
   "nbconvert_exporter": "python",
   "pygments_lexer": "ipython3",
   "version": "3.8.10"
  },
  "orig_nbformat": 4,
  "vscode": {
   "interpreter": {
    "hash": "e7370f93d1d0cde622a1f8e1c04877d8463912d04d973331ad4851f04de6915a"
   }
  }
 },
 "nbformat": 4,
 "nbformat_minor": 2
}
