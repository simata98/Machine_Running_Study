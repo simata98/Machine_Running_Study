{
 "cells": [
  {
   "cell_type": "code",
   "execution_count": 16,
   "metadata": {},
   "outputs": [],
   "source": [
    "import os\n",
    "os.environ['TF_CPP_MIN_LOG_LEVEL'] = '3'\n",
    "\n",
    "from pathlib import Path\n",
    "import numpy as np\n",
    "from matplotlib import pyplot as plt\n",
    "from sklearn import metrics\n",
    "from sklearn.model_selection import train_test_split\n",
    "from tensorflow.keras.preprocessing.text import Tokenizer\n",
    "from tensorflow.keras.preprocessing.sequence import pad_sequences\n",
    "from tensorflow.keras.models import Sequential\n",
    "from tensorflow.keras.layers import Dense, Embedding, LSTM, SpatialDropout1D, Bidirectional\n",
    "from tensorflow.keras.callbacks import ModelCheckpoint\n",
    "import itertools"
   ]
  },
  {
   "cell_type": "code",
   "execution_count": 17,
   "metadata": {},
   "outputs": [],
   "source": [
    "max_length = 0\n",
    "corpus = list()\n",
    "labels = list()\n",
    "\n",
    "with open(Path('./output/benign/all_benign.txt'), 'r') as f:\n",
    "  lines = f.read().split('\\n')[:-1]\n",
    "  # print(lines[0][33:])\n",
    "for line in lines:\n",
    "  doc = line[33:]\n",
    "  corpus.append(doc)\n",
    "  labels.append(0)\n",
    "  "
   ]
  },
  {
   "cell_type": "code",
   "execution_count": 18,
   "metadata": {},
   "outputs": [],
   "source": [
    "with open(Path('./output/malware/all_malware.txt'), 'r') as f:\n",
    "  lines = f.read().split('\\n')[:-1]\n",
    "  # print(lines[0][33:])\n",
    "doc = ''\n",
    "for line in lines:\n",
    "  doc = line[33:]\n",
    "  corpus.append(doc)\n",
    "  labels.append(1)"
   ]
  },
  {
   "cell_type": "code",
   "execution_count": 19,
   "metadata": {},
   "outputs": [],
   "source": [
    "labels = np.array(labels)"
   ]
  },
  {
   "cell_type": "code",
   "execution_count": 20,
   "metadata": {},
   "outputs": [
    {
     "name": "stdout",
     "output_type": "stream",
     "text": [
      "(2800, 192000)\n"
     ]
    }
   ],
   "source": [
    "tokenizer = Tokenizer(split=' ')\n",
    "tokenizer.fit_on_texts(corpus)\n",
    "X = tokenizer.texts_to_sequences(corpus)\n",
    "X = pad_sequences(X, maxlen=192000)\n",
    "print(X.shape)"
   ]
  },
  {
   "cell_type": "code",
   "execution_count": 21,
   "metadata": {},
   "outputs": [
    {
     "name": "stdout",
     "output_type": "stream",
     "text": [
      "(2800, 128, 1500)\n"
     ]
    }
   ],
   "source": [
    "X = X.reshape(-1, 128, 1500)\n",
    "print(X.shape)"
   ]
  },
  {
   "cell_type": "code",
   "execution_count": 22,
   "metadata": {},
   "outputs": [
    {
     "name": "stdout",
     "output_type": "stream",
     "text": [
      "노드 개수: 26, 한 개 밖에 없는 노드: 0\n"
     ]
    }
   ],
   "source": [
    "vocab_size = len(tokenizer.word_index) + 1\n",
    "print(f'노드 개수: {vocab_size}, 한 개 밖에 없는 노드:', end=' ')\n",
    "unique_word = 0\n",
    "for k in tokenizer.word_docs:\n",
    "  if tokenizer.word_docs[k] == 1:\n",
    "    unique_word += 1\n",
    "print(unique_word)"
   ]
  },
  {
   "cell_type": "code",
   "execution_count": 8,
   "metadata": {},
   "outputs": [
    {
     "data": {
      "text/plain": [
       "[name: \"/device:CPU:0\"\n",
       " device_type: \"CPU\"\n",
       " memory_limit: 268435456\n",
       " locality {\n",
       " }\n",
       " incarnation: 10955123044015531610,\n",
       " name: \"/device:GPU:0\"\n",
       " device_type: \"GPU\"\n",
       " memory_limit: 32479379456\n",
       " locality {\n",
       "   bus_id: 1\n",
       "   links {\n",
       "   }\n",
       " }\n",
       " incarnation: 15335105505203170502\n",
       " physical_device_desc: \"device: 0, name: Tesla V100S-PCIE-32GB, pci bus id: 0000:3b:00.0, compute capability: 7.0\"]"
      ]
     },
     "execution_count": 8,
     "metadata": {},
     "output_type": "execute_result"
    }
   ],
   "source": [
    "from tensorflow.python.client import device_lib\n",
    "device_lib.list_local_devices()"
   ]
  },
  {
   "cell_type": "code",
   "execution_count": 9,
   "metadata": {},
   "outputs": [
    {
     "name": "stdout",
     "output_type": "stream",
     "text": [
      "WARNING:tensorflow:Layer lstm will not use cuDNN kernels since it doesn't meet the criteria. It will use a generic GPU kernel as fallback when running on GPU.\n",
      "WARNING:tensorflow:Layer lstm will not use cuDNN kernels since it doesn't meet the criteria. It will use a generic GPU kernel as fallback when running on GPU.\n",
      "WARNING:tensorflow:Layer lstm will not use cuDNN kernels since it doesn't meet the criteria. It will use a generic GPU kernel as fallback when running on GPU.\n",
      "WARNING:tensorflow:Layer lstm_1 will not use cuDNN kernels since it doesn't meet the criteria. It will use a generic GPU kernel as fallback when running on GPU.\n",
      "WARNING:tensorflow:Layer lstm_1 will not use cuDNN kernels since it doesn't meet the criteria. It will use a generic GPU kernel as fallback when running on GPU.\n",
      "WARNING:tensorflow:Layer lstm_1 will not use cuDNN kernels since it doesn't meet the criteria. It will use a generic GPU kernel as fallback when running on GPU.\n",
      "Model: \"sequential\"\n",
      "_________________________________________________________________\n",
      "Layer (type)                 Output Shape              Param #   \n",
      "=================================================================\n",
      "bidirectional (Bidirectional (None, 128, 512)          3598336   \n",
      "_________________________________________________________________\n",
      "bidirectional_1 (Bidirection (None, 512)               1574912   \n",
      "_________________________________________________________________\n",
      "dense (Dense)                (None, 1)                 513       \n",
      "=================================================================\n",
      "Total params: 5,173,761\n",
      "Trainable params: 5,173,761\n",
      "Non-trainable params: 0\n",
      "_________________________________________________________________\n",
      "None\n"
     ]
    }
   ],
   "source": [
    "LSTM_model = Sequential()\n",
    "LSTM_model.add(Bidirectional(LSTM(units=256, dropout=0.2, recurrent_dropout=0.2, return_sequences=True),\n",
    "                        input_shape=(128, 1500)))\n",
    "LSTM_model.add(Bidirectional(LSTM(units=256, dropout=0.2, recurrent_dropout=0.2)))\n",
    "LSTM_model.add(Dense(1, activation='sigmoid'))\n",
    "LSTM_model.compile(loss='binary_crossentropy',\n",
    "              optimizer='adam', metrics=['accuracy'])\n",
    "print(LSTM_model.summary())"
   ]
  },
  {
   "cell_type": "code",
   "execution_count": 10,
   "metadata": {},
   "outputs": [
    {
     "name": "stdout",
     "output_type": "stream",
     "text": [
      "Train을 (2520, 128, 1500)만큼, Test를 (280, 128, 1500)만큼 진행\n"
     ]
    }
   ],
   "source": [
    "X_train, X_test, y_train, y_test = train_test_split(X, labels, test_size=0.1, random_state=0)\n",
    "print(f'Train을 {X_train.shape}만큼, Test를 {X_test.shape}만큼 진행')"
   ]
  },
  {
   "cell_type": "code",
   "execution_count": 11,
   "metadata": {},
   "outputs": [
    {
     "name": "stdout",
     "output_type": "stream",
     "text": [
      "Epoch 1/100\n",
      "9/9 [==============================] - 24s 2s/step - loss: 0.7410 - accuracy: 0.5789 - val_loss: 0.6238 - val_accuracy: 0.6468\n",
      "Epoch 2/100\n",
      "9/9 [==============================] - 16s 2s/step - loss: 0.6335 - accuracy: 0.6235 - val_loss: 0.5797 - val_accuracy: 0.7421\n",
      "Epoch 3/100\n",
      "9/9 [==============================] - 16s 2s/step - loss: 0.5743 - accuracy: 0.7024 - val_loss: 0.5057 - val_accuracy: 0.7659\n",
      "Epoch 4/100\n",
      "9/9 [==============================] - 18s 2s/step - loss: 0.4732 - accuracy: 0.7840 - val_loss: 0.4284 - val_accuracy: 0.7897\n",
      "Epoch 5/100\n",
      "9/9 [==============================] - 18s 2s/step - loss: 0.4173 - accuracy: 0.8020 - val_loss: 0.4402 - val_accuracy: 0.8135\n",
      "Epoch 6/100\n",
      "9/9 [==============================] - 17s 2s/step - loss: 0.3982 - accuracy: 0.8329 - val_loss: 0.3800 - val_accuracy: 0.8373\n",
      "Epoch 7/100\n",
      "9/9 [==============================] - 17s 2s/step - loss: 0.3148 - accuracy: 0.8726 - val_loss: 0.3668 - val_accuracy: 0.8373\n",
      "Epoch 8/100\n",
      "9/9 [==============================] - 17s 2s/step - loss: 0.2631 - accuracy: 0.8893 - val_loss: 0.4030 - val_accuracy: 0.8373\n",
      "Epoch 9/100\n",
      "9/9 [==============================] - 18s 2s/step - loss: 0.2874 - accuracy: 0.8779 - val_loss: 0.5220 - val_accuracy: 0.7817\n",
      "Epoch 10/100\n",
      "9/9 [==============================] - 17s 2s/step - loss: 0.2867 - accuracy: 0.8792 - val_loss: 0.3634 - val_accuracy: 0.8333\n",
      "Epoch 11/100\n",
      "9/9 [==============================] - 18s 2s/step - loss: 0.2042 - accuracy: 0.9312 - val_loss: 0.3703 - val_accuracy: 0.8333\n",
      "Epoch 12/100\n",
      "9/9 [==============================] - 18s 2s/step - loss: 0.1687 - accuracy: 0.9295 - val_loss: 0.4190 - val_accuracy: 0.8175\n",
      "Epoch 13/100\n",
      "9/9 [==============================] - 18s 2s/step - loss: 0.1557 - accuracy: 0.9396 - val_loss: 0.5230 - val_accuracy: 0.8214\n",
      "Epoch 14/100\n",
      "9/9 [==============================] - 17s 2s/step - loss: 0.1637 - accuracy: 0.9361 - val_loss: 0.3898 - val_accuracy: 0.8651\n",
      "Epoch 15/100\n",
      "9/9 [==============================] - 18s 2s/step - loss: 0.1358 - accuracy: 0.9511 - val_loss: 0.4239 - val_accuracy: 0.8413\n",
      "Epoch 16/100\n",
      "9/9 [==============================] - 18s 2s/step - loss: 0.1009 - accuracy: 0.9669 - val_loss: 0.4396 - val_accuracy: 0.8413\n",
      "Epoch 17/100\n",
      "9/9 [==============================] - 17s 2s/step - loss: 0.0955 - accuracy: 0.9674 - val_loss: 0.4287 - val_accuracy: 0.8571\n",
      "Epoch 18/100\n",
      "9/9 [==============================] - 17s 2s/step - loss: 0.1160 - accuracy: 0.9581 - val_loss: 0.4041 - val_accuracy: 0.8452\n",
      "Epoch 19/100\n",
      "9/9 [==============================] - 17s 2s/step - loss: 0.0859 - accuracy: 0.9771 - val_loss: 0.4947 - val_accuracy: 0.8452\n",
      "Epoch 20/100\n",
      "9/9 [==============================] - 17s 2s/step - loss: 0.0894 - accuracy: 0.9683 - val_loss: 0.4210 - val_accuracy: 0.8611\n",
      "Epoch 21/100\n",
      "9/9 [==============================] - 17s 2s/step - loss: 0.0892 - accuracy: 0.9727 - val_loss: 0.3813 - val_accuracy: 0.8770\n",
      "Epoch 22/100\n",
      "9/9 [==============================] - 17s 2s/step - loss: 0.0772 - accuracy: 0.9749 - val_loss: 0.4555 - val_accuracy: 0.8135\n",
      "Epoch 23/100\n",
      "9/9 [==============================] - 17s 2s/step - loss: 0.0711 - accuracy: 0.9749 - val_loss: 0.5220 - val_accuracy: 0.8294\n",
      "Epoch 24/100\n",
      "9/9 [==============================] - 17s 2s/step - loss: 0.0673 - accuracy: 0.9793 - val_loss: 0.5188 - val_accuracy: 0.8294\n",
      "Epoch 25/100\n",
      "9/9 [==============================] - 17s 2s/step - loss: 0.0653 - accuracy: 0.9762 - val_loss: 0.4403 - val_accuracy: 0.8651\n",
      "Epoch 26/100\n",
      "9/9 [==============================] - 17s 2s/step - loss: 0.0516 - accuracy: 0.9850 - val_loss: 0.4275 - val_accuracy: 0.8730\n",
      "Epoch 27/100\n",
      "9/9 [==============================] - 18s 2s/step - loss: 0.0552 - accuracy: 0.9824 - val_loss: 0.5227 - val_accuracy: 0.8452\n",
      "Epoch 28/100\n",
      "9/9 [==============================] - 17s 2s/step - loss: 0.0458 - accuracy: 0.9859 - val_loss: 0.4754 - val_accuracy: 0.8254\n",
      "Epoch 29/100\n",
      "9/9 [==============================] - 17s 2s/step - loss: 0.0740 - accuracy: 0.9749 - val_loss: 0.4422 - val_accuracy: 0.8095\n",
      "Epoch 30/100\n",
      "9/9 [==============================] - 17s 2s/step - loss: 0.0534 - accuracy: 0.9828 - val_loss: 0.4563 - val_accuracy: 0.8690\n",
      "Epoch 31/100\n",
      "9/9 [==============================] - 18s 2s/step - loss: 0.0576 - accuracy: 0.9828 - val_loss: 0.4211 - val_accuracy: 0.8611\n",
      "Epoch 32/100\n",
      "9/9 [==============================] - 17s 2s/step - loss: 0.0561 - accuracy: 0.9854 - val_loss: 0.5118 - val_accuracy: 0.8175\n",
      "Epoch 33/100\n",
      "9/9 [==============================] - 17s 2s/step - loss: 0.0500 - accuracy: 0.9846 - val_loss: 0.6518 - val_accuracy: 0.8413\n",
      "Epoch 34/100\n",
      "9/9 [==============================] - 17s 2s/step - loss: 0.0649 - accuracy: 0.9780 - val_loss: 0.4930 - val_accuracy: 0.8611\n",
      "Epoch 35/100\n",
      "9/9 [==============================] - 17s 2s/step - loss: 0.0707 - accuracy: 0.9757 - val_loss: 0.3390 - val_accuracy: 0.8770\n",
      "Epoch 36/100\n",
      "9/9 [==============================] - 17s 2s/step - loss: 0.0473 - accuracy: 0.9854 - val_loss: 0.5698 - val_accuracy: 0.8413\n",
      "Epoch 37/100\n",
      "9/9 [==============================] - 17s 2s/step - loss: 0.0438 - accuracy: 0.9859 - val_loss: 0.5527 - val_accuracy: 0.8373\n",
      "Epoch 38/100\n",
      "9/9 [==============================] - 18s 2s/step - loss: 0.0360 - accuracy: 0.9899 - val_loss: 0.4766 - val_accuracy: 0.8571\n",
      "Epoch 39/100\n",
      "9/9 [==============================] - 17s 2s/step - loss: 0.0382 - accuracy: 0.9854 - val_loss: 0.5527 - val_accuracy: 0.8452\n",
      "Epoch 40/100\n",
      "9/9 [==============================] - 18s 2s/step - loss: 0.0474 - accuracy: 0.9832 - val_loss: 0.4498 - val_accuracy: 0.8611\n",
      "Epoch 41/100\n",
      "9/9 [==============================] - 17s 2s/step - loss: 0.0554 - accuracy: 0.9810 - val_loss: 0.4723 - val_accuracy: 0.8492\n",
      "Epoch 42/100\n",
      "9/9 [==============================] - 18s 2s/step - loss: 0.0420 - accuracy: 0.9863 - val_loss: 0.5125 - val_accuracy: 0.8571\n",
      "Epoch 43/100\n",
      "9/9 [==============================] - 17s 2s/step - loss: 0.0383 - accuracy: 0.9885 - val_loss: 0.4574 - val_accuracy: 0.8452\n",
      "Epoch 44/100\n",
      "9/9 [==============================] - 17s 2s/step - loss: 0.0339 - accuracy: 0.9903 - val_loss: 0.5146 - val_accuracy: 0.8532\n",
      "Epoch 45/100\n",
      "9/9 [==============================] - 17s 2s/step - loss: 0.0261 - accuracy: 0.9951 - val_loss: 0.5540 - val_accuracy: 0.8413\n",
      "Epoch 46/100\n",
      "9/9 [==============================] - 18s 2s/step - loss: 0.0233 - accuracy: 0.9929 - val_loss: 0.6825 - val_accuracy: 0.8135\n",
      "Epoch 47/100\n",
      "9/9 [==============================] - 17s 2s/step - loss: 0.0324 - accuracy: 0.9894 - val_loss: 0.6472 - val_accuracy: 0.8452\n",
      "Epoch 48/100\n",
      "9/9 [==============================] - 17s 2s/step - loss: 0.0480 - accuracy: 0.9832 - val_loss: 0.5539 - val_accuracy: 0.8532\n",
      "Epoch 49/100\n",
      "9/9 [==============================] - 17s 2s/step - loss: 0.0366 - accuracy: 0.9899 - val_loss: 0.5792 - val_accuracy: 0.8413\n",
      "Epoch 50/100\n",
      "9/9 [==============================] - 18s 2s/step - loss: 0.0301 - accuracy: 0.9907 - val_loss: 0.5444 - val_accuracy: 0.8571\n",
      "Epoch 51/100\n",
      "9/9 [==============================] - 17s 2s/step - loss: 0.0428 - accuracy: 0.9841 - val_loss: 0.5396 - val_accuracy: 0.8571\n",
      "Epoch 52/100\n",
      "9/9 [==============================] - 17s 2s/step - loss: 0.0326 - accuracy: 0.9912 - val_loss: 0.6215 - val_accuracy: 0.8373\n",
      "Epoch 53/100\n",
      "9/9 [==============================] - 17s 2s/step - loss: 0.0355 - accuracy: 0.9912 - val_loss: 0.6104 - val_accuracy: 0.8452\n",
      "Epoch 54/100\n",
      "9/9 [==============================] - 17s 2s/step - loss: 0.0348 - accuracy: 0.9894 - val_loss: 0.5755 - val_accuracy: 0.8532\n",
      "Epoch 55/100\n",
      "9/9 [==============================] - 18s 2s/step - loss: 0.0371 - accuracy: 0.9877 - val_loss: 0.6014 - val_accuracy: 0.8413\n",
      "Epoch 56/100\n",
      "9/9 [==============================] - 18s 2s/step - loss: 0.0429 - accuracy: 0.9850 - val_loss: 0.7386 - val_accuracy: 0.8294\n",
      "Epoch 57/100\n",
      "9/9 [==============================] - 18s 2s/step - loss: 0.0667 - accuracy: 0.9718 - val_loss: 0.5907 - val_accuracy: 0.8254\n",
      "Epoch 58/100\n",
      "9/9 [==============================] - 17s 2s/step - loss: 0.0341 - accuracy: 0.9890 - val_loss: 0.5392 - val_accuracy: 0.8413\n",
      "Epoch 59/100\n",
      "9/9 [==============================] - 17s 2s/step - loss: 0.0325 - accuracy: 0.9899 - val_loss: 0.5395 - val_accuracy: 0.8532\n",
      "Epoch 60/100\n",
      "9/9 [==============================] - 17s 2s/step - loss: 0.0265 - accuracy: 0.9899 - val_loss: 0.6424 - val_accuracy: 0.8571\n",
      "Epoch 61/100\n",
      "9/9 [==============================] - 17s 2s/step - loss: 0.0375 - accuracy: 0.9850 - val_loss: 0.5150 - val_accuracy: 0.8492\n",
      "Epoch 62/100\n",
      "9/9 [==============================] - 18s 2s/step - loss: 0.0394 - accuracy: 0.9859 - val_loss: 0.5434 - val_accuracy: 0.8492\n",
      "Epoch 63/100\n",
      "9/9 [==============================] - 17s 2s/step - loss: 0.0370 - accuracy: 0.9881 - val_loss: 0.6128 - val_accuracy: 0.8333\n",
      "Epoch 64/100\n",
      "9/9 [==============================] - 18s 2s/step - loss: 0.0388 - accuracy: 0.9859 - val_loss: 0.6635 - val_accuracy: 0.8175\n",
      "Epoch 65/100\n",
      "9/9 [==============================] - 17s 2s/step - loss: 0.0326 - accuracy: 0.9907 - val_loss: 0.6089 - val_accuracy: 0.8492\n",
      "Epoch 66/100\n",
      "9/9 [==============================] - 18s 2s/step - loss: 0.0259 - accuracy: 0.9934 - val_loss: 0.6084 - val_accuracy: 0.8333\n",
      "Epoch 67/100\n",
      "9/9 [==============================] - 17s 2s/step - loss: 0.0288 - accuracy: 0.9894 - val_loss: 0.6043 - val_accuracy: 0.8413\n",
      "Epoch 68/100\n",
      "9/9 [==============================] - 17s 2s/step - loss: 0.0248 - accuracy: 0.9934 - val_loss: 0.6388 - val_accuracy: 0.8333\n",
      "Epoch 69/100\n",
      "9/9 [==============================] - 18s 2s/step - loss: 0.0317 - accuracy: 0.9916 - val_loss: 0.5397 - val_accuracy: 0.8492\n",
      "Epoch 70/100\n",
      "9/9 [==============================] - 17s 2s/step - loss: 0.0321 - accuracy: 0.9903 - val_loss: 0.6175 - val_accuracy: 0.8214\n",
      "Epoch 71/100\n",
      "9/9 [==============================] - 17s 2s/step - loss: 0.0449 - accuracy: 0.9854 - val_loss: 0.5494 - val_accuracy: 0.8770\n",
      "Epoch 72/100\n",
      "9/9 [==============================] - 17s 2s/step - loss: 0.0382 - accuracy: 0.9877 - val_loss: 0.5435 - val_accuracy: 0.8532\n",
      "Epoch 73/100\n",
      "9/9 [==============================] - 17s 2s/step - loss: 0.0313 - accuracy: 0.9899 - val_loss: 0.6278 - val_accuracy: 0.8333\n",
      "Epoch 74/100\n",
      "9/9 [==============================] - 17s 2s/step - loss: 0.0374 - accuracy: 0.9890 - val_loss: 0.5910 - val_accuracy: 0.8452\n",
      "Epoch 75/100\n",
      "9/9 [==============================] - 17s 2s/step - loss: 0.0341 - accuracy: 0.9894 - val_loss: 0.4883 - val_accuracy: 0.8492\n",
      "Epoch 76/100\n",
      "9/9 [==============================] - 17s 2s/step - loss: 0.0409 - accuracy: 0.9850 - val_loss: 0.5420 - val_accuracy: 0.8492\n",
      "Epoch 77/100\n",
      "9/9 [==============================] - 17s 2s/step - loss: 0.0503 - accuracy: 0.9819 - val_loss: 0.5951 - val_accuracy: 0.8214\n",
      "Epoch 78/100\n",
      "9/9 [==============================] - 17s 2s/step - loss: 0.0522 - accuracy: 0.9810 - val_loss: 0.4897 - val_accuracy: 0.8532\n",
      "Epoch 79/100\n",
      "9/9 [==============================] - 18s 2s/step - loss: 0.0340 - accuracy: 0.9899 - val_loss: 0.5031 - val_accuracy: 0.8611\n",
      "Epoch 80/100\n",
      "9/9 [==============================] - 17s 2s/step - loss: 0.0305 - accuracy: 0.9894 - val_loss: 0.6117 - val_accuracy: 0.8333\n",
      "Epoch 81/100\n",
      "9/9 [==============================] - 16s 2s/step - loss: 0.0345 - accuracy: 0.9899 - val_loss: 0.6508 - val_accuracy: 0.8611\n",
      "Epoch 82/100\n",
      "9/9 [==============================] - 17s 2s/step - loss: 0.0321 - accuracy: 0.9912 - val_loss: 0.6130 - val_accuracy: 0.8333\n",
      "Epoch 83/100\n",
      "9/9 [==============================] - 17s 2s/step - loss: 0.0369 - accuracy: 0.9899 - val_loss: 0.6444 - val_accuracy: 0.8214\n",
      "Epoch 84/100\n",
      "9/9 [==============================] - 17s 2s/step - loss: 0.0317 - accuracy: 0.9894 - val_loss: 0.7583 - val_accuracy: 0.8056\n",
      "Epoch 85/100\n",
      "9/9 [==============================] - 18s 2s/step - loss: 0.0289 - accuracy: 0.9907 - val_loss: 0.6071 - val_accuracy: 0.8135\n",
      "Epoch 86/100\n",
      "9/9 [==============================] - 17s 2s/step - loss: 0.0278 - accuracy: 0.9921 - val_loss: 0.5886 - val_accuracy: 0.8373\n",
      "Epoch 87/100\n",
      "9/9 [==============================] - 17s 2s/step - loss: 0.0266 - accuracy: 0.9903 - val_loss: 0.5856 - val_accuracy: 0.8532\n",
      "Epoch 88/100\n",
      "9/9 [==============================] - 16s 2s/step - loss: 0.0275 - accuracy: 0.9903 - val_loss: 0.5894 - val_accuracy: 0.8413\n",
      "Epoch 89/100\n",
      "9/9 [==============================] - 17s 2s/step - loss: 0.0242 - accuracy: 0.9934 - val_loss: 0.5486 - val_accuracy: 0.8611\n",
      "Epoch 90/100\n",
      "9/9 [==============================] - 17s 2s/step - loss: 0.0284 - accuracy: 0.9907 - val_loss: 0.7772 - val_accuracy: 0.8373\n",
      "Epoch 91/100\n",
      "9/9 [==============================] - 17s 2s/step - loss: 0.0322 - accuracy: 0.9912 - val_loss: 0.6089 - val_accuracy: 0.8333\n",
      "Epoch 92/100\n",
      "9/9 [==============================] - 18s 2s/step - loss: 0.0266 - accuracy: 0.9903 - val_loss: 0.5339 - val_accuracy: 0.8333\n",
      "Epoch 93/100\n",
      "9/9 [==============================] - 18s 2s/step - loss: 0.0224 - accuracy: 0.9916 - val_loss: 0.5890 - val_accuracy: 0.8294\n",
      "Epoch 94/100\n",
      "9/9 [==============================] - 17s 2s/step - loss: 0.0268 - accuracy: 0.9912 - val_loss: 0.7064 - val_accuracy: 0.8373\n",
      "Epoch 95/100\n",
      "9/9 [==============================] - 17s 2s/step - loss: 0.0255 - accuracy: 0.9916 - val_loss: 0.6460 - val_accuracy: 0.8294\n",
      "Epoch 96/100\n",
      "9/9 [==============================] - 17s 2s/step - loss: 0.0208 - accuracy: 0.9943 - val_loss: 0.6578 - val_accuracy: 0.8452\n",
      "Epoch 97/100\n",
      "9/9 [==============================] - 17s 2s/step - loss: 0.0225 - accuracy: 0.9929 - val_loss: 0.7024 - val_accuracy: 0.8413\n",
      "Epoch 98/100\n",
      "9/9 [==============================] - 17s 2s/step - loss: 0.0292 - accuracy: 0.9903 - val_loss: 0.6995 - val_accuracy: 0.8611\n",
      "Epoch 99/100\n",
      "9/9 [==============================] - 17s 2s/step - loss: 0.0272 - accuracy: 0.9903 - val_loss: 0.5800 - val_accuracy: 0.8770\n",
      "Epoch 100/100\n",
      "9/9 [==============================] - 17s 2s/step - loss: 0.0252 - accuracy: 0.9925 - val_loss: 0.6469 - val_accuracy: 0.8532\n"
     ]
    }
   ],
   "source": [
    "batch_size = 256\n",
    "mc = ModelCheckpoint('./log/model2.h5', save_best_only=True)\n",
    "history = LSTM_model.fit(X_train, y_train, epochs=100, batch_size=batch_size,\n",
    "                    verbose=1, validation_split=0.1, callbacks=[mc])\n"
   ]
  },
  {
   "cell_type": "code",
   "execution_count": 24,
   "metadata": {},
   "outputs": [],
   "source": [
    "LSTM_model.load_weights('./log/model2.h5')"
   ]
  },
  {
   "cell_type": "code",
   "execution_count": 26,
   "metadata": {},
   "outputs": [
    {
     "name": "stdout",
     "output_type": "stream",
     "text": [
      "2/2 [==============================] - 1s 217ms/step\n",
      "              precision    recall  f1-score   support\n",
      "\n",
      "           0     0.8897    0.8487    0.8687       152\n",
      "           1     0.8296    0.8750    0.8517       128\n",
      "\n",
      "    accuracy                         0.8607       280\n",
      "   macro avg     0.8596    0.8618    0.8602       280\n",
      "weighted avg     0.8622    0.8607    0.8609       280\n",
      "\n"
     ]
    }
   ],
   "source": [
    "y_pred = LSTM_model.predict(X_test, verbose=1, batch_size=batch_size)\n",
    "y_pred = [y >= 0.5 for y in y_pred]\n",
    "\n",
    "print(metrics.classification_report(y_test, y_pred, digits=4))\n",
    "with open('log/report.txt', 'w') as f:\n",
    "  f.write(str(metrics.classification_report(y_test, y_pred, digits=4)))\n"
   ]
  },
  {
   "cell_type": "code",
   "execution_count": 27,
   "metadata": {},
   "outputs": [
    {
     "data": {
      "image/png": "[encoded data removed]",
      "text/plain": [
       "<Figure size 432x288 with 2 Axes>"
      ]
     },
     "metadata": {
      "needs_background": "light"
     },
     "output_type": "display_data"
    }
   ],
   "source": [
    "fig, ax = plt.subplots(2, 1)\n",
    "ax[0].plot(history.history['loss'], color='b', label=\"Training loss\")\n",
    "ax[0].plot(history.history['val_loss'], color='r',\n",
    "           label=\"validation loss\", axes=ax[0])\n",
    "legend = ax[0].legend(loc='best', shadow=True)\n",
    "\n",
    "ax[1].plot(history.history['accuracy'], color='b', label=\"Training accuracy\")\n",
    "ax[1].plot(history.history['val_accuracy'],\n",
    "           color='r', label=\"Validation accuracy\")\n",
    "legend = ax[1].legend(loc='best', shadow=True)"
   ]
  },
  {
   "cell_type": "code",
   "execution_count": null,
   "metadata": {},
   "outputs": [],
   "source": []
  }
 ],
 "metadata": {
  "kernelspec": {
   "display_name": "Python 3.8.12 ('keras_env')",
   "language": "python",
   "name": "python3"
  },
  "language_info": {
   "codemirror_mode": {
    "name": "ipython",
    "version": 3
   },
   "file_extension": ".py",
   "mimetype": "text/x-python",
   "name": "python",
   "nbconvert_exporter": "python",
   "pygments_lexer": "ipython3",
   "version": "3.8.12"
  },
  "orig_nbformat": 4,
  "vscode": {
   "interpreter": {
    "hash": "263279b5c7f5294ef7179eeb038e9113bb5dce42ff0c0d19b3e81ce1438dd79a"
   }
  }
 },
 "nbformat": 4,
 "nbformat_minor": 2
}
