{
 "cells": [
  {
   "cell_type": "markdown",
   "metadata": {},
   "source": [
    "## opcode, register 빈도수로 학습"
   ]
  },
  {
   "cell_type": "code",
   "execution_count": 1,
   "metadata": {},
   "outputs": [],
   "source": [
    "import warnings\n",
    "warnings.filterwarnings(\"ignore\")\n",
    "import shutil\n",
    "import os\n",
    "import glob\n",
    "import sys\n",
    "import pandas as pd\n",
    "import matplotlib\n",
    "import matplotlib.pyplot as plt\n",
    "import seaborn as sns\n",
    "import numpy as np\n",
    "import pickle\n",
    "from sklearn.manifold import TSNE\n",
    "from sklearn import preprocessing\n",
    "import pandas as pd\n",
    "from multiprocessing import Process# this is used for multithreading\n",
    "import multiprocessing\n",
    "import codecs# this is used for file operations \n",
    "import random as r\n",
    "from xgboost import XGBClassifier\n",
    "from sklearn.model_selection import RandomizedSearchCV\n",
    "from sklearn.tree import DecisionTreeClassifier\n",
    "from sklearn.calibration import CalibratedClassifierCV\n",
    "from sklearn.neighbors import KNeighborsClassifier\n",
    "from sklearn.metrics import log_loss\n",
    "from sklearn.metrics import confusion_matrix\n",
    "from sklearn.model_selection import train_test_split\n",
    "from sklearn.linear_model import LogisticRegression\n",
    "from sklearn.ensemble import RandomForestClassifier\n",
    "from sklearn.metrics import accuracy_score"
   ]
  },
  {
   "cell_type": "code",
   "execution_count": 2,
   "metadata": {},
   "outputs": [],
   "source": [
    "train_benign_df = pd.read_csv(\"./csv_files/train_benign_asmfile.txt\")\n",
    "train_benign_df.drop(train_benign_df.columns[-1], axis=1, inplace=True)\n",
    "train_benign_df.set_axis(['ID', 'jmp', 'mov', 'retf', 'push', 'pop', 'xor', 'retn', 'nop', 'sub', 'inc', 'dec', 'add','imul', 'xchg', 'or', 'shr', 'cmp', 'call', 'shl', 'ror', 'rol', 'jnb','jz','rtn','lea','movzx', 'edx','esi','eax','ebx','ecx','edi','ebp','esp','eip', '.dll', 'std::', ':dword'], axis='columns', inplace=True)\n",
    "train_benign_df['label'] = 0\n",
    "\n",
    "train_malware_df = pd.read_csv(\"./csv_files/train_malware_asmfile.txt\")\n",
    "train_malware_df.drop(train_malware_df.columns[-1], axis=1, inplace=True)\n",
    "train_malware_df.set_axis(['ID', 'jmp', 'mov', 'retf', 'push', 'pop', 'xor', 'retn', 'nop', 'sub', 'inc', 'dec', 'add','imul', 'xchg', 'or', 'shr', 'cmp', 'call', 'shl', 'ror', 'rol', 'jnb','jz','rtn','lea','movzx', 'edx','esi','eax','ebx','ecx','edi','ebp','esp','eip', '.dll', 'std::', ':dword'], axis='columns', inplace=True)\n",
    "train_malware_df['label'] = 1\n",
    "\n",
    "test_benign_df = pd.read_csv(\"./csv_files/test_benign_asmfile.txt\")\n",
    "test_benign_df.drop(test_benign_df.columns[-1], axis=1, inplace=True)\n",
    "test_benign_df.set_axis(['ID', 'jmp', 'mov', 'retf', 'push', 'pop', 'xor', 'retn', 'nop', 'sub', 'inc', 'dec', 'add','imul', 'xchg', 'or', 'shr', 'cmp', 'call', 'shl', 'ror', 'rol', 'jnb','jz','rtn','lea','movzx', 'edx','esi','eax','ebx','ecx','edi','ebp','esp','eip', '.dll', 'std::', ':dword'], axis='columns', inplace=True)\n",
    "test_benign_df['label'] = 0\n",
    "\n",
    "test_malware_df = pd.read_csv(\"./csv_files/test_malware_asmfile.txt\")\n",
    "test_malware_df.drop(test_malware_df.columns[-1], axis=1, inplace=True)\n",
    "test_malware_df.set_axis(['ID', 'jmp', 'mov', 'retf', 'push', 'pop', 'xor', 'retn', 'nop', 'sub', 'inc', 'dec', 'add','imul', 'xchg', 'or', 'shr', 'cmp', 'call', 'shl', 'ror', 'rol', 'jnb','jz','rtn','lea','movzx', 'edx','esi','eax','ebx','ecx','edi','ebp','esp','eip', '.dll', 'std::', ':dword'], axis='columns', inplace=True)\n",
    "test_malware_df['label'] = 1\n",
    "\n",
    "valid_benign = pd.read_csv(\"./csv_files/valid_benign_asmfile.txt\")\n",
    "valid_benign.drop(valid_benign.columns[-1], axis=1, inplace=True)\n",
    "valid_benign.set_axis(['ID', 'jmp', 'mov', 'retf', 'push', 'pop', 'xor', 'retn', 'nop', 'sub', 'inc', 'dec', 'add','imul', 'xchg', 'or', 'shr', 'cmp', 'call', 'shl', 'ror', 'rol', 'jnb','jz','rtn','lea','movzx', 'edx','esi','eax','ebx','ecx','edi','ebp','esp','eip', '.dll', 'std::', ':dword'], axis='columns', inplace=True)\n",
    "valid_benign['label'] = 0\n",
    "\n",
    "valid_malware = pd.read_csv(\"./csv_files/valid_malware_asmfile.txt\")\n",
    "valid_malware.drop(valid_malware.columns[-1], axis=1, inplace=True)\n",
    "valid_malware.set_axis(['ID', 'jmp', 'mov', 'retf', 'push', 'pop', 'xor', 'retn', 'nop', 'sub', 'inc', 'dec', 'add','imul', 'xchg', 'or', 'shr', 'cmp', 'call', 'shl', 'ror', 'rol', 'jnb','jz','rtn','lea','movzx', 'edx','esi','eax','ebx','ecx','edi','ebp','esp','eip', '.dll', 'std::', ':dword'], axis='columns', inplace=True)\n",
    "valid_malware['label'] = 1\n"
   ]
  },
  {
   "cell_type": "code",
   "execution_count": 3,
   "metadata": {},
   "outputs": [
    {
     "data": {
      "text/html": [
       "<div>\n",
       "<style scoped>\n",
       "    .dataframe tbody tr th:only-of-type {\n",
       "        vertical-align: middle;\n",
       "    }\n",
       "\n",
       "    .dataframe tbody tr th {\n",
       "        vertical-align: top;\n",
       "    }\n",
       "\n",
       "    .dataframe thead th {\n",
       "        text-align: right;\n",
       "    }\n",
       "</style>\n",
       "<table border=\"1\" class=\"dataframe\">\n",
       "  <thead>\n",
       "    <tr style=\"text-align: right;\">\n",
       "      <th></th>\n",
       "      <th>ID</th>\n",
       "      <th>jmp</th>\n",
       "      <th>mov</th>\n",
       "      <th>retf</th>\n",
       "      <th>push</th>\n",
       "      <th>pop</th>\n",
       "      <th>xor</th>\n",
       "      <th>retn</th>\n",
       "      <th>nop</th>\n",
       "      <th>sub</th>\n",
       "      <th>...</th>\n",
       "      <th>ebx</th>\n",
       "      <th>ecx</th>\n",
       "      <th>edi</th>\n",
       "      <th>ebp</th>\n",
       "      <th>esp</th>\n",
       "      <th>eip</th>\n",
       "      <th>.dll</th>\n",
       "      <th>std::</th>\n",
       "      <th>:dword</th>\n",
       "      <th>label</th>\n",
       "    </tr>\n",
       "  </thead>\n",
       "  <tbody>\n",
       "    <tr>\n",
       "      <th>0</th>\n",
       "      <td>4d1bbe1ef6371b338826836d740d726f</td>\n",
       "      <td>2473</td>\n",
       "      <td>25391</td>\n",
       "      <td>0</td>\n",
       "      <td>11703</td>\n",
       "      <td>3486</td>\n",
       "      <td>2544</td>\n",
       "      <td>1724</td>\n",
       "      <td>25</td>\n",
       "      <td>1304</td>\n",
       "      <td>...</td>\n",
       "      <td>0</td>\n",
       "      <td>0</td>\n",
       "      <td>0</td>\n",
       "      <td>0</td>\n",
       "      <td>0</td>\n",
       "      <td>0</td>\n",
       "      <td>2</td>\n",
       "      <td>367</td>\n",
       "      <td>113</td>\n",
       "      <td>0</td>\n",
       "    </tr>\n",
       "    <tr>\n",
       "      <th>1</th>\n",
       "      <td>0d2b28bec8d17f692db56e87cce59992</td>\n",
       "      <td>520</td>\n",
       "      <td>4692</td>\n",
       "      <td>0</td>\n",
       "      <td>5653</td>\n",
       "      <td>1239</td>\n",
       "      <td>453</td>\n",
       "      <td>520</td>\n",
       "      <td>0</td>\n",
       "      <td>274</td>\n",
       "      <td>...</td>\n",
       "      <td>0</td>\n",
       "      <td>0</td>\n",
       "      <td>0</td>\n",
       "      <td>1</td>\n",
       "      <td>1</td>\n",
       "      <td>0</td>\n",
       "      <td>7</td>\n",
       "      <td>0</td>\n",
       "      <td>17</td>\n",
       "      <td>0</td>\n",
       "    </tr>\n",
       "    <tr>\n",
       "      <th>2</th>\n",
       "      <td>4df4d08911a65aa83284545ca1ffeb71</td>\n",
       "      <td>294</td>\n",
       "      <td>2016</td>\n",
       "      <td>0</td>\n",
       "      <td>2579</td>\n",
       "      <td>711</td>\n",
       "      <td>348</td>\n",
       "      <td>271</td>\n",
       "      <td>6</td>\n",
       "      <td>165</td>\n",
       "      <td>...</td>\n",
       "      <td>0</td>\n",
       "      <td>0</td>\n",
       "      <td>0</td>\n",
       "      <td>0</td>\n",
       "      <td>0</td>\n",
       "      <td>0</td>\n",
       "      <td>7</td>\n",
       "      <td>0</td>\n",
       "      <td>7</td>\n",
       "      <td>0</td>\n",
       "    </tr>\n",
       "    <tr>\n",
       "      <th>3</th>\n",
       "      <td>1ed70ce407ad8203816829b4ea1aae3d</td>\n",
       "      <td>289</td>\n",
       "      <td>1306</td>\n",
       "      <td>0</td>\n",
       "      <td>1992</td>\n",
       "      <td>170</td>\n",
       "      <td>127</td>\n",
       "      <td>77</td>\n",
       "      <td>0</td>\n",
       "      <td>88</td>\n",
       "      <td>...</td>\n",
       "      <td>0</td>\n",
       "      <td>0</td>\n",
       "      <td>0</td>\n",
       "      <td>0</td>\n",
       "      <td>0</td>\n",
       "      <td>0</td>\n",
       "      <td>0</td>\n",
       "      <td>0</td>\n",
       "      <td>0</td>\n",
       "      <td>0</td>\n",
       "    </tr>\n",
       "    <tr>\n",
       "      <th>4</th>\n",
       "      <td>2eccffbe627068a60bf7911fd8701ae6</td>\n",
       "      <td>143</td>\n",
       "      <td>1165</td>\n",
       "      <td>0</td>\n",
       "      <td>1107</td>\n",
       "      <td>266</td>\n",
       "      <td>124</td>\n",
       "      <td>159</td>\n",
       "      <td>0</td>\n",
       "      <td>48</td>\n",
       "      <td>...</td>\n",
       "      <td>0</td>\n",
       "      <td>0</td>\n",
       "      <td>0</td>\n",
       "      <td>0</td>\n",
       "      <td>0</td>\n",
       "      <td>0</td>\n",
       "      <td>2</td>\n",
       "      <td>0</td>\n",
       "      <td>0</td>\n",
       "      <td>0</td>\n",
       "    </tr>\n",
       "    <tr>\n",
       "      <th>...</th>\n",
       "      <td>...</td>\n",
       "      <td>...</td>\n",
       "      <td>...</td>\n",
       "      <td>...</td>\n",
       "      <td>...</td>\n",
       "      <td>...</td>\n",
       "      <td>...</td>\n",
       "      <td>...</td>\n",
       "      <td>...</td>\n",
       "      <td>...</td>\n",
       "      <td>...</td>\n",
       "      <td>...</td>\n",
       "      <td>...</td>\n",
       "      <td>...</td>\n",
       "      <td>...</td>\n",
       "      <td>...</td>\n",
       "      <td>...</td>\n",
       "      <td>...</td>\n",
       "      <td>...</td>\n",
       "      <td>...</td>\n",
       "      <td>...</td>\n",
       "    </tr>\n",
       "    <tr>\n",
       "      <th>2789</th>\n",
       "      <td>4b5bb563356dc66b6fa4b6ce1e97e19a</td>\n",
       "      <td>43</td>\n",
       "      <td>689</td>\n",
       "      <td>0</td>\n",
       "      <td>1304</td>\n",
       "      <td>323</td>\n",
       "      <td>110</td>\n",
       "      <td>113</td>\n",
       "      <td>24</td>\n",
       "      <td>52</td>\n",
       "      <td>...</td>\n",
       "      <td>0</td>\n",
       "      <td>0</td>\n",
       "      <td>0</td>\n",
       "      <td>0</td>\n",
       "      <td>0</td>\n",
       "      <td>0</td>\n",
       "      <td>6</td>\n",
       "      <td>0</td>\n",
       "      <td>0</td>\n",
       "      <td>1</td>\n",
       "    </tr>\n",
       "    <tr>\n",
       "      <th>2790</th>\n",
       "      <td>4e1e3078cab979e151f372dc89b8cab6</td>\n",
       "      <td>397</td>\n",
       "      <td>2246</td>\n",
       "      <td>0</td>\n",
       "      <td>2725</td>\n",
       "      <td>497</td>\n",
       "      <td>401</td>\n",
       "      <td>177</td>\n",
       "      <td>0</td>\n",
       "      <td>172</td>\n",
       "      <td>...</td>\n",
       "      <td>0</td>\n",
       "      <td>0</td>\n",
       "      <td>0</td>\n",
       "      <td>1</td>\n",
       "      <td>0</td>\n",
       "      <td>0</td>\n",
       "      <td>9</td>\n",
       "      <td>0</td>\n",
       "      <td>1</td>\n",
       "      <td>1</td>\n",
       "    </tr>\n",
       "    <tr>\n",
       "      <th>2791</th>\n",
       "      <td>4dbe480956c97011f3d217ee4db18ede</td>\n",
       "      <td>33</td>\n",
       "      <td>672</td>\n",
       "      <td>0</td>\n",
       "      <td>145</td>\n",
       "      <td>81</td>\n",
       "      <td>164</td>\n",
       "      <td>79</td>\n",
       "      <td>1</td>\n",
       "      <td>107</td>\n",
       "      <td>...</td>\n",
       "      <td>0</td>\n",
       "      <td>0</td>\n",
       "      <td>0</td>\n",
       "      <td>0</td>\n",
       "      <td>0</td>\n",
       "      <td>0</td>\n",
       "      <td>0</td>\n",
       "      <td>4</td>\n",
       "      <td>5</td>\n",
       "      <td>1</td>\n",
       "    </tr>\n",
       "    <tr>\n",
       "      <th>2792</th>\n",
       "      <td>4caedb9cd210391b7fc7c234562af9cb</td>\n",
       "      <td>36</td>\n",
       "      <td>719</td>\n",
       "      <td>0</td>\n",
       "      <td>690</td>\n",
       "      <td>138</td>\n",
       "      <td>112</td>\n",
       "      <td>65</td>\n",
       "      <td>0</td>\n",
       "      <td>43</td>\n",
       "      <td>...</td>\n",
       "      <td>0</td>\n",
       "      <td>0</td>\n",
       "      <td>0</td>\n",
       "      <td>0</td>\n",
       "      <td>0</td>\n",
       "      <td>0</td>\n",
       "      <td>0</td>\n",
       "      <td>0</td>\n",
       "      <td>0</td>\n",
       "      <td>1</td>\n",
       "    </tr>\n",
       "    <tr>\n",
       "      <th>2793</th>\n",
       "      <td>4e4dda68bfdc7a10e568ac729d12befe</td>\n",
       "      <td>2717</td>\n",
       "      <td>105324</td>\n",
       "      <td>4</td>\n",
       "      <td>3106</td>\n",
       "      <td>3066</td>\n",
       "      <td>30976</td>\n",
       "      <td>123</td>\n",
       "      <td>3</td>\n",
       "      <td>31491</td>\n",
       "      <td>...</td>\n",
       "      <td>0</td>\n",
       "      <td>0</td>\n",
       "      <td>0</td>\n",
       "      <td>0</td>\n",
       "      <td>0</td>\n",
       "      <td>0</td>\n",
       "      <td>0</td>\n",
       "      <td>0</td>\n",
       "      <td>0</td>\n",
       "      <td>1</td>\n",
       "    </tr>\n",
       "  </tbody>\n",
       "</table>\n",
       "<p>2794 rows × 40 columns</p>\n",
       "</div>"
      ],
      "text/plain": [
       "                                    ID   jmp     mov  retf   push   pop  \\\n",
       "0     4d1bbe1ef6371b338826836d740d726f  2473   25391     0  11703  3486   \n",
       "1     0d2b28bec8d17f692db56e87cce59992   520    4692     0   5653  1239   \n",
       "2     4df4d08911a65aa83284545ca1ffeb71   294    2016     0   2579   711   \n",
       "3     1ed70ce407ad8203816829b4ea1aae3d   289    1306     0   1992   170   \n",
       "4     2eccffbe627068a60bf7911fd8701ae6   143    1165     0   1107   266   \n",
       "...                                ...   ...     ...   ...    ...   ...   \n",
       "2789  4b5bb563356dc66b6fa4b6ce1e97e19a    43     689     0   1304   323   \n",
       "2790  4e1e3078cab979e151f372dc89b8cab6   397    2246     0   2725   497   \n",
       "2791  4dbe480956c97011f3d217ee4db18ede    33     672     0    145    81   \n",
       "2792  4caedb9cd210391b7fc7c234562af9cb    36     719     0    690   138   \n",
       "2793  4e4dda68bfdc7a10e568ac729d12befe  2717  105324     4   3106  3066   \n",
       "\n",
       "        xor  retn  nop    sub  ...  ebx  ecx  edi  ebp  esp  eip  .dll  std::  \\\n",
       "0      2544  1724   25   1304  ...    0    0    0    0    0    0     2    367   \n",
       "1       453   520    0    274  ...    0    0    0    1    1    0     7      0   \n",
       "2       348   271    6    165  ...    0    0    0    0    0    0     7      0   \n",
       "3       127    77    0     88  ...    0    0    0    0    0    0     0      0   \n",
       "4       124   159    0     48  ...    0    0    0    0    0    0     2      0   \n",
       "...     ...   ...  ...    ...  ...  ...  ...  ...  ...  ...  ...   ...    ...   \n",
       "2789    110   113   24     52  ...    0    0    0    0    0    0     6      0   \n",
       "2790    401   177    0    172  ...    0    0    0    1    0    0     9      0   \n",
       "2791    164    79    1    107  ...    0    0    0    0    0    0     0      4   \n",
       "2792    112    65    0     43  ...    0    0    0    0    0    0     0      0   \n",
       "2793  30976   123    3  31491  ...    0    0    0    0    0    0     0      0   \n",
       "\n",
       "      :dword  label  \n",
       "0        113      0  \n",
       "1         17      0  \n",
       "2          7      0  \n",
       "3          0      0  \n",
       "4          0      0  \n",
       "...      ...    ...  \n",
       "2789       0      1  \n",
       "2790       1      1  \n",
       "2791       5      1  \n",
       "2792       0      1  \n",
       "2793       0      1  \n",
       "\n",
       "[2794 rows x 40 columns]"
      ]
     },
     "execution_count": 3,
     "metadata": {},
     "output_type": "execute_result"
    }
   ],
   "source": [
    "import sklearn\n",
    "df_list = [train_benign_df, train_malware_df, test_benign_df, test_malware_df, valid_benign, valid_malware]\n",
    "full_df = pd.concat(df_list, ignore_index=True, axis=0)\n",
    "full_df"
   ]
  },
  {
   "cell_type": "markdown",
   "metadata": {},
   "source": [
    "### 정규화"
   ]
  },
  {
   "cell_type": "code",
   "execution_count": 4,
   "metadata": {},
   "outputs": [],
   "source": [
    "# from sklearn.preprocessing import MinMaxScaler\n",
    "# scaler = MinMaxScaler()\n",
    "NORMALIZE_VALID_COLUMNS = [ 'jmp', 'mov', 'retf', 'push', 'pop', 'xor', 'retn', 'nop', 'sub', 'inc', 'dec', 'add','imul', 'xchg', 'or', 'shr', 'cmp', 'call', 'shl', 'ror', 'rol', 'jnb','jz','rtn','lea','movzx', 'edx','esi','eax','ebx','ecx','edi','ebp','esp','eip', '.dll', 'std::', ':dword']\n",
    "\n",
    "# full_df[NORMALIZE_VALID_COLUMNS] = scaler.fit_transform(full_df[NORMALIZE_VALID_COLUMNS])\n",
    "# full_df[NORMALIZE_VALID_COLUMNS].astype('float')"
   ]
  },
  {
   "cell_type": "markdown",
   "metadata": {},
   "source": [
    "### train_test_split"
   ]
  },
  {
   "cell_type": "code",
   "execution_count": 82,
   "metadata": {},
   "outputs": [],
   "source": [
    "from sklearn.model_selection import train_test_split\n",
    "\n",
    "X_train, X_test, y_train, y_test = train_test_split(full_df[NORMALIZE_VALID_COLUMNS],full_df['label'], stratify=full_df['label'], test_size=0.1, random_state=42)"
   ]
  },
  {
   "cell_type": "markdown",
   "metadata": {},
   "source": [
    "###  label값 개수를 동일하게 하기 위한 교차검증 사용 (stratifiedKFold)"
   ]
  },
  {
   "cell_type": "markdown",
   "metadata": {},
   "source": [
    "#### DecisionTree Classifier"
   ]
  },
  {
   "cell_type": "markdown",
   "metadata": {},
   "source": [
    "### 주성분검출(PCA)"
   ]
  },
  {
   "cell_type": "code",
   "execution_count": 171,
   "metadata": {},
   "outputs": [
    {
     "name": "stdout",
     "output_type": "stream",
     "text": [
      "Variance sum :  0.9999902336778894\n"
     ]
    }
   ],
   "source": [
    "from sklearn.decomposition import PCA\n",
    "\n",
    "skpca = PCA(n_components=23)\n",
    "X_pca = skpca.fit_transform(X_train)\n",
    "print('Variance sum : ', skpca.explained_variance_ratio_.cumsum()[-1])"
   ]
  },
  {
   "cell_type": "code",
   "execution_count": 172,
   "metadata": {},
   "outputs": [],
   "source": [
    "features = full_df[NORMALIZE_VALID_COLUMNS]\n",
    "label = full_df['label']"
   ]
  },
  {
   "cell_type": "markdown",
   "metadata": {},
   "source": [
    "### RandomForestClassifier"
   ]
  },
  {
   "cell_type": "code",
   "execution_count": 186,
   "metadata": {},
   "outputs": [
    {
     "name": "stdout",
     "output_type": "stream",
     "text": [
      "              precision    recall  f1-score   support\n",
      "\n",
      "           0     0.9110    0.9500    0.9301       140\n",
      "           1     0.9478    0.9071    0.9270       140\n",
      "\n",
      "    accuracy                         0.9286       280\n",
      "   macro avg     0.9294    0.9286    0.9285       280\n",
      "weighted avg     0.9294    0.9286    0.9285       280\n",
      "\n"
     ]
    }
   ],
   "source": [
    "from sklearn.ensemble import RandomForestClassifier as RFC\n",
    "from sklearn.metrics import classification_report, confusion_matrix\n",
    "\n",
    "model = RFC(n_estimators=100, random_state=42, \n",
    "                          oob_score = True,\n",
    "                          max_depth = 16, \n",
    "                          max_features = 'sqrt')\n",
    "\n",
    "model.fit(X_pca, y_train)\n",
    "\n",
    "X_test_new = pd.DataFrame(X_test, columns=features.columns)\n",
    "X_test_pca = skpca.transform(X_test_new)\n",
    "\n",
    "y_pred = model.predict(X_test_pca)\n",
    "print(classification_report(y_test,y_pred, digits=4))"
   ]
  },
  {
   "cell_type": "code",
   "execution_count": 187,
   "metadata": {},
   "outputs": [
    {
     "data": {
      "text/plain": [
       "RandomForestClassifier(max_depth=16, max_features='sqrt', oob_score=True,\n",
       "                       random_state=42)"
      ]
     },
     "execution_count": 187,
     "metadata": {},
     "output_type": "execute_result"
    }
   ],
   "source": [
    "model"
   ]
  },
  {
   "cell_type": "code",
   "execution_count": 174,
   "metadata": {},
   "outputs": [
    {
     "data": {
      "text/plain": [
       "<AxesSubplot:>"
      ]
     },
     "execution_count": 174,
     "metadata": {},
     "output_type": "execute_result"
    },
    {
     "data": {
      "image/png": "[encoded data removed]",
      "text/plain": [
       "<Figure size 432x288 with 1 Axes>"
      ]
     },
     "metadata": {
      "needs_background": "light"
     },
     "output_type": "display_data"
    }
   ],
   "source": [
    "sns.heatmap(confusion_matrix(y_test,y_pred), annot=True, fmt=\"d\", cmap=plt.cm.Blues, cbar=False)"
   ]
  },
  {
   "cell_type": "markdown",
   "metadata": {},
   "source": [
    "### Support Vector Machine"
   ]
  },
  {
   "cell_type": "code",
   "execution_count": 175,
   "metadata": {},
   "outputs": [],
   "source": [
    "from sklearn.svm import SVC"
   ]
  },
  {
   "cell_type": "code",
   "execution_count": 176,
   "metadata": {},
   "outputs": [],
   "source": [
    "model = SVC()"
   ]
  },
  {
   "cell_type": "code",
   "execution_count": 177,
   "metadata": {},
   "outputs": [
    {
     "data": {
      "text/plain": [
       "SVC()"
      ]
     },
     "execution_count": 177,
     "metadata": {},
     "output_type": "execute_result"
    }
   ],
   "source": [
    "model.fit(X_pca,y_train)"
   ]
  },
  {
   "cell_type": "code",
   "execution_count": 178,
   "metadata": {},
   "outputs": [],
   "source": [
    "predictions = model.predict(X_test_pca)"
   ]
  },
  {
   "cell_type": "code",
   "execution_count": 179,
   "metadata": {},
   "outputs": [
    {
     "name": "stdout",
     "output_type": "stream",
     "text": [
      "              precision    recall  f1-score   support\n",
      "\n",
      "           0       0.70      0.46      0.55       140\n",
      "           1       0.60      0.80      0.68       140\n",
      "\n",
      "    accuracy                           0.63       280\n",
      "   macro avg       0.65      0.63      0.62       280\n",
      "weighted avg       0.65      0.63      0.62       280\n",
      "\n"
     ]
    }
   ],
   "source": [
    "print(classification_report(y_test,predictions))"
   ]
  },
  {
   "cell_type": "code",
   "execution_count": 180,
   "metadata": {},
   "outputs": [
    {
     "data": {
      "text/plain": [
       "<AxesSubplot:>"
      ]
     },
     "execution_count": 180,
     "metadata": {},
     "output_type": "execute_result"
    },
    {
     "data": {
      "image/png": "[encoded data removed]",
      "text/plain": [
       "<Figure size 432x288 with 1 Axes>"
      ]
     },
     "metadata": {
      "needs_background": "light"
     },
     "output_type": "display_data"
    }
   ],
   "source": [
    "sns.heatmap(confusion_matrix(y_test,predictions), annot=True, fmt=\"d\", cmap=plt.cm.Blues, cbar=False)"
   ]
  },
  {
   "cell_type": "markdown",
   "metadata": {},
   "source": [
    "### 하이퍼 파라미터 search (GridSearchCV)"
   ]
  },
  {
   "cell_type": "code",
   "execution_count": 181,
   "metadata": {},
   "outputs": [],
   "source": [
    "from sklearn.model_selection import GridSearchCV"
   ]
  },
  {
   "cell_type": "code",
   "execution_count": 182,
   "metadata": {},
   "outputs": [],
   "source": [
    "params = { 'n_estimators' : [80, 90, 100, 110, 120],\n",
    "           'max_depth' : [14, 15, 16, 17, 18, 19, 20],\n",
    "            }"
   ]
  },
  {
   "cell_type": "code",
   "execution_count": 183,
   "metadata": {},
   "outputs": [
    {
     "name": "stdout",
     "output_type": "stream",
     "text": [
      "최적 하이퍼 파라미터:  {'max_depth': 17, 'n_estimators': 90}\n",
      "최고 예측 정확도 : 0.9137\n"
     ]
    }
   ],
   "source": [
    "hipher_rf_clf = RFC(random_state=42,n_jobs=-1 ,max_features = 'sqrt', oob_score=True)\n",
    "grid_cv = GridSearchCV(hipher_rf_clf, param_grid=params, n_jobs=-1, scoring='f1_micro')\n",
    "grid_cv.fit(X_pca, y_train)\n",
    "\n",
    "print('최적 하이퍼 파라미터: ', grid_cv.best_params_)\n",
    "print('최고 예측 정확도 : {:.4f}'.format(grid_cv.best_score_))\n"
   ]
  },
  {
   "cell_type": "code",
   "execution_count": 184,
   "metadata": {},
   "outputs": [
    {
     "name": "stdout",
     "output_type": "stream",
     "text": [
      "              precision    recall  f1-score   support\n",
      "\n",
      "           0     0.8966    0.9286    0.9123       140\n",
      "           1     0.9259    0.8929    0.9091       140\n",
      "\n",
      "    accuracy                         0.9107       280\n",
      "   macro avg     0.9112    0.9107    0.9107       280\n",
      "weighted avg     0.9112    0.9107    0.9107       280\n",
      "\n"
     ]
    }
   ],
   "source": [
    "rf_best = RFC(n_estimators=90,\n",
    "              random_state=42,\n",
    "              max_depth=17,\n",
    "              oob_score = True,\n",
    "              max_features='sqrt',\n",
    "              n_jobs=-1)\n",
    "rf_best.fit(X_pca, y_train)\n",
    "\n",
    "pred = rf_best.predict(X_test_pca)\n",
    "print(classification_report(y_test,pred, digits=4))"
   ]
  },
  {
   "cell_type": "code",
   "execution_count": 137,
   "metadata": {},
   "outputs": [
    {
     "data": {
      "text/plain": [
       "<AxesSubplot:>"
      ]
     },
     "execution_count": 137,
     "metadata": {},
     "output_type": "execute_result"
    },
    {
     "data": {
      "image/png": "[encoded data removed]",
      "text/plain": [
       "<Figure size 432x288 with 1 Axes>"
      ]
     },
     "metadata": {
      "needs_background": "light"
     },
     "output_type": "display_data"
    }
   ],
   "source": [
    "sns.heatmap(confusion_matrix(y_test,pred), annot=True, fmt=\"d\", cmap=plt.cm.Blues, cbar=False)"
   ]
  },
  {
   "cell_type": "markdown",
   "metadata": {},
   "source": []
  }
 ],
 "metadata": {
  "interpreter": {
   "hash": "263279b5c7f5294ef7179eeb038e9113bb5dce42ff0c0d19b3e81ce1438dd79a"
  },
  "kernelspec": {
   "display_name": "Python 3.8.12 ('keras_env')",
   "language": "python",
   "name": "python3"
  },
  "language_info": {
   "codemirror_mode": {
    "name": "ipython",
    "version": 3
   },
   "file_extension": ".py",
   "mimetype": "text/x-python",
   "name": "python",
   "nbconvert_exporter": "python",
   "pygments_lexer": "ipython3",
   "version": "3.8.12"
  },
  "orig_nbformat": 4
 },
 "nbformat": 4,
 "nbformat_minor": 2
}
