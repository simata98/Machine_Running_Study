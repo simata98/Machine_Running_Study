version https://git-lfs.github.com/spec/v1
oid sha256:a732e6971308caf9a4aaf1517ae38b7f778f9369dd603fe1c765dc42af4a7441
size 3757768
