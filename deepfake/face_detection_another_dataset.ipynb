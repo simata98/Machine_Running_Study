{
 "cells": [
  {
   "cell_type": "code",
   "execution_count": 1,
   "metadata": {},
   "outputs": [
    {
     "name": "stderr",
     "output_type": "stream",
     "text": [
      "2022-05-03 11:35:47.052117: I tensorflow/core/platform/cpu_feature_guard.cc:142] This TensorFlow binary is optimized with oneAPI Deep Neural Network Library (oneDNN) to use the following CPU instructions in performance-critical operations:  SSE4.1 SSE4.2 AVX AVX2 AVX512F FMA\n",
      "To enable them in other operations, rebuild TensorFlow with the appropriate compiler flags.\n",
      "2022-05-03 11:35:47.778436: I tensorflow/core/common_runtime/gpu/gpu_device.cc:1510] Created device /job:localhost/replica:0/task:0/device:GPU:0 with 30970 MB memory:  -> device: 0, name: Tesla V100S-PCIE-32GB, pci bus id: 0000:3b:00.0, compute capability: 7.0\n"
     ]
    },
    {
     "name": "stdout",
     "output_type": "stream",
     "text": [
      "INFO:tensorflow:Using MirroredStrategy with devices ('/job:localhost/replica:0/task:0/device:GPU:0',)\n",
      "Number of accelerators:  1\n"
     ]
    }
   ],
   "source": [
    "from tensorflow.keras.preprocessing.image import ImageDataGenerator\n",
    "from tensorflow.keras.layers import GlobalAveragePooling2D\n",
    "from tensorflow.keras.layers import BatchNormalization\n",
    "from tensorflow.keras.applications import MobileNetV2\n",
    "from tensorflow.keras.optimizers import Adam\n",
    "from tensorflow.keras.layers import Dropout\n",
    "from tensorflow.keras.layers import Dense\n",
    "from tensorflow.keras.layers import Flatten\n",
    "from tensorflow.keras import Sequential\n",
    "from tensorflow.keras import Model\n",
    "from tensorflow.keras.preprocessing.image import img_to_array\n",
    "from tensorflow.keras.preprocessing.image import load_img\n",
    "\n",
    "from tensorflow.keras.layers import Conv2D\n",
    "from tensorflow.keras.layers import MaxPooling2D\n",
    "\n",
    "import matplotlib.pyplot as plt\n",
    "import tensorflow as tf\n",
    "import numpy as np\n",
    "import pandas as pd\n",
    "import cv2\n",
    "import os\n",
    "\n",
    "strategy = tf.distribute.MirroredStrategy()\n",
    "\n",
    "print(\"Number of accelerators: \", strategy.num_replicas_in_sync)"
   ]
  },
  {
   "cell_type": "code",
   "execution_count": 2,
   "metadata": {},
   "outputs": [],
   "source": [
    "train_datagen = ImageDataGenerator(horizontal_flip=True,\n",
    "                                   vertical_flip=False,\n",
    "                                   rescale=1./255,\n",
    "                                   validation_split=0.2)\n",
    "\n",
    "val_datagen = ImageDataGenerator(rescale=1./255)\n",
    "test_datagen = ImageDataGenerator(rescale=1./255)"
   ]
  },
  {
   "cell_type": "code",
   "execution_count": 4,
   "metadata": {},
   "outputs": [
    {
     "name": "stdout",
     "output_type": "stream",
     "text": [
      "Found 100000 images belonging to 2 classes.\n",
      "Found 20000 images belonging to 2 classes.\n",
      "Found 20000 images belonging to 2 classes.\n"
     ]
    }
   ],
   "source": [
    "train = \"./data/real_vs_fake/real-vs-fake/train\"\n",
    "valid = \"./data/real_vs_fake/real-vs-fake/valid\"\n",
    "test = \"./data/real_vs_fake/real-vs-fake/test\"\n",
    "\n",
    "train_generator1 = train_datagen.flow_from_directory(train,\n",
    "                                                     batch_size=64,\n",
    "                                                     target_size=(128, 128),\n",
    "                                                     class_mode='binary',\n",
    "                                                     )\n",
    "\n",
    "val_generator = train_datagen.flow_from_directory(valid,\n",
    "                                                     batch_size=32,\n",
    "                                                     target_size=(128, 128),\n",
    "                                                     class_mode='binary',\n",
    "                                                     )\n",
    "\n",
    "test_generator = train_datagen.flow_from_directory(test,\n",
    "                                                     batch_size=64,\n",
    "                                                     target_size=(128, 128),\n",
    "                                                     class_mode='binary',\n",
    "                                                     )"
   ]
  },
  {
   "cell_type": "code",
   "execution_count": 5,
   "metadata": {},
   "outputs": [
    {
     "data": {
      "text/plain": [
       "array([0, 0, 0, ..., 1, 1, 1], dtype=int32)"
      ]
     },
     "execution_count": 5,
     "metadata": {},
     "output_type": "execute_result"
    }
   ],
   "source": [
    "train_generator1.labels"
   ]
  },
  {
   "cell_type": "code",
   "execution_count": 6,
   "metadata": {},
   "outputs": [
    {
     "name": "stdout",
     "output_type": "stream",
     "text": [
      "Downloading data from https://storage.googleapis.com/tensorflow/keras-applications/mobilenet_v2/mobilenet_v2_weights_tf_dim_ordering_tf_kernels_1.0_128_no_top.h5\n",
      "9412608/9406464 [==============================] - 1s 0us/step\n",
      "9420800/9406464 [==============================] - 1s 0us/step\n",
      "Model: \"model\"\n",
      "__________________________________________________________________________________________________\n",
      "Layer (type)                    Output Shape         Param #     Connected to                     \n",
      "==================================================================================================\n",
      "input_4 (InputLayer)            [(None, 128, 128, 3) 0                                            \n",
      "__________________________________________________________________________________________________\n",
      "sequential (Sequential)         (None, 2)            7301442     input_4[0][0]                    \n",
      "__________________________________________________________________________________________________\n",
      "sequential_1 (Sequential)       (None, 2)            43184258    input_4[0][0]                    \n",
      "__________________________________________________________________________________________________\n",
      "sequential_2 (Sequential)       (None, 2)            2587458     input_4[0][0]                    \n",
      "__________________________________________________________________________________________________\n",
      "sequential_3 (Sequential)       (None, 2)            7413090     input_4[0][0]                    \n",
      "__________________________________________________________________________________________________\n",
      "average (Average)               (None, 2)            0           sequential[0][0]                 \n",
      "                                                                 sequential_1[0][0]               \n",
      "                                                                 sequential_2[0][0]               \n",
      "                                                                 sequential_3[0][0]               \n",
      "==================================================================================================\n",
      "Total params: 60,486,248\n",
      "Trainable params: 60,261,032\n",
      "Non-trainable params: 225,216\n",
      "__________________________________________________________________________________________________\n"
     ]
    }
   ],
   "source": [
    "transfer1 = tf.keras.applications.DenseNet121(\n",
    "  weights='imagenet',\n",
    "  input_shape=(128, 128, 3),\n",
    "  include_top=False\n",
    ")\n",
    "\n",
    "transfer2 = tf.keras.applications.ResNet101(\n",
    "  weights='imagenet',\n",
    "  input_shape=(128, 128, 3),\n",
    "  include_top=False\n",
    ")\n",
    "\n",
    "transfer3 = tf.keras.applications.MobileNetV2(\n",
    "  weights='imagenet',\n",
    "  input_shape=(128, 128, 3),\n",
    "  include_top=False\n",
    ")\n",
    "\n",
    "model1 = Sequential([\n",
    "  transfer1,\n",
    "  GlobalAveragePooling2D(),\n",
    "  Dense(256, activation='relu'),\n",
    "  BatchNormalization(),\n",
    "  Dropout(0.5),\n",
    "  Dense(2, activation='softmax')\n",
    "])\n",
    "\n",
    "model2 = Sequential([\n",
    "  transfer2,\n",
    "  GlobalAveragePooling2D(),\n",
    "  Dense(256, activation='relu'),\n",
    "  BatchNormalization(),\n",
    "  Dropout(0.5),\n",
    "  Dense(2, activation='softmax')\n",
    "])\n",
    "\n",
    "model3 = Sequential([\n",
    "  transfer3,\n",
    "  GlobalAveragePooling2D(),\n",
    "  Dense(256, activation='relu'),\n",
    "  BatchNormalization(),\n",
    "  Dropout(0.5),\n",
    "  Dense(2, activation='softmax')\n",
    "])\n",
    "\n",
    "model4 = Sequential([\n",
    "  Conv2D(64, kernel_size=(3, 3), activation='relu', input_shape=(128, 128, 3)),\n",
    "  BatchNormalization(),\n",
    "  Conv2D(32, kernel_size=(3, 3), activation='relu'),\n",
    "  BatchNormalization(),\n",
    "  MaxPooling2D(pool_size=(2, 2)),\n",
    "  Dropout(0.25),\n",
    "  Conv2D(64, kernel_size=(3, 3), activation='relu'),\n",
    "  BatchNormalization(),\n",
    "  MaxPooling2D(pool_size=(2, 2)),\n",
    "  Dropout(0.25),\n",
    "  Flatten(),\n",
    "  Dense(128, activation='relu'),\n",
    "  BatchNormalization(),\n",
    "  Dropout(0.25),\n",
    "  Dense(2, activation='softmax')\n",
    "])\n",
    "\n",
    "models = [model1, model2, model3, model4]\n",
    "model_input = tf.keras.layers.Input(shape=(128, 128, 3))\n",
    "model_outputs = [model(model_input) for model in models]\n",
    "ensemble_op = tf.keras.layers.Average()(model_outputs)\n",
    "ensemble_model = tf.keras.Model(inputs=model_input, outputs=ensemble_op)\n",
    "\n",
    "ensemble_model.summary()"
   ]
  },
  {
   "cell_type": "code",
   "execution_count": 7,
   "metadata": {},
   "outputs": [],
   "source": [
    "ensemble_model.compile(optimizer=Adam(learning_rate=0.001),\n",
    "                       loss='sparse_categorical_crossentropy',\n",
    "                       metrics=['accuracy'])"
   ]
  },
  {
   "cell_type": "code",
   "execution_count": 8,
   "metadata": {},
   "outputs": [],
   "source": [
    "def schedular(epoch):\n",
    "  if epoch <= 2:\n",
    "    return 0.001\n",
    "  elif epoch > 2 and epoch <= 15:\n",
    "    return 0.0001\n",
    "  else:\n",
    "    return 0.00001\n",
    "  \n",
    "lr_callbacks = tf.keras.callbacks.LearningRateScheduler(schedular)"
   ]
  },
  {
   "cell_type": "code",
   "execution_count": 9,
   "metadata": {},
   "outputs": [
    {
     "name": "stderr",
     "output_type": "stream",
     "text": [
      "2022-05-03 11:50:50.857846: I tensorflow/compiler/mlir/mlir_graph_optimization_pass.cc:185] None of the MLIR Optimization Passes are enabled (registered 2)\n"
     ]
    },
    {
     "name": "stdout",
     "output_type": "stream",
     "text": [
      "Epoch 1/20\n"
     ]
    },
    {
     "name": "stderr",
     "output_type": "stream",
     "text": [
      "2022-05-03 11:51:12.875200: I tensorflow/stream_executor/cuda/cuda_dnn.cc:369] Loaded cuDNN version 8201\n"
     ]
    },
    {
     "name": "stdout",
     "output_type": "stream",
     "text": [
      "1562/1562 [==============================] - 498s 302ms/step - loss: 0.3734 - accuracy: 0.8426 - val_loss: 0.5198 - val_accuracy: 0.7437\n",
      "Epoch 2/20\n",
      "1562/1562 [==============================] - 465s 297ms/step - loss: 0.2360 - accuracy: 0.9216 - val_loss: 0.3813 - val_accuracy: 0.8528\n",
      "Epoch 3/20\n",
      "1562/1562 [==============================] - 466s 298ms/step - loss: 0.1931 - accuracy: 0.9417 - val_loss: 0.3529 - val_accuracy: 0.8755\n",
      "Epoch 4/20\n",
      "1562/1562 [==============================] - 466s 298ms/step - loss: 0.1168 - accuracy: 0.9700 - val_loss: 0.1269 - val_accuracy: 0.9652\n",
      "Epoch 5/20\n",
      "1562/1562 [==============================] - 466s 298ms/step - loss: 0.0926 - accuracy: 0.9787 - val_loss: 0.0948 - val_accuracy: 0.9790\n",
      "Epoch 6/20\n",
      "1562/1562 [==============================] - 466s 298ms/step - loss: 0.0836 - accuracy: 0.9821 - val_loss: 0.0932 - val_accuracy: 0.9822\n",
      "Epoch 7/20\n",
      "1562/1562 [==============================] - 466s 298ms/step - loss: 0.0724 - accuracy: 0.9860 - val_loss: 0.0906 - val_accuracy: 0.9810\n",
      "Epoch 8/20\n",
      "1562/1562 [==============================] - 466s 298ms/step - loss: 0.0659 - accuracy: 0.9877 - val_loss: 0.0827 - val_accuracy: 0.9806\n",
      "Epoch 9/20\n",
      "1562/1562 [==============================] - 466s 298ms/step - loss: 0.0613 - accuracy: 0.9895 - val_loss: 0.0738 - val_accuracy: 0.9846\n",
      "Epoch 10/20\n",
      "1562/1562 [==============================] - 466s 298ms/step - loss: 0.0551 - accuracy: 0.9910 - val_loss: 0.0808 - val_accuracy: 0.9837\n",
      "Epoch 11/20\n",
      "1562/1562 [==============================] - 467s 299ms/step - loss: 0.0525 - accuracy: 0.9922 - val_loss: 0.0660 - val_accuracy: 0.9883\n",
      "Epoch 12/20\n",
      "1562/1562 [==============================] - 466s 299ms/step - loss: 0.0483 - accuracy: 0.9932 - val_loss: 0.0670 - val_accuracy: 0.9892\n",
      "Epoch 13/20\n",
      "1562/1562 [==============================] - 470s 301ms/step - loss: 0.0458 - accuracy: 0.9937 - val_loss: 0.0604 - val_accuracy: 0.9875\n",
      "Epoch 14/20\n",
      "1562/1562 [==============================] - 467s 299ms/step - loss: 0.0428 - accuracy: 0.9944 - val_loss: 0.0668 - val_accuracy: 0.9864\n",
      "Epoch 15/20\n",
      "1562/1562 [==============================] - 466s 299ms/step - loss: 0.0399 - accuracy: 0.9949 - val_loss: 0.0757 - val_accuracy: 0.9825\n",
      "Epoch 16/20\n",
      "1562/1562 [==============================] - 466s 298ms/step - loss: 0.0382 - accuracy: 0.9951 - val_loss: 0.0642 - val_accuracy: 0.9887\n",
      "Epoch 17/20\n",
      "1562/1562 [==============================] - 467s 299ms/step - loss: 0.0334 - accuracy: 0.9960 - val_loss: 0.0512 - val_accuracy: 0.9901\n",
      "Epoch 18/20\n",
      "1562/1562 [==============================] - 467s 299ms/step - loss: 0.0313 - accuracy: 0.9968 - val_loss: 0.0526 - val_accuracy: 0.9906\n",
      "Epoch 19/20\n",
      "1562/1562 [==============================] - 466s 298ms/step - loss: 0.0300 - accuracy: 0.9971 - val_loss: 0.0499 - val_accuracy: 0.9916\n",
      "Epoch 20/20\n",
      "1562/1562 [==============================] - 467s 299ms/step - loss: 0.0294 - accuracy: 0.9970 - val_loss: 0.0520 - val_accuracy: 0.9905\n"
     ]
    }
   ],
   "source": [
    "hist = ensemble_model.fit(train_generator1, steps_per_epoch=100000//64, validation_steps=20000//64, epochs=20, callbacks=[lr_callbacks], validation_data=val_generator)"
   ]
  },
  {
   "cell_type": "code",
   "execution_count": null,
   "metadata": {},
   "outputs": [],
   "source": []
  }
 ],
 "metadata": {
  "interpreter": {
   "hash": "263279b5c7f5294ef7179eeb038e9113bb5dce42ff0c0d19b3e81ce1438dd79a"
  },
  "kernelspec": {
   "display_name": "Python 3.8.12 ('keras_env')",
   "language": "python",
   "name": "python3"
  },
  "language_info": {
   "codemirror_mode": {
    "name": "ipython",
    "version": 3
   },
   "file_extension": ".py",
   "mimetype": "text/x-python",
   "name": "python",
   "nbconvert_exporter": "python",
   "pygments_lexer": "ipython3",
   "version": "3.8.12"
  },
  "orig_nbformat": 4
 },
 "nbformat": 4,
 "nbformat_minor": 2
}
