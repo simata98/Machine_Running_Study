version https://git-lfs.github.com/spec/v1
oid sha256:ab46b249e098b5cd24f625c96b8ab8ecb62bdb567267433e159085234d0f642a
size 15639
