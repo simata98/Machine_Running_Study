version https://git-lfs.github.com/spec/v1
oid sha256:fb16d7d25518596ae9b1fa08c34a9897155bca494421c20b94b11607a1df7854
size 2783622
