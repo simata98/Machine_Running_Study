{
 "cells": [
  {
   "cell_type": "code",
   "execution_count": 1,
   "id": "bd19057c",
   "metadata": {},
   "outputs": [],
   "source": [
    "import pandas as pd"
   ]
  },
  {
   "cell_type": "code",
   "execution_count": 2,
   "id": "83c40e5e",
   "metadata": {},
   "outputs": [],
   "source": [
    "travel_df = pd.read_csv('data/world_cities.csv')"
   ]
  },
  {
   "cell_type": "code",
   "execution_count": 3,
   "id": "c060b372",
   "metadata": {},
   "outputs": [
    {
     "data": {
      "text/html": [
       "<div>\n",
       "<style scoped>\n",
       "    .dataframe tbody tr th:only-of-type {\n",
       "        vertical-align: middle;\n",
       "    }\n",
       "\n",
       "    .dataframe tbody tr th {\n",
       "        vertical-align: top;\n",
       "    }\n",
       "\n",
       "    .dataframe thead th {\n",
       "        text-align: right;\n",
       "    }\n",
       "</style>\n",
       "<table border=\"1\" class=\"dataframe\">\n",
       "  <thead>\n",
       "    <tr style=\"text-align: right;\">\n",
       "      <th></th>\n",
       "      <th>Unnamed: 0</th>\n",
       "      <th>City / Urban area</th>\n",
       "      <th>Country</th>\n",
       "      <th>Population</th>\n",
       "      <th>Land area (in sqKm)</th>\n",
       "    </tr>\n",
       "  </thead>\n",
       "  <tbody>\n",
       "    <tr>\n",
       "      <th>0</th>\n",
       "      <td>0</td>\n",
       "      <td>Buenos Aires</td>\n",
       "      <td>Argentina</td>\n",
       "      <td>11200000</td>\n",
       "      <td>2266</td>\n",
       "    </tr>\n",
       "    <tr>\n",
       "      <th>1</th>\n",
       "      <td>1</td>\n",
       "      <td>Melbourne</td>\n",
       "      <td>Australia</td>\n",
       "      <td>3162000</td>\n",
       "      <td>2080</td>\n",
       "    </tr>\n",
       "    <tr>\n",
       "      <th>2</th>\n",
       "      <td>2</td>\n",
       "      <td>Sydney</td>\n",
       "      <td>Australia</td>\n",
       "      <td>3502000</td>\n",
       "      <td>1687</td>\n",
       "    </tr>\n",
       "    <tr>\n",
       "      <th>3</th>\n",
       "      <td>3</td>\n",
       "      <td>Brisbane</td>\n",
       "      <td>Australia</td>\n",
       "      <td>1508000</td>\n",
       "      <td>1603</td>\n",
       "    </tr>\n",
       "    <tr>\n",
       "      <th>4</th>\n",
       "      <td>4</td>\n",
       "      <td>Perth</td>\n",
       "      <td>Australia</td>\n",
       "      <td>1177000</td>\n",
       "      <td>964</td>\n",
       "    </tr>\n",
       "    <tr>\n",
       "      <th>...</th>\n",
       "      <td>...</td>\n",
       "      <td>...</td>\n",
       "      <td>...</td>\n",
       "      <td>...</td>\n",
       "      <td>...</td>\n",
       "    </tr>\n",
       "    <tr>\n",
       "      <th>244</th>\n",
       "      <td>245</td>\n",
       "      <td>Canton</td>\n",
       "      <td>USA</td>\n",
       "      <td>267000</td>\n",
       "      <td>372</td>\n",
       "    </tr>\n",
       "    <tr>\n",
       "      <th>245</th>\n",
       "      <td>246</td>\n",
       "      <td>Spokane</td>\n",
       "      <td>USA</td>\n",
       "      <td>335000</td>\n",
       "      <td>371</td>\n",
       "    </tr>\n",
       "    <tr>\n",
       "      <th>246</th>\n",
       "      <td>247</td>\n",
       "      <td>Tashkent</td>\n",
       "      <td>Uzbekistan</td>\n",
       "      <td>2200000</td>\n",
       "      <td>531</td>\n",
       "    </tr>\n",
       "    <tr>\n",
       "      <th>247</th>\n",
       "      <td>248</td>\n",
       "      <td>Ho Chi Minh City</td>\n",
       "      <td>Vietnam</td>\n",
       "      <td>4900000</td>\n",
       "      <td>518</td>\n",
       "    </tr>\n",
       "    <tr>\n",
       "      <th>248</th>\n",
       "      <td>249</td>\n",
       "      <td>Harare</td>\n",
       "      <td>Zimbabwe</td>\n",
       "      <td>1750000</td>\n",
       "      <td>712</td>\n",
       "    </tr>\n",
       "  </tbody>\n",
       "</table>\n",
       "<p>249 rows × 5 columns</p>\n",
       "</div>"
      ],
      "text/plain": [
       "     Unnamed: 0 City / Urban area     Country  Population  Land area (in sqKm)\n",
       "0             0      Buenos Aires   Argentina    11200000                 2266\n",
       "1             1         Melbourne   Australia     3162000                 2080\n",
       "2             2            Sydney   Australia     3502000                 1687\n",
       "3             3          Brisbane   Australia     1508000                 1603\n",
       "4             4             Perth   Australia     1177000                  964\n",
       "..          ...               ...         ...         ...                  ...\n",
       "244         245            Canton         USA      267000                  372\n",
       "245         246           Spokane         USA      335000                  371\n",
       "246         247          Tashkent  Uzbekistan     2200000                  531\n",
       "247         248  Ho Chi Minh City     Vietnam     4900000                  518\n",
       "248         249            Harare    Zimbabwe     1750000                  712\n",
       "\n",
       "[249 rows x 5 columns]"
      ]
     },
     "execution_count": 3,
     "metadata": {},
     "output_type": "execute_result"
    }
   ],
   "source": [
    "travel_df"
   ]
  },
  {
   "cell_type": "code",
   "execution_count": 4,
   "id": "5d14a8a2",
   "metadata": {},
   "outputs": [
    {
     "data": {
      "text/plain": [
       "array(['Argentina', 'Australia', 'Austria', 'Azerbaijan', 'Belgium',\n",
       "       'Brazil', 'Cambodia', 'Canada', 'Chile', 'China', 'Colombia',\n",
       "       'Congo', 'Denmark', 'Ecuador', 'Egypt', 'Finland', 'France',\n",
       "       'Germany', 'Ghana', 'Greece', 'Hungary', 'India', 'Indonesia',\n",
       "       'Iran', 'Iraq', 'Ireland', 'Israel', 'Italy', 'Japan', 'Kuwait',\n",
       "       'Lebanon', 'Malaysia', 'Mexico', 'Netherlands', 'New Zealand',\n",
       "       'Nigeria', 'Pakistan', 'Peru', 'Philippines', 'Poland', 'Portugal',\n",
       "       'Puerto Rico', 'Russia', 'Saudi', 'Saudi Arabia', 'Singapore',\n",
       "       'South Africa', 'South Korea', 'Spain', 'Sudan', 'Sweden',\n",
       "       'Taiwan', 'Thailand', 'Turkey', 'UAE', 'UK', 'Ukraine', 'USA',\n",
       "       'Uzbekistan', 'Vietnam', 'Zimbabwe'], dtype=object)"
      ]
     },
     "execution_count": 4,
     "metadata": {},
     "output_type": "execute_result"
    }
   ],
   "source": [
    "travel_df['Country'].unique()"
   ]
  },
  {
   "cell_type": "code",
   "execution_count": 8,
   "id": "274effb4",
   "metadata": {},
   "outputs": [
    {
     "data": {
      "text/plain": [
       "USA         105\n",
       "France       15\n",
       "Brazil       10\n",
       "Canada        9\n",
       "Germany       8\n",
       "           ... \n",
       "Greece        1\n",
       "Malaysia      1\n",
       "Ecuador       1\n",
       "Hungary       1\n",
       "Cambodia      1\n",
       "Name: Country, Length: 61, dtype: int64"
      ]
     },
     "execution_count": 8,
     "metadata": {},
     "output_type": "execute_result"
    }
   ],
   "source": [
    "travel_df['Country'].value_counts()"
   ]
  },
  {
   "cell_type": "code",
   "execution_count": 9,
   "id": "825818a3",
   "metadata": {},
   "outputs": [
    {
     "data": {
      "text/plain": [
       "Flint         1\n",
       "Mobile        1\n",
       "Providence    1\n",
       "Vienna        1\n",
       "Sao Paulo     1\n",
       "             ..\n",
       "Ankara        1\n",
       "Dublin        1\n",
       "Tel Aviv      1\n",
       "Albany        1\n",
       "Jackson       1\n",
       "Name: City / Urban area, Length: 249, dtype: int64"
      ]
     },
     "execution_count": 9,
     "metadata": {},
     "output_type": "execute_result"
    }
   ],
   "source": [
    "travel_df['City / Urban area'].value_counts()"
   ]
  },
  {
   "cell_type": "code",
   "execution_count": 12,
   "id": "a28494f4",
   "metadata": {},
   "outputs": [
    {
     "data": {
      "text/plain": [
       "False    230\n",
       "True      19\n",
       "dtype: int64"
      ]
     },
     "execution_count": 12,
     "metadata": {},
     "output_type": "execute_result"
    }
   ],
   "source": [
    "((travel_df['Population'] / travel_df['Land area (in sqKm)']) > 10000).value_counts()"
   ]
  },
  {
   "cell_type": "code",
   "execution_count": 13,
   "id": "365321d8",
   "metadata": {},
   "outputs": [
    {
     "data": {
      "text/plain": [
       "count      249.000000\n",
       "mean      3285.489898\n",
       "std       4124.363261\n",
       "min        329.284750\n",
       "25%        863.793103\n",
       "50%       1535.234899\n",
       "75%       3858.024691\n",
       "max      29648.760331\n",
       "dtype: float64"
      ]
     },
     "execution_count": 13,
     "metadata": {},
     "output_type": "execute_result"
    }
   ],
   "source": [
    "(travel_df['Population'] / travel_df['Land area (in sqKm)']).describe()"
   ]
  },
  {
   "cell_type": "code",
   "execution_count": 16,
   "id": "5b1b7c87",
   "metadata": {},
   "outputs": [],
   "source": [
    "travel_df[\"destiny\"] = (travel_df['Population'] / travel_df['Land area (in sqKm)'])"
   ]
  },
  {
   "cell_type": "code",
   "execution_count": 19,
   "id": "da632dbc",
   "metadata": {},
   "outputs": [
    {
     "data": {
      "text/html": [
       "<div>\n",
       "<style scoped>\n",
       "    .dataframe tbody tr th:only-of-type {\n",
       "        vertical-align: middle;\n",
       "    }\n",
       "\n",
       "    .dataframe tbody tr th {\n",
       "        vertical-align: top;\n",
       "    }\n",
       "\n",
       "    .dataframe thead th {\n",
       "        text-align: right;\n",
       "    }\n",
       "</style>\n",
       "<table border=\"1\" class=\"dataframe\">\n",
       "  <thead>\n",
       "    <tr style=\"text-align: right;\">\n",
       "      <th></th>\n",
       "      <th>Unnamed: 0</th>\n",
       "      <th>City / Urban area</th>\n",
       "      <th>Country</th>\n",
       "      <th>Population</th>\n",
       "      <th>Land area (in sqKm)</th>\n",
       "      <th>destiny</th>\n",
       "    </tr>\n",
       "  </thead>\n",
       "  <tbody>\n",
       "    <tr>\n",
       "      <th>196</th>\n",
       "      <td>197</td>\n",
       "      <td>Barnstable Town</td>\n",
       "      <td>USA</td>\n",
       "      <td>244000</td>\n",
       "      <td>741</td>\n",
       "      <td>329.284750</td>\n",
       "    </tr>\n",
       "    <tr>\n",
       "      <th>220</th>\n",
       "      <td>221</td>\n",
       "      <td>Hickory</td>\n",
       "      <td>USA</td>\n",
       "      <td>188000</td>\n",
       "      <td>546</td>\n",
       "      <td>344.322344</td>\n",
       "    </tr>\n",
       "    <tr>\n",
       "      <th>57</th>\n",
       "      <td>57</td>\n",
       "      <td>Pau</td>\n",
       "      <td>France</td>\n",
       "      <td>181000</td>\n",
       "      <td>450</td>\n",
       "      <td>402.222222</td>\n",
       "    </tr>\n",
       "    <tr>\n",
       "      <th>223</th>\n",
       "      <td>224</td>\n",
       "      <td>Asheville</td>\n",
       "      <td>USA</td>\n",
       "      <td>222000</td>\n",
       "      <td>536</td>\n",
       "      <td>414.179104</td>\n",
       "    </tr>\n",
       "    <tr>\n",
       "      <th>194</th>\n",
       "      <td>195</td>\n",
       "      <td>Chattanooga</td>\n",
       "      <td>USA</td>\n",
       "      <td>344000</td>\n",
       "      <td>751</td>\n",
       "      <td>458.055925</td>\n",
       "    </tr>\n",
       "    <tr>\n",
       "      <th>...</th>\n",
       "      <td>...</td>\n",
       "      <td>...</td>\n",
       "      <td>...</td>\n",
       "      <td>...</td>\n",
       "      <td>...</td>\n",
       "      <td>...</td>\n",
       "    </tr>\n",
       "    <tr>\n",
       "      <th>34</th>\n",
       "      <td>34</td>\n",
       "      <td>Shenzhen</td>\n",
       "      <td>China</td>\n",
       "      <td>8000000</td>\n",
       "      <td>466</td>\n",
       "      <td>17167.381974</td>\n",
       "    </tr>\n",
       "    <tr>\n",
       "      <th>99</th>\n",
       "      <td>99</td>\n",
       "      <td>Lagos</td>\n",
       "      <td>Nigeria</td>\n",
       "      <td>13400000</td>\n",
       "      <td>738</td>\n",
       "      <td>18157.181572</td>\n",
       "    </tr>\n",
       "    <tr>\n",
       "      <th>101</th>\n",
       "      <td>101</td>\n",
       "      <td>Karachi</td>\n",
       "      <td>Pakistan</td>\n",
       "      <td>9800000</td>\n",
       "      <td>518</td>\n",
       "      <td>18918.918919</td>\n",
       "    </tr>\n",
       "    <tr>\n",
       "      <th>74</th>\n",
       "      <td>74</td>\n",
       "      <td>Kolkata</td>\n",
       "      <td>India</td>\n",
       "      <td>12700000</td>\n",
       "      <td>531</td>\n",
       "      <td>23917.137476</td>\n",
       "    </tr>\n",
       "    <tr>\n",
       "      <th>75</th>\n",
       "      <td>75</td>\n",
       "      <td>Mumbai</td>\n",
       "      <td>India</td>\n",
       "      <td>14350000</td>\n",
       "      <td>484</td>\n",
       "      <td>29648.760331</td>\n",
       "    </tr>\n",
       "  </tbody>\n",
       "</table>\n",
       "<p>249 rows × 6 columns</p>\n",
       "</div>"
      ],
      "text/plain": [
       "     Unnamed: 0 City / Urban area   Country  Population  Land area (in sqKm)  \\\n",
       "196         197   Barnstable Town       USA      244000                  741   \n",
       "220         221           Hickory       USA      188000                  546   \n",
       "57           57               Pau    France      181000                  450   \n",
       "223         224         Asheville       USA      222000                  536   \n",
       "194         195       Chattanooga       USA      344000                  751   \n",
       "..          ...               ...       ...         ...                  ...   \n",
       "34           34          Shenzhen     China     8000000                  466   \n",
       "99           99             Lagos   Nigeria    13400000                  738   \n",
       "101         101           Karachi  Pakistan     9800000                  518   \n",
       "74           74           Kolkata     India    12700000                  531   \n",
       "75           75            Mumbai     India    14350000                  484   \n",
       "\n",
       "          destiny  \n",
       "196    329.284750  \n",
       "220    344.322344  \n",
       "57     402.222222  \n",
       "223    414.179104  \n",
       "194    458.055925  \n",
       "..            ...  \n",
       "34   17167.381974  \n",
       "99   18157.181572  \n",
       "101  18918.918919  \n",
       "74   23917.137476  \n",
       "75   29648.760331  \n",
       "\n",
       "[249 rows x 6 columns]"
      ]
     },
     "execution_count": 19,
     "metadata": {},
     "output_type": "execute_result"
    }
   ],
   "source": [
    "travel_df.sort_values(by='destiny')"
   ]
  },
  {
   "cell_type": "code",
   "execution_count": 20,
   "id": "16ba0d87",
   "metadata": {},
   "outputs": [],
   "source": [
    "country = travel_df['Country'].value_counts()"
   ]
  },
  {
   "cell_type": "code",
   "execution_count": 21,
   "id": "daa2a807",
   "metadata": {},
   "outputs": [
    {
     "name": "stdout",
     "output_type": "stream",
     "text": [
      "Italy    4\n",
      "Name: Country, dtype: int64\n"
     ]
    }
   ],
   "source": [
    "print(country[country == 4])"
   ]
  },
  {
   "cell_type": "code",
   "execution_count": null,
   "id": "c162431d",
   "metadata": {},
   "outputs": [],
   "source": []
  }
 ],
 "metadata": {
  "kernelspec": {
   "display_name": "Python 3",
   "language": "python",
   "name": "python3"
  },
  "language_info": {
   "codemirror_mode": {
    "name": "ipython",
    "version": 3
   },
   "file_extension": ".py",
   "mimetype": "text/x-python",
   "name": "python",
   "nbconvert_exporter": "python",
   "pygments_lexer": "ipython3",
   "version": "3.8.8"
  }
 },
 "nbformat": 4,
 "nbformat_minor": 5
}
