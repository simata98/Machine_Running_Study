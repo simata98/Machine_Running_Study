version https://git-lfs.github.com/spec/v1
oid sha256:0beb8693902053cae55c6e1c734e1c666ad919a7288a2f9835add40a379e5a96
size 7931
