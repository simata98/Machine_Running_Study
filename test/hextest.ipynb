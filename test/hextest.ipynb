{
 "cells": [
  {
   "cell_type": "code",
   "execution_count": 1,
   "metadata": {},
   "outputs": [],
   "source": [
    "import pandas as pd\n",
    "import numpy as np"
   ]
  },
  {
   "cell_type": "code",
   "execution_count": 2,
   "metadata": {},
   "outputs": [],
   "source": [
    "with open('./data/CAN traffic (normal only).txt', 'r') as f:\n",
    "  normal_data_list = [line.rstrip().split(\"\\t\") for line in f]"
   ]
  },
  {
   "cell_type": "code",
   "execution_count": 3,
   "metadata": {},
   "outputs": [],
   "source": [
    "with open('./data/CAN traffic (attack included).txt', 'r') as f:\n",
    "  abnormal_data_list = [line.rstrip().split(\"\\t\") for line in f]"
   ]
  },
  {
   "cell_type": "code",
   "execution_count": 4,
   "metadata": {},
   "outputs": [],
   "source": [
    "normal_data_df = pd.DataFrame(normal_data_list, columns=['Timestamp', 'Arbitration ID', 'DLC', 'data', 'Class'])\n",
    "abnormal_data_df = pd.DataFrame(abnormal_data_list, columns=['Timestamp', 'Arbitration ID', 'DLC', 'data', 'Class', 'SubClass'])"
   ]
  },
  {
   "cell_type": "code",
   "execution_count": 5,
   "metadata": {},
   "outputs": [
    {
     "data": {
      "text/html": [
       "<div>\n",
       "<style scoped>\n",
       "    .dataframe tbody tr th:only-of-type {\n",
       "        vertical-align: middle;\n",
       "    }\n",
       "\n",
       "    .dataframe tbody tr th {\n",
       "        vertical-align: top;\n",
       "    }\n",
       "\n",
       "    .dataframe thead th {\n",
       "        text-align: right;\n",
       "    }\n",
       "</style>\n",
       "<table border=\"1\" class=\"dataframe\">\n",
       "  <thead>\n",
       "    <tr style=\"text-align: right;\">\n",
       "      <th></th>\n",
       "      <th>Timestamp</th>\n",
       "      <th>Arbitration ID</th>\n",
       "      <th>DLC</th>\n",
       "      <th>data</th>\n",
       "      <th>Class</th>\n",
       "    </tr>\n",
       "  </thead>\n",
       "  <tbody>\n",
       "    <tr>\n",
       "      <th>0</th>\n",
       "      <td>1597707827</td>\n",
       "      <td>260</td>\n",
       "      <td>8</td>\n",
       "      <td>06 25 05 30 FF CF 71 55</td>\n",
       "      <td>Normal</td>\n",
       "    </tr>\n",
       "    <tr>\n",
       "      <th>1</th>\n",
       "      <td>1597707827</td>\n",
       "      <td>329</td>\n",
       "      <td>8</td>\n",
       "      <td>4A C5 7E 8C 31 2D 01 10</td>\n",
       "      <td>Normal</td>\n",
       "    </tr>\n",
       "    <tr>\n",
       "      <th>2</th>\n",
       "      <td>1597707827</td>\n",
       "      <td>38D</td>\n",
       "      <td>8</td>\n",
       "      <td>00 00 49 00 90 7F FE 01</td>\n",
       "      <td>Normal</td>\n",
       "    </tr>\n",
       "    <tr>\n",
       "      <th>3</th>\n",
       "      <td>1597707827</td>\n",
       "      <td>420</td>\n",
       "      <td>8</td>\n",
       "      <td>50 1E 00 C8 FC 4F 6A 00</td>\n",
       "      <td>Normal</td>\n",
       "    </tr>\n",
       "    <tr>\n",
       "      <th>4</th>\n",
       "      <td>1597707827</td>\n",
       "      <td>421</td>\n",
       "      <td>8</td>\n",
       "      <td>FE 07 00 FF E3 7F 00 52</td>\n",
       "      <td>Normal</td>\n",
       "    </tr>\n",
       "    <tr>\n",
       "      <th>...</th>\n",
       "      <td>...</td>\n",
       "      <td>...</td>\n",
       "      <td>...</td>\n",
       "      <td>...</td>\n",
       "      <td>...</td>\n",
       "    </tr>\n",
       "    <tr>\n",
       "      <th>179341</th>\n",
       "      <td>1597707902</td>\n",
       "      <td>391</td>\n",
       "      <td>8</td>\n",
       "      <td>00 00 00 00 00 00 08 EB</td>\n",
       "      <td>Normal</td>\n",
       "    </tr>\n",
       "    <tr>\n",
       "      <th>179342</th>\n",
       "      <td>1597707902</td>\n",
       "      <td>260</td>\n",
       "      <td>8</td>\n",
       "      <td>06 39 1A 30 FF D1 A1 63</td>\n",
       "      <td>Normal</td>\n",
       "    </tr>\n",
       "    <tr>\n",
       "      <th>179343</th>\n",
       "      <td>1597707902</td>\n",
       "      <td>421</td>\n",
       "      <td>8</td>\n",
       "      <td>FE 07 00 FF E3 7F 00 9E</td>\n",
       "      <td>Normal</td>\n",
       "    </tr>\n",
       "    <tr>\n",
       "      <th>179344</th>\n",
       "      <td>1597707902</td>\n",
       "      <td>130</td>\n",
       "      <td>8</td>\n",
       "      <td>94 8E F0 81 00 00 0B AC</td>\n",
       "      <td>Normal</td>\n",
       "    </tr>\n",
       "    <tr>\n",
       "      <th>179345</th>\n",
       "      <td>1597707902</td>\n",
       "      <td>140</td>\n",
       "      <td>8</td>\n",
       "      <td>30 80 00 6F 20 00 0B 35</td>\n",
       "      <td>Normal</td>\n",
       "    </tr>\n",
       "  </tbody>\n",
       "</table>\n",
       "<p>179346 rows × 5 columns</p>\n",
       "</div>"
      ],
      "text/plain": [
       "         Timestamp Arbitration ID DLC                     data   Class\n",
       "0       1597707827            260   8  06 25 05 30 FF CF 71 55  Normal\n",
       "1       1597707827            329   8  4A C5 7E 8C 31 2D 01 10  Normal\n",
       "2       1597707827            38D   8  00 00 49 00 90 7F FE 01  Normal\n",
       "3       1597707827            420   8  50 1E 00 C8 FC 4F 6A 00  Normal\n",
       "4       1597707827            421   8  FE 07 00 FF E3 7F 00 52  Normal\n",
       "...            ...            ...  ..                      ...     ...\n",
       "179341  1597707902            391   8  00 00 00 00 00 00 08 EB  Normal\n",
       "179342  1597707902            260   8  06 39 1A 30 FF D1 A1 63  Normal\n",
       "179343  1597707902            421   8  FE 07 00 FF E3 7F 00 9E  Normal\n",
       "179344  1597707902            130   8  94 8E F0 81 00 00 0B AC  Normal\n",
       "179345  1597707902            140   8  30 80 00 6F 20 00 0B 35  Normal\n",
       "\n",
       "[179346 rows x 5 columns]"
      ]
     },
     "execution_count": 5,
     "metadata": {},
     "output_type": "execute_result"
    }
   ],
   "source": [
    "normal_data_df"
   ]
  },
  {
   "cell_type": "code",
   "execution_count": 7,
   "metadata": {},
   "outputs": [
    {
     "data": {
      "text/plain": [
       "'06 25 05 30 FF CF 71 55'"
      ]
     },
     "execution_count": 7,
     "metadata": {},
     "output_type": "execute_result"
    }
   ],
   "source": [
    "normal_data_df['data'].loc[0]"
   ]
  },
  {
   "cell_type": "code",
   "execution_count": 8,
   "metadata": {},
   "outputs": [],
   "source": []
  },
  {
   "cell_type": "code",
   "execution_count": 10,
   "metadata": {},
   "outputs": [
    {
     "ename": "SyntaxError",
     "evalue": "invalid syntax (<ipython-input-10-e3e7a6bcb9c4>, line 1)",
     "output_type": "error",
     "traceback": [
      "\u001b[1;36m  File \u001b[1;32m\"<ipython-input-10-e3e7a6bcb9c4>\"\u001b[1;36m, line \u001b[1;32m1\u001b[0m\n\u001b[1;33m    binary_hex = binascii.hexlify(b'normal_data_df['data'].loc[0]')\u001b[0m\n\u001b[1;37m                                                    ^\u001b[0m\n\u001b[1;31mSyntaxError\u001b[0m\u001b[1;31m:\u001b[0m invalid syntax\n"
     ]
    }
   ],
   "source": []
  },
  {
   "cell_type": "code",
   "execution_count": null,
   "metadata": {},
   "outputs": [],
   "source": []
  }
 ],
 "metadata": {
  "interpreter": {
   "hash": "a6b71e35486693df9948e567079b272cd475f8c3d5f758cbddc6346b21d2c431"
  },
  "kernelspec": {
   "display_name": "Python 3.9.9 64-bit (windows store)",
   "language": "python",
   "name": "python3"
  },
  "language_info": {
   "codemirror_mode": {
    "name": "ipython",
    "version": 3
   },
   "file_extension": ".py",
   "mimetype": "text/x-python",
   "name": "python",
   "nbconvert_exporter": "python",
   "pygments_lexer": "ipython3",
   "version": "3.8.8"
  },
  "orig_nbformat": 4
 },
 "nbformat": 4,
 "nbformat_minor": 2
}
