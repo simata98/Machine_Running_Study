version https://git-lfs.github.com/spec/v1
oid sha256:c8d98fd829e6083b0a75b673f1ce13c871bd78e687c0c7bb209e886ac20534df
size 136109
