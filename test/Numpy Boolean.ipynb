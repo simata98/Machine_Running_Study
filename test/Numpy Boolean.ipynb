{
 "cells": [
  {
   "cell_type": "code",
   "execution_count": 1,
   "id": "7303b0fe",
   "metadata": {},
   "outputs": [],
   "source": [
    "import numpy as np"
   ]
  },
  {
   "cell_type": "code",
   "execution_count": 2,
   "id": "f15b28ee",
   "metadata": {},
   "outputs": [],
   "source": [
    "array1 = np.array([2, 3, 5, 6, 8, 11, 23, 55])"
   ]
  },
  {
   "cell_type": "code",
   "execution_count": 3,
   "id": "f9fd9805",
   "metadata": {},
   "outputs": [
    {
     "data": {
      "text/plain": [
       "array([False, False,  True,  True,  True,  True,  True,  True])"
      ]
     },
     "execution_count": 3,
     "metadata": {},
     "output_type": "execute_result"
    }
   ],
   "source": [
    "array1 > 4"
   ]
  },
  {
   "cell_type": "code",
   "execution_count": 4,
   "id": "bf08a9e0",
   "metadata": {},
   "outputs": [
    {
     "data": {
      "text/plain": [
       "array([ True, False, False,  True,  True, False, False, False])"
      ]
     },
     "execution_count": 4,
     "metadata": {},
     "output_type": "execute_result"
    }
   ],
   "source": [
    "array1 % 2 == 0"
   ]
  },
  {
   "cell_type": "code",
   "execution_count": 5,
   "id": "6aef5982",
   "metadata": {},
   "outputs": [],
   "source": [
    "booleans = np.array([True, True, True, False, True, True, False])"
   ]
  },
  {
   "cell_type": "code",
   "execution_count": 6,
   "id": "0ac39a30",
   "metadata": {},
   "outputs": [
    {
     "data": {
      "text/plain": [
       "(array([0, 1, 2, 4, 5], dtype=int64),)"
      ]
     },
     "execution_count": 6,
     "metadata": {},
     "output_type": "execute_result"
    }
   ],
   "source": [
    "np.where(booleans)"
   ]
  },
  {
   "cell_type": "code",
   "execution_count": 7,
   "id": "9f5ff0fd",
   "metadata": {},
   "outputs": [
    {
     "data": {
      "text/plain": [
       "array([False, False,  True,  True,  True,  True,  True,  True])"
      ]
     },
     "execution_count": 7,
     "metadata": {},
     "output_type": "execute_result"
    }
   ],
   "source": [
    "array1 > 4"
   ]
  },
  {
   "cell_type": "code",
   "execution_count": 9,
   "id": "5ba1d7f5",
   "metadata": {},
   "outputs": [
    {
     "data": {
      "text/plain": [
       "(array([2, 3, 4, 5, 6, 7], dtype=int64),)"
      ]
     },
     "execution_count": 9,
     "metadata": {},
     "output_type": "execute_result"
    }
   ],
   "source": [
    "filter = np.where(array1 > 4)\n",
    "filter"
   ]
  },
  {
   "cell_type": "code",
   "execution_count": 10,
   "id": "a1538dea",
   "metadata": {},
   "outputs": [
    {
     "data": {
      "text/plain": [
       "array([ 5,  6,  8, 11, 23, 55])"
      ]
     },
     "execution_count": 10,
     "metadata": {},
     "output_type": "execute_result"
    }
   ],
   "source": [
    "array1[filter]"
   ]
  },
  {
   "cell_type": "markdown",
   "id": "338f0f03",
   "metadata": {},
   "source": [
    "### 최대 최소값"
   ]
  },
  {
   "cell_type": "code",
   "execution_count": 11,
   "id": "6ce3ca51",
   "metadata": {},
   "outputs": [
    {
     "name": "stdout",
     "output_type": "stream",
     "text": [
      "55\n",
      "2\n"
     ]
    }
   ],
   "source": [
    "print(array1.max())\n",
    "print(array1.min())"
   ]
  },
  {
   "cell_type": "markdown",
   "id": "96b2c93c",
   "metadata": {},
   "source": [
    "### 평균값"
   ]
  },
  {
   "cell_type": "code",
   "execution_count": 12,
   "id": "bd8a37be",
   "metadata": {},
   "outputs": [
    {
     "name": "stdout",
     "output_type": "stream",
     "text": [
      "14.125\n"
     ]
    }
   ],
   "source": [
    "print(array1.mean())"
   ]
  },
  {
   "cell_type": "markdown",
   "id": "41793860",
   "metadata": {},
   "source": [
    "### 중앙값"
   ]
  },
  {
   "cell_type": "code",
   "execution_count": 13,
   "id": "4316d925",
   "metadata": {},
   "outputs": [
    {
     "name": "stdout",
     "output_type": "stream",
     "text": [
      "7.0\n"
     ]
    }
   ],
   "source": [
    "print(np.median(array1))"
   ]
  },
  {
   "cell_type": "markdown",
   "id": "b27155b0",
   "metadata": {},
   "source": [
    "### 표준편차, 분산"
   ]
  },
  {
   "cell_type": "code",
   "execution_count": 15,
   "id": "501e6d59",
   "metadata": {},
   "outputs": [
    {
     "name": "stdout",
     "output_type": "stream",
     "text": [
      "16.6466025062173\n",
      "277.109375\n"
     ]
    }
   ],
   "source": [
    "print(array1.std()) # 표준 편차\n",
    "print(array1.var()) # 분산"
   ]
  }
 ],
 "metadata": {
  "kernelspec": {
   "display_name": "Python 3",
   "language": "python",
   "name": "python3"
  },
  "language_info": {
   "codemirror_mode": {
    "name": "ipython",
    "version": 3
   },
   "file_extension": ".py",
   "mimetype": "text/x-python",
   "name": "python",
   "nbconvert_exporter": "python",
   "pygments_lexer": "ipython3",
   "version": "3.8.8"
  }
 },
 "nbformat": 4,
 "nbformat_minor": 5
}
