version https://git-lfs.github.com/spec/v1
oid sha256:c86eaba66677eab2b55c944128932bf5692238b94206fae9f47146a117ee03d5
size 8052
