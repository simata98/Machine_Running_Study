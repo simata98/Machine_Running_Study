version https://git-lfs.github.com/spec/v1
oid sha256:84c3d317c9d84bbf1d88430793162228900a293f4673b7bc3ee958c056bc8122
size 68443
