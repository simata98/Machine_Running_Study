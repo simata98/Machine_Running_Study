version https://git-lfs.github.com/spec/v1
oid sha256:32ccd75c05298a7a93d235a03e78408093aa77b07f37c8bca8c208e6918230db
size 99294
