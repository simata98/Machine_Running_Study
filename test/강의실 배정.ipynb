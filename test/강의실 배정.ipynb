version https://git-lfs.github.com/spec/v1
oid sha256:ee144b670106247e4eab3c1a85bc3cd69f5f2f82712dff2f1de65873138a23ec
size 8215
