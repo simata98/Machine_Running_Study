{
 "cells": [
  {
   "cell_type": "code",
   "execution_count": 162,
   "metadata": {},
   "outputs": [],
   "source": [
    "import pandas as pd\n",
    "import numpy as np"
   ]
  },
  {
   "cell_type": "code",
   "execution_count": 163,
   "metadata": {},
   "outputs": [],
   "source": [
    "with open('./data/CAN traffic (normal only).txt', 'r') as f:\n",
    "  normal_data_list = [line.rstrip().split(\"\\t\") for line in f]"
   ]
  },
  {
   "cell_type": "code",
   "execution_count": 164,
   "metadata": {},
   "outputs": [
    {
     "data": {
      "text/plain": [
       "[['1597707827', '260', '8', '06 25 05 30 FF CF 71 55', 'Normal'],\n",
       " ['1597707827', '329', '8', '4A C5 7E 8C 31 2D 01 10', 'Normal'],\n",
       " ['1597707827', '38D', '8', '00 00 49 00 90 7F FE 01', 'Normal']]"
      ]
     },
     "execution_count": 164,
     "metadata": {},
     "output_type": "execute_result"
    }
   ],
   "source": [
    "normal_data_list[0:3]"
   ]
  },
  {
   "cell_type": "code",
   "execution_count": 165,
   "metadata": {},
   "outputs": [],
   "source": [
    "with open('./data/CAN traffic (attack included).txt', 'r') as f:\n",
    "  abnormal_data_list = [line.rstrip().split(\"\\t\") for line in f]"
   ]
  },
  {
   "cell_type": "code",
   "execution_count": 166,
   "metadata": {},
   "outputs": [
    {
     "data": {
      "text/plain": [
       "[['1597759710', '153', '8', '20 A1 10 FF 00 FF 50 1F', 'Normal', 'Normal'],\n",
       " ['1597759710', '220', '8', '13 24 7F 60 05 FF BF 10', 'Normal', 'Normal'],\n",
       " ['1597759710', '507', '4', '08 00 00 01', 'Normal', 'Normal']]"
      ]
     },
     "execution_count": 166,
     "metadata": {},
     "output_type": "execute_result"
    }
   ],
   "source": [
    "abnormal_data_list[0:3]"
   ]
  },
  {
   "cell_type": "code",
   "execution_count": 167,
   "metadata": {},
   "outputs": [],
   "source": [
    "normal_data_df = pd.DataFrame(normal_data_list, columns=['Timestamp', 'Arbitration ID', 'DLC', 'data', 'Class'])\n",
    "abnormal_data_df = pd.DataFrame(abnormal_data_list, columns=['Timestamp', 'Arbitration ID', 'DLC', 'data', 'Class', 'SubClass'])"
   ]
  },
  {
   "cell_type": "code",
   "execution_count": 168,
   "metadata": {},
   "outputs": [
    {
     "data": {
      "text/html": [
       "<div>\n",
       "<style scoped>\n",
       "    .dataframe tbody tr th:only-of-type {\n",
       "        vertical-align: middle;\n",
       "    }\n",
       "\n",
       "    .dataframe tbody tr th {\n",
       "        vertical-align: top;\n",
       "    }\n",
       "\n",
       "    .dataframe thead th {\n",
       "        text-align: right;\n",
       "    }\n",
       "</style>\n",
       "<table border=\"1\" class=\"dataframe\">\n",
       "  <thead>\n",
       "    <tr style=\"text-align: right;\">\n",
       "      <th></th>\n",
       "      <th>Timestamp</th>\n",
       "      <th>Arbitration ID</th>\n",
       "      <th>DLC</th>\n",
       "      <th>data</th>\n",
       "      <th>Class</th>\n",
       "    </tr>\n",
       "  </thead>\n",
       "  <tbody>\n",
       "    <tr>\n",
       "      <th>0</th>\n",
       "      <td>1597707827</td>\n",
       "      <td>260</td>\n",
       "      <td>8</td>\n",
       "      <td>06 25 05 30 FF CF 71 55</td>\n",
       "      <td>Normal</td>\n",
       "    </tr>\n",
       "    <tr>\n",
       "      <th>1</th>\n",
       "      <td>1597707827</td>\n",
       "      <td>329</td>\n",
       "      <td>8</td>\n",
       "      <td>4A C5 7E 8C 31 2D 01 10</td>\n",
       "      <td>Normal</td>\n",
       "    </tr>\n",
       "    <tr>\n",
       "      <th>2</th>\n",
       "      <td>1597707827</td>\n",
       "      <td>38D</td>\n",
       "      <td>8</td>\n",
       "      <td>00 00 49 00 90 7F FE 01</td>\n",
       "      <td>Normal</td>\n",
       "    </tr>\n",
       "  </tbody>\n",
       "</table>\n",
       "</div>"
      ],
      "text/plain": [
       "    Timestamp Arbitration ID DLC                     data   Class\n",
       "0  1597707827            260   8  06 25 05 30 FF CF 71 55  Normal\n",
       "1  1597707827            329   8  4A C5 7E 8C 31 2D 01 10  Normal\n",
       "2  1597707827            38D   8  00 00 49 00 90 7F FE 01  Normal"
      ]
     },
     "execution_count": 168,
     "metadata": {},
     "output_type": "execute_result"
    }
   ],
   "source": [
    "normal_data_df.head(3)"
   ]
  },
  {
   "cell_type": "code",
   "execution_count": 169,
   "metadata": {},
   "outputs": [
    {
     "data": {
      "text/html": [
       "<div>\n",
       "<style scoped>\n",
       "    .dataframe tbody tr th:only-of-type {\n",
       "        vertical-align: middle;\n",
       "    }\n",
       "\n",
       "    .dataframe tbody tr th {\n",
       "        vertical-align: top;\n",
       "    }\n",
       "\n",
       "    .dataframe thead th {\n",
       "        text-align: right;\n",
       "    }\n",
       "</style>\n",
       "<table border=\"1\" class=\"dataframe\">\n",
       "  <thead>\n",
       "    <tr style=\"text-align: right;\">\n",
       "      <th></th>\n",
       "      <th>Timestamp</th>\n",
       "      <th>Arbitration ID</th>\n",
       "      <th>DLC</th>\n",
       "      <th>data</th>\n",
       "      <th>Class</th>\n",
       "      <th>SubClass</th>\n",
       "    </tr>\n",
       "  </thead>\n",
       "  <tbody>\n",
       "    <tr>\n",
       "      <th>0</th>\n",
       "      <td>1597759710</td>\n",
       "      <td>153</td>\n",
       "      <td>8</td>\n",
       "      <td>20 A1 10 FF 00 FF 50 1F</td>\n",
       "      <td>Normal</td>\n",
       "      <td>Normal</td>\n",
       "    </tr>\n",
       "    <tr>\n",
       "      <th>1</th>\n",
       "      <td>1597759710</td>\n",
       "      <td>220</td>\n",
       "      <td>8</td>\n",
       "      <td>13 24 7F 60 05 FF BF 10</td>\n",
       "      <td>Normal</td>\n",
       "      <td>Normal</td>\n",
       "    </tr>\n",
       "    <tr>\n",
       "      <th>2</th>\n",
       "      <td>1597759710</td>\n",
       "      <td>507</td>\n",
       "      <td>4</td>\n",
       "      <td>08 00 00 01</td>\n",
       "      <td>Normal</td>\n",
       "      <td>Normal</td>\n",
       "    </tr>\n",
       "  </tbody>\n",
       "</table>\n",
       "</div>"
      ],
      "text/plain": [
       "    Timestamp Arbitration ID DLC                     data   Class SubClass\n",
       "0  1597759710            153   8  20 A1 10 FF 00 FF 50 1F  Normal   Normal\n",
       "1  1597759710            220   8  13 24 7F 60 05 FF BF 10  Normal   Normal\n",
       "2  1597759710            507   4              08 00 00 01  Normal   Normal"
      ]
     },
     "execution_count": 169,
     "metadata": {},
     "output_type": "execute_result"
    }
   ],
   "source": [
    "abnormal_data_df.head(3)"
   ]
  },
  {
   "cell_type": "markdown",
   "metadata": {},
   "source": [
    "**Using Arbitration ID**"
   ]
  },
  {
   "cell_type": "code",
   "execution_count": 170,
   "metadata": {},
   "outputs": [],
   "source": [
    "normal_ArbID_df = normal_data_df['Arbitration ID'].apply(int, base=16)\n",
    "abnormal_ArbID_df = abnormal_data_df['Arbitration ID'].apply(int, base=16)\n"
   ]
  },
  {
   "cell_type": "code",
   "execution_count": 171,
   "metadata": {},
   "outputs": [
    {
     "data": {
      "text/plain": [
       "0          608\n",
       "1          809\n",
       "2          909\n",
       "3         1056\n",
       "4         1057\n",
       "          ... \n",
       "179341     913\n",
       "179342     608\n",
       "179343    1057\n",
       "179344     304\n",
       "179345     320\n",
       "Name: Arbitration ID, Length: 179346, dtype: int64"
      ]
     },
     "execution_count": 171,
     "metadata": {},
     "output_type": "execute_result"
    }
   ],
   "source": [
    "normal_ArbID_df"
   ]
  },
  {
   "cell_type": "code",
   "execution_count": 172,
   "metadata": {},
   "outputs": [
    {
     "data": {
      "text/plain": [
       "0          339\n",
       "1          544\n",
       "2         1287\n",
       "3          854\n",
       "4          832\n",
       "          ... \n",
       "806385     870\n",
       "806386     871\n",
       "806387     872\n",
       "806388    1151\n",
       "806389    1225\n",
       "Name: Arbitration ID, Length: 806390, dtype: int64"
      ]
     },
     "execution_count": 172,
     "metadata": {},
     "output_type": "execute_result"
    }
   ],
   "source": [
    "abnormal_ArbID_df"
   ]
  },
  {
   "cell_type": "code",
   "execution_count": 173,
   "metadata": {},
   "outputs": [
    {
     "data": {
      "text/plain": [
       "0          339\n",
       "1          544\n",
       "2         1287\n",
       "3          854\n",
       "4          832\n",
       "          ... \n",
       "806385     870\n",
       "806386     871\n",
       "806387     872\n",
       "806388    1151\n",
       "806389    1225\n",
       "Name: Arbitration ID, Length: 806390, dtype: int64"
      ]
     },
     "execution_count": 173,
     "metadata": {},
     "output_type": "execute_result"
    }
   ],
   "source": [
    "abnormal_ArbID_df"
   ]
  },
  {
   "cell_type": "code",
   "execution_count": 174,
   "metadata": {},
   "outputs": [],
   "source": [
    "train_arbID_seq = normal_ArbID_df.to_numpy()\n",
    "test_arbID_seq = abnormal_ArbID_df.to_numpy()"
   ]
  },
  {
   "cell_type": "code",
   "execution_count": 175,
   "metadata": {},
   "outputs": [
    {
     "name": "stdout",
     "output_type": "stream",
     "text": [
      "179346\n",
      "806390\n"
     ]
    }
   ],
   "source": [
    "print(len(train_arbID_seq))\n",
    "print(len(test_arbID_seq))"
   ]
  },
  {
   "cell_type": "code",
   "execution_count": 176,
   "metadata": {},
   "outputs": [],
   "source": [
    "def get_split_arbid_seq_by_wnd(arbidseq, window_size=3):\n",
    "  splited = np.lib.stride_tricks.as_strided(arbidseq,shape=(np.size(arbidseq)-window_size+1,window_size),strides=(arbidseq.strides[0],arbidseq.strides[0]))\n",
    "  return splited"
   ]
  },
  {
   "cell_type": "code",
   "execution_count": 177,
   "metadata": {},
   "outputs": [],
   "source": [
    "tr_set = get_split_arbid_seq_by_wnd(train_arbID_seq)\n",
    "te_set = get_split_arbid_seq_by_wnd(test_arbID_seq)\n"
   ]
  },
  {
   "cell_type": "code",
   "execution_count": 178,
   "metadata": {},
   "outputs": [],
   "source": [
    "import hmmlearn.hmm as hmm"
   ]
  },
  {
   "cell_type": "code",
   "execution_count": 179,
   "metadata": {},
   "outputs": [
    {
     "name": "stdout",
     "output_type": "stream",
     "text": [
      "179344\n",
      "806388\n"
     ]
    }
   ],
   "source": [
    "tr_set_size = len(tr_set)\n",
    "print(tr_set_size)\n",
    "te_set_size = len(te_set)\n",
    "print(te_set_size)"
   ]
  },
  {
   "cell_type": "code",
   "execution_count": 180,
   "metadata": {},
   "outputs": [],
   "source": [
    "tr_set=tr_set.astype(int)\n",
    "te_set=te_set.astype(int)"
   ]
  },
  {
   "cell_type": "code",
   "execution_count": 181,
   "metadata": {},
   "outputs": [
    {
     "name": "stdout",
     "output_type": "stream",
     "text": [
      "--------------------\n",
      "-3757076.5243507484\n",
      "-3868908.5374412243\n",
      "--------------------\n",
      "[5.97891230e-05 9.99940211e-01]\n",
      "[[0.86953736 0.13046264]\n",
      " [0.14743516 0.85256484]]\n"
     ]
    }
   ],
   "source": [
    "h = hmm.GaussianHMM(2) # 모델 파라미터 설정, 모델링 객체 생성\n",
    "print('--------------------')\n",
    "h.fit(tr_set) # 학습진행\n",
    "print(h.score(tr_set)) # log(foward prob)\n",
    "print(h.score(te_set)/(te_set_size/tr_set_size))\n",
    "print('--------------------')\n",
    "print(h.startprob_)\n",
    "print(h.transmat_)"
   ]
  },
  {
   "cell_type": "code",
   "execution_count": 182,
   "metadata": {},
   "outputs": [],
   "source": [
    "import matplotlib.pyplot as plt"
   ]
  },
  {
   "cell_type": "code",
   "execution_count": 183,
   "metadata": {},
   "outputs": [
    {
     "name": "stdout",
     "output_type": "stream",
     "text": [
      "--------------------\n",
      "-3701393.4203720903\n",
      "-17596917.393672377\n",
      "--------------------\n",
      "[9.54840830e-01 4.51591703e-02 3.90190581e-40]\n",
      "[[8.50173202e-01 8.09834581e-16 1.49826798e-01]\n",
      " [3.44257734e-01 5.09236490e-01 1.46505776e-01]\n",
      " [4.98930157e-09 5.11685790e-01 4.88314205e-01]]\n"
     ]
    }
   ],
   "source": [
    "h2 = hmm.GaussianHMM(3) # 모델 파라미터 설정, 모델링 객체 생성\n",
    "print('--------------------')\n",
    "h2.fit(tr_set) # 학습진행\n",
    "print(h2.score(tr_set)) # log(foward prob)\n",
    "print(h2.score(te_set)/(te_set_size/tr_set_size))\n",
    "print('--------------------')\n",
    "print(h2.startprob_)\n",
    "print(h2.transmat_)"
   ]
  },
  {
   "cell_type": "code",
   "execution_count": 184,
   "metadata": {},
   "outputs": [
    {
     "name": "stdout",
     "output_type": "stream",
     "text": [
      "--------------------\n",
      "-3631065.8397680894\n",
      "-3910429.3196319584\n",
      "--------------------\n",
      "[9.93450638e-01 6.54936159e-03 6.07534155e-58 2.21400727e-48]\n",
      "[[8.53725994e-01 1.83373589e-18 1.90773625e-15 1.46274006e-01]\n",
      " [3.93895937e-01 4.63533009e-01 8.19316619e-03 1.34377888e-01]\n",
      " [7.14624362e-13 9.99842962e-01 3.40782924e-06 1.53629962e-04]\n",
      " [5.64256704e-05 6.42329046e-10 9.99943561e-01 1.24406179e-08]]\n"
     ]
    }
   ],
   "source": [
    "h3 = hmm.GaussianHMM(4) # 모델 파라미터 설정, 모델링 객체 생성\n",
    "print('--------------------')\n",
    "h3.fit(tr_set) # 학습진행\n",
    "print(h3.score(tr_set)) # log(foward prob)\n",
    "print(h3.score(te_set)/(te_set_size/tr_set_size))\n",
    "print('--------------------')\n",
    "print(h3.startprob_)\n",
    "print(h3.transmat_)"
   ]
  },
  {
   "cell_type": "code",
   "execution_count": null,
   "metadata": {},
   "outputs": [],
   "source": []
  }
 ],
 "metadata": {
  "interpreter": {
   "hash": "e1cccd04e85b6896c0b444fb4c711c31b631e3aead8bbe915e9db3696d19a850"
  },
  "kernelspec": {
   "display_name": "Python 3.8.8 64-bit ('base': conda)",
   "language": "python",
   "name": "python3"
  },
  "language_info": {
   "codemirror_mode": {
    "name": "ipython",
    "version": 3
   },
   "file_extension": ".py",
   "mimetype": "text/x-python",
   "name": "python",
   "nbconvert_exporter": "python",
   "pygments_lexer": "ipython3",
   "version": "3.8.8"
  },
  "orig_nbformat": 4
 },
 "nbformat": 4,
 "nbformat_minor": 2
}
