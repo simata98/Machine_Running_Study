version https://git-lfs.github.com/spec/v1
oid sha256:a2a8f520cabd07f64e12af7b79e781f0e8fe6fede534fa8d16e33ec9f775460f
size 33830
