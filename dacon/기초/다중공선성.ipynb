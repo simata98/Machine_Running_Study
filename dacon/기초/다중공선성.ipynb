{
 "cells": [
  {
   "cell_type": "code",
   "execution_count": 1,
   "metadata": {},
   "outputs": [],
   "source": [
    "# 라이브러리 불러오기\n",
    "import seaborn as sns\n",
    "import pandas as pd"
   ]
  },
  {
   "cell_type": "code",
   "execution_count": 3,
   "metadata": {},
   "outputs": [],
   "source": [
    "train = pd.read_csv('./seaborn_practice/train.csv')"
   ]
  },
  {
   "cell_type": "code",
   "execution_count": 4,
   "metadata": {},
   "outputs": [],
   "source": [
    "x_data = train['residual sugar']\n",
    "y_data = train['density']"
   ]
  },
  {
   "cell_type": "code",
   "execution_count": 5,
   "metadata": {},
   "outputs": [
    {
     "data": {
      "text/plain": [
       "<AxesSubplot:xlabel='residual sugar', ylabel='density'>"
      ]
     },
     "execution_count": 5,
     "metadata": {},
     "output_type": "execute_result"
    },
    {
     "data": {
      "image/png": "[encoded data removed]",
      "text/plain": [
       "<Figure size 432x288 with 1 Axes>"
      ]
     },
     "metadata": {
      "needs_background": "light"
     },
     "output_type": "display_data"
    }
   ],
   "source": [
    "sns.scatterplot(x = x_data, y = y_data )"
   ]
  },
  {
   "cell_type": "code",
   "execution_count": 6,
   "metadata": {},
   "outputs": [],
   "source": [
    "from statsmodels.stats.outliers_influence import variance_inflation_factor"
   ]
  },
  {
   "cell_type": "code",
   "execution_count": 7,
   "metadata": {},
   "outputs": [],
   "source": [
    "train.drop('type',inplace = True,axis=1) # 변주형 변수 제거"
   ]
  },
  {
   "cell_type": "code",
   "execution_count": 8,
   "metadata": {},
   "outputs": [
    {
     "data": {
      "text/plain": [
       "[4.007175138928272,\n",
       " 64.10743200252591,\n",
       " 59.14918709853955,\n",
       " 9.610687118796196,\n",
       " 9.27344388429465,\n",
       " 3.616414435307183,\n",
       " 5.7159808829777585,\n",
       " 8.420882621285777,\n",
       " 14.833789006276412,\n",
       " 945.3239910887048,\n",
       " 583.5011867251005,\n",
       " 18.535849630077276,\n",
       " 131.12669981396292]"
      ]
     },
     "execution_count": 8,
     "metadata": {},
     "output_type": "execute_result"
    }
   ],
   "source": [
    "# 피처마다의 VIF 계수를 출력합니다.\n",
    "\n",
    "\n",
    "# 결과값을 저장할 VIF라는 이름의 리스트 생성\n",
    "vif = []\n",
    "\n",
    "# values atribution(속성) 이용해 train 데이터의 값만 추출\n",
    "train_val = train.values\n",
    "\n",
    "#  variance_inflation_factor 함수에 인자로 train_val (train 데이터의 값)과 인덱스 번호 지정  \n",
    "# for문 이용\n",
    "for i in range(len(train.columns)):\n",
    "  vif.append(variance_inflation_factor(train_val, i))\n",
    "\n",
    "\n",
    "vif"
   ]
  },
  {
   "cell_type": "code",
   "execution_count": 9,
   "metadata": {},
   "outputs": [
    {
     "data": {
      "text/html": [
       "<div>\n",
       "<style scoped>\n",
       "    .dataframe tbody tr th:only-of-type {\n",
       "        vertical-align: middle;\n",
       "    }\n",
       "\n",
       "    .dataframe tbody tr th {\n",
       "        vertical-align: top;\n",
       "    }\n",
       "\n",
       "    .dataframe thead th {\n",
       "        text-align: right;\n",
       "    }\n",
       "</style>\n",
       "<table border=\"1\" class=\"dataframe\">\n",
       "  <thead>\n",
       "    <tr style=\"text-align: right;\">\n",
       "      <th></th>\n",
       "      <th>columns</th>\n",
       "      <th>VIF</th>\n",
       "    </tr>\n",
       "  </thead>\n",
       "  <tbody>\n",
       "    <tr>\n",
       "      <th>0</th>\n",
       "      <td>index</td>\n",
       "      <td>4.007175</td>\n",
       "    </tr>\n",
       "    <tr>\n",
       "      <th>1</th>\n",
       "      <td>quality</td>\n",
       "      <td>64.107432</td>\n",
       "    </tr>\n",
       "    <tr>\n",
       "      <th>2</th>\n",
       "      <td>fixed acidity</td>\n",
       "      <td>59.149187</td>\n",
       "    </tr>\n",
       "    <tr>\n",
       "      <th>3</th>\n",
       "      <td>volatile acidity</td>\n",
       "      <td>9.610687</td>\n",
       "    </tr>\n",
       "    <tr>\n",
       "      <th>4</th>\n",
       "      <td>citric acid</td>\n",
       "      <td>9.273444</td>\n",
       "    </tr>\n",
       "    <tr>\n",
       "      <th>5</th>\n",
       "      <td>residual sugar</td>\n",
       "      <td>3.616414</td>\n",
       "    </tr>\n",
       "    <tr>\n",
       "      <th>6</th>\n",
       "      <td>chlorides</td>\n",
       "      <td>5.715981</td>\n",
       "    </tr>\n",
       "    <tr>\n",
       "      <th>7</th>\n",
       "      <td>free sulfur dioxide</td>\n",
       "      <td>8.420883</td>\n",
       "    </tr>\n",
       "    <tr>\n",
       "      <th>8</th>\n",
       "      <td>total sulfur dioxide</td>\n",
       "      <td>14.833789</td>\n",
       "    </tr>\n",
       "    <tr>\n",
       "      <th>9</th>\n",
       "      <td>density</td>\n",
       "      <td>945.323991</td>\n",
       "    </tr>\n",
       "    <tr>\n",
       "      <th>10</th>\n",
       "      <td>pH</td>\n",
       "      <td>583.501187</td>\n",
       "    </tr>\n",
       "    <tr>\n",
       "      <th>11</th>\n",
       "      <td>sulphates</td>\n",
       "      <td>18.535850</td>\n",
       "    </tr>\n",
       "    <tr>\n",
       "      <th>12</th>\n",
       "      <td>alcohol</td>\n",
       "      <td>131.126700</td>\n",
       "    </tr>\n",
       "  </tbody>\n",
       "</table>\n",
       "</div>"
      ],
      "text/plain": [
       "                 columns         VIF\n",
       "0                  index    4.007175\n",
       "1                quality   64.107432\n",
       "2          fixed acidity   59.149187\n",
       "3       volatile acidity    9.610687\n",
       "4            citric acid    9.273444\n",
       "5         residual sugar    3.616414\n",
       "6              chlorides    5.715981\n",
       "7    free sulfur dioxide    8.420883\n",
       "8   total sulfur dioxide   14.833789\n",
       "9                density  945.323991\n",
       "10                    pH  583.501187\n",
       "11             sulphates   18.535850\n",
       "12               alcohol  131.126700"
      ]
     },
     "execution_count": 9,
     "metadata": {},
     "output_type": "execute_result"
    }
   ],
   "source": [
    "# 데이터 프레임 형식으로 바꿔 가독성 높이기! (보너스 문제)\n",
    "\n",
    "vif_dataframe = pd.DataFrame()\n",
    "vif_dataframe['columns'] = train.columns\n",
    "vif_dataframe['VIF'] = vif\n",
    "vif_dataframe"
   ]
  },
  {
   "cell_type": "code",
   "execution_count": 10,
   "metadata": {},
   "outputs": [],
   "source": [
    "from sklearn.preprocessing import MinMaxScaler"
   ]
  },
  {
   "cell_type": "code",
   "execution_count": 11,
   "metadata": {},
   "outputs": [],
   "source": [
    "# MinMaxScaler를 통해 변수 변환 \n",
    "\n",
    "# MinMaxScaler를 \"scaler\"라는 변수에 지정해 봅시다.\n",
    "\n",
    "scaler = MinMaxScaler()\n",
    "\n",
    "# \"scaler\"를 train 으로 학습시켜주세요\n",
    "\n",
    "scaler.fit(train)\n",
    "\n",
    "# \"scaler\"를 통해 train의 수치들을 변환 시키고 train_scale에 저장 해 주세요.\n",
    "\n",
    "train_scale = scaler.transform(train)"
   ]
  },
  {
   "cell_type": "code",
   "execution_count": 13,
   "metadata": {},
   "outputs": [
    {
     "data": {
      "text/plain": [
       "array([[0.00000000e+00, 3.33333333e-01, 1.48760331e-01, ...,\n",
       "        5.51181102e-01, 1.23595506e-01, 3.18840580e-01],\n",
       "       [1.81950509e-04, 3.33333333e-01, 4.13223140e-01, ...,\n",
       "        3.54330709e-01, 2.07865169e-01, 2.17391304e-01],\n",
       "       [3.63901019e-04, 3.33333333e-01, 3.38842975e-01, ...,\n",
       "        2.44094488e-01, 1.68539326e-01, 4.20289855e-01],\n",
       "       ...,\n",
       "       [9.99636099e-01, 6.66666667e-01, 3.30578512e-01, ...,\n",
       "        2.59842520e-01, 2.80898876e-01, 4.78260870e-01],\n",
       "       [9.99818049e-01, 3.33333333e-01, 2.31404959e-01, ...,\n",
       "        3.07086614e-01, 1.06741573e-01, 3.62318841e-01],\n",
       "       [1.00000000e+00, 5.00000000e-01, 2.64462810e-01, ...,\n",
       "        3.07086614e-01, 7.86516854e-02, 2.46376812e-01]])"
      ]
     },
     "execution_count": 13,
     "metadata": {},
     "output_type": "execute_result"
    }
   ],
   "source": [
    "train_scale"
   ]
  },
  {
   "cell_type": "code",
   "execution_count": 14,
   "metadata": {},
   "outputs": [
    {
     "data": {
      "text/html": [
       "<div>\n",
       "<style scoped>\n",
       "    .dataframe tbody tr th:only-of-type {\n",
       "        vertical-align: middle;\n",
       "    }\n",
       "\n",
       "    .dataframe tbody tr th {\n",
       "        vertical-align: top;\n",
       "    }\n",
       "\n",
       "    .dataframe thead th {\n",
       "        text-align: right;\n",
       "    }\n",
       "</style>\n",
       "<table border=\"1\" class=\"dataframe\">\n",
       "  <thead>\n",
       "    <tr style=\"text-align: right;\">\n",
       "      <th></th>\n",
       "      <th>VIF Factor</th>\n",
       "      <th>features</th>\n",
       "    </tr>\n",
       "  </thead>\n",
       "  <tbody>\n",
       "    <tr>\n",
       "      <th>0</th>\n",
       "      <td>3.848628</td>\n",
       "      <td>index</td>\n",
       "    </tr>\n",
       "    <tr>\n",
       "      <th>1</th>\n",
       "      <td>14.491571</td>\n",
       "      <td>quality</td>\n",
       "    </tr>\n",
       "    <tr>\n",
       "      <th>2</th>\n",
       "      <td>37.792930</td>\n",
       "      <td>fixed acidity</td>\n",
       "    </tr>\n",
       "    <tr>\n",
       "      <th>3</th>\n",
       "      <td>6.978592</td>\n",
       "      <td>volatile acidity</td>\n",
       "    </tr>\n",
       "    <tr>\n",
       "      <th>4</th>\n",
       "      <td>9.094026</td>\n",
       "      <td>citric acid</td>\n",
       "    </tr>\n",
       "    <tr>\n",
       "      <th>5</th>\n",
       "      <td>14.246815</td>\n",
       "      <td>residual sugar</td>\n",
       "    </tr>\n",
       "    <tr>\n",
       "      <th>6</th>\n",
       "      <td>4.590877</td>\n",
       "      <td>chlorides</td>\n",
       "    </tr>\n",
       "    <tr>\n",
       "      <th>7</th>\n",
       "      <td>8.009056</td>\n",
       "      <td>free sulfur dioxide</td>\n",
       "    </tr>\n",
       "    <tr>\n",
       "      <th>8</th>\n",
       "      <td>11.227393</td>\n",
       "      <td>total sulfur dioxide</td>\n",
       "    </tr>\n",
       "    <tr>\n",
       "      <th>9</th>\n",
       "      <td>106.041429</td>\n",
       "      <td>density</td>\n",
       "    </tr>\n",
       "    <tr>\n",
       "      <th>10</th>\n",
       "      <td>23.477330</td>\n",
       "      <td>pH</td>\n",
       "    </tr>\n",
       "    <tr>\n",
       "      <th>11</th>\n",
       "      <td>8.249344</td>\n",
       "      <td>sulphates</td>\n",
       "    </tr>\n",
       "    <tr>\n",
       "      <th>12</th>\n",
       "      <td>22.504171</td>\n",
       "      <td>alcohol</td>\n",
       "    </tr>\n",
       "  </tbody>\n",
       "</table>\n",
       "</div>"
      ],
      "text/plain": [
       "    VIF Factor              features\n",
       "0     3.848628                 index\n",
       "1    14.491571               quality\n",
       "2    37.792930         fixed acidity\n",
       "3     6.978592      volatile acidity\n",
       "4     9.094026           citric acid\n",
       "5    14.246815        residual sugar\n",
       "6     4.590877             chlorides\n",
       "7     8.009056   free sulfur dioxide\n",
       "8    11.227393  total sulfur dioxide\n",
       "9   106.041429               density\n",
       "10   23.477330                    pH\n",
       "11    8.249344             sulphates\n",
       "12   22.504171               alcohol"
      ]
     },
     "execution_count": 14,
     "metadata": {},
     "output_type": "execute_result"
    }
   ],
   "source": [
    "# Sclaer 를 통해 변환된 데이터의 VIF 확인\n",
    "\n",
    "new_train_df =  pd.DataFrame(train_scale)\n",
    "new_train_df.columns = train.columns\n",
    "\n",
    "vif = pd.DataFrame()\n",
    "vif[\"VIF Factor\"] = [variance_inflation_factor(new_train_df.values, i) for i in range(new_train_df.shape[1])]\n",
    "vif[\"features\"] = new_train_df.columns \n",
    "vif"
   ]
  },
  {
   "cell_type": "code",
   "execution_count": null,
   "metadata": {},
   "outputs": [],
   "source": []
  }
 ],
 "metadata": {
  "interpreter": {
   "hash": "ba3b53a9b9acb1650751d2c541b4e87eab1921abe50dab0a5b617a997392f296"
  },
  "kernelspec": {
   "display_name": "Python 3.8.13 ('tf_env')",
   "language": "python",
   "name": "python3"
  },
  "language_info": {
   "codemirror_mode": {
    "name": "ipython",
    "version": 3
   },
   "file_extension": ".py",
   "mimetype": "text/x-python",
   "name": "python",
   "nbconvert_exporter": "python",
   "pygments_lexer": "ipython3",
   "version": "3.8.13"
  },
  "orig_nbformat": 4
 },
 "nbformat": 4,
 "nbformat_minor": 2
}
