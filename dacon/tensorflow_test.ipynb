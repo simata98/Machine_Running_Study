version https://git-lfs.github.com/spec/v1
oid sha256:ddee4aa40e070227fcab34889f763010e19caae0e35ab1313f45f2d193dd9b3b
size 14041
