{
 "cells": [
  {
   "cell_type": "code",
   "execution_count": 1,
   "metadata": {},
   "outputs": [],
   "source": [
    "import pandas as pd\n",
    "import numpy as np\n",
    "import matplotlib.pyplot as plt"
   ]
  },
  {
   "cell_type": "code",
   "execution_count": 2,
   "metadata": {},
   "outputs": [
    {
     "data": {
      "text/html": [
       "<div>\n",
       "<style scoped>\n",
       "    .dataframe tbody tr th:only-of-type {\n",
       "        vertical-align: middle;\n",
       "    }\n",
       "\n",
       "    .dataframe tbody tr th {\n",
       "        vertical-align: top;\n",
       "    }\n",
       "\n",
       "    .dataframe thead th {\n",
       "        text-align: right;\n",
       "    }\n",
       "</style>\n",
       "<table border=\"1\" class=\"dataframe\">\n",
       "  <thead>\n",
       "    <tr style=\"text-align: right;\">\n",
       "      <th></th>\n",
       "      <th>id</th>\n",
       "      <th>Body Mass (g)</th>\n",
       "    </tr>\n",
       "  </thead>\n",
       "  <tbody>\n",
       "    <tr>\n",
       "      <th>0</th>\n",
       "      <td>0</td>\n",
       "      <td>0</td>\n",
       "    </tr>\n",
       "    <tr>\n",
       "      <th>1</th>\n",
       "      <td>1</td>\n",
       "      <td>0</td>\n",
       "    </tr>\n",
       "    <tr>\n",
       "      <th>2</th>\n",
       "      <td>2</td>\n",
       "      <td>0</td>\n",
       "    </tr>\n",
       "    <tr>\n",
       "      <th>3</th>\n",
       "      <td>3</td>\n",
       "      <td>0</td>\n",
       "    </tr>\n",
       "    <tr>\n",
       "      <th>4</th>\n",
       "      <td>4</td>\n",
       "      <td>0</td>\n",
       "    </tr>\n",
       "    <tr>\n",
       "      <th>...</th>\n",
       "      <td>...</td>\n",
       "      <td>...</td>\n",
       "    </tr>\n",
       "    <tr>\n",
       "      <th>223</th>\n",
       "      <td>223</td>\n",
       "      <td>0</td>\n",
       "    </tr>\n",
       "    <tr>\n",
       "      <th>224</th>\n",
       "      <td>224</td>\n",
       "      <td>0</td>\n",
       "    </tr>\n",
       "    <tr>\n",
       "      <th>225</th>\n",
       "      <td>225</td>\n",
       "      <td>0</td>\n",
       "    </tr>\n",
       "    <tr>\n",
       "      <th>226</th>\n",
       "      <td>226</td>\n",
       "      <td>0</td>\n",
       "    </tr>\n",
       "    <tr>\n",
       "      <th>227</th>\n",
       "      <td>227</td>\n",
       "      <td>0</td>\n",
       "    </tr>\n",
       "  </tbody>\n",
       "</table>\n",
       "<p>228 rows × 2 columns</p>\n",
       "</div>"
      ],
      "text/plain": [
       "      id  Body Mass (g)\n",
       "0      0              0\n",
       "1      1              0\n",
       "2      2              0\n",
       "3      3              0\n",
       "4      4              0\n",
       "..   ...            ...\n",
       "223  223              0\n",
       "224  224              0\n",
       "225  225              0\n",
       "226  226              0\n",
       "227  227              0\n",
       "\n",
       "[228 rows x 2 columns]"
      ]
     },
     "execution_count": 2,
     "metadata": {},
     "output_type": "execute_result"
    }
   ],
   "source": [
    "pd.read_csv('./data/sample_submission.csv')"
   ]
  },
  {
   "cell_type": "code",
   "execution_count": 3,
   "metadata": {},
   "outputs": [
    {
     "data": {
      "text/html": [
       "<div>\n",
       "<style scoped>\n",
       "    .dataframe tbody tr th:only-of-type {\n",
       "        vertical-align: middle;\n",
       "    }\n",
       "\n",
       "    .dataframe tbody tr th {\n",
       "        vertical-align: top;\n",
       "    }\n",
       "\n",
       "    .dataframe thead th {\n",
       "        text-align: right;\n",
       "    }\n",
       "</style>\n",
       "<table border=\"1\" class=\"dataframe\">\n",
       "  <thead>\n",
       "    <tr style=\"text-align: right;\">\n",
       "      <th></th>\n",
       "      <th>id</th>\n",
       "      <th>Species</th>\n",
       "      <th>Island</th>\n",
       "      <th>Clutch Completion</th>\n",
       "      <th>Culmen Length (mm)</th>\n",
       "      <th>Culmen Depth (mm)</th>\n",
       "      <th>Flipper Length (mm)</th>\n",
       "      <th>Sex</th>\n",
       "      <th>Delta 15 N (o/oo)</th>\n",
       "      <th>Delta 13 C (o/oo)</th>\n",
       "    </tr>\n",
       "  </thead>\n",
       "  <tbody>\n",
       "    <tr>\n",
       "      <th>0</th>\n",
       "      <td>0</td>\n",
       "      <td>Chinstrap penguin (Pygoscelis antarctica)</td>\n",
       "      <td>Dream</td>\n",
       "      <td>Yes</td>\n",
       "      <td>52.0</td>\n",
       "      <td>20.7</td>\n",
       "      <td>210.0</td>\n",
       "      <td>MALE</td>\n",
       "      <td>9.43146</td>\n",
       "      <td>-24.68440</td>\n",
       "    </tr>\n",
       "    <tr>\n",
       "      <th>1</th>\n",
       "      <td>1</td>\n",
       "      <td>Gentoo penguin (Pygoscelis papua)</td>\n",
       "      <td>Biscoe</td>\n",
       "      <td>Yes</td>\n",
       "      <td>55.9</td>\n",
       "      <td>17.0</td>\n",
       "      <td>228.0</td>\n",
       "      <td>MALE</td>\n",
       "      <td>8.31180</td>\n",
       "      <td>-26.35425</td>\n",
       "    </tr>\n",
       "    <tr>\n",
       "      <th>2</th>\n",
       "      <td>2</td>\n",
       "      <td>Adelie Penguin (Pygoscelis adeliae)</td>\n",
       "      <td>Dream</td>\n",
       "      <td>Yes</td>\n",
       "      <td>38.9</td>\n",
       "      <td>18.8</td>\n",
       "      <td>190.0</td>\n",
       "      <td>FEMALE</td>\n",
       "      <td>8.36936</td>\n",
       "      <td>-26.11199</td>\n",
       "    </tr>\n",
       "    <tr>\n",
       "      <th>3</th>\n",
       "      <td>3</td>\n",
       "      <td>Chinstrap penguin (Pygoscelis antarctica)</td>\n",
       "      <td>Dream</td>\n",
       "      <td>Yes</td>\n",
       "      <td>45.2</td>\n",
       "      <td>16.6</td>\n",
       "      <td>191.0</td>\n",
       "      <td>FEMALE</td>\n",
       "      <td>9.62357</td>\n",
       "      <td>-24.78984</td>\n",
       "    </tr>\n",
       "    <tr>\n",
       "      <th>4</th>\n",
       "      <td>4</td>\n",
       "      <td>Adelie Penguin (Pygoscelis adeliae)</td>\n",
       "      <td>Biscoe</td>\n",
       "      <td>No</td>\n",
       "      <td>37.9</td>\n",
       "      <td>18.6</td>\n",
       "      <td>172.0</td>\n",
       "      <td>FEMALE</td>\n",
       "      <td>8.38404</td>\n",
       "      <td>-25.19837</td>\n",
       "    </tr>\n",
       "  </tbody>\n",
       "</table>\n",
       "</div>"
      ],
      "text/plain": [
       "   id                                    Species  Island Clutch Completion  \\\n",
       "0   0  Chinstrap penguin (Pygoscelis antarctica)   Dream               Yes   \n",
       "1   1          Gentoo penguin (Pygoscelis papua)  Biscoe               Yes   \n",
       "2   2        Adelie Penguin (Pygoscelis adeliae)   Dream               Yes   \n",
       "3   3  Chinstrap penguin (Pygoscelis antarctica)   Dream               Yes   \n",
       "4   4        Adelie Penguin (Pygoscelis adeliae)  Biscoe                No   \n",
       "\n",
       "   Culmen Length (mm)  Culmen Depth (mm)  Flipper Length (mm)     Sex  \\\n",
       "0                52.0               20.7                210.0    MALE   \n",
       "1                55.9               17.0                228.0    MALE   \n",
       "2                38.9               18.8                190.0  FEMALE   \n",
       "3                45.2               16.6                191.0  FEMALE   \n",
       "4                37.9               18.6                172.0  FEMALE   \n",
       "\n",
       "   Delta 15 N (o/oo)  Delta 13 C (o/oo)  \n",
       "0            9.43146          -24.68440  \n",
       "1            8.31180          -26.35425  \n",
       "2            8.36936          -26.11199  \n",
       "3            9.62357          -24.78984  \n",
       "4            8.38404          -25.19837  "
      ]
     },
     "execution_count": 3,
     "metadata": {},
     "output_type": "execute_result"
    }
   ],
   "source": [
    "test_df = pd.read_csv('./data/test.csv')\n",
    "train_df = pd.read_csv('./data/train.csv')\n",
    "test_df.head()"
   ]
  },
  {
   "cell_type": "code",
   "execution_count": 4,
   "metadata": {},
   "outputs": [
    {
     "data": {
      "text/html": [
       "<div>\n",
       "<style scoped>\n",
       "    .dataframe tbody tr th:only-of-type {\n",
       "        vertical-align: middle;\n",
       "    }\n",
       "\n",
       "    .dataframe tbody tr th {\n",
       "        vertical-align: top;\n",
       "    }\n",
       "\n",
       "    .dataframe thead th {\n",
       "        text-align: right;\n",
       "    }\n",
       "</style>\n",
       "<table border=\"1\" class=\"dataframe\">\n",
       "  <thead>\n",
       "    <tr style=\"text-align: right;\">\n",
       "      <th></th>\n",
       "      <th>id</th>\n",
       "      <th>Culmen Length (mm)</th>\n",
       "      <th>Culmen Depth (mm)</th>\n",
       "      <th>Flipper Length (mm)</th>\n",
       "      <th>Delta 15 N (o/oo)</th>\n",
       "      <th>Delta 13 C (o/oo)</th>\n",
       "      <th>Body Mass (g)</th>\n",
       "    </tr>\n",
       "  </thead>\n",
       "  <tbody>\n",
       "    <tr>\n",
       "      <th>count</th>\n",
       "      <td>114.000000</td>\n",
       "      <td>114.000000</td>\n",
       "      <td>114.000000</td>\n",
       "      <td>114.000000</td>\n",
       "      <td>111.000000</td>\n",
       "      <td>111.000000</td>\n",
       "      <td>114.000000</td>\n",
       "    </tr>\n",
       "    <tr>\n",
       "      <th>mean</th>\n",
       "      <td>56.500000</td>\n",
       "      <td>44.613158</td>\n",
       "      <td>17.014912</td>\n",
       "      <td>203.052632</td>\n",
       "      <td>8.737634</td>\n",
       "      <td>-25.723051</td>\n",
       "      <td>4327.850877</td>\n",
       "    </tr>\n",
       "    <tr>\n",
       "      <th>std</th>\n",
       "      <td>33.052988</td>\n",
       "      <td>5.321829</td>\n",
       "      <td>1.941363</td>\n",
       "      <td>14.653425</td>\n",
       "      <td>0.567698</td>\n",
       "      <td>0.859786</td>\n",
       "      <td>781.766484</td>\n",
       "    </tr>\n",
       "    <tr>\n",
       "      <th>min</th>\n",
       "      <td>0.000000</td>\n",
       "      <td>33.500000</td>\n",
       "      <td>13.200000</td>\n",
       "      <td>174.000000</td>\n",
       "      <td>7.632200</td>\n",
       "      <td>-27.018540</td>\n",
       "      <td>2700.000000</td>\n",
       "    </tr>\n",
       "    <tr>\n",
       "      <th>25%</th>\n",
       "      <td>28.250000</td>\n",
       "      <td>40.325000</td>\n",
       "      <td>15.225000</td>\n",
       "      <td>190.000000</td>\n",
       "      <td>8.272585</td>\n",
       "      <td>-26.434025</td>\n",
       "      <td>3675.000000</td>\n",
       "    </tr>\n",
       "    <tr>\n",
       "      <th>50%</th>\n",
       "      <td>56.500000</td>\n",
       "      <td>45.200000</td>\n",
       "      <td>17.250000</td>\n",
       "      <td>199.000000</td>\n",
       "      <td>8.632590</td>\n",
       "      <td>-25.955410</td>\n",
       "      <td>4250.000000</td>\n",
       "    </tr>\n",
       "    <tr>\n",
       "      <th>75%</th>\n",
       "      <td>84.750000</td>\n",
       "      <td>49.075000</td>\n",
       "      <td>18.600000</td>\n",
       "      <td>216.000000</td>\n",
       "      <td>9.264635</td>\n",
       "      <td>-25.005945</td>\n",
       "      <td>4850.000000</td>\n",
       "    </tr>\n",
       "    <tr>\n",
       "      <th>max</th>\n",
       "      <td>113.000000</td>\n",
       "      <td>55.100000</td>\n",
       "      <td>21.100000</td>\n",
       "      <td>231.000000</td>\n",
       "      <td>10.025440</td>\n",
       "      <td>-24.102550</td>\n",
       "      <td>6300.000000</td>\n",
       "    </tr>\n",
       "  </tbody>\n",
       "</table>\n",
       "</div>"
      ],
      "text/plain": [
       "               id  Culmen Length (mm)  Culmen Depth (mm)  Flipper Length (mm)  \\\n",
       "count  114.000000          114.000000         114.000000           114.000000   \n",
       "mean    56.500000           44.613158          17.014912           203.052632   \n",
       "std     33.052988            5.321829           1.941363            14.653425   \n",
       "min      0.000000           33.500000          13.200000           174.000000   \n",
       "25%     28.250000           40.325000          15.225000           190.000000   \n",
       "50%     56.500000           45.200000          17.250000           199.000000   \n",
       "75%     84.750000           49.075000          18.600000           216.000000   \n",
       "max    113.000000           55.100000          21.100000           231.000000   \n",
       "\n",
       "       Delta 15 N (o/oo)  Delta 13 C (o/oo)  Body Mass (g)  \n",
       "count         111.000000         111.000000     114.000000  \n",
       "mean            8.737634         -25.723051    4327.850877  \n",
       "std             0.567698           0.859786     781.766484  \n",
       "min             7.632200         -27.018540    2700.000000  \n",
       "25%             8.272585         -26.434025    3675.000000  \n",
       "50%             8.632590         -25.955410    4250.000000  \n",
       "75%             9.264635         -25.005945    4850.000000  \n",
       "max            10.025440         -24.102550    6300.000000  "
      ]
     },
     "execution_count": 4,
     "metadata": {},
     "output_type": "execute_result"
    }
   ],
   "source": [
    "train_df.describe()"
   ]
  },
  {
   "cell_type": "markdown",
   "metadata": {},
   "source": [
    "### NaN 비율 보기"
   ]
  },
  {
   "cell_type": "code",
   "execution_count": 5,
   "metadata": {},
   "outputs": [
    {
     "name": "stdout",
     "output_type": "stream",
     "text": [
      "column:                   id\t\t NaN비율: 0.00%\n",
      "column:              Species\t\t NaN비율: 0.00%\n",
      "column:               Island\t\t NaN비율: 0.00%\n",
      "column:    Clutch Completion\t\t NaN비율: 0.00%\n",
      "column:   Culmen Length (mm)\t\t NaN비율: 0.00%\n",
      "column:    Culmen Depth (mm)\t\t NaN비율: 0.00%\n",
      "column:  Flipper Length (mm)\t\t NaN비율: 0.00%\n",
      "column:                  Sex\t\t NaN비율: 2.63%\n",
      "column:    Delta 15 N (o/oo)\t\t NaN비율: 2.63%\n",
      "column:    Delta 13 C (o/oo)\t\t NaN비율: 2.63%\n",
      "column:        Body Mass (g)\t\t NaN비율: 0.00%\n"
     ]
    }
   ],
   "source": [
    "for col in train_df.columns:\n",
    "  NaN_msg = 'column: {:>20}\\t\\t NaN비율: {:.2f}%'.format(col, 100 * (train_df[col].isnull().sum() / train_df[col].shape[0]))\n",
    "  print(NaN_msg)"
   ]
  },
  {
   "cell_type": "code",
   "execution_count": 6,
   "metadata": {},
   "outputs": [
    {
     "name": "stdout",
     "output_type": "stream",
     "text": [
      "column:                   id\t\t NaN비율: 0.00%\n",
      "column:              Species\t\t NaN비율: 0.00%\n",
      "column:               Island\t\t NaN비율: 0.00%\n",
      "column:    Clutch Completion\t\t NaN비율: 0.00%\n",
      "column:   Culmen Length (mm)\t\t NaN비율: 0.00%\n",
      "column:    Culmen Depth (mm)\t\t NaN비율: 0.00%\n",
      "column:  Flipper Length (mm)\t\t NaN비율: 0.00%\n",
      "column:                  Sex\t\t NaN비율: 2.63%\n",
      "column:    Delta 15 N (o/oo)\t\t NaN비율: 3.95%\n",
      "column:    Delta 13 C (o/oo)\t\t NaN비율: 3.51%\n"
     ]
    }
   ],
   "source": [
    "for col in test_df.columns:\n",
    "  NaN_msg = 'column: {:>20}\\t\\t NaN비율: {:.2f}%'.format(col, 100 * (test_df[col].isnull().sum() / test_df[col].shape[0]))\n",
    "  print(NaN_msg)"
   ]
  },
  {
   "cell_type": "markdown",
   "metadata": {},
   "source": [
    "### feature과 Body Mass의 관계 확인"
   ]
  },
  {
   "cell_type": "markdown",
   "metadata": {},
   "source": [
    "Species & Body Mass(g)"
   ]
  },
  {
   "cell_type": "code",
   "execution_count": 7,
   "metadata": {},
   "outputs": [
    {
     "data": {
      "text/html": [
       "<div>\n",
       "<style scoped>\n",
       "    .dataframe tbody tr th:only-of-type {\n",
       "        vertical-align: middle;\n",
       "    }\n",
       "\n",
       "    .dataframe tbody tr th {\n",
       "        vertical-align: top;\n",
       "    }\n",
       "\n",
       "    .dataframe thead th {\n",
       "        text-align: right;\n",
       "    }\n",
       "</style>\n",
       "<table border=\"1\" class=\"dataframe\">\n",
       "  <thead>\n",
       "    <tr style=\"text-align: right;\">\n",
       "      <th></th>\n",
       "      <th>Body Mass (g)</th>\n",
       "    </tr>\n",
       "    <tr>\n",
       "      <th>Species</th>\n",
       "      <th></th>\n",
       "    </tr>\n",
       "  </thead>\n",
       "  <tbody>\n",
       "    <tr>\n",
       "      <th>Adelie Penguin (Pygoscelis adeliae)</th>\n",
       "      <td>3801.219512</td>\n",
       "    </tr>\n",
       "    <tr>\n",
       "      <th>Chinstrap penguin (Pygoscelis antarctica)</th>\n",
       "      <td>3756.000000</td>\n",
       "    </tr>\n",
       "    <tr>\n",
       "      <th>Gentoo penguin (Pygoscelis papua)</th>\n",
       "      <td>5075.520833</td>\n",
       "    </tr>\n",
       "  </tbody>\n",
       "</table>\n",
       "</div>"
      ],
      "text/plain": [
       "                                           Body Mass (g)\n",
       "Species                                                 \n",
       "Adelie Penguin (Pygoscelis adeliae)          3801.219512\n",
       "Chinstrap penguin (Pygoscelis antarctica)    3756.000000\n",
       "Gentoo penguin (Pygoscelis papua)            5075.520833"
      ]
     },
     "execution_count": 7,
     "metadata": {},
     "output_type": "execute_result"
    }
   ],
   "source": [
    "train_df[['Species', 'Body Mass (g)']].groupby(['Species'], as_index = True).mean()"
   ]
  },
  {
   "cell_type": "code",
   "execution_count": 8,
   "metadata": {},
   "outputs": [
    {
     "name": "stderr",
     "output_type": "stream",
     "text": [
      "No handles with labels found to put in legend.\n"
     ]
    },
    {
     "data": {
      "image/png": "[encoded data removed]",
      "text/plain": [
       "<Figure size 432x288 with 1 Axes>"
      ]
     },
     "metadata": {
      "needs_background": "light"
     },
     "output_type": "display_data"
    }
   ],
   "source": [
    "X = train_df['Species'].values\n",
    "Y = train_df['Body Mass (g)'].values\n",
    "plt.scatter(X, Y, alpha=0.5)\n",
    "plt.title('Species & Body Mass(g)')\n",
    "plt.xlabel('Species')\n",
    "plt.ylabel('Body Mass(g)')\n",
    "plt.xticks(rotation=15)\n",
    "plt.legend()\n",
    "plt.show()"
   ]
  },
  {
   "cell_type": "markdown",
   "metadata": {},
   "source": [
    "Island & Body Mass(g)"
   ]
  },
  {
   "cell_type": "code",
   "execution_count": 9,
   "metadata": {},
   "outputs": [
    {
     "data": {
      "text/html": [
       "<div>\n",
       "<style scoped>\n",
       "    .dataframe tbody tr th:only-of-type {\n",
       "        vertical-align: middle;\n",
       "    }\n",
       "\n",
       "    .dataframe tbody tr th {\n",
       "        vertical-align: top;\n",
       "    }\n",
       "\n",
       "    .dataframe thead th {\n",
       "        text-align: right;\n",
       "    }\n",
       "</style>\n",
       "<table border=\"1\" class=\"dataframe\">\n",
       "  <thead>\n",
       "    <tr style=\"text-align: right;\">\n",
       "      <th></th>\n",
       "      <th>Body Mass (g)</th>\n",
       "    </tr>\n",
       "    <tr>\n",
       "      <th>Island</th>\n",
       "      <th></th>\n",
       "    </tr>\n",
       "  </thead>\n",
       "  <tbody>\n",
       "    <tr>\n",
       "      <th>Biscoe</th>\n",
       "      <td>4878.947368</td>\n",
       "    </tr>\n",
       "    <tr>\n",
       "      <th>Dream</th>\n",
       "      <td>3764.772727</td>\n",
       "    </tr>\n",
       "    <tr>\n",
       "      <th>Torgersen</th>\n",
       "      <td>3817.307692</td>\n",
       "    </tr>\n",
       "  </tbody>\n",
       "</table>\n",
       "</div>"
      ],
      "text/plain": [
       "           Body Mass (g)\n",
       "Island                  \n",
       "Biscoe       4878.947368\n",
       "Dream        3764.772727\n",
       "Torgersen    3817.307692"
      ]
     },
     "execution_count": 9,
     "metadata": {},
     "output_type": "execute_result"
    }
   ],
   "source": [
    "train_df[['Island', 'Body Mass (g)']].groupby(['Island'], as_index = True).mean()"
   ]
  },
  {
   "cell_type": "code",
   "execution_count": 10,
   "metadata": {},
   "outputs": [
    {
     "name": "stderr",
     "output_type": "stream",
     "text": [
      "No handles with labels found to put in legend.\n"
     ]
    },
    {
     "data": {
      "image/png": "[encoded data removed]",
      "text/plain": [
       "<Figure size 432x288 with 1 Axes>"
      ]
     },
     "metadata": {
      "needs_background": "light"
     },
     "output_type": "display_data"
    }
   ],
   "source": [
    "X = train_df['Island'].values\n",
    "Y = train_df['Body Mass (g)'].values\n",
    "plt.scatter(X, Y, alpha=0.5)\n",
    "plt.title('Island & Body Mass(g)')\n",
    "plt.xlabel('Island')\n",
    "plt.ylabel('Body Mass(g)')\n",
    "plt.xticks(rotation=15)\n",
    "plt.legend()\n",
    "plt.show()"
   ]
  },
  {
   "cell_type": "markdown",
   "metadata": {},
   "source": [
    "Clutch Completion(관찰된 펭귄 둥지의 알[2개일 경우 Full Clutch : Yes]) & Body Mass (g)"
   ]
  },
  {
   "cell_type": "code",
   "execution_count": 11,
   "metadata": {},
   "outputs": [
    {
     "data": {
      "text/html": [
       "<div>\n",
       "<style scoped>\n",
       "    .dataframe tbody tr th:only-of-type {\n",
       "        vertical-align: middle;\n",
       "    }\n",
       "\n",
       "    .dataframe tbody tr th {\n",
       "        vertical-align: top;\n",
       "    }\n",
       "\n",
       "    .dataframe thead th {\n",
       "        text-align: right;\n",
       "    }\n",
       "</style>\n",
       "<table border=\"1\" class=\"dataframe\">\n",
       "  <thead>\n",
       "    <tr style=\"text-align: right;\">\n",
       "      <th></th>\n",
       "      <th>Body Mass (g)</th>\n",
       "    </tr>\n",
       "    <tr>\n",
       "      <th>Clutch Completion</th>\n",
       "      <th></th>\n",
       "    </tr>\n",
       "  </thead>\n",
       "  <tbody>\n",
       "    <tr>\n",
       "      <th>No</th>\n",
       "      <td>4116.666667</td>\n",
       "    </tr>\n",
       "    <tr>\n",
       "      <th>Yes</th>\n",
       "      <td>4352.696078</td>\n",
       "    </tr>\n",
       "  </tbody>\n",
       "</table>\n",
       "</div>"
      ],
      "text/plain": [
       "                   Body Mass (g)\n",
       "Clutch Completion               \n",
       "No                   4116.666667\n",
       "Yes                  4352.696078"
      ]
     },
     "execution_count": 11,
     "metadata": {},
     "output_type": "execute_result"
    }
   ],
   "source": [
    "train_df[['Clutch Completion', 'Body Mass (g)']].groupby(['Clutch Completion'], as_index = True).mean()"
   ]
  },
  {
   "cell_type": "code",
   "execution_count": 12,
   "metadata": {},
   "outputs": [
    {
     "name": "stderr",
     "output_type": "stream",
     "text": [
      "No handles with labels found to put in legend.\n"
     ]
    },
    {
     "data": {
      "image/png": "[encoded data removed]",
      "text/plain": [
       "<Figure size 432x288 with 1 Axes>"
      ]
     },
     "metadata": {
      "needs_background": "light"
     },
     "output_type": "display_data"
    }
   ],
   "source": [
    "X = train_df['Clutch Completion'].values\n",
    "Y = train_df['Body Mass (g)'].values\n",
    "plt.scatter(X, Y, alpha=0.5)\n",
    "plt.title('Clutch Completion & Body Mass(g)')\n",
    "plt.xlabel('Clutch Completion')\n",
    "plt.ylabel('Body Mass(g)')\n",
    "plt.xticks(rotation=15)\n",
    "plt.legend()\n",
    "plt.show()"
   ]
  },
  {
   "cell_type": "markdown",
   "metadata": {},
   "source": [
    "Culmen Length(부리의 길이) & Body Mass (g)"
   ]
  },
  {
   "cell_type": "code",
   "execution_count": 13,
   "metadata": {},
   "outputs": [
    {
     "data": {
      "text/html": [
       "<div>\n",
       "<style scoped>\n",
       "    .dataframe tbody tr th:only-of-type {\n",
       "        vertical-align: middle;\n",
       "    }\n",
       "\n",
       "    .dataframe tbody tr th {\n",
       "        vertical-align: top;\n",
       "    }\n",
       "\n",
       "    .dataframe thead th {\n",
       "        text-align: right;\n",
       "    }\n",
       "</style>\n",
       "<table border=\"1\" class=\"dataframe\">\n",
       "  <thead>\n",
       "    <tr style=\"text-align: right;\">\n",
       "      <th></th>\n",
       "      <th>Body Mass (g)</th>\n",
       "    </tr>\n",
       "    <tr>\n",
       "      <th>Culmen Length (mm)</th>\n",
       "      <th></th>\n",
       "    </tr>\n",
       "  </thead>\n",
       "  <tbody>\n",
       "    <tr>\n",
       "      <th>33.5</th>\n",
       "      <td>3600.0</td>\n",
       "    </tr>\n",
       "    <tr>\n",
       "      <th>34.0</th>\n",
       "      <td>3400.0</td>\n",
       "    </tr>\n",
       "    <tr>\n",
       "      <th>34.1</th>\n",
       "      <td>3475.0</td>\n",
       "    </tr>\n",
       "    <tr>\n",
       "      <th>35.3</th>\n",
       "      <td>3800.0</td>\n",
       "    </tr>\n",
       "    <tr>\n",
       "      <th>35.5</th>\n",
       "      <td>3350.0</td>\n",
       "    </tr>\n",
       "    <tr>\n",
       "      <th>...</th>\n",
       "      <td>...</td>\n",
       "    </tr>\n",
       "    <tr>\n",
       "      <th>52.8</th>\n",
       "      <td>4550.0</td>\n",
       "    </tr>\n",
       "    <tr>\n",
       "      <th>53.4</th>\n",
       "      <td>5500.0</td>\n",
       "    </tr>\n",
       "    <tr>\n",
       "      <th>53.5</th>\n",
       "      <td>4500.0</td>\n",
       "    </tr>\n",
       "    <tr>\n",
       "      <th>54.3</th>\n",
       "      <td>5650.0</td>\n",
       "    </tr>\n",
       "    <tr>\n",
       "      <th>55.1</th>\n",
       "      <td>5850.0</td>\n",
       "    </tr>\n",
       "  </tbody>\n",
       "</table>\n",
       "<p>87 rows × 1 columns</p>\n",
       "</div>"
      ],
      "text/plain": [
       "                    Body Mass (g)\n",
       "Culmen Length (mm)               \n",
       "33.5                       3600.0\n",
       "34.0                       3400.0\n",
       "34.1                       3475.0\n",
       "35.3                       3800.0\n",
       "35.5                       3350.0\n",
       "...                           ...\n",
       "52.8                       4550.0\n",
       "53.4                       5500.0\n",
       "53.5                       4500.0\n",
       "54.3                       5650.0\n",
       "55.1                       5850.0\n",
       "\n",
       "[87 rows x 1 columns]"
      ]
     },
     "execution_count": 13,
     "metadata": {},
     "output_type": "execute_result"
    }
   ],
   "source": [
    "train_df[['Culmen Length (mm)', 'Body Mass (g)']].groupby(['Culmen Length (mm)'], as_index = True).mean()"
   ]
  },
  {
   "cell_type": "code",
   "execution_count": 14,
   "metadata": {},
   "outputs": [
    {
     "name": "stderr",
     "output_type": "stream",
     "text": [
      "No handles with labels found to put in legend.\n"
     ]
    },
    {
     "data": {
      "image/png": "[encoded data removed]",
      "text/plain": [
       "<Figure size 432x288 with 1 Axes>"
      ]
     },
     "metadata": {
      "needs_background": "light"
     },
     "output_type": "display_data"
    }
   ],
   "source": [
    "X = train_df['Culmen Length (mm)'].values\n",
    "Y = train_df['Body Mass (g)'].values\n",
    "plt.scatter(X, Y, alpha=0.5)\n",
    "plt.title('Culmen Length (mm) & Body Mass(g)')\n",
    "plt.xlabel('Culmen Length (mm)')\n",
    "plt.ylabel('Body Mass(g)')\n",
    "plt.xticks(rotation=15)\n",
    "plt.legend()\n",
    "plt.show()"
   ]
  },
  {
   "cell_type": "markdown",
   "metadata": {},
   "source": [
    "Culmen Depth (부리의 높이[세로]) & Body Mass (g)"
   ]
  },
  {
   "cell_type": "code",
   "execution_count": 15,
   "metadata": {},
   "outputs": [
    {
     "data": {
      "text/html": [
       "<div>\n",
       "<style scoped>\n",
       "    .dataframe tbody tr th:only-of-type {\n",
       "        vertical-align: middle;\n",
       "    }\n",
       "\n",
       "    .dataframe tbody tr th {\n",
       "        vertical-align: top;\n",
       "    }\n",
       "\n",
       "    .dataframe thead th {\n",
       "        text-align: right;\n",
       "    }\n",
       "</style>\n",
       "<table border=\"1\" class=\"dataframe\">\n",
       "  <thead>\n",
       "    <tr style=\"text-align: right;\">\n",
       "      <th></th>\n",
       "      <th>Body Mass (g)</th>\n",
       "    </tr>\n",
       "    <tr>\n",
       "      <th>Culmen Depth (mm)</th>\n",
       "      <th></th>\n",
       "    </tr>\n",
       "  </thead>\n",
       "  <tbody>\n",
       "    <tr>\n",
       "      <th>13.2</th>\n",
       "      <td>4500.0</td>\n",
       "    </tr>\n",
       "    <tr>\n",
       "      <th>13.3</th>\n",
       "      <td>5100.0</td>\n",
       "    </tr>\n",
       "    <tr>\n",
       "      <th>13.5</th>\n",
       "      <td>4150.0</td>\n",
       "    </tr>\n",
       "    <tr>\n",
       "      <th>13.9</th>\n",
       "      <td>4900.0</td>\n",
       "    </tr>\n",
       "    <tr>\n",
       "      <th>14.0</th>\n",
       "      <td>4575.0</td>\n",
       "    </tr>\n",
       "  </tbody>\n",
       "</table>\n",
       "</div>"
      ],
      "text/plain": [
       "                   Body Mass (g)\n",
       "Culmen Depth (mm)               \n",
       "13.2                      4500.0\n",
       "13.3                      5100.0\n",
       "13.5                      4150.0\n",
       "13.9                      4900.0\n",
       "14.0                      4575.0"
      ]
     },
     "execution_count": 15,
     "metadata": {},
     "output_type": "execute_result"
    }
   ],
   "source": [
    "train_df[['Culmen Depth (mm)', 'Body Mass (g)']].groupby(['Culmen Depth (mm)'], as_index = True).mean().head()"
   ]
  },
  {
   "cell_type": "code",
   "execution_count": 16,
   "metadata": {},
   "outputs": [
    {
     "name": "stderr",
     "output_type": "stream",
     "text": [
      "No handles with labels found to put in legend.\n"
     ]
    },
    {
     "data": {
      "image/png": "[encoded data removed]",
      "text/plain": [
       "<Figure size 432x288 with 1 Axes>"
      ]
     },
     "metadata": {
      "needs_background": "light"
     },
     "output_type": "display_data"
    }
   ],
   "source": [
    "X = train_df['Culmen Depth (mm)'].values\n",
    "Y = train_df['Body Mass (g)'].values\n",
    "plt.scatter(X, Y, alpha=0.5)\n",
    "plt.title('Culmen Depth (mm) & Body Mass(g)')\n",
    "plt.xlabel('Culmen Depth (mm)')\n",
    "plt.ylabel('Body Mass(g)')\n",
    "plt.xticks(rotation=15)\n",
    "plt.legend()\n",
    "plt.show()"
   ]
  },
  {
   "cell_type": "markdown",
   "metadata": {},
   "source": [
    "Sex(성) & Body Mass (g)"
   ]
  },
  {
   "cell_type": "code",
   "execution_count": 17,
   "metadata": {},
   "outputs": [
    {
     "data": {
      "text/html": [
       "<div>\n",
       "<style scoped>\n",
       "    .dataframe tbody tr th:only-of-type {\n",
       "        vertical-align: middle;\n",
       "    }\n",
       "\n",
       "    .dataframe tbody tr th {\n",
       "        vertical-align: top;\n",
       "    }\n",
       "\n",
       "    .dataframe thead th {\n",
       "        text-align: right;\n",
       "    }\n",
       "</style>\n",
       "<table border=\"1\" class=\"dataframe\">\n",
       "  <thead>\n",
       "    <tr style=\"text-align: right;\">\n",
       "      <th></th>\n",
       "      <th>Body Mass (g)</th>\n",
       "    </tr>\n",
       "    <tr>\n",
       "      <th>Sex</th>\n",
       "      <th></th>\n",
       "    </tr>\n",
       "  </thead>\n",
       "  <tbody>\n",
       "    <tr>\n",
       "      <th>FEMALE</th>\n",
       "      <td>4000.909091</td>\n",
       "    </tr>\n",
       "    <tr>\n",
       "      <th>MALE</th>\n",
       "      <td>4659.821429</td>\n",
       "    </tr>\n",
       "  </tbody>\n",
       "</table>\n",
       "</div>"
      ],
      "text/plain": [
       "        Body Mass (g)\n",
       "Sex                  \n",
       "FEMALE    4000.909091\n",
       "MALE      4659.821429"
      ]
     },
     "execution_count": 17,
     "metadata": {},
     "output_type": "execute_result"
    }
   ],
   "source": [
    "train_df[['Sex', 'Body Mass (g)']].groupby(['Sex'], as_index = True).mean()"
   ]
  },
  {
   "cell_type": "code",
   "execution_count": 18,
   "metadata": {},
   "outputs": [
    {
     "data": {
      "image/png": "[encoded data removed]",
      "text/plain": [
       "<Figure size 432x288 with 1 Axes>"
      ]
     },
     "metadata": {
      "needs_background": "light"
     },
     "output_type": "display_data"
    }
   ],
   "source": [
    "train_df['Sex'].replace(['MALE','FEMALE'],[0,1],inplace=True)\n",
    "X = train_df['Sex'].values\n",
    "Y = train_df['Body Mass (g)'].values\n",
    "plt.scatter(X, Y, alpha=0.5, cmap=plt.cm.get_cmap('prism', train_df['Sex'].nunique()), edgecolors='black')\n",
    "plt.title('Sex & Body Mass(g)')\n",
    "plt.xlabel('Sex')\n",
    "plt.ylabel('Body Mass(g)')\n",
    "plt.xticks(rotation=15)\n",
    "plt.show()"
   ]
  },
  {
   "cell_type": "markdown",
   "metadata": {},
   "source": [
    "Delta 15 N (o/oo) [토양에 따라 변화하는 안정 동위원소 15N:14N의 비율] & Body Mass (g)"
   ]
  },
  {
   "cell_type": "code",
   "execution_count": 19,
   "metadata": {},
   "outputs": [
    {
     "data": {
      "text/html": [
       "<div>\n",
       "<style scoped>\n",
       "    .dataframe tbody tr th:only-of-type {\n",
       "        vertical-align: middle;\n",
       "    }\n",
       "\n",
       "    .dataframe tbody tr th {\n",
       "        vertical-align: top;\n",
       "    }\n",
       "\n",
       "    .dataframe thead th {\n",
       "        text-align: right;\n",
       "    }\n",
       "</style>\n",
       "<table border=\"1\" class=\"dataframe\">\n",
       "  <thead>\n",
       "    <tr style=\"text-align: right;\">\n",
       "      <th></th>\n",
       "      <th>Body Mass (g)</th>\n",
       "    </tr>\n",
       "    <tr>\n",
       "      <th>Delta 15 N (o/oo)</th>\n",
       "      <th></th>\n",
       "    </tr>\n",
       "  </thead>\n",
       "  <tbody>\n",
       "    <tr>\n",
       "      <th>7.63220</th>\n",
       "      <td>5000</td>\n",
       "    </tr>\n",
       "    <tr>\n",
       "      <th>7.63452</th>\n",
       "      <td>4700</td>\n",
       "    </tr>\n",
       "    <tr>\n",
       "      <th>7.63884</th>\n",
       "      <td>4150</td>\n",
       "    </tr>\n",
       "    <tr>\n",
       "      <th>7.82381</th>\n",
       "      <td>3550</td>\n",
       "    </tr>\n",
       "    <tr>\n",
       "      <th>7.88863</th>\n",
       "      <td>3600</td>\n",
       "    </tr>\n",
       "    <tr>\n",
       "      <th>...</th>\n",
       "      <td>...</td>\n",
       "    </tr>\n",
       "    <tr>\n",
       "      <th>9.68950</th>\n",
       "      <td>3250</td>\n",
       "    </tr>\n",
       "    <tr>\n",
       "      <th>9.72764</th>\n",
       "      <td>3900</td>\n",
       "    </tr>\n",
       "    <tr>\n",
       "      <th>9.77528</th>\n",
       "      <td>3450</td>\n",
       "    </tr>\n",
       "    <tr>\n",
       "      <th>9.80589</th>\n",
       "      <td>2700</td>\n",
       "    </tr>\n",
       "    <tr>\n",
       "      <th>10.02544</th>\n",
       "      <td>4500</td>\n",
       "    </tr>\n",
       "  </tbody>\n",
       "</table>\n",
       "<p>111 rows × 1 columns</p>\n",
       "</div>"
      ],
      "text/plain": [
       "                   Body Mass (g)\n",
       "Delta 15 N (o/oo)               \n",
       "7.63220                     5000\n",
       "7.63452                     4700\n",
       "7.63884                     4150\n",
       "7.82381                     3550\n",
       "7.88863                     3600\n",
       "...                          ...\n",
       "9.68950                     3250\n",
       "9.72764                     3900\n",
       "9.77528                     3450\n",
       "9.80589                     2700\n",
       "10.02544                    4500\n",
       "\n",
       "[111 rows x 1 columns]"
      ]
     },
     "execution_count": 19,
     "metadata": {},
     "output_type": "execute_result"
    }
   ],
   "source": [
    "train_df[['Delta 15 N (o/oo)', 'Body Mass (g)']].groupby(['Delta 15 N (o/oo)'], as_index = True).mean()"
   ]
  },
  {
   "cell_type": "code",
   "execution_count": 20,
   "metadata": {},
   "outputs": [
    {
     "name": "stderr",
     "output_type": "stream",
     "text": [
      "No handles with labels found to put in legend.\n"
     ]
    },
    {
     "data": {
      "image/png": "[encoded data removed]",
      "text/plain": [
       "<Figure size 432x288 with 1 Axes>"
      ]
     },
     "metadata": {
      "needs_background": "light"
     },
     "output_type": "display_data"
    }
   ],
   "source": [
    "X = train_df['Delta 15 N (o/oo)'].values\n",
    "Y = train_df['Body Mass (g)'].values\n",
    "plt.scatter(X, Y, alpha=0.5)\n",
    "plt.title('Delta 15 N (o/oo) & Body Mass(g)')\n",
    "plt.xlabel('Delta 15 N (o/oo)')\n",
    "plt.ylabel('Body Mass(g)')\n",
    "plt.xticks(rotation=15)\n",
    "plt.legend()\n",
    "plt.show()"
   ]
  },
  {
   "cell_type": "markdown",
   "metadata": {},
   "source": [
    "Delta 13 C (o/oo) [먹이에 따라 변화하는 안정 동위원소 13C:12C의 비율] & Body Mass (g)"
   ]
  },
  {
   "cell_type": "code",
   "execution_count": 21,
   "metadata": {},
   "outputs": [
    {
     "data": {
      "text/html": [
       "<div>\n",
       "<style scoped>\n",
       "    .dataframe tbody tr th:only-of-type {\n",
       "        vertical-align: middle;\n",
       "    }\n",
       "\n",
       "    .dataframe tbody tr th {\n",
       "        vertical-align: top;\n",
       "    }\n",
       "\n",
       "    .dataframe thead th {\n",
       "        text-align: right;\n",
       "    }\n",
       "</style>\n",
       "<table border=\"1\" class=\"dataframe\">\n",
       "  <thead>\n",
       "    <tr style=\"text-align: right;\">\n",
       "      <th></th>\n",
       "      <th>Body Mass (g)</th>\n",
       "    </tr>\n",
       "    <tr>\n",
       "      <th>Delta 13 C (o/oo)</th>\n",
       "      <th></th>\n",
       "    </tr>\n",
       "  </thead>\n",
       "  <tbody>\n",
       "    <tr>\n",
       "      <th>-27.01854</th>\n",
       "      <td>4400</td>\n",
       "    </tr>\n",
       "    <tr>\n",
       "      <th>-26.95470</th>\n",
       "      <td>4700</td>\n",
       "    </tr>\n",
       "    <tr>\n",
       "      <th>-26.89644</th>\n",
       "      <td>5100</td>\n",
       "    </tr>\n",
       "    <tr>\n",
       "      <th>-26.86352</th>\n",
       "      <td>4850</td>\n",
       "    </tr>\n",
       "    <tr>\n",
       "      <th>-26.84506</th>\n",
       "      <td>5350</td>\n",
       "    </tr>\n",
       "    <tr>\n",
       "      <th>...</th>\n",
       "      <td>...</td>\n",
       "    </tr>\n",
       "    <tr>\n",
       "      <th>-24.30229</th>\n",
       "      <td>3500</td>\n",
       "    </tr>\n",
       "    <tr>\n",
       "      <th>-24.25255</th>\n",
       "      <td>3775</td>\n",
       "    </tr>\n",
       "    <tr>\n",
       "      <th>-24.23592</th>\n",
       "      <td>3900</td>\n",
       "    </tr>\n",
       "    <tr>\n",
       "      <th>-24.16566</th>\n",
       "      <td>3675</td>\n",
       "    </tr>\n",
       "    <tr>\n",
       "      <th>-24.10255</th>\n",
       "      <td>4600</td>\n",
       "    </tr>\n",
       "  </tbody>\n",
       "</table>\n",
       "<p>111 rows × 1 columns</p>\n",
       "</div>"
      ],
      "text/plain": [
       "                   Body Mass (g)\n",
       "Delta 13 C (o/oo)               \n",
       "-27.01854                   4400\n",
       "-26.95470                   4700\n",
       "-26.89644                   5100\n",
       "-26.86352                   4850\n",
       "-26.84506                   5350\n",
       "...                          ...\n",
       "-24.30229                   3500\n",
       "-24.25255                   3775\n",
       "-24.23592                   3900\n",
       "-24.16566                   3675\n",
       "-24.10255                   4600\n",
       "\n",
       "[111 rows x 1 columns]"
      ]
     },
     "execution_count": 21,
     "metadata": {},
     "output_type": "execute_result"
    }
   ],
   "source": [
    "train_df[['Delta 13 C (o/oo)', 'Body Mass (g)']].groupby(['Delta 13 C (o/oo)'], as_index = True).mean()\n"
   ]
  },
  {
   "cell_type": "code",
   "execution_count": 22,
   "metadata": {},
   "outputs": [
    {
     "name": "stderr",
     "output_type": "stream",
     "text": [
      "No handles with labels found to put in legend.\n"
     ]
    },
    {
     "data": {
      "image/png": "[encoded data removed]",
      "text/plain": [
       "<Figure size 432x288 with 1 Axes>"
      ]
     },
     "metadata": {
      "needs_background": "light"
     },
     "output_type": "display_data"
    }
   ],
   "source": [
    "X = train_df['Delta 13 C (o/oo)'].values\n",
    "Y = train_df['Body Mass (g)'].values\n",
    "plt.scatter(X, Y, alpha=0.5)\n",
    "plt.title('Delta 13 C (o/oo) & Body Mass(g)')\n",
    "plt.xlabel('Delta 13 C (o/oo)')\n",
    "plt.ylabel('Body Mass(g)')\n",
    "plt.xticks(rotation=15)\n",
    "plt.legend()\n",
    "plt.show()"
   ]
  },
  {
   "cell_type": "markdown",
   "metadata": {},
   "source": [
    "### STR to INT"
   ]
  },
  {
   "cell_type": "code",
   "execution_count": 23,
   "metadata": {},
   "outputs": [],
   "source": [
    "train_df['Species'].replace(['Gentoo penguin (Pygoscelis papua)','Chinstrap penguin (Pygoscelis antarctica)', 'Adelie Penguin (Pygoscelis adeliae)'],[0,1,2],inplace=True)\n",
    "test_df['Species'].replace(['Gentoo penguin (Pygoscelis papua)','Chinstrap penguin (Pygoscelis antarctica)', 'Adelie Penguin (Pygoscelis adeliae)'],[0,1,2],inplace=True)"
   ]
  },
  {
   "cell_type": "code",
   "execution_count": 24,
   "metadata": {},
   "outputs": [],
   "source": [
    "train_df['Island'].replace(['Biscoe','Dream', 'Torgersen'],[0,1,2],inplace=True)\n",
    "test_df['Island'].replace(['Biscoe','Dream', 'Torgersen'],[0,1,2],inplace=True)"
   ]
  },
  {
   "cell_type": "code",
   "execution_count": 25,
   "metadata": {},
   "outputs": [],
   "source": [
    "train_df['Clutch Completion'].replace(['No','Yes'],[0,1],inplace=True)\n",
    "test_df['Clutch Completion'].replace(['No','Yes'],[0,1],inplace=True)"
   ]
  },
  {
   "cell_type": "code",
   "execution_count": 26,
   "metadata": {},
   "outputs": [],
   "source": [
    "test_df['Sex'].replace(['MALE','FEMALE'],[0,1],inplace=True)"
   ]
  },
  {
   "cell_type": "code",
   "execution_count": 27,
   "metadata": {},
   "outputs": [
    {
     "data": {
      "text/html": [
       "<div>\n",
       "<style scoped>\n",
       "    .dataframe tbody tr th:only-of-type {\n",
       "        vertical-align: middle;\n",
       "    }\n",
       "\n",
       "    .dataframe tbody tr th {\n",
       "        vertical-align: top;\n",
       "    }\n",
       "\n",
       "    .dataframe thead th {\n",
       "        text-align: right;\n",
       "    }\n",
       "</style>\n",
       "<table border=\"1\" class=\"dataframe\">\n",
       "  <thead>\n",
       "    <tr style=\"text-align: right;\">\n",
       "      <th></th>\n",
       "      <th>id</th>\n",
       "      <th>Species</th>\n",
       "      <th>Island</th>\n",
       "      <th>Clutch Completion</th>\n",
       "      <th>Culmen Length (mm)</th>\n",
       "      <th>Culmen Depth (mm)</th>\n",
       "      <th>Flipper Length (mm)</th>\n",
       "      <th>Sex</th>\n",
       "      <th>Delta 15 N (o/oo)</th>\n",
       "      <th>Delta 13 C (o/oo)</th>\n",
       "      <th>Body Mass (g)</th>\n",
       "    </tr>\n",
       "  </thead>\n",
       "  <tbody>\n",
       "    <tr>\n",
       "      <th>0</th>\n",
       "      <td>0</td>\n",
       "      <td>0</td>\n",
       "      <td>0</td>\n",
       "      <td>1</td>\n",
       "      <td>50.0</td>\n",
       "      <td>15.3</td>\n",
       "      <td>220</td>\n",
       "      <td>0.0</td>\n",
       "      <td>8.30515</td>\n",
       "      <td>-25.19017</td>\n",
       "      <td>5550</td>\n",
       "    </tr>\n",
       "    <tr>\n",
       "      <th>1</th>\n",
       "      <td>1</td>\n",
       "      <td>1</td>\n",
       "      <td>1</td>\n",
       "      <td>0</td>\n",
       "      <td>49.5</td>\n",
       "      <td>19.0</td>\n",
       "      <td>200</td>\n",
       "      <td>0.0</td>\n",
       "      <td>9.63074</td>\n",
       "      <td>-24.34684</td>\n",
       "      <td>3800</td>\n",
       "    </tr>\n",
       "    <tr>\n",
       "      <th>2</th>\n",
       "      <td>2</td>\n",
       "      <td>0</td>\n",
       "      <td>0</td>\n",
       "      <td>1</td>\n",
       "      <td>45.1</td>\n",
       "      <td>14.4</td>\n",
       "      <td>210</td>\n",
       "      <td>1.0</td>\n",
       "      <td>8.51951</td>\n",
       "      <td>-27.01854</td>\n",
       "      <td>4400</td>\n",
       "    </tr>\n",
       "    <tr>\n",
       "      <th>3</th>\n",
       "      <td>3</td>\n",
       "      <td>0</td>\n",
       "      <td>0</td>\n",
       "      <td>1</td>\n",
       "      <td>44.5</td>\n",
       "      <td>14.7</td>\n",
       "      <td>214</td>\n",
       "      <td>1.0</td>\n",
       "      <td>8.20106</td>\n",
       "      <td>-26.16524</td>\n",
       "      <td>4850</td>\n",
       "    </tr>\n",
       "    <tr>\n",
       "      <th>4</th>\n",
       "      <td>4</td>\n",
       "      <td>0</td>\n",
       "      <td>0</td>\n",
       "      <td>0</td>\n",
       "      <td>49.6</td>\n",
       "      <td>16.0</td>\n",
       "      <td>225</td>\n",
       "      <td>0.0</td>\n",
       "      <td>8.38324</td>\n",
       "      <td>-26.84272</td>\n",
       "      <td>5700</td>\n",
       "    </tr>\n",
       "  </tbody>\n",
       "</table>\n",
       "</div>"
      ],
      "text/plain": [
       "   id  Species  Island  Clutch Completion  Culmen Length (mm)  \\\n",
       "0   0        0       0                  1                50.0   \n",
       "1   1        1       1                  0                49.5   \n",
       "2   2        0       0                  1                45.1   \n",
       "3   3        0       0                  1                44.5   \n",
       "4   4        0       0                  0                49.6   \n",
       "\n",
       "   Culmen Depth (mm)  Flipper Length (mm)  Sex  Delta 15 N (o/oo)  \\\n",
       "0               15.3                  220  0.0            8.30515   \n",
       "1               19.0                  200  0.0            9.63074   \n",
       "2               14.4                  210  1.0            8.51951   \n",
       "3               14.7                  214  1.0            8.20106   \n",
       "4               16.0                  225  0.0            8.38324   \n",
       "\n",
       "   Delta 13 C (o/oo)  Body Mass (g)  \n",
       "0          -25.19017           5550  \n",
       "1          -24.34684           3800  \n",
       "2          -27.01854           4400  \n",
       "3          -26.16524           4850  \n",
       "4          -26.84272           5700  "
      ]
     },
     "execution_count": 27,
     "metadata": {},
     "output_type": "execute_result"
    }
   ],
   "source": [
    "train_df.head()"
   ]
  },
  {
   "cell_type": "markdown",
   "metadata": {},
   "source": [
    "### 상관관계를 위한 히트맵"
   ]
  },
  {
   "cell_type": "code",
   "execution_count": 28,
   "metadata": {},
   "outputs": [],
   "source": [
    "import seaborn as sns"
   ]
  },
  {
   "cell_type": "code",
   "execution_count": 29,
   "metadata": {},
   "outputs": [
    {
     "data": {
      "text/plain": [
       "<matplotlib.axes._subplots.AxesSubplot at 0x28148fe59a0>"
      ]
     },
     "execution_count": 29,
     "metadata": {},
     "output_type": "execute_result"
    },
    {
     "data": {
      "image/png": "[encoded data removed]",
      "text/plain": [
       "<Figure size 864x720 with 2 Axes>"
      ]
     },
     "metadata": {
      "needs_background": "light"
     },
     "output_type": "display_data"
    }
   ],
   "source": [
    "heatmap = train_df[['Body Mass (g)','Species', 'Island', 'Clutch Completion', 'Culmen Length (mm)', 'Culmen Depth (mm)', 'Flipper Length (mm)', 'Sex', 'Delta 15 N (o/oo)','Delta 13 C (o/oo)']] \n",
    "colormap = plt.cm.bwr\n",
    "plt.figure(figsize=(12, 10))\n",
    "plt.title('Penguin Correlation of Features', y=1.05, size=15)\n",
    "sns.heatmap(heatmap.astype(float).corr(), linewidths=0.1, vmax=1.0,\n",
    "          square=True, cmap=colormap, linecolor='white', annot=True, annot_kws={\"size\": 16})"
   ]
  },
  {
   "cell_type": "markdown",
   "metadata": {},
   "source": [
    "Body Mass와 가장 상관관계가 있는 것은 Flipper Length (부리 길이)라는 것을 얻을 수 있다. 0에 수렴하는 상관관계는 필요없으니 배제하자."
   ]
  },
  {
   "cell_type": "code",
   "execution_count": 30,
   "metadata": {},
   "outputs": [
    {
     "data": {
      "text/plain": [
       "203.05263157894737"
      ]
     },
     "execution_count": 30,
     "metadata": {},
     "output_type": "execute_result"
    }
   ],
   "source": [
    "train_df['Flipper Length (mm)'].mean()"
   ]
  },
  {
   "cell_type": "markdown",
   "metadata": {},
   "source": [
    "Sex의 NaN값들을 채워주기 위해 위 평균값을 활용한다."
   ]
  },
  {
   "cell_type": "code",
   "execution_count": 31,
   "metadata": {},
   "outputs": [
    {
     "data": {
      "text/plain": [
       "0.4954954954954955"
      ]
     },
     "execution_count": 31,
     "metadata": {},
     "output_type": "execute_result"
    }
   ],
   "source": [
    "train_df['Sex'].mean()"
   ]
  },
  {
   "cell_type": "code",
   "execution_count": 32,
   "metadata": {},
   "outputs": [],
   "source": [
    "train_df.fillna(train_df.mean(), inplace = True)\n",
    "test_df.fillna(test_df.mean(), inplace = True)"
   ]
  },
  {
   "cell_type": "code",
   "execution_count": 33,
   "metadata": {},
   "outputs": [
    {
     "name": "stdout",
     "output_type": "stream",
     "text": [
      "column:                   id\t\t NaN비율: 0.00%\n",
      "column:              Species\t\t NaN비율: 0.00%\n",
      "column:               Island\t\t NaN비율: 0.00%\n",
      "column:    Clutch Completion\t\t NaN비율: 0.00%\n",
      "column:   Culmen Length (mm)\t\t NaN비율: 0.00%\n",
      "column:    Culmen Depth (mm)\t\t NaN비율: 0.00%\n",
      "column:  Flipper Length (mm)\t\t NaN비율: 0.00%\n",
      "column:                  Sex\t\t NaN비율: 0.00%\n",
      "column:    Delta 15 N (o/oo)\t\t NaN비율: 0.00%\n",
      "column:    Delta 13 C (o/oo)\t\t NaN비율: 0.00%\n",
      "column:        Body Mass (g)\t\t NaN비율: 0.00%\n"
     ]
    }
   ],
   "source": [
    "for col in train_df.columns:\n",
    "  NaN_msg = 'column: {:>20}\\t\\t NaN비율: {:.2f}%'.format(col, 100 * (train_df[col].isnull().sum() / train_df[col].shape[0]))\n",
    "  print(NaN_msg)"
   ]
  },
  {
   "cell_type": "code",
   "execution_count": 34,
   "metadata": {},
   "outputs": [
    {
     "name": "stdout",
     "output_type": "stream",
     "text": [
      "column:                   id\t\t NaN비율: 0.00%\n",
      "column:              Species\t\t NaN비율: 0.00%\n",
      "column:               Island\t\t NaN비율: 0.00%\n",
      "column:    Clutch Completion\t\t NaN비율: 0.00%\n",
      "column:   Culmen Length (mm)\t\t NaN비율: 0.00%\n",
      "column:    Culmen Depth (mm)\t\t NaN비율: 0.00%\n",
      "column:  Flipper Length (mm)\t\t NaN비율: 0.00%\n",
      "column:                  Sex\t\t NaN비율: 0.00%\n",
      "column:    Delta 15 N (o/oo)\t\t NaN비율: 0.00%\n",
      "column:    Delta 13 C (o/oo)\t\t NaN비율: 0.00%\n"
     ]
    }
   ],
   "source": [
    "for col in test_df.columns:\n",
    "  NaN_msg = 'column: {:>20}\\t\\t NaN비율: {:.2f}%'.format(col, 100 * (test_df[col].isnull().sum() / test_df[col].shape[0]))\n",
    "  print(NaN_msg)"
   ]
  },
  {
   "cell_type": "markdown",
   "metadata": {},
   "source": [
    "flipper length와 Sex 모두 NaN 비율이 0%가 되었다. 잘 처리되었다.\n",
    "Delta 15 N과 13 C도 마찬가지로 평균값을 통해 채워준다."
   ]
  },
  {
   "cell_type": "code",
   "execution_count": 35,
   "metadata": {},
   "outputs": [],
   "source": [
    "train_df.loc[(train_df['Delta 15 N (o/oo)'].isnull()),'Delta 15 N (o/oo)'] = 8.73763414414414\n",
    "test_df.loc[(test_df['Delta 15 N (o/oo)'].isnull()),'Delta 15 N (o/oo)'] = 8.731226347031962\n",
    "\n",
    "train_df.loc[(train_df['Delta 13 C (o/oo)'].isnull()),'Delta 13 C (o/oo)'] = -25.723051081081067\n",
    "test_df.loc[(test_df['Delta 13 C (o/oo)'].isnull()),'Delta 13 C (o/oo)'] = -25.667744681818192"
   ]
  },
  {
   "cell_type": "code",
   "execution_count": 36,
   "metadata": {},
   "outputs": [],
   "source": [
    "train_df = pd.get_dummies(train_df, columns=['Species'], prefix='Species')\n",
    "test_df = pd.get_dummies(test_df, columns=['Species'], prefix='Species')"
   ]
  },
  {
   "cell_type": "code",
   "execution_count": 37,
   "metadata": {},
   "outputs": [
    {
     "data": {
      "text/html": [
       "<div>\n",
       "<style scoped>\n",
       "    .dataframe tbody tr th:only-of-type {\n",
       "        vertical-align: middle;\n",
       "    }\n",
       "\n",
       "    .dataframe tbody tr th {\n",
       "        vertical-align: top;\n",
       "    }\n",
       "\n",
       "    .dataframe thead th {\n",
       "        text-align: right;\n",
       "    }\n",
       "</style>\n",
       "<table border=\"1\" class=\"dataframe\">\n",
       "  <thead>\n",
       "    <tr style=\"text-align: right;\">\n",
       "      <th></th>\n",
       "      <th>id</th>\n",
       "      <th>Island</th>\n",
       "      <th>Clutch Completion</th>\n",
       "      <th>Culmen Length (mm)</th>\n",
       "      <th>Culmen Depth (mm)</th>\n",
       "      <th>Flipper Length (mm)</th>\n",
       "      <th>Sex</th>\n",
       "      <th>Delta 15 N (o/oo)</th>\n",
       "      <th>Delta 13 C (o/oo)</th>\n",
       "      <th>Body Mass (g)</th>\n",
       "      <th>Species_0</th>\n",
       "      <th>Species_1</th>\n",
       "      <th>Species_2</th>\n",
       "    </tr>\n",
       "  </thead>\n",
       "  <tbody>\n",
       "    <tr>\n",
       "      <th>0</th>\n",
       "      <td>0</td>\n",
       "      <td>0</td>\n",
       "      <td>1</td>\n",
       "      <td>50.0</td>\n",
       "      <td>15.3</td>\n",
       "      <td>220</td>\n",
       "      <td>0.0</td>\n",
       "      <td>8.305150</td>\n",
       "      <td>-25.190170</td>\n",
       "      <td>5550</td>\n",
       "      <td>1</td>\n",
       "      <td>0</td>\n",
       "      <td>0</td>\n",
       "    </tr>\n",
       "    <tr>\n",
       "      <th>1</th>\n",
       "      <td>1</td>\n",
       "      <td>1</td>\n",
       "      <td>0</td>\n",
       "      <td>49.5</td>\n",
       "      <td>19.0</td>\n",
       "      <td>200</td>\n",
       "      <td>0.0</td>\n",
       "      <td>9.630740</td>\n",
       "      <td>-24.346840</td>\n",
       "      <td>3800</td>\n",
       "      <td>0</td>\n",
       "      <td>1</td>\n",
       "      <td>0</td>\n",
       "    </tr>\n",
       "    <tr>\n",
       "      <th>2</th>\n",
       "      <td>2</td>\n",
       "      <td>0</td>\n",
       "      <td>1</td>\n",
       "      <td>45.1</td>\n",
       "      <td>14.4</td>\n",
       "      <td>210</td>\n",
       "      <td>1.0</td>\n",
       "      <td>8.519510</td>\n",
       "      <td>-27.018540</td>\n",
       "      <td>4400</td>\n",
       "      <td>1</td>\n",
       "      <td>0</td>\n",
       "      <td>0</td>\n",
       "    </tr>\n",
       "    <tr>\n",
       "      <th>3</th>\n",
       "      <td>3</td>\n",
       "      <td>0</td>\n",
       "      <td>1</td>\n",
       "      <td>44.5</td>\n",
       "      <td>14.7</td>\n",
       "      <td>214</td>\n",
       "      <td>1.0</td>\n",
       "      <td>8.201060</td>\n",
       "      <td>-26.165240</td>\n",
       "      <td>4850</td>\n",
       "      <td>1</td>\n",
       "      <td>0</td>\n",
       "      <td>0</td>\n",
       "    </tr>\n",
       "    <tr>\n",
       "      <th>4</th>\n",
       "      <td>4</td>\n",
       "      <td>0</td>\n",
       "      <td>0</td>\n",
       "      <td>49.6</td>\n",
       "      <td>16.0</td>\n",
       "      <td>225</td>\n",
       "      <td>0.0</td>\n",
       "      <td>8.383240</td>\n",
       "      <td>-26.842720</td>\n",
       "      <td>5700</td>\n",
       "      <td>1</td>\n",
       "      <td>0</td>\n",
       "      <td>0</td>\n",
       "    </tr>\n",
       "    <tr>\n",
       "      <th>...</th>\n",
       "      <td>...</td>\n",
       "      <td>...</td>\n",
       "      <td>...</td>\n",
       "      <td>...</td>\n",
       "      <td>...</td>\n",
       "      <td>...</td>\n",
       "      <td>...</td>\n",
       "      <td>...</td>\n",
       "      <td>...</td>\n",
       "      <td>...</td>\n",
       "      <td>...</td>\n",
       "      <td>...</td>\n",
       "      <td>...</td>\n",
       "    </tr>\n",
       "    <tr>\n",
       "      <th>109</th>\n",
       "      <td>109</td>\n",
       "      <td>2</td>\n",
       "      <td>1</td>\n",
       "      <td>36.6</td>\n",
       "      <td>17.8</td>\n",
       "      <td>185</td>\n",
       "      <td>1.0</td>\n",
       "      <td>8.737634</td>\n",
       "      <td>-25.723051</td>\n",
       "      <td>3700</td>\n",
       "      <td>0</td>\n",
       "      <td>0</td>\n",
       "      <td>1</td>\n",
       "    </tr>\n",
       "    <tr>\n",
       "      <th>110</th>\n",
       "      <td>110</td>\n",
       "      <td>1</td>\n",
       "      <td>1</td>\n",
       "      <td>39.2</td>\n",
       "      <td>18.6</td>\n",
       "      <td>190</td>\n",
       "      <td>0.0</td>\n",
       "      <td>9.110060</td>\n",
       "      <td>-25.795490</td>\n",
       "      <td>4250</td>\n",
       "      <td>0</td>\n",
       "      <td>0</td>\n",
       "      <td>1</td>\n",
       "    </tr>\n",
       "    <tr>\n",
       "      <th>111</th>\n",
       "      <td>111</td>\n",
       "      <td>1</td>\n",
       "      <td>1</td>\n",
       "      <td>43.2</td>\n",
       "      <td>18.5</td>\n",
       "      <td>192</td>\n",
       "      <td>0.0</td>\n",
       "      <td>8.970250</td>\n",
       "      <td>-26.036790</td>\n",
       "      <td>4100</td>\n",
       "      <td>0</td>\n",
       "      <td>0</td>\n",
       "      <td>1</td>\n",
       "    </tr>\n",
       "    <tr>\n",
       "      <th>112</th>\n",
       "      <td>112</td>\n",
       "      <td>1</td>\n",
       "      <td>0</td>\n",
       "      <td>46.9</td>\n",
       "      <td>16.6</td>\n",
       "      <td>192</td>\n",
       "      <td>1.0</td>\n",
       "      <td>9.805890</td>\n",
       "      <td>-24.737350</td>\n",
       "      <td>2700</td>\n",
       "      <td>0</td>\n",
       "      <td>1</td>\n",
       "      <td>0</td>\n",
       "    </tr>\n",
       "    <tr>\n",
       "      <th>113</th>\n",
       "      <td>113</td>\n",
       "      <td>0</td>\n",
       "      <td>1</td>\n",
       "      <td>50.8</td>\n",
       "      <td>17.3</td>\n",
       "      <td>228</td>\n",
       "      <td>0.0</td>\n",
       "      <td>8.274280</td>\n",
       "      <td>-26.300190</td>\n",
       "      <td>5600</td>\n",
       "      <td>1</td>\n",
       "      <td>0</td>\n",
       "      <td>0</td>\n",
       "    </tr>\n",
       "  </tbody>\n",
       "</table>\n",
       "<p>114 rows × 13 columns</p>\n",
       "</div>"
      ],
      "text/plain": [
       "      id  Island  Clutch Completion  Culmen Length (mm)  Culmen Depth (mm)  \\\n",
       "0      0       0                  1                50.0               15.3   \n",
       "1      1       1                  0                49.5               19.0   \n",
       "2      2       0                  1                45.1               14.4   \n",
       "3      3       0                  1                44.5               14.7   \n",
       "4      4       0                  0                49.6               16.0   \n",
       "..   ...     ...                ...                 ...                ...   \n",
       "109  109       2                  1                36.6               17.8   \n",
       "110  110       1                  1                39.2               18.6   \n",
       "111  111       1                  1                43.2               18.5   \n",
       "112  112       1                  0                46.9               16.6   \n",
       "113  113       0                  1                50.8               17.3   \n",
       "\n",
       "     Flipper Length (mm)  Sex  Delta 15 N (o/oo)  Delta 13 C (o/oo)  \\\n",
       "0                    220  0.0           8.305150         -25.190170   \n",
       "1                    200  0.0           9.630740         -24.346840   \n",
       "2                    210  1.0           8.519510         -27.018540   \n",
       "3                    214  1.0           8.201060         -26.165240   \n",
       "4                    225  0.0           8.383240         -26.842720   \n",
       "..                   ...  ...                ...                ...   \n",
       "109                  185  1.0           8.737634         -25.723051   \n",
       "110                  190  0.0           9.110060         -25.795490   \n",
       "111                  192  0.0           8.970250         -26.036790   \n",
       "112                  192  1.0           9.805890         -24.737350   \n",
       "113                  228  0.0           8.274280         -26.300190   \n",
       "\n",
       "     Body Mass (g)  Species_0  Species_1  Species_2  \n",
       "0             5550          1          0          0  \n",
       "1             3800          0          1          0  \n",
       "2             4400          1          0          0  \n",
       "3             4850          1          0          0  \n",
       "4             5700          1          0          0  \n",
       "..             ...        ...        ...        ...  \n",
       "109           3700          0          0          1  \n",
       "110           4250          0          0          1  \n",
       "111           4100          0          0          1  \n",
       "112           2700          0          1          0  \n",
       "113           5600          1          0          0  \n",
       "\n",
       "[114 rows x 13 columns]"
      ]
     },
     "execution_count": 37,
     "metadata": {},
     "output_type": "execute_result"
    }
   ],
   "source": [
    "train_df"
   ]
  },
  {
   "cell_type": "code",
   "execution_count": 38,
   "metadata": {},
   "outputs": [],
   "source": [
    "train_df = pd.get_dummies(train_df, columns=['Island'], prefix='Island')\n",
    "test_df = pd.get_dummies(test_df, columns=['Island'], prefix='Island')"
   ]
  },
  {
   "cell_type": "code",
   "execution_count": 39,
   "metadata": {},
   "outputs": [
    {
     "data": {
      "text/html": [
       "<div>\n",
       "<style scoped>\n",
       "    .dataframe tbody tr th:only-of-type {\n",
       "        vertical-align: middle;\n",
       "    }\n",
       "\n",
       "    .dataframe tbody tr th {\n",
       "        vertical-align: top;\n",
       "    }\n",
       "\n",
       "    .dataframe thead th {\n",
       "        text-align: right;\n",
       "    }\n",
       "</style>\n",
       "<table border=\"1\" class=\"dataframe\">\n",
       "  <thead>\n",
       "    <tr style=\"text-align: right;\">\n",
       "      <th></th>\n",
       "      <th>id</th>\n",
       "      <th>Clutch Completion</th>\n",
       "      <th>Culmen Length (mm)</th>\n",
       "      <th>Culmen Depth (mm)</th>\n",
       "      <th>Flipper Length (mm)</th>\n",
       "      <th>Sex</th>\n",
       "      <th>Delta 15 N (o/oo)</th>\n",
       "      <th>Delta 13 C (o/oo)</th>\n",
       "      <th>Body Mass (g)</th>\n",
       "      <th>Species_0</th>\n",
       "      <th>Species_1</th>\n",
       "      <th>Species_2</th>\n",
       "      <th>Island_0</th>\n",
       "      <th>Island_1</th>\n",
       "      <th>Island_2</th>\n",
       "    </tr>\n",
       "  </thead>\n",
       "  <tbody>\n",
       "    <tr>\n",
       "      <th>0</th>\n",
       "      <td>0</td>\n",
       "      <td>1</td>\n",
       "      <td>50.0</td>\n",
       "      <td>15.3</td>\n",
       "      <td>220</td>\n",
       "      <td>0.0</td>\n",
       "      <td>8.30515</td>\n",
       "      <td>-25.19017</td>\n",
       "      <td>5550</td>\n",
       "      <td>1</td>\n",
       "      <td>0</td>\n",
       "      <td>0</td>\n",
       "      <td>1</td>\n",
       "      <td>0</td>\n",
       "      <td>0</td>\n",
       "    </tr>\n",
       "    <tr>\n",
       "      <th>1</th>\n",
       "      <td>1</td>\n",
       "      <td>0</td>\n",
       "      <td>49.5</td>\n",
       "      <td>19.0</td>\n",
       "      <td>200</td>\n",
       "      <td>0.0</td>\n",
       "      <td>9.63074</td>\n",
       "      <td>-24.34684</td>\n",
       "      <td>3800</td>\n",
       "      <td>0</td>\n",
       "      <td>1</td>\n",
       "      <td>0</td>\n",
       "      <td>0</td>\n",
       "      <td>1</td>\n",
       "      <td>0</td>\n",
       "    </tr>\n",
       "    <tr>\n",
       "      <th>2</th>\n",
       "      <td>2</td>\n",
       "      <td>1</td>\n",
       "      <td>45.1</td>\n",
       "      <td>14.4</td>\n",
       "      <td>210</td>\n",
       "      <td>1.0</td>\n",
       "      <td>8.51951</td>\n",
       "      <td>-27.01854</td>\n",
       "      <td>4400</td>\n",
       "      <td>1</td>\n",
       "      <td>0</td>\n",
       "      <td>0</td>\n",
       "      <td>1</td>\n",
       "      <td>0</td>\n",
       "      <td>0</td>\n",
       "    </tr>\n",
       "    <tr>\n",
       "      <th>3</th>\n",
       "      <td>3</td>\n",
       "      <td>1</td>\n",
       "      <td>44.5</td>\n",
       "      <td>14.7</td>\n",
       "      <td>214</td>\n",
       "      <td>1.0</td>\n",
       "      <td>8.20106</td>\n",
       "      <td>-26.16524</td>\n",
       "      <td>4850</td>\n",
       "      <td>1</td>\n",
       "      <td>0</td>\n",
       "      <td>0</td>\n",
       "      <td>1</td>\n",
       "      <td>0</td>\n",
       "      <td>0</td>\n",
       "    </tr>\n",
       "    <tr>\n",
       "      <th>4</th>\n",
       "      <td>4</td>\n",
       "      <td>0</td>\n",
       "      <td>49.6</td>\n",
       "      <td>16.0</td>\n",
       "      <td>225</td>\n",
       "      <td>0.0</td>\n",
       "      <td>8.38324</td>\n",
       "      <td>-26.84272</td>\n",
       "      <td>5700</td>\n",
       "      <td>1</td>\n",
       "      <td>0</td>\n",
       "      <td>0</td>\n",
       "      <td>1</td>\n",
       "      <td>0</td>\n",
       "      <td>0</td>\n",
       "    </tr>\n",
       "  </tbody>\n",
       "</table>\n",
       "</div>"
      ],
      "text/plain": [
       "   id  Clutch Completion  Culmen Length (mm)  Culmen Depth (mm)  \\\n",
       "0   0                  1                50.0               15.3   \n",
       "1   1                  0                49.5               19.0   \n",
       "2   2                  1                45.1               14.4   \n",
       "3   3                  1                44.5               14.7   \n",
       "4   4                  0                49.6               16.0   \n",
       "\n",
       "   Flipper Length (mm)  Sex  Delta 15 N (o/oo)  Delta 13 C (o/oo)  \\\n",
       "0                  220  0.0            8.30515          -25.19017   \n",
       "1                  200  0.0            9.63074          -24.34684   \n",
       "2                  210  1.0            8.51951          -27.01854   \n",
       "3                  214  1.0            8.20106          -26.16524   \n",
       "4                  225  0.0            8.38324          -26.84272   \n",
       "\n",
       "   Body Mass (g)  Species_0  Species_1  Species_2  Island_0  Island_1  \\\n",
       "0           5550          1          0          0         1         0   \n",
       "1           3800          0          1          0         0         1   \n",
       "2           4400          1          0          0         1         0   \n",
       "3           4850          1          0          0         1         0   \n",
       "4           5700          1          0          0         1         0   \n",
       "\n",
       "   Island_2  \n",
       "0         0  \n",
       "1         0  \n",
       "2         0  \n",
       "3         0  \n",
       "4         0  "
      ]
     },
     "execution_count": 39,
     "metadata": {},
     "output_type": "execute_result"
    }
   ],
   "source": [
    "train_df.head()"
   ]
  },
  {
   "cell_type": "markdown",
   "metadata": {},
   "source": [
    "pandas에서 제공하는 원핫인코딩 사용, 멀티 핫 인코딩을 사용하기엔 딱 3개의 종류만 있어서 쓰지 않음.  \n",
    "https://www.codegrepper.com/code-examples/python/multi+hot+encode+pandas+column"
   ]
  },
  {
   "cell_type": "markdown",
   "metadata": {},
   "source": [
    "상관 관계가 적은 feature을 걸러주자"
   ]
  },
  {
   "cell_type": "code",
   "execution_count": 40,
   "metadata": {},
   "outputs": [],
   "source": [
    "train_df.drop(['id', 'Clutch Completion'], axis=1, inplace=True)\n",
    "test_df.drop(['id', 'Clutch Completion'], axis=1, inplace=True)"
   ]
  },
  {
   "cell_type": "code",
   "execution_count": 41,
   "metadata": {},
   "outputs": [
    {
     "data": {
      "text/html": [
       "<div>\n",
       "<style scoped>\n",
       "    .dataframe tbody tr th:only-of-type {\n",
       "        vertical-align: middle;\n",
       "    }\n",
       "\n",
       "    .dataframe tbody tr th {\n",
       "        vertical-align: top;\n",
       "    }\n",
       "\n",
       "    .dataframe thead th {\n",
       "        text-align: right;\n",
       "    }\n",
       "</style>\n",
       "<table border=\"1\" class=\"dataframe\">\n",
       "  <thead>\n",
       "    <tr style=\"text-align: right;\">\n",
       "      <th></th>\n",
       "      <th>Culmen Length (mm)</th>\n",
       "      <th>Culmen Depth (mm)</th>\n",
       "      <th>Flipper Length (mm)</th>\n",
       "      <th>Sex</th>\n",
       "      <th>Delta 15 N (o/oo)</th>\n",
       "      <th>Delta 13 C (o/oo)</th>\n",
       "      <th>Body Mass (g)</th>\n",
       "      <th>Species_0</th>\n",
       "      <th>Species_1</th>\n",
       "      <th>Species_2</th>\n",
       "      <th>Island_0</th>\n",
       "      <th>Island_1</th>\n",
       "      <th>Island_2</th>\n",
       "    </tr>\n",
       "  </thead>\n",
       "  <tbody>\n",
       "    <tr>\n",
       "      <th>0</th>\n",
       "      <td>50.0</td>\n",
       "      <td>15.3</td>\n",
       "      <td>220</td>\n",
       "      <td>0.0</td>\n",
       "      <td>8.305150</td>\n",
       "      <td>-25.190170</td>\n",
       "      <td>5550</td>\n",
       "      <td>1</td>\n",
       "      <td>0</td>\n",
       "      <td>0</td>\n",
       "      <td>1</td>\n",
       "      <td>0</td>\n",
       "      <td>0</td>\n",
       "    </tr>\n",
       "    <tr>\n",
       "      <th>1</th>\n",
       "      <td>49.5</td>\n",
       "      <td>19.0</td>\n",
       "      <td>200</td>\n",
       "      <td>0.0</td>\n",
       "      <td>9.630740</td>\n",
       "      <td>-24.346840</td>\n",
       "      <td>3800</td>\n",
       "      <td>0</td>\n",
       "      <td>1</td>\n",
       "      <td>0</td>\n",
       "      <td>0</td>\n",
       "      <td>1</td>\n",
       "      <td>0</td>\n",
       "    </tr>\n",
       "    <tr>\n",
       "      <th>2</th>\n",
       "      <td>45.1</td>\n",
       "      <td>14.4</td>\n",
       "      <td>210</td>\n",
       "      <td>1.0</td>\n",
       "      <td>8.519510</td>\n",
       "      <td>-27.018540</td>\n",
       "      <td>4400</td>\n",
       "      <td>1</td>\n",
       "      <td>0</td>\n",
       "      <td>0</td>\n",
       "      <td>1</td>\n",
       "      <td>0</td>\n",
       "      <td>0</td>\n",
       "    </tr>\n",
       "    <tr>\n",
       "      <th>3</th>\n",
       "      <td>44.5</td>\n",
       "      <td>14.7</td>\n",
       "      <td>214</td>\n",
       "      <td>1.0</td>\n",
       "      <td>8.201060</td>\n",
       "      <td>-26.165240</td>\n",
       "      <td>4850</td>\n",
       "      <td>1</td>\n",
       "      <td>0</td>\n",
       "      <td>0</td>\n",
       "      <td>1</td>\n",
       "      <td>0</td>\n",
       "      <td>0</td>\n",
       "    </tr>\n",
       "    <tr>\n",
       "      <th>4</th>\n",
       "      <td>49.6</td>\n",
       "      <td>16.0</td>\n",
       "      <td>225</td>\n",
       "      <td>0.0</td>\n",
       "      <td>8.383240</td>\n",
       "      <td>-26.842720</td>\n",
       "      <td>5700</td>\n",
       "      <td>1</td>\n",
       "      <td>0</td>\n",
       "      <td>0</td>\n",
       "      <td>1</td>\n",
       "      <td>0</td>\n",
       "      <td>0</td>\n",
       "    </tr>\n",
       "    <tr>\n",
       "      <th>...</th>\n",
       "      <td>...</td>\n",
       "      <td>...</td>\n",
       "      <td>...</td>\n",
       "      <td>...</td>\n",
       "      <td>...</td>\n",
       "      <td>...</td>\n",
       "      <td>...</td>\n",
       "      <td>...</td>\n",
       "      <td>...</td>\n",
       "      <td>...</td>\n",
       "      <td>...</td>\n",
       "      <td>...</td>\n",
       "      <td>...</td>\n",
       "    </tr>\n",
       "    <tr>\n",
       "      <th>109</th>\n",
       "      <td>36.6</td>\n",
       "      <td>17.8</td>\n",
       "      <td>185</td>\n",
       "      <td>1.0</td>\n",
       "      <td>8.737634</td>\n",
       "      <td>-25.723051</td>\n",
       "      <td>3700</td>\n",
       "      <td>0</td>\n",
       "      <td>0</td>\n",
       "      <td>1</td>\n",
       "      <td>0</td>\n",
       "      <td>0</td>\n",
       "      <td>1</td>\n",
       "    </tr>\n",
       "    <tr>\n",
       "      <th>110</th>\n",
       "      <td>39.2</td>\n",
       "      <td>18.6</td>\n",
       "      <td>190</td>\n",
       "      <td>0.0</td>\n",
       "      <td>9.110060</td>\n",
       "      <td>-25.795490</td>\n",
       "      <td>4250</td>\n",
       "      <td>0</td>\n",
       "      <td>0</td>\n",
       "      <td>1</td>\n",
       "      <td>0</td>\n",
       "      <td>1</td>\n",
       "      <td>0</td>\n",
       "    </tr>\n",
       "    <tr>\n",
       "      <th>111</th>\n",
       "      <td>43.2</td>\n",
       "      <td>18.5</td>\n",
       "      <td>192</td>\n",
       "      <td>0.0</td>\n",
       "      <td>8.970250</td>\n",
       "      <td>-26.036790</td>\n",
       "      <td>4100</td>\n",
       "      <td>0</td>\n",
       "      <td>0</td>\n",
       "      <td>1</td>\n",
       "      <td>0</td>\n",
       "      <td>1</td>\n",
       "      <td>0</td>\n",
       "    </tr>\n",
       "    <tr>\n",
       "      <th>112</th>\n",
       "      <td>46.9</td>\n",
       "      <td>16.6</td>\n",
       "      <td>192</td>\n",
       "      <td>1.0</td>\n",
       "      <td>9.805890</td>\n",
       "      <td>-24.737350</td>\n",
       "      <td>2700</td>\n",
       "      <td>0</td>\n",
       "      <td>1</td>\n",
       "      <td>0</td>\n",
       "      <td>0</td>\n",
       "      <td>1</td>\n",
       "      <td>0</td>\n",
       "    </tr>\n",
       "    <tr>\n",
       "      <th>113</th>\n",
       "      <td>50.8</td>\n",
       "      <td>17.3</td>\n",
       "      <td>228</td>\n",
       "      <td>0.0</td>\n",
       "      <td>8.274280</td>\n",
       "      <td>-26.300190</td>\n",
       "      <td>5600</td>\n",
       "      <td>1</td>\n",
       "      <td>0</td>\n",
       "      <td>0</td>\n",
       "      <td>1</td>\n",
       "      <td>0</td>\n",
       "      <td>0</td>\n",
       "    </tr>\n",
       "  </tbody>\n",
       "</table>\n",
       "<p>114 rows × 13 columns</p>\n",
       "</div>"
      ],
      "text/plain": [
       "     Culmen Length (mm)  Culmen Depth (mm)  Flipper Length (mm)  Sex  \\\n",
       "0                  50.0               15.3                  220  0.0   \n",
       "1                  49.5               19.0                  200  0.0   \n",
       "2                  45.1               14.4                  210  1.0   \n",
       "3                  44.5               14.7                  214  1.0   \n",
       "4                  49.6               16.0                  225  0.0   \n",
       "..                  ...                ...                  ...  ...   \n",
       "109                36.6               17.8                  185  1.0   \n",
       "110                39.2               18.6                  190  0.0   \n",
       "111                43.2               18.5                  192  0.0   \n",
       "112                46.9               16.6                  192  1.0   \n",
       "113                50.8               17.3                  228  0.0   \n",
       "\n",
       "     Delta 15 N (o/oo)  Delta 13 C (o/oo)  Body Mass (g)  Species_0  \\\n",
       "0             8.305150         -25.190170           5550          1   \n",
       "1             9.630740         -24.346840           3800          0   \n",
       "2             8.519510         -27.018540           4400          1   \n",
       "3             8.201060         -26.165240           4850          1   \n",
       "4             8.383240         -26.842720           5700          1   \n",
       "..                 ...                ...            ...        ...   \n",
       "109           8.737634         -25.723051           3700          0   \n",
       "110           9.110060         -25.795490           4250          0   \n",
       "111           8.970250         -26.036790           4100          0   \n",
       "112           9.805890         -24.737350           2700          0   \n",
       "113           8.274280         -26.300190           5600          1   \n",
       "\n",
       "     Species_1  Species_2  Island_0  Island_1  Island_2  \n",
       "0            0          0         1         0         0  \n",
       "1            1          0         0         1         0  \n",
       "2            0          0         1         0         0  \n",
       "3            0          0         1         0         0  \n",
       "4            0          0         1         0         0  \n",
       "..         ...        ...       ...       ...       ...  \n",
       "109          0          1         0         0         1  \n",
       "110          0          1         0         1         0  \n",
       "111          0          1         0         1         0  \n",
       "112          1          0         0         1         0  \n",
       "113          0          0         1         0         0  \n",
       "\n",
       "[114 rows x 13 columns]"
      ]
     },
     "execution_count": 41,
     "metadata": {},
     "output_type": "execute_result"
    }
   ],
   "source": [
    "train_df"
   ]
  },
  {
   "cell_type": "code",
   "execution_count": 42,
   "metadata": {},
   "outputs": [],
   "source": [
    "temp_train_df = train_df[['Culmen Length (mm)', 'Culmen Depth (mm)','Flipper Length (mm)', 'Delta 15 N (o/oo)', 'Delta 13 C (o/oo)']]\n",
    "temp_test_df = test_df[['Culmen Length (mm)', 'Culmen Depth (mm)', 'Flipper Length (mm)', 'Delta 15 N (o/oo)', 'Delta 13 C (o/oo)']]"
   ]
  },
  {
   "cell_type": "code",
   "execution_count": 43,
   "metadata": {},
   "outputs": [],
   "source": [
    "from sklearn.preprocessing import StandardScaler\n",
    "\n",
    "scaler = StandardScaler()\n",
    "scaler.fit(temp_train_df)\n",
    "scaler.fit(temp_test_df)\n",
    "train_normalization_array = scaler.transform(temp_train_df)\n",
    "test_normalization_array = scaler.transform(temp_test_df)\n",
    "\n",
    "train_normalization_df = pd.DataFrame(train_normalization_array)\n",
    "test_normalization_df = pd.DataFrame(test_normalization_array)\n",
    "train_normalization_df.columns = [['Culmen Length (mm)' ,'Culmen Depth (mm)','Flipper Length (mm)', 'Delta 15 N (o/oo)', 'Delta 13 C (o/oo)']]\n",
    "test_normalization_df.columns = [['Culmen Length (mm)', 'Culmen Depth (mm)','Flipper Length (mm)', 'Delta 15 N (o/oo)', 'Delta 13 C (o/oo)']]"
   ]
  },
  {
   "cell_type": "code",
   "execution_count": 44,
   "metadata": {},
   "outputs": [],
   "source": [
    "train_spare_df = train_df[['Sex', 'Species_0', 'Species_1', 'Species_2', 'Island_0', 'Island_1', 'Island_2', 'Body Mass (g)']]\n",
    "test_spare_df = test_df[['Sex', 'Species_0', 'Species_1', 'Species_2', 'Island_0', 'Island_1', 'Island_2']]"
   ]
  },
  {
   "cell_type": "code",
   "execution_count": 45,
   "metadata": {},
   "outputs": [],
   "source": [
    "train_df = pd.concat([train_normalization_df, train_spare_df], axis=1)\n",
    "test_df = pd.concat([test_normalization_df, test_spare_df], axis = 1)"
   ]
  },
  {
   "cell_type": "code",
   "execution_count": 46,
   "metadata": {},
   "outputs": [
    {
     "data": {
      "text/html": [
       "<div>\n",
       "<style scoped>\n",
       "    .dataframe tbody tr th:only-of-type {\n",
       "        vertical-align: middle;\n",
       "    }\n",
       "\n",
       "    .dataframe tbody tr th {\n",
       "        vertical-align: top;\n",
       "    }\n",
       "\n",
       "    .dataframe thead th {\n",
       "        text-align: right;\n",
       "    }\n",
       "</style>\n",
       "<table border=\"1\" class=\"dataframe\">\n",
       "  <thead>\n",
       "    <tr style=\"text-align: right;\">\n",
       "      <th></th>\n",
       "      <th>(Culmen Length (mm),)</th>\n",
       "      <th>(Culmen Depth (mm),)</th>\n",
       "      <th>(Flipper Length (mm),)</th>\n",
       "      <th>(Delta 15 N (o/oo),)</th>\n",
       "      <th>(Delta 13 C (o/oo),)</th>\n",
       "      <th>Sex</th>\n",
       "      <th>Species_0</th>\n",
       "      <th>Species_1</th>\n",
       "      <th>Species_2</th>\n",
       "      <th>Island_0</th>\n",
       "      <th>Island_1</th>\n",
       "      <th>Island_2</th>\n",
       "      <th>Body Mass (g)</th>\n",
       "    </tr>\n",
       "  </thead>\n",
       "  <tbody>\n",
       "    <tr>\n",
       "      <th>0</th>\n",
       "      <td>1.169203</td>\n",
       "      <td>-0.965610</td>\n",
       "      <td>1.478187</td>\n",
       "      <td>-0.799776</td>\n",
       "      <td>0.641200</td>\n",
       "      <td>0.0</td>\n",
       "      <td>1</td>\n",
       "      <td>0</td>\n",
       "      <td>0</td>\n",
       "      <td>1</td>\n",
       "      <td>0</td>\n",
       "      <td>0</td>\n",
       "      <td>5550</td>\n",
       "    </tr>\n",
       "    <tr>\n",
       "      <th>1</th>\n",
       "      <td>1.078196</td>\n",
       "      <td>0.895881</td>\n",
       "      <td>0.011259</td>\n",
       "      <td>1.688452</td>\n",
       "      <td>1.773470</td>\n",
       "      <td>0.0</td>\n",
       "      <td>0</td>\n",
       "      <td>1</td>\n",
       "      <td>0</td>\n",
       "      <td>0</td>\n",
       "      <td>1</td>\n",
       "      <td>0</td>\n",
       "      <td>3800</td>\n",
       "    </tr>\n",
       "    <tr>\n",
       "      <th>2</th>\n",
       "      <td>0.277333</td>\n",
       "      <td>-1.418405</td>\n",
       "      <td>0.744723</td>\n",
       "      <td>-0.397407</td>\n",
       "      <td>-1.813602</td>\n",
       "      <td>1.0</td>\n",
       "      <td>1</td>\n",
       "      <td>0</td>\n",
       "      <td>0</td>\n",
       "      <td>1</td>\n",
       "      <td>0</td>\n",
       "      <td>0</td>\n",
       "      <td>4400</td>\n",
       "    </tr>\n",
       "    <tr>\n",
       "      <th>3</th>\n",
       "      <td>0.168124</td>\n",
       "      <td>-1.267473</td>\n",
       "      <td>1.038108</td>\n",
       "      <td>-0.995160</td>\n",
       "      <td>-0.667946</td>\n",
       "      <td>1.0</td>\n",
       "      <td>1</td>\n",
       "      <td>0</td>\n",
       "      <td>0</td>\n",
       "      <td>1</td>\n",
       "      <td>0</td>\n",
       "      <td>0</td>\n",
       "      <td>4850</td>\n",
       "    </tr>\n",
       "    <tr>\n",
       "      <th>4</th>\n",
       "      <td>1.096398</td>\n",
       "      <td>-0.613436</td>\n",
       "      <td>1.844918</td>\n",
       "      <td>-0.653195</td>\n",
       "      <td>-1.577543</td>\n",
       "      <td>0.0</td>\n",
       "      <td>1</td>\n",
       "      <td>0</td>\n",
       "      <td>0</td>\n",
       "      <td>1</td>\n",
       "      <td>0</td>\n",
       "      <td>0</td>\n",
       "      <td>5700</td>\n",
       "    </tr>\n",
       "  </tbody>\n",
       "</table>\n",
       "</div>"
      ],
      "text/plain": [
       "   (Culmen Length (mm),)  (Culmen Depth (mm),)  (Flipper Length (mm),)  \\\n",
       "0               1.169203             -0.965610                1.478187   \n",
       "1               1.078196              0.895881                0.011259   \n",
       "2               0.277333             -1.418405                0.744723   \n",
       "3               0.168124             -1.267473                1.038108   \n",
       "4               1.096398             -0.613436                1.844918   \n",
       "\n",
       "   (Delta 15 N (o/oo),)  (Delta 13 C (o/oo),)  Sex  Species_0  Species_1  \\\n",
       "0             -0.799776              0.641200  0.0          1          0   \n",
       "1              1.688452              1.773470  0.0          0          1   \n",
       "2             -0.397407             -1.813602  1.0          1          0   \n",
       "3             -0.995160             -0.667946  1.0          1          0   \n",
       "4             -0.653195             -1.577543  0.0          1          0   \n",
       "\n",
       "   Species_2  Island_0  Island_1  Island_2  Body Mass (g)  \n",
       "0          0         1         0         0           5550  \n",
       "1          0         0         1         0           3800  \n",
       "2          0         1         0         0           4400  \n",
       "3          0         1         0         0           4850  \n",
       "4          0         1         0         0           5700  "
      ]
     },
     "execution_count": 46,
     "metadata": {},
     "output_type": "execute_result"
    }
   ],
   "source": [
    "train_df.head()"
   ]
  },
  {
   "cell_type": "code",
   "execution_count": 47,
   "metadata": {},
   "outputs": [],
   "source": [
    "from sklearn.linear_model import Ridge\n",
    "from sklearn.model_selection import cross_val_score\n",
    "from sklearn.neighbors import KNeighborsRegressor\n",
    "from sklearn.linear_model import LinearRegression\n",
    "from sklearn.linear_model import Ridge\n",
    "from sklearn.linear_model import Lasso\n",
    "from sklearn.tree import DecisionTreeRegressor\n",
    "from sklearn.ensemble import RandomForestRegressor\n",
    "from sklearn.ensemble import GradientBoostingRegressor\n",
    "from xgboost import XGBRegressor\n",
    "from lightgbm import LGBMRegressor"
   ]
  },
  {
   "cell_type": "code",
   "execution_count": 48,
   "metadata": {},
   "outputs": [],
   "source": [
    "score_list = []"
   ]
  },
  {
   "cell_type": "code",
   "execution_count": 49,
   "metadata": {},
   "outputs": [
    {
     "name": "stderr",
     "output_type": "stream",
     "text": [
      "C:\\Users\\wlsrn\\anaconda3\\lib\\site-packages\\sklearn\\model_selection\\_validation.py:531: UserWarning: With alpha=0, this algorithm does not converge well. You are advised to use the LinearRegression estimator\n",
      "  estimator.fit(X_train, y_train, **fit_params)\n",
      "C:\\Users\\wlsrn\\anaconda3\\lib\\site-packages\\sklearn\\linear_model\\_coordinate_descent.py:529: UserWarning: Coordinate descent with no regularization may lead to unexpected results and is discouraged.\n",
      "  model = cd_fast.enet_coordinate_descent(\n",
      "C:\\Users\\wlsrn\\anaconda3\\lib\\site-packages\\sklearn\\linear_model\\_coordinate_descent.py:529: ConvergenceWarning: Objective did not converge. You might want to increase the number of iterations. Duality gap: 3763136.316195329, tolerance: 5722.489010989012\n",
      "  model = cd_fast.enet_coordinate_descent(\n",
      "C:\\Users\\wlsrn\\anaconda3\\lib\\site-packages\\sklearn\\model_selection\\_validation.py:531: UserWarning: With alpha=0, this algorithm does not converge well. You are advised to use the LinearRegression estimator\n",
      "  estimator.fit(X_train, y_train, **fit_params)\n",
      "C:\\Users\\wlsrn\\anaconda3\\lib\\site-packages\\sklearn\\linear_model\\_coordinate_descent.py:529: UserWarning: Coordinate descent with no regularization may lead to unexpected results and is discouraged.\n",
      "  model = cd_fast.enet_coordinate_descent(\n",
      "C:\\Users\\wlsrn\\anaconda3\\lib\\site-packages\\sklearn\\linear_model\\_coordinate_descent.py:529: ConvergenceWarning: Objective did not converge. You might want to increase the number of iterations. Duality gap: 3106174.767597179, tolerance: 5637.48901098901\n",
      "  model = cd_fast.enet_coordinate_descent(\n",
      "C:\\Users\\wlsrn\\anaconda3\\lib\\site-packages\\sklearn\\model_selection\\_validation.py:531: UserWarning: With alpha=0, this algorithm does not converge well. You are advised to use the LinearRegression estimator\n",
      "  estimator.fit(X_train, y_train, **fit_params)\n",
      "C:\\Users\\wlsrn\\anaconda3\\lib\\site-packages\\sklearn\\linear_model\\_coordinate_descent.py:529: UserWarning: Coordinate descent with no regularization may lead to unexpected results and is discouraged.\n",
      "  model = cd_fast.enet_coordinate_descent(\n",
      "C:\\Users\\wlsrn\\anaconda3\\lib\\site-packages\\sklearn\\linear_model\\_coordinate_descent.py:529: ConvergenceWarning: Objective did not converge. You might want to increase the number of iterations. Duality gap: 3391802.2942846934, tolerance: 5118.008241758243\n",
      "  model = cd_fast.enet_coordinate_descent(\n",
      "C:\\Users\\wlsrn\\anaconda3\\lib\\site-packages\\sklearn\\model_selection\\_validation.py:531: UserWarning: With alpha=0, this algorithm does not converge well. You are advised to use the LinearRegression estimator\n",
      "  estimator.fit(X_train, y_train, **fit_params)\n",
      "C:\\Users\\wlsrn\\anaconda3\\lib\\site-packages\\sklearn\\linear_model\\_coordinate_descent.py:529: UserWarning: Coordinate descent with no regularization may lead to unexpected results and is discouraged.\n",
      "  model = cd_fast.enet_coordinate_descent(\n",
      "C:\\Users\\wlsrn\\anaconda3\\lib\\site-packages\\sklearn\\linear_model\\_coordinate_descent.py:529: ConvergenceWarning: Objective did not converge. You might want to increase the number of iterations. Duality gap: 4005162.0832483945, tolerance: 5704.006868131869\n",
      "  model = cd_fast.enet_coordinate_descent(\n",
      "C:\\Users\\wlsrn\\anaconda3\\lib\\site-packages\\sklearn\\model_selection\\_validation.py:531: UserWarning: With alpha=0, this algorithm does not converge well. You are advised to use the LinearRegression estimator\n",
      "  estimator.fit(X_train, y_train, **fit_params)\n",
      "C:\\Users\\wlsrn\\anaconda3\\lib\\site-packages\\sklearn\\linear_model\\_coordinate_descent.py:529: UserWarning: Coordinate descent with no regularization may lead to unexpected results and is discouraged.\n",
      "  model = cd_fast.enet_coordinate_descent(\n",
      "C:\\Users\\wlsrn\\anaconda3\\lib\\site-packages\\sklearn\\linear_model\\_coordinate_descent.py:529: ConvergenceWarning: Objective did not converge. You might want to increase the number of iterations. Duality gap: 3558341.155741465, tolerance: 5377.0625\n",
      "  model = cd_fast.enet_coordinate_descent(\n"
     ]
    },
    {
     "name": "stdout",
     "output_type": "stream",
     "text": [
      "alpha value : 0 일 때 평균 rmse : 327.9017\n",
      "alpha value : 1 일 때 평균 rmse : 326.6369\n",
      "alpha value : 2 일 때 평균 rmse : 325.8425\n",
      "alpha value : 3 일 때 평균 rmse : 325.3367\n",
      "alpha value : 4 일 때 평균 rmse : 324.8486\n",
      "alpha value : 5 일 때 평균 rmse : 324.5054\n",
      "alpha value : 6 일 때 평균 rmse : 324.1481\n",
      "alpha value : 7 일 때 평균 rmse : 323.9136\n",
      "alpha value : 8 일 때 평균 rmse : 323.6997\n",
      "alpha value : 9 일 때 평균 rmse : 323.6392\n",
      "alpha value : 10 일 때 평균 rmse : 323.8585\n",
      "alpha value : 11 일 때 평균 rmse : 324.1978\n",
      "alpha value : 12 일 때 평균 rmse : 324.525\n",
      "alpha value : 13 일 때 평균 rmse : 324.8718\n",
      "alpha value : 14 일 때 평균 rmse : 325.4308\n",
      "alpha value : 15 일 때 평균 rmse : 326.2463\n",
      "alpha value : 16 일 때 평균 rmse : 327.1638\n",
      "alpha value : 17 일 때 평균 rmse : 328.0885\n",
      "alpha value : 18 일 때 평균 rmse : 329.108\n",
      "alpha value : 19 일 때 평균 rmse : 330.2477\n",
      "alpha value : 20 일 때 평균 rmse : 331.4021\n",
      "alpha value : 21 일 때 평균 rmse : 332.6176\n",
      "alpha value : 22 일 때 평균 rmse : 333.861\n",
      "alpha value : 23 일 때 평균 rmse : 335.1771\n",
      "alpha value : 24 일 때 평균 rmse : 336.5614\n",
      "alpha value : 25 일 때 평균 rmse : 338.0181\n",
      "alpha value : 26 일 때 평균 rmse : 339.5307\n",
      "alpha value : 27 일 때 평균 rmse : 341.0156\n",
      "alpha value : 28 일 때 평균 rmse : 342.1307\n",
      "alpha value : 29 일 때 평균 rmse : 343.3177\n",
      "alpha value : 30 일 때 평균 rmse : 344.1704\n",
      "alpha value : 31 일 때 평균 rmse : 344.993\n",
      "alpha value : 32 일 때 평균 rmse : 345.8516\n",
      "alpha value : 33 일 때 평균 rmse : 346.7582\n",
      "alpha value : 34 일 때 평균 rmse : 347.7126\n",
      "alpha value : 35 일 때 평균 rmse : 348.7188\n",
      "alpha value : 36 일 때 평균 rmse : 349.6702\n",
      "alpha value : 37 일 때 평균 rmse : 350.6309\n",
      "alpha value : 38 일 때 평균 rmse : 351.3595\n",
      "alpha value : 39 일 때 평균 rmse : 352.0949\n",
      "alpha value : 40 일 때 평균 rmse : 352.6516\n",
      "alpha value : 41 일 때 평균 rmse : 353.1827\n",
      "alpha value : 42 일 때 평균 rmse : 353.7146\n",
      "alpha value : 43 일 때 평균 rmse : 354.2793\n",
      "alpha value : 44 일 때 평균 rmse : 354.8624\n",
      "alpha value : 45 일 때 평균 rmse : 355.4668\n",
      "alpha value : 46 일 때 평균 rmse : 356.0658\n",
      "alpha value : 47 일 때 평균 rmse : 356.6791\n",
      "alpha value : 48 일 때 평균 rmse : 357.3045\n",
      "alpha value : 49 일 때 평균 rmse : 357.9477\n",
      "alpha value : 50 일 때 평균 rmse : 358.6039\n",
      "alpha value : 51 일 때 평균 rmse : 359.2787\n",
      "alpha value : 52 일 때 평균 rmse : 359.9692\n",
      "alpha value : 53 일 때 평균 rmse : 360.6756\n",
      "alpha value : 54 일 때 평균 rmse : 361.3987\n",
      "alpha value : 55 일 때 평균 rmse : 362.1371\n",
      "alpha value : 56 일 때 평균 rmse : 362.8913\n",
      "alpha value : 57 일 때 평균 rmse : 363.6614\n",
      "alpha value : 58 일 때 평균 rmse : 364.4472\n",
      "alpha value : 59 일 때 평균 rmse : 365.2487\n",
      "alpha value : 60 일 때 평균 rmse : 366.0657\n",
      "alpha value : 61 일 때 평균 rmse : 366.8967\n",
      "alpha value : 62 일 때 평균 rmse : 367.7446\n",
      "alpha value : 63 일 때 평균 rmse : 368.6079\n",
      "alpha value : 64 일 때 평균 rmse : 369.4865\n",
      "alpha value : 65 일 때 평균 rmse : 370.3972\n",
      "alpha value : 66 일 때 평균 rmse : 371.3625\n",
      "alpha value : 67 일 때 평균 rmse : 372.3422\n",
      "alpha value : 68 일 때 평균 rmse : 373.336\n",
      "alpha value : 69 일 때 평균 rmse : 374.3427\n",
      "alpha value : 70 일 때 평균 rmse : 375.364\n",
      "alpha value : 71 일 때 평균 rmse : 376.3974\n",
      "alpha value : 72 일 때 평균 rmse : 377.4447\n",
      "alpha value : 73 일 때 평균 rmse : 378.5052\n",
      "alpha value : 74 일 때 평균 rmse : 379.5787\n",
      "alpha value : 75 일 때 평균 rmse : 380.6646\n",
      "alpha value : 76 일 때 평균 rmse : 381.7645\n",
      "alpha value : 77 일 때 평균 rmse : 382.8762\n",
      "alpha value : 78 일 때 평균 rmse : 384.0026\n",
      "alpha value : 79 일 때 평균 rmse : 384.9647\n",
      "alpha value : 80 일 때 평균 rmse : 385.8203\n",
      "alpha value : 81 일 때 평균 rmse : 386.6858\n",
      "alpha value : 82 일 때 평균 rmse : 387.5642\n",
      "alpha value : 83 일 때 평균 rmse : 388.4536\n",
      "alpha value : 84 일 때 평균 rmse : 389.219\n",
      "alpha value : 85 일 때 평균 rmse : 389.8165\n",
      "alpha value : 86 일 때 평균 rmse : 390.4238\n",
      "alpha value : 87 일 때 평균 rmse : 391.0409\n",
      "alpha value : 88 일 때 평균 rmse : 391.4993\n",
      "alpha value : 89 일 때 평균 rmse : 391.8644\n",
      "alpha value : 90 일 때 평균 rmse : 392.2378\n",
      "alpha value : 91 일 때 평균 rmse : 392.6188\n",
      "alpha value : 92 일 때 평균 rmse : 393.0081\n",
      "alpha value : 93 일 때 평균 rmse : 393.4051\n",
      "alpha value : 94 일 때 평균 rmse : 393.8103\n",
      "alpha value : 95 일 때 평균 rmse : 394.2232\n",
      "alpha value : 96 일 때 평균 rmse : 394.6438\n",
      "alpha value : 97 일 때 평균 rmse : 395.0725\n",
      "alpha value : 98 일 때 평균 rmse : 395.5081\n",
      "alpha value : 99 일 때 평균 rmse : 395.9515\n"
     ]
    },
    {
     "data": {
      "text/plain": [
       "[<matplotlib.lines.Line2D at 0x2814d9110d0>]"
      ]
     },
     "execution_count": 49,
     "metadata": {},
     "output_type": "execute_result"
    },
    {
     "data": {
      "image/png": "[encoded data removed]",
      "text/plain": [
       "<Figure size 432x288 with 1 Axes>"
      ]
     },
     "metadata": {
      "needs_background": "light"
     },
     "output_type": "display_data"
    }
   ],
   "source": [
    "alphas = []\n",
    "rmse = []\n",
    "\n",
    "train_label = train_df['Body Mass (g)']\n",
    "train_df.drop(['Body Mass (g)'], axis=1, inplace=True)\n",
    "\n",
    "for i in range(0, 100, 1):\n",
    "  alphas.append(i)\n",
    "\n",
    "for alpha in alphas:\n",
    "  ridge = Lasso(alpha=alpha)\n",
    "  \n",
    "  neg_mse_scores = cross_val_score(ridge, train_df, train_label, scoring= 'neg_mean_squared_error', cv = 5)\n",
    "  avg_rmse = np.mean(np.sqrt(-neg_mse_scores))\n",
    "  rmse.append(np.round(avg_rmse, 4))\n",
    "  print('alpha value :', alpha, '일 때 평균 rmse :', np.round(avg_rmse, 4))\n",
    "\n",
    "plt.plot(alphas, rmse)"
   ]
  },
  {
   "cell_type": "code",
   "execution_count": 50,
   "metadata": {},
   "outputs": [],
   "source": [
    "model = KNeighborsRegressor(n_neighbors=5).fit(train_df, train_label)\n",
    "score_list.append(f'KNeighborsRegressor: train_score: {model.score(train_df, train_label)}, val_score: {model.score(train_df, train_label)}')\n",
    "\n",
    "model = LinearRegression().fit(train_df, train_label)\n",
    "score_list.append(f'LinearRegression: train_score: {model.score(train_df, train_label)}, val_score: {model.score(train_df, train_label)}')\n",
    "\n",
    "model = Ridge().fit(train_df, train_label)\n",
    "score_list.append(f'Ridge: train_score: {model.score(train_df, train_label)}, val_score: {model.score(train_df, train_label)}')\n",
    "\n",
    "model = Lasso().fit(train_df, train_label)\n",
    "score_list.append(f'Lasso: train_score: {model.score(train_df, train_label)}, val_score: {model.score(train_df, train_label)}')\n",
    "\n",
    "model = DecisionTreeRegressor().fit(train_df, train_label)\n",
    "score_list.append(f'DecisionTreeRegressor: train_score: {model.score(train_df, train_label)}, val_score: {model.score(train_df, train_label)}')\n",
    "\n",
    "model = RandomForestRegressor().fit(train_df, train_label)\n",
    "score_list.append(f'RandomForestRegressor: train_score: {model.score(train_df, train_label)}, val_score: {model.score(train_df, train_label)}')\n",
    "\n",
    "model = GradientBoostingRegressor().fit(train_df, train_label)\n",
    "score_list.append(f'GradientBoostingRegressor: train_score: {model.score(train_df, train_label)}, val_score: {model.score(train_df, train_label)}')\n",
    "\n",
    "model = XGBRegressor().fit(train_df, train_label)\n",
    "score_list.append(f'XGBRegressor: train_score: {model.score(train_df, train_label)}, val_score: {model.score(train_df, train_label)}')"
   ]
  },
  {
   "cell_type": "code",
   "execution_count": 51,
   "metadata": {},
   "outputs": [
    {
     "name": "stdout",
     "output_type": "stream",
     "text": [
      "KNeighborsRegressor: train_score: 0.8686906247080092, val_score: 0.8686906247080092\n",
      "LinearRegression: train_score: 0.8660509430637602, val_score: 0.8660509430637602\n",
      "Ridge: train_score: 0.8646611926465849, val_score: 0.8646611926465849\n",
      "Lasso: train_score: 0.8659352220008842, val_score: 0.8659352220008842\n",
      "DecisionTreeRegressor: train_score: 1.0, val_score: 1.0\n",
      "RandomForestRegressor: train_score: 0.9722517422277567, val_score: 0.9722517422277567\n",
      "GradientBoostingRegressor: train_score: 0.9860542770020251, val_score: 0.9860542770020251\n",
      "XGBRegressor: train_score: 0.9999999939614264, val_score: 0.9999999939614264\n"
     ]
    },
    {
     "data": {
      "text/plain": [
       "[None, None, None, None, None, None, None, None]"
      ]
     },
     "execution_count": 51,
     "metadata": {},
     "output_type": "execute_result"
    }
   ],
   "source": [
    "[print(i) for i in score_list]"
   ]
  },
  {
   "cell_type": "code",
   "execution_count": 52,
   "metadata": {},
   "outputs": [
    {
     "name": "stdout",
     "output_type": "stream",
     "text": [
      "9\n"
     ]
    }
   ],
   "source": [
    "tmp = min(rmse)\n",
    "index = rmse.index(tmp)\n",
    "\n",
    "print(index)"
   ]
  },
  {
   "cell_type": "code",
   "execution_count": 53,
   "metadata": {},
   "outputs": [],
   "source": [
    "ridge = Ridge(alpha = 2)\n",
    "model_Ridge = ridge.fit(train_df, train_label)\n",
    "lasso = Lasso(alpha = 9)\n",
    "model_Lasso = lasso.fit(train_df, train_label)\n",
    "model_XGB = XGBRegressor().fit(train_df, train_label)"
   ]
  },
  {
   "cell_type": "code",
   "execution_count": 54,
   "metadata": {},
   "outputs": [],
   "source": [
    "pred_XGB = model_XGB.predict(test_df)\n",
    "pred_Ridge = model_Ridge.predict(test_df)\n",
    "pred_lasso = model_Lasso.predict(test_df)\n",
    "pred = pred_XGB * 0.33 + pred_Ridge * 0.33 + pred_lasso * 0.33"
   ]
  },
  {
   "cell_type": "code",
   "execution_count": 55,
   "metadata": {},
   "outputs": [],
   "source": [
    "submission = pd.read_csv('./data/sample_submission.csv')"
   ]
  },
  {
   "cell_type": "code",
   "execution_count": 56,
   "metadata": {},
   "outputs": [],
   "source": [
    "submission['Body Mass (g)'] = pred"
   ]
  },
  {
   "cell_type": "code",
   "execution_count": 57,
   "metadata": {},
   "outputs": [],
   "source": [
    "submission.to_csv('./data/my_submission.csv', index=False)"
   ]
  },
  {
   "cell_type": "markdown",
   "metadata": {},
   "source": [
    "### 2021-01-07 final code"
   ]
  },
  {
   "cell_type": "markdown",
   "metadata": {},
   "source": []
  }
 ],
 "metadata": {
  "interpreter": {
   "hash": "e1cccd04e85b6896c0b444fb4c711c31b631e3aead8bbe915e9db3696d19a850"
  },
  "kernelspec": {
   "display_name": "Python 3.8.3 64-bit ('base': conda)",
   "language": "python",
   "name": "python3"
  },
  "language_info": {
   "codemirror_mode": {
    "name": "ipython",
    "version": 3
   },
   "file_extension": ".py",
   "mimetype": "text/x-python",
   "name": "python",
   "nbconvert_exporter": "python",
   "pygments_lexer": "ipython3",
   "version": "3.8.3"
  },
  "orig_nbformat": 4
 },
 "nbformat": 4,
 "nbformat_minor": 2
}
