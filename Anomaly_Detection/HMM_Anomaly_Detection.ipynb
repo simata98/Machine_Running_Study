{
 "cells": [
  {
   "cell_type": "code",
   "execution_count": 22,
   "metadata": {},
   "outputs": [],
   "source": [
    "import hmmlearn.hmm as hmm\n",
    "import numpy as np "
   ]
  },
  {
   "cell_type": "code",
   "execution_count": 23,
   "metadata": {},
   "outputs": [],
   "source": [
    "# get arbitration sequence\n",
    "def get_arbid_seq(filepath):\n",
    "  seq_li = list()\n",
    "  with open(filepath, 'r') as f:\n",
    "    lines = f.readlines()\n",
    "    for line in lines:\n",
    "      seq_li.append(line.split('\\t')[1])\n",
    "  arbID_seq = np.fromiter((int(x, 16) for x in seq_li), dtype=np.int16)\n",
    "  return arbID_seq"
   ]
  },
  {
   "cell_type": "code",
   "execution_count": 24,
   "metadata": {},
   "outputs": [],
   "source": [
    "def get_split_arbid_seq_by_wnd(arbidseq, wndsize=5):\n",
    "  splited = np.array([])\n",
    "  cnt = 0\n",
    "  for i in range(np.size(arbidseq)-wndsize+1):\n",
    "    splited = np.append(splited, arbidseq[i:i+wndsize]); cnt+=1\n",
    "  splited = np.reshape(splited, (cnt,wndsize))\n",
    "  return splited"
   ]
  },
  {
   "cell_type": "code",
   "execution_count": 25,
   "metadata": {},
   "outputs": [],
   "source": [
    "train_arbID_seq = get_arbid_seq(\"./data/CAN traffic (normal only).txt\")\n",
    "tr_set = get_split_arbid_seq_by_wnd(train_arbID_seq)\n",
    "test_arbID_seq = get_arbid_seq(\"./data/CAN traffic (attack included).txt\")\n",
    "te_set = get_split_arbid_seq_by_wnd(test_arbID_seq)"
   ]
  },
  {
   "cell_type": "code",
   "execution_count": 32,
   "metadata": {},
   "outputs": [
    {
     "name": "stdout",
     "output_type": "stream",
     "text": [
      "179342\n",
      "806386\n"
     ]
    }
   ],
   "source": [
    "tr_set_size = len(tr_set)\n",
    "print(tr_set_size)\n",
    "te_set_size = len(te_set)\n",
    "print(te_set_size)"
   ]
  },
  {
   "cell_type": "code",
   "execution_count": 35,
   "metadata": {},
   "outputs": [
    {
     "name": "stdout",
     "output_type": "stream",
     "text": [
      "--------------------\n",
      "-6264447.344105943\n",
      "-6466426.325840423\n",
      "--------------------\n",
      "[1.00000000e+00 9.45725764e-11]\n",
      "[[0.84366635 0.15633365]\n",
      " [0.085165   0.914835  ]]\n"
     ]
    },
    {
     "data": {
      "text/plain": [
       "GaussianHMM(n_components=2)"
      ]
     },
     "execution_count": 35,
     "metadata": {},
     "output_type": "execute_result"
    }
   ],
   "source": [
    "h = hmm.GaussianHMM(2) # 모델 파라미터 설정, 모델링 객체 생성\n",
    "print('--------------------')\n",
    "h.fit(tr_set) # 학습진행\n",
    "print(h.score(tr_set)) # log(foward prob)\n",
    "print(h.score(te_set)/(te_set_size/tr_set_size))\n",
    "print('--------------------')\n",
    "print(h.startprob_)\n",
    "print(h.transmat_)\n",
    "h"
   ]
  },
  {
   "cell_type": "code",
   "execution_count": null,
   "metadata": {},
   "outputs": [],
   "source": []
  }
 ],
 "metadata": {
  "interpreter": {
   "hash": "e1cccd04e85b6896c0b444fb4c711c31b631e3aead8bbe915e9db3696d19a850"
  },
  "kernelspec": {
   "display_name": "Python 3.8.8 64-bit ('base': conda)",
   "language": "python",
   "name": "python3"
  },
  "language_info": {
   "codemirror_mode": {
    "name": "ipython",
    "version": 3
   },
   "file_extension": ".py",
   "mimetype": "text/x-python",
   "name": "python",
   "nbconvert_exporter": "python",
   "pygments_lexer": "ipython3",
   "version": "3.8.8"
  },
  "orig_nbformat": 4
 },
 "nbformat": 4,
 "nbformat_minor": 2
}
