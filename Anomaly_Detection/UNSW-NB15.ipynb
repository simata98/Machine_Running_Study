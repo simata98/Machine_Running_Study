version https://git-lfs.github.com/spec/v1
oid sha256:ec7e77b95726e21ee0ee0d698df4f08ff9a3d9a8fdda6c9cce25cc0b5e60d0e3
size 501
