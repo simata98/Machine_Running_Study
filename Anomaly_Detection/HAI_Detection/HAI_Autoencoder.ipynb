{
 "cells": [
  {
   "cell_type": "code",
   "execution_count": 1,
   "metadata": {},
   "outputs": [],
   "source": [
    "import numpy as np\n",
    "import matplotlib.pyplot as plt\n",
    "import pandas as pd\n",
    "from sklearn.preprocessing import StandardScaler\n",
    "from sklearn import metrics\n",
    "from glob import glob\n",
    "\n",
    "\n",
    "from tqdm.notebook import trange\n",
    "from TaPR_pkg import etapr\n",
    "from pathlib import Path\n",
    "import time\n",
    "\n",
    "from tensorflow import keras\n",
    "from tensorflow.keras import layers\n",
    "from tensorflow.keras.models import load_model\n",
    "from tensorflow.keras.callbacks import EarlyStopping"
   ]
  },
  {
   "cell_type": "code",
   "execution_count": 2,
   "metadata": {},
   "outputs": [],
   "source": [
    "TRAIN_DATASET = sorted([x for x in Path(\"./data/235757_HAICon2021_dataset/train\").glob(\"*.csv\")])\n",
    "TEST_DATASET = sorted([x for x in Path(\"./data/235757_HAICon2021_dataset/test\").glob(\"*.csv\")])\n",
    "VALIDATION_DATASET = sorted([x for x in Path(\"./data/235757_HAICon2021_dataset/validation\").glob(\"*.csv\")])"
   ]
  },
  {
   "cell_type": "code",
   "execution_count": 3,
   "metadata": {},
   "outputs": [
    {
     "data": {
      "text/plain": [
       "[PosixPath('data/235757_HAICon2021_dataset/train/train1.csv'),\n",
       " PosixPath('data/235757_HAICon2021_dataset/train/train2.csv'),\n",
       " PosixPath('data/235757_HAICon2021_dataset/train/train3.csv'),\n",
       " PosixPath('data/235757_HAICon2021_dataset/train/train4.csv'),\n",
       " PosixPath('data/235757_HAICon2021_dataset/train/train5.csv'),\n",
       " PosixPath('data/235757_HAICon2021_dataset/train/train6.csv')]"
      ]
     },
     "execution_count": 3,
     "metadata": {},
     "output_type": "execute_result"
    }
   ],
   "source": [
    "TRAIN_DATASET"
   ]
  },
  {
   "cell_type": "code",
   "execution_count": 4,
   "metadata": {},
   "outputs": [],
   "source": [
    "def dataframe_from_csv(target):\n",
    "    return pd.read_csv(target, engine='python').rename(columns=lambda x: x.strip())\n",
    "\n",
    "def dataframe_from_csvs(targets):\n",
    "    return pd.concat([dataframe_from_csv(x) for x in targets])"
   ]
  },
  {
   "cell_type": "code",
   "execution_count": 5,
   "metadata": {},
   "outputs": [
    {
     "data": {
      "text/html": [
       "<div>\n",
       "<style scoped>\n",
       "    .dataframe tbody tr th:only-of-type {\n",
       "        vertical-align: middle;\n",
       "    }\n",
       "\n",
       "    .dataframe tbody tr th {\n",
       "        vertical-align: top;\n",
       "    }\n",
       "\n",
       "    .dataframe thead th {\n",
       "        text-align: right;\n",
       "    }\n",
       "</style>\n",
       "<table border=\"1\" class=\"dataframe\">\n",
       "  <thead>\n",
       "    <tr style=\"text-align: right;\">\n",
       "      <th></th>\n",
       "      <th>timestamp</th>\n",
       "      <th>C01</th>\n",
       "      <th>C02</th>\n",
       "      <th>C03</th>\n",
       "      <th>C04</th>\n",
       "      <th>C05</th>\n",
       "      <th>C06</th>\n",
       "      <th>C07</th>\n",
       "      <th>C08</th>\n",
       "      <th>C09</th>\n",
       "      <th>...</th>\n",
       "      <th>C77</th>\n",
       "      <th>C78</th>\n",
       "      <th>C79</th>\n",
       "      <th>C80</th>\n",
       "      <th>C81</th>\n",
       "      <th>C82</th>\n",
       "      <th>C83</th>\n",
       "      <th>C84</th>\n",
       "      <th>C85</th>\n",
       "      <th>C86</th>\n",
       "    </tr>\n",
       "  </thead>\n",
       "  <tbody>\n",
       "    <tr>\n",
       "      <th>0</th>\n",
       "      <td>2021-07-11 10:00:00</td>\n",
       "      <td>-2.2642</td>\n",
       "      <td>0</td>\n",
       "      <td>12.26196</td>\n",
       "      <td>-0.00087</td>\n",
       "      <td>12.01019</td>\n",
       "      <td>0.2254</td>\n",
       "      <td>12.66931</td>\n",
       "      <td>70</td>\n",
       "      <td>1</td>\n",
       "      <td>...</td>\n",
       "      <td>0.92255</td>\n",
       "      <td>30.08042</td>\n",
       "      <td>7.08818</td>\n",
       "      <td>595.06104</td>\n",
       "      <td>276.40338</td>\n",
       "      <td>1</td>\n",
       "      <td>1014.79321</td>\n",
       "      <td>12.0</td>\n",
       "      <td>50</td>\n",
       "      <td>3506</td>\n",
       "    </tr>\n",
       "    <tr>\n",
       "      <th>1</th>\n",
       "      <td>2021-07-11 10:00:01</td>\n",
       "      <td>-2.4923</td>\n",
       "      <td>0</td>\n",
       "      <td>12.26196</td>\n",
       "      <td>0.00058</td>\n",
       "      <td>12.56714</td>\n",
       "      <td>-0.0711</td>\n",
       "      <td>12.66931</td>\n",
       "      <td>70</td>\n",
       "      <td>1</td>\n",
       "      <td>...</td>\n",
       "      <td>0.92255</td>\n",
       "      <td>30.08423</td>\n",
       "      <td>7.08818</td>\n",
       "      <td>531.50317</td>\n",
       "      <td>276.18634</td>\n",
       "      <td>1</td>\n",
       "      <td>1014.79321</td>\n",
       "      <td>12.0</td>\n",
       "      <td>50</td>\n",
       "      <td>3493</td>\n",
       "    </tr>\n",
       "    <tr>\n",
       "      <th>2</th>\n",
       "      <td>2021-07-11 10:00:02</td>\n",
       "      <td>-2.8460</td>\n",
       "      <td>0</td>\n",
       "      <td>12.26196</td>\n",
       "      <td>-0.00072</td>\n",
       "      <td>14.48975</td>\n",
       "      <td>0.0051</td>\n",
       "      <td>12.66931</td>\n",
       "      <td>70</td>\n",
       "      <td>1</td>\n",
       "      <td>...</td>\n",
       "      <td>0.91873</td>\n",
       "      <td>30.09148</td>\n",
       "      <td>7.08818</td>\n",
       "      <td>451.06253</td>\n",
       "      <td>279.85754</td>\n",
       "      <td>1</td>\n",
       "      <td>1014.79321</td>\n",
       "      <td>12.0</td>\n",
       "      <td>50</td>\n",
       "      <td>3490</td>\n",
       "    </tr>\n",
       "    <tr>\n",
       "      <th>3</th>\n",
       "      <td>2021-07-11 10:00:03</td>\n",
       "      <td>-2.1235</td>\n",
       "      <td>0</td>\n",
       "      <td>12.26196</td>\n",
       "      <td>0.00101</td>\n",
       "      <td>15.93170</td>\n",
       "      <td>0.1842</td>\n",
       "      <td>12.66931</td>\n",
       "      <td>70</td>\n",
       "      <td>1</td>\n",
       "      <td>...</td>\n",
       "      <td>0.91644</td>\n",
       "      <td>30.10407</td>\n",
       "      <td>7.08818</td>\n",
       "      <td>404.38739</td>\n",
       "      <td>281.50317</td>\n",
       "      <td>1</td>\n",
       "      <td>1014.79321</td>\n",
       "      <td>12.0</td>\n",
       "      <td>50</td>\n",
       "      <td>3525</td>\n",
       "    </tr>\n",
       "    <tr>\n",
       "      <th>4</th>\n",
       "      <td>2021-07-11 10:00:04</td>\n",
       "      <td>-2.9074</td>\n",
       "      <td>0</td>\n",
       "      <td>12.26196</td>\n",
       "      <td>0.00043</td>\n",
       "      <td>16.10718</td>\n",
       "      <td>0.1842</td>\n",
       "      <td>12.66931</td>\n",
       "      <td>70</td>\n",
       "      <td>1</td>\n",
       "      <td>...</td>\n",
       "      <td>0.91797</td>\n",
       "      <td>30.10331</td>\n",
       "      <td>7.08818</td>\n",
       "      <td>382.53925</td>\n",
       "      <td>281.34039</td>\n",
       "      <td>1</td>\n",
       "      <td>1014.79321</td>\n",
       "      <td>12.0</td>\n",
       "      <td>50</td>\n",
       "      <td>3503</td>\n",
       "    </tr>\n",
       "  </tbody>\n",
       "</table>\n",
       "<p>5 rows × 87 columns</p>\n",
       "</div>"
      ],
      "text/plain": [
       "             timestamp     C01  C02       C03      C04       C05     C06  \\\n",
       "0  2021-07-11 10:00:00 -2.2642    0  12.26196 -0.00087  12.01019  0.2254   \n",
       "1  2021-07-11 10:00:01 -2.4923    0  12.26196  0.00058  12.56714 -0.0711   \n",
       "2  2021-07-11 10:00:02 -2.8460    0  12.26196 -0.00072  14.48975  0.0051   \n",
       "3  2021-07-11 10:00:03 -2.1235    0  12.26196  0.00101  15.93170  0.1842   \n",
       "4  2021-07-11 10:00:04 -2.9074    0  12.26196  0.00043  16.10718  0.1842   \n",
       "\n",
       "        C07  C08  C09  ...      C77       C78      C79        C80        C81  \\\n",
       "0  12.66931   70    1  ...  0.92255  30.08042  7.08818  595.06104  276.40338   \n",
       "1  12.66931   70    1  ...  0.92255  30.08423  7.08818  531.50317  276.18634   \n",
       "2  12.66931   70    1  ...  0.91873  30.09148  7.08818  451.06253  279.85754   \n",
       "3  12.66931   70    1  ...  0.91644  30.10407  7.08818  404.38739  281.50317   \n",
       "4  12.66931   70    1  ...  0.91797  30.10331  7.08818  382.53925  281.34039   \n",
       "\n",
       "   C82         C83   C84  C85   C86  \n",
       "0    1  1014.79321  12.0   50  3506  \n",
       "1    1  1014.79321  12.0   50  3493  \n",
       "2    1  1014.79321  12.0   50  3490  \n",
       "3    1  1014.79321  12.0   50  3525  \n",
       "4    1  1014.79321  12.0   50  3503  \n",
       "\n",
       "[5 rows x 87 columns]"
      ]
     },
     "execution_count": 5,
     "metadata": {},
     "output_type": "execute_result"
    }
   ],
   "source": [
    "TRAIN_DF_RAW = dataframe_from_csvs(TRAIN_DATASET)\n",
    "TRAIN_DF_RAW.head()"
   ]
  },
  {
   "cell_type": "markdown",
   "metadata": {},
   "source": [
    "train dataset에는 attack 필드가 없다. 비지도 학습을 할 것이기 때문에 당연한거고 가공할 필드 중 time은 하지 않음로 drop 해준다."
   ]
  },
  {
   "cell_type": "code",
   "execution_count": 6,
   "metadata": {},
   "outputs": [
    {
     "data": {
      "text/plain": [
       "Index(['C01', 'C02', 'C03', 'C04', 'C05', 'C06', 'C07', 'C08', 'C09', 'C10',\n",
       "       'C11', 'C12', 'C13', 'C14', 'C15', 'C16', 'C17', 'C18', 'C19', 'C20',\n",
       "       'C21', 'C22', 'C23', 'C24', 'C25', 'C26', 'C27', 'C28', 'C29', 'C30',\n",
       "       'C31', 'C32', 'C33', 'C34', 'C35', 'C36', 'C37', 'C38', 'C39', 'C40',\n",
       "       'C41', 'C42', 'C43', 'C44', 'C45', 'C46', 'C47', 'C48', 'C49', 'C50',\n",
       "       'C51', 'C52', 'C53', 'C54', 'C55', 'C56', 'C57', 'C58', 'C59', 'C60',\n",
       "       'C61', 'C62', 'C63', 'C64', 'C65', 'C66', 'C67', 'C68', 'C69', 'C70',\n",
       "       'C71', 'C72', 'C73', 'C74', 'C75', 'C76', 'C77', 'C78', 'C79', 'C80',\n",
       "       'C81', 'C82', 'C83', 'C84', 'C85', 'C86'],\n",
       "      dtype='object')"
      ]
     },
     "execution_count": 6,
     "metadata": {},
     "output_type": "execute_result"
    }
   ],
   "source": [
    "TIMESTAMP_FIELD = 'timestamp'\n",
    "IDSTAMP_FIELD = 'id'\n",
    "ATTACK_FIELD = 'attack'\n",
    "VALID_COLUMNS_IN_TRAIN_DATASET = TRAIN_DF_RAW.columns.drop([TIMESTAMP_FIELD])\n",
    "VALID_COLUMNS_IN_TRAIN_DATASET"
   ]
  },
  {
   "cell_type": "markdown",
   "metadata": {},
   "source": [
    "### 데이터 정규화"
   ]
  },
  {
   "cell_type": "code",
   "execution_count": 7,
   "metadata": {},
   "outputs": [],
   "source": [
    "TAG_MIN = TRAIN_DF_RAW[VALID_COLUMNS_IN_TRAIN_DATASET].min()\n",
    "TAG_MAX = TRAIN_DF_RAW[VALID_COLUMNS_IN_TRAIN_DATASET].max()"
   ]
  },
  {
   "cell_type": "code",
   "execution_count": 8,
   "metadata": {},
   "outputs": [],
   "source": [
    "def normalize(df):\n",
    "  normalized_df = df.copy()\n",
    "  for c in df.columns:\n",
    "    if TAG_MIN[c] == TAG_MAX[c]:\n",
    "      normalized_df[c] = df[c] - TAG_MIN[c]\n",
    "    else:\n",
    "      normalized_df[c] = (df[c] - TAG_MIN[c]) / (TAG_MAX[c] - TAG_MIN[c])\n",
    "  return normalized_df"
   ]
  },
  {
   "cell_type": "code",
   "execution_count": 9,
   "metadata": {},
   "outputs": [],
   "source": [
    "TRAIN_DF = normalize(TRAIN_DF_RAW[VALID_COLUMNS_IN_TRAIN_DATASET])"
   ]
  },
  {
   "cell_type": "code",
   "execution_count": 10,
   "metadata": {},
   "outputs": [
    {
     "data": {
      "text/html": [
       "<div>\n",
       "<style scoped>\n",
       "    .dataframe tbody tr th:only-of-type {\n",
       "        vertical-align: middle;\n",
       "    }\n",
       "\n",
       "    .dataframe tbody tr th {\n",
       "        vertical-align: top;\n",
       "    }\n",
       "\n",
       "    .dataframe thead th {\n",
       "        text-align: right;\n",
       "    }\n",
       "</style>\n",
       "<table border=\"1\" class=\"dataframe\">\n",
       "  <thead>\n",
       "    <tr style=\"text-align: right;\">\n",
       "      <th></th>\n",
       "      <th>C01</th>\n",
       "      <th>C02</th>\n",
       "      <th>C03</th>\n",
       "      <th>C04</th>\n",
       "      <th>C05</th>\n",
       "      <th>C06</th>\n",
       "      <th>C07</th>\n",
       "      <th>C08</th>\n",
       "      <th>C09</th>\n",
       "      <th>C10</th>\n",
       "      <th>...</th>\n",
       "      <th>C77</th>\n",
       "      <th>C78</th>\n",
       "      <th>C79</th>\n",
       "      <th>C80</th>\n",
       "      <th>C81</th>\n",
       "      <th>C82</th>\n",
       "      <th>C83</th>\n",
       "      <th>C84</th>\n",
       "      <th>C85</th>\n",
       "      <th>C86</th>\n",
       "    </tr>\n",
       "  </thead>\n",
       "  <tbody>\n",
       "    <tr>\n",
       "      <th>0</th>\n",
       "      <td>0.433107</td>\n",
       "      <td>0.0</td>\n",
       "      <td>0.056338</td>\n",
       "      <td>0.501686</td>\n",
       "      <td>0.116706</td>\n",
       "      <td>0.447955</td>\n",
       "      <td>0.816071</td>\n",
       "      <td>0.0</td>\n",
       "      <td>0.0</td>\n",
       "      <td>0.0</td>\n",
       "      <td>...</td>\n",
       "      <td>0.240561</td>\n",
       "      <td>0.194185</td>\n",
       "      <td>0.708818</td>\n",
       "      <td>0.183693</td>\n",
       "      <td>0.169066</td>\n",
       "      <td>0.0</td>\n",
       "      <td>0.538147</td>\n",
       "      <td>0.0</td>\n",
       "      <td>0.0</td>\n",
       "      <td>0.276078</td>\n",
       "    </tr>\n",
       "    <tr>\n",
       "      <th>1</th>\n",
       "      <td>0.391297</td>\n",
       "      <td>0.0</td>\n",
       "      <td>0.056338</td>\n",
       "      <td>0.519147</td>\n",
       "      <td>0.122242</td>\n",
       "      <td>0.391963</td>\n",
       "      <td>0.816071</td>\n",
       "      <td>0.0</td>\n",
       "      <td>0.0</td>\n",
       "      <td>0.0</td>\n",
       "      <td>...</td>\n",
       "      <td>0.240561</td>\n",
       "      <td>0.194570</td>\n",
       "      <td>0.708818</td>\n",
       "      <td>0.163699</td>\n",
       "      <td>0.168259</td>\n",
       "      <td>0.0</td>\n",
       "      <td>0.538147</td>\n",
       "      <td>0.0</td>\n",
       "      <td>0.0</td>\n",
       "      <td>0.275086</td>\n",
       "    </tr>\n",
       "    <tr>\n",
       "      <th>2</th>\n",
       "      <td>0.326466</td>\n",
       "      <td>0.0</td>\n",
       "      <td>0.056338</td>\n",
       "      <td>0.503492</td>\n",
       "      <td>0.141351</td>\n",
       "      <td>0.406353</td>\n",
       "      <td>0.816071</td>\n",
       "      <td>0.0</td>\n",
       "      <td>0.0</td>\n",
       "      <td>0.0</td>\n",
       "      <td>...</td>\n",
       "      <td>0.238072</td>\n",
       "      <td>0.195302</td>\n",
       "      <td>0.708818</td>\n",
       "      <td>0.138395</td>\n",
       "      <td>0.181916</td>\n",
       "      <td>0.0</td>\n",
       "      <td>0.538147</td>\n",
       "      <td>0.0</td>\n",
       "      <td>0.0</td>\n",
       "      <td>0.274857</td>\n",
       "    </tr>\n",
       "    <tr>\n",
       "      <th>3</th>\n",
       "      <td>0.458896</td>\n",
       "      <td>0.0</td>\n",
       "      <td>0.056338</td>\n",
       "      <td>0.524326</td>\n",
       "      <td>0.155684</td>\n",
       "      <td>0.440174</td>\n",
       "      <td>0.816071</td>\n",
       "      <td>0.0</td>\n",
       "      <td>0.0</td>\n",
       "      <td>0.0</td>\n",
       "      <td>...</td>\n",
       "      <td>0.236580</td>\n",
       "      <td>0.196575</td>\n",
       "      <td>0.708818</td>\n",
       "      <td>0.123712</td>\n",
       "      <td>0.188038</td>\n",
       "      <td>0.0</td>\n",
       "      <td>0.538147</td>\n",
       "      <td>0.0</td>\n",
       "      <td>0.0</td>\n",
       "      <td>0.277528</td>\n",
       "    </tr>\n",
       "    <tr>\n",
       "      <th>4</th>\n",
       "      <td>0.315212</td>\n",
       "      <td>0.0</td>\n",
       "      <td>0.056338</td>\n",
       "      <td>0.517341</td>\n",
       "      <td>0.157428</td>\n",
       "      <td>0.440174</td>\n",
       "      <td>0.816071</td>\n",
       "      <td>0.0</td>\n",
       "      <td>0.0</td>\n",
       "      <td>0.0</td>\n",
       "      <td>...</td>\n",
       "      <td>0.237577</td>\n",
       "      <td>0.196498</td>\n",
       "      <td>0.708818</td>\n",
       "      <td>0.116839</td>\n",
       "      <td>0.187433</td>\n",
       "      <td>0.0</td>\n",
       "      <td>0.538147</td>\n",
       "      <td>0.0</td>\n",
       "      <td>0.0</td>\n",
       "      <td>0.275849</td>\n",
       "    </tr>\n",
       "  </tbody>\n",
       "</table>\n",
       "<p>5 rows × 86 columns</p>\n",
       "</div>"
      ],
      "text/plain": [
       "        C01  C02       C03       C04       C05       C06       C07  C08  C09  \\\n",
       "0  0.433107  0.0  0.056338  0.501686  0.116706  0.447955  0.816071  0.0  0.0   \n",
       "1  0.391297  0.0  0.056338  0.519147  0.122242  0.391963  0.816071  0.0  0.0   \n",
       "2  0.326466  0.0  0.056338  0.503492  0.141351  0.406353  0.816071  0.0  0.0   \n",
       "3  0.458896  0.0  0.056338  0.524326  0.155684  0.440174  0.816071  0.0  0.0   \n",
       "4  0.315212  0.0  0.056338  0.517341  0.157428  0.440174  0.816071  0.0  0.0   \n",
       "\n",
       "   C10  ...       C77       C78       C79       C80       C81  C82       C83  \\\n",
       "0  0.0  ...  0.240561  0.194185  0.708818  0.183693  0.169066  0.0  0.538147   \n",
       "1  0.0  ...  0.240561  0.194570  0.708818  0.163699  0.168259  0.0  0.538147   \n",
       "2  0.0  ...  0.238072  0.195302  0.708818  0.138395  0.181916  0.0  0.538147   \n",
       "3  0.0  ...  0.236580  0.196575  0.708818  0.123712  0.188038  0.0  0.538147   \n",
       "4  0.0  ...  0.237577  0.196498  0.708818  0.116839  0.187433  0.0  0.538147   \n",
       "\n",
       "   C84  C85       C86  \n",
       "0  0.0  0.0  0.276078  \n",
       "1  0.0  0.0  0.275086  \n",
       "2  0.0  0.0  0.274857  \n",
       "3  0.0  0.0  0.277528  \n",
       "4  0.0  0.0  0.275849  \n",
       "\n",
       "[5 rows x 86 columns]"
      ]
     },
     "execution_count": 10,
     "metadata": {},
     "output_type": "execute_result"
    }
   ],
   "source": [
    "TRAIN_DF.head()"
   ]
  },
  {
   "cell_type": "markdown",
   "metadata": {},
   "source": [
    "### 학습 모델 선정"
   ]
  },
  {
   "cell_type": "markdown",
   "metadata": {},
   "source": [
    "keras 사용하여 autoencoder 구현  \n",
    "또한 autoencoder의 레이어를 LSTM으로 구성하면 시퀀스 학습이 가능"
   ]
  },
  {
   "cell_type": "code",
   "execution_count": 11,
   "metadata": {},
   "outputs": [],
   "source": [
    "def temporalize(X, y, timesteps):\n",
    "  output_X = []\n",
    "  output_y = []\n",
    "  for i in range(len(X) - timesteps - 1):\n",
    "    t = []\n",
    "    for j in range(1, timesteps + 1):\n",
    "      t.append(X[[i+j+1], :])\n",
    "    output_X.append(t)\n",
    "    output_y.append(y[i + timesteps + 1])\n",
    "  return np.squeeze(np.array(output_X)), np.array(output_y)"
   ]
  },
  {
   "cell_type": "markdown",
   "metadata": {},
   "source": [
    "시계열 데이터의 특징 추출은 1D Convolution이 적절하다.  \n",
    "CNN에서는 2D Convolution을 사용하는데 필터를 이동시킬 축을 하나로만 제한하여 시퀀스 처리를 용이하게 한다."
   ]
  },
  {
   "cell_type": "code",
   "execution_count": 12,
   "metadata": {},
   "outputs": [
    {
     "data": {
      "text/plain": [
       "(1004402, 1, 86)"
      ]
     },
     "execution_count": 12,
     "metadata": {},
     "output_type": "execute_result"
    }
   ],
   "source": [
    "train = np.array(TRAIN_DF)\n",
    "x_train = train.reshape(train.shape[0], 1, train.shape[1])\n",
    "x_train.shape"
   ]
  },
  {
   "cell_type": "markdown",
   "metadata": {},
   "source": [
    "### 학습 모델의 구조"
   ]
  },
  {
   "cell_type": "markdown",
   "metadata": {},
   "source": [
    "#### Conv1D  \n",
    "- filters : convolution 연산의 output 출력 수\n",
    "- kernel_size : timestamp를 얼마만큼 묶어서 볼 것인가 (=window_size)\n",
    "- paddning : 한 쪽 방향으로 얼마마늠 padding 할 것 인가\n",
    "- dilation: kernel 내부에서 얼마만큼의 간격으로 kernel을 적용할 것인가\n",
    "- strider: convolution layer의 이동크기\n",
    "\n",
    "#### LSTM  \n",
    "- unit : 출력 차원층만 설정\n",
    "\n",
    "#### 모델의 구조\n",
    "Conv1D - Dense - LSTM - Dense  \n",
    "encoder와 decoder의 대칭이 되도록 설계  \n",
    "LSTM의 입력으로는 3차원 데이터가 필요하기 때문에 reshape로 3차원으로 만들어줌"
   ]
  },
  {
   "cell_type": "code",
   "execution_count": 13,
   "metadata": {},
   "outputs": [],
   "source": [
    "def conv_model(x):\n",
    "  n_steps = x.shape[1]\n",
    "  n_features = x.shape[2]\n",
    "  \n",
    "  keras.backend.clear_session()\n",
    "  \n",
    "  model = keras.Sequential(\n",
    "    [\n",
    "      layers.Input(shape=(n_steps, n_features)),\n",
    "      layers.Conv1D(filters=512, kernel_size=64, padding='same', data_format='channels_last', dilation_rate=1, activation='linear'),\n",
    "      layers.Dense(128),\n",
    "      layers.LSTM(units=64, activation=\"relu\",name=\"lstm_1\", return_sequences=False), # LSTM과 다른점 1 (return_sequences)\n",
    "      layers.Dense(64),\n",
    "      layers.RepeatVector(n_steps), # LSTM 코드와 다른 점 2 (repearvector)\n",
    "      layers.Dense(64),\n",
    "      layers.LSTM(units=64, activation='relu', name=\"lstm_2\", return_sequences=True),\n",
    "      layers.Dense(128),\n",
    "      layers.Conv1D(filters=512, kernel_size=64, padding='same', data_format='channels_last', dilation_rate=1, activation=\"linear\"),\n",
    "      layers.TimeDistributed(layers.Dense(x.shape[2], activation='linear'))\n",
    "    ]\n",
    "  )\n",
    "  return model"
   ]
  },
  {
   "cell_type": "markdown",
   "metadata": {},
   "source": [
    "### 모델 구조 확인"
   ]
  },
  {
   "cell_type": "code",
   "execution_count": 14,
   "metadata": {},
   "outputs": [
    {
     "name": "stdout",
     "output_type": "stream",
     "text": [
      "WARNING:tensorflow:Layer lstm_1 will not use cuDNN kernels since it doesn't meet the criteria. It will use a generic GPU kernel as fallback when running on GPU.\n",
      "WARNING:tensorflow:Layer lstm_2 will not use cuDNN kernels since it doesn't meet the criteria. It will use a generic GPU kernel as fallback when running on GPU.\n"
     ]
    },
    {
     "name": "stderr",
     "output_type": "stream",
     "text": [
      "2022-04-09 17:07:10.109073: I tensorflow/core/platform/cpu_feature_guard.cc:142] This TensorFlow binary is optimized with oneAPI Deep Neural Network Library (oneDNN) to use the following CPU instructions in performance-critical operations:  SSE4.1 SSE4.2 AVX AVX2 AVX512F FMA\n",
      "To enable them in other operations, rebuild TensorFlow with the appropriate compiler flags.\n",
      "2022-04-09 17:07:10.665962: I tensorflow/core/common_runtime/gpu/gpu_device.cc:1510] Created device /job:localhost/replica:0/task:0/device:GPU:0 with 30970 MB memory:  -> device: 0, name: Tesla V100S-PCIE-32GB, pci bus id: 0000:3b:00.0, compute capability: 7.0\n"
     ]
    },
    {
     "name": "stdout",
     "output_type": "stream",
     "text": [
      "Model: \"sequential\"\n",
      "_________________________________________________________________\n",
      "Layer (type)                 Output Shape              Param #   \n",
      "=================================================================\n",
      "conv1d (Conv1D)              (None, 1, 512)            2818560   \n",
      "_________________________________________________________________\n",
      "dense (Dense)                (None, 1, 128)            65664     \n",
      "_________________________________________________________________\n",
      "lstm_1 (LSTM)                (None, 64)                49408     \n",
      "_________________________________________________________________\n",
      "dense_1 (Dense)              (None, 64)                4160      \n",
      "_________________________________________________________________\n",
      "repeat_vector (RepeatVector) (None, 1, 64)             0         \n",
      "_________________________________________________________________\n",
      "dense_2 (Dense)              (None, 1, 64)             4160      \n",
      "_________________________________________________________________\n",
      "lstm_2 (LSTM)                (None, 1, 64)             33024     \n",
      "_________________________________________________________________\n",
      "dense_3 (Dense)              (None, 1, 128)            8320      \n",
      "_________________________________________________________________\n",
      "conv1d_1 (Conv1D)            (None, 1, 512)            4194816   \n",
      "_________________________________________________________________\n",
      "time_distributed (TimeDistri (None, 1, 86)             44118     \n",
      "=================================================================\n",
      "Total params: 7,222,230\n",
      "Trainable params: 7,222,230\n",
      "Non-trainable params: 0\n",
      "_________________________________________________________________\n"
     ]
    }
   ],
   "source": [
    "model = conv_model(x_train)\n",
    "model.compile(optimizer='adam', loss='mse')\n",
    "model.summary()"
   ]
  },
  {
   "cell_type": "markdown",
   "metadata": {},
   "source": [
    "## 모델 학습하기"
   ]
  },
  {
   "cell_type": "code",
   "execution_count": 15,
   "metadata": {},
   "outputs": [
    {
     "name": "stderr",
     "output_type": "stream",
     "text": [
      "2022-04-09 17:07:12.894530: I tensorflow/compiler/mlir/mlir_graph_optimization_pass.cc:185] None of the MLIR Optimization Passes are enabled (registered 2)\n"
     ]
    },
    {
     "name": "stdout",
     "output_type": "stream",
     "text": [
      "Epoch 1/5\n"
     ]
    },
    {
     "name": "stderr",
     "output_type": "stream",
     "text": [
      "2022-04-09 17:07:15.166647: I tensorflow/stream_executor/cuda/cuda_dnn.cc:369] Loaded cuDNN version 8201\n"
     ]
    },
    {
     "name": "stdout",
     "output_type": "stream",
     "text": [
      "12556/12556 [==============================] - 150s 12ms/step - loss: 0.0019 - val_loss: 0.0017\n",
      "Epoch 2/5\n",
      "12556/12556 [==============================] - 142s 11ms/step - loss: 1.4721e-04 - val_loss: 0.0011\n",
      "Epoch 3/5\n",
      "12556/12556 [==============================] - 141s 11ms/step - loss: 1.2547e-04 - val_loss: 0.0011\n",
      "Epoch 4/5\n",
      "12556/12556 [==============================] - 140s 11ms/step - loss: 4.5384e-04 - val_loss: 9.5268e-04\n",
      "Epoch 5/5\n",
      "12556/12556 [==============================] - 140s 11ms/step - loss: 8.2943e-04 - val_loss: 5.9633e-04\n"
     ]
    }
   ],
   "source": [
    "callbacks = [keras.callbacks.EarlyStopping(monitor='val_loss', patience=5),\n",
    "             keras.callbacks.ModelCheckpoint(filepath='best_model.h5', monitor='val_loss', save_best_only=True)]\n",
    "\n",
    "epochs = 5\n",
    "batch = 64\n",
    "\n",
    "history = model.fit(x_train, x_train,\n",
    "                    epochs=epochs, batch_size=batch,\n",
    "                    validation_split=0.2, callbacks=callbacks).history\n",
    "\n",
    "model.save('HAI_Autoencoder_LSTM.h5')"
   ]
  },
  {
   "cell_type": "code",
   "execution_count": 16,
   "metadata": {},
   "outputs": [
    {
     "data": {
      "image/png": "[encoded data removed]",
      "text/plain": [
       "<Figure size 432x288 with 1 Axes>"
      ]
     },
     "metadata": {
      "needs_background": "light"
     },
     "output_type": "display_data"
    }
   ],
   "source": [
    "plt.plot(history['loss'], label='train loss')\n",
    "plt.plot(history['val_loss'], label='valid loss')\n",
    "plt.legend()\n",
    "plt.xlabel('Epoch'); plt.ylabel('loss')\n",
    "plt.show()"
   ]
  },
  {
   "cell_type": "code",
   "execution_count": 17,
   "metadata": {},
   "outputs": [
    {
     "name": "stdout",
     "output_type": "stream",
     "text": [
      "WARNING:tensorflow:Layer lstm_1 will not use cuDNN kernels since it doesn't meet the criteria. It will use a generic GPU kernel as fallback when running on GPU.\n",
      "WARNING:tensorflow:Layer lstm_2 will not use cuDNN kernels since it doesn't meet the criteria. It will use a generic GPU kernel as fallback when running on GPU.\n"
     ]
    }
   ],
   "source": [
    "model = load_model('best_model.h5')"
   ]
  },
  {
   "cell_type": "markdown",
   "metadata": {},
   "source": [
    "### 검증 데이터셋에 적용하여 Anomaly Detection"
   ]
  },
  {
   "cell_type": "code",
   "execution_count": 18,
   "metadata": {},
   "outputs": [
    {
     "data": {
      "text/html": [
       "<div>\n",
       "<style scoped>\n",
       "    .dataframe tbody tr th:only-of-type {\n",
       "        vertical-align: middle;\n",
       "    }\n",
       "\n",
       "    .dataframe tbody tr th {\n",
       "        vertical-align: top;\n",
       "    }\n",
       "\n",
       "    .dataframe thead th {\n",
       "        text-align: right;\n",
       "    }\n",
       "</style>\n",
       "<table border=\"1\" class=\"dataframe\">\n",
       "  <thead>\n",
       "    <tr style=\"text-align: right;\">\n",
       "      <th></th>\n",
       "      <th>timestamp</th>\n",
       "      <th>C01</th>\n",
       "      <th>C02</th>\n",
       "      <th>C03</th>\n",
       "      <th>C04</th>\n",
       "      <th>C05</th>\n",
       "      <th>C06</th>\n",
       "      <th>C07</th>\n",
       "      <th>C08</th>\n",
       "      <th>C09</th>\n",
       "      <th>...</th>\n",
       "      <th>C78</th>\n",
       "      <th>C79</th>\n",
       "      <th>C80</th>\n",
       "      <th>C81</th>\n",
       "      <th>C82</th>\n",
       "      <th>C83</th>\n",
       "      <th>C84</th>\n",
       "      <th>C85</th>\n",
       "      <th>C86</th>\n",
       "      <th>attack</th>\n",
       "    </tr>\n",
       "  </thead>\n",
       "  <tbody>\n",
       "    <tr>\n",
       "      <th>0</th>\n",
       "      <td>2021-07-10 00:00:01</td>\n",
       "      <td>-2.0395</td>\n",
       "      <td>0</td>\n",
       "      <td>11.78894</td>\n",
       "      <td>0.00058</td>\n",
       "      <td>16.32080</td>\n",
       "      <td>0.4010</td>\n",
       "      <td>12.903438</td>\n",
       "      <td>70</td>\n",
       "      <td>1</td>\n",
       "      <td>...</td>\n",
       "      <td>31.52100</td>\n",
       "      <td>0.716042</td>\n",
       "      <td>386.51172</td>\n",
       "      <td>356.64423</td>\n",
       "      <td>1</td>\n",
       "      <td>1034.712769</td>\n",
       "      <td>12.0</td>\n",
       "      <td>50</td>\n",
       "      <td>161</td>\n",
       "      <td>0</td>\n",
       "    </tr>\n",
       "    <tr>\n",
       "      <th>1</th>\n",
       "      <td>2021-07-10 00:00:02</td>\n",
       "      <td>-2.1750</td>\n",
       "      <td>0</td>\n",
       "      <td>11.78894</td>\n",
       "      <td>-0.00282</td>\n",
       "      <td>15.95459</td>\n",
       "      <td>0.4187</td>\n",
       "      <td>12.903438</td>\n",
       "      <td>70</td>\n",
       "      <td>1</td>\n",
       "      <td>...</td>\n",
       "      <td>31.51756</td>\n",
       "      <td>0.716042</td>\n",
       "      <td>411.33905</td>\n",
       "      <td>352.08698</td>\n",
       "      <td>1</td>\n",
       "      <td>1034.712769</td>\n",
       "      <td>12.0</td>\n",
       "      <td>50</td>\n",
       "      <td>155</td>\n",
       "      <td>0</td>\n",
       "    </tr>\n",
       "    <tr>\n",
       "      <th>2</th>\n",
       "      <td>2021-07-10 00:00:03</td>\n",
       "      <td>-2.5854</td>\n",
       "      <td>0</td>\n",
       "      <td>11.78131</td>\n",
       "      <td>-0.00398</td>\n",
       "      <td>14.79492</td>\n",
       "      <td>0.0691</td>\n",
       "      <td>12.903438</td>\n",
       "      <td>70</td>\n",
       "      <td>1</td>\n",
       "      <td>...</td>\n",
       "      <td>31.50269</td>\n",
       "      <td>0.716042</td>\n",
       "      <td>438.15259</td>\n",
       "      <td>347.63818</td>\n",
       "      <td>1</td>\n",
       "      <td>1034.712769</td>\n",
       "      <td>12.0</td>\n",
       "      <td>50</td>\n",
       "      <td>149</td>\n",
       "      <td>0</td>\n",
       "    </tr>\n",
       "    <tr>\n",
       "      <th>3</th>\n",
       "      <td>2021-07-10 00:00:04</td>\n",
       "      <td>-2.4722</td>\n",
       "      <td>0</td>\n",
       "      <td>11.78894</td>\n",
       "      <td>-0.00152</td>\n",
       "      <td>14.72626</td>\n",
       "      <td>0.3306</td>\n",
       "      <td>12.903438</td>\n",
       "      <td>70</td>\n",
       "      <td>1</td>\n",
       "      <td>...</td>\n",
       "      <td>31.47942</td>\n",
       "      <td>0.716042</td>\n",
       "      <td>465.95908</td>\n",
       "      <td>340.33203</td>\n",
       "      <td>1</td>\n",
       "      <td>1034.712769</td>\n",
       "      <td>12.0</td>\n",
       "      <td>50</td>\n",
       "      <td>148</td>\n",
       "      <td>0</td>\n",
       "    </tr>\n",
       "    <tr>\n",
       "      <th>4</th>\n",
       "      <td>2021-07-10 00:00:05</td>\n",
       "      <td>-2.2319</td>\n",
       "      <td>0</td>\n",
       "      <td>11.78131</td>\n",
       "      <td>0.00072</td>\n",
       "      <td>14.78729</td>\n",
       "      <td>0.2150</td>\n",
       "      <td>12.903438</td>\n",
       "      <td>70</td>\n",
       "      <td>1</td>\n",
       "      <td>...</td>\n",
       "      <td>31.47942</td>\n",
       "      <td>0.716042</td>\n",
       "      <td>452.05582</td>\n",
       "      <td>335.17798</td>\n",
       "      <td>1</td>\n",
       "      <td>1034.712769</td>\n",
       "      <td>12.0</td>\n",
       "      <td>50</td>\n",
       "      <td>148</td>\n",
       "      <td>0</td>\n",
       "    </tr>\n",
       "    <tr>\n",
       "      <th>...</th>\n",
       "      <td>...</td>\n",
       "      <td>...</td>\n",
       "      <td>...</td>\n",
       "      <td>...</td>\n",
       "      <td>...</td>\n",
       "      <td>...</td>\n",
       "      <td>...</td>\n",
       "      <td>...</td>\n",
       "      <td>...</td>\n",
       "      <td>...</td>\n",
       "      <td>...</td>\n",
       "      <td>...</td>\n",
       "      <td>...</td>\n",
       "      <td>...</td>\n",
       "      <td>...</td>\n",
       "      <td>...</td>\n",
       "      <td>...</td>\n",
       "      <td>...</td>\n",
       "      <td>...</td>\n",
       "      <td>...</td>\n",
       "      <td>...</td>\n",
       "    </tr>\n",
       "    <tr>\n",
       "      <th>86395</th>\n",
       "      <td>2021-07-10 23:59:56</td>\n",
       "      <td>-2.8150</td>\n",
       "      <td>0</td>\n",
       "      <td>12.26196</td>\n",
       "      <td>0.00130</td>\n",
       "      <td>15.53497</td>\n",
       "      <td>-0.0507</td>\n",
       "      <td>12.669310</td>\n",
       "      <td>70</td>\n",
       "      <td>1</td>\n",
       "      <td>...</td>\n",
       "      <td>31.79814</td>\n",
       "      <td>0.716042</td>\n",
       "      <td>1193.48230</td>\n",
       "      <td>347.58386</td>\n",
       "      <td>1</td>\n",
       "      <td>1018.394040</td>\n",
       "      <td>12.0</td>\n",
       "      <td>50</td>\n",
       "      <td>7</td>\n",
       "      <td>0</td>\n",
       "    </tr>\n",
       "    <tr>\n",
       "      <th>86396</th>\n",
       "      <td>2021-07-10 23:59:57</td>\n",
       "      <td>-2.6272</td>\n",
       "      <td>0</td>\n",
       "      <td>12.26196</td>\n",
       "      <td>0.00109</td>\n",
       "      <td>15.53497</td>\n",
       "      <td>0.1829</td>\n",
       "      <td>12.669310</td>\n",
       "      <td>70</td>\n",
       "      <td>1</td>\n",
       "      <td>...</td>\n",
       "      <td>31.79738</td>\n",
       "      <td>0.716042</td>\n",
       "      <td>1179.76929</td>\n",
       "      <td>348.03607</td>\n",
       "      <td>1</td>\n",
       "      <td>1018.394040</td>\n",
       "      <td>12.0</td>\n",
       "      <td>50</td>\n",
       "      <td>7</td>\n",
       "      <td>0</td>\n",
       "    </tr>\n",
       "    <tr>\n",
       "      <th>86397</th>\n",
       "      <td>2021-07-10 23:59:58</td>\n",
       "      <td>-2.3564</td>\n",
       "      <td>0</td>\n",
       "      <td>12.26196</td>\n",
       "      <td>-0.00101</td>\n",
       "      <td>15.53497</td>\n",
       "      <td>0.2907</td>\n",
       "      <td>12.669310</td>\n",
       "      <td>70</td>\n",
       "      <td>1</td>\n",
       "      <td>...</td>\n",
       "      <td>31.78784</td>\n",
       "      <td>0.716042</td>\n",
       "      <td>1152.66187</td>\n",
       "      <td>348.81366</td>\n",
       "      <td>1</td>\n",
       "      <td>1018.394040</td>\n",
       "      <td>12.0</td>\n",
       "      <td>50</td>\n",
       "      <td>7</td>\n",
       "      <td>0</td>\n",
       "    </tr>\n",
       "    <tr>\n",
       "      <th>86398</th>\n",
       "      <td>2021-07-10 23:59:59</td>\n",
       "      <td>-2.1541</td>\n",
       "      <td>0</td>\n",
       "      <td>12.26196</td>\n",
       "      <td>-0.00166</td>\n",
       "      <td>15.53497</td>\n",
       "      <td>0.3280</td>\n",
       "      <td>12.669310</td>\n",
       "      <td>70</td>\n",
       "      <td>1</td>\n",
       "      <td>...</td>\n",
       "      <td>31.77029</td>\n",
       "      <td>0.716042</td>\n",
       "      <td>1130.65723</td>\n",
       "      <td>349.13916</td>\n",
       "      <td>1</td>\n",
       "      <td>1018.394040</td>\n",
       "      <td>12.0</td>\n",
       "      <td>50</td>\n",
       "      <td>7</td>\n",
       "      <td>0</td>\n",
       "    </tr>\n",
       "    <tr>\n",
       "      <th>86399</th>\n",
       "      <td>2021-07-11 00:00:00</td>\n",
       "      <td>-2.0198</td>\n",
       "      <td>0</td>\n",
       "      <td>12.26196</td>\n",
       "      <td>-0.00195</td>\n",
       "      <td>15.53497</td>\n",
       "      <td>0.3280</td>\n",
       "      <td>12.669310</td>\n",
       "      <td>70</td>\n",
       "      <td>1</td>\n",
       "      <td>...</td>\n",
       "      <td>31.76915</td>\n",
       "      <td>0.716042</td>\n",
       "      <td>1106.10132</td>\n",
       "      <td>346.82434</td>\n",
       "      <td>1</td>\n",
       "      <td>1018.394040</td>\n",
       "      <td>12.0</td>\n",
       "      <td>50</td>\n",
       "      <td>7</td>\n",
       "      <td>0</td>\n",
       "    </tr>\n",
       "  </tbody>\n",
       "</table>\n",
       "<p>86400 rows × 88 columns</p>\n",
       "</div>"
      ],
      "text/plain": [
       "                 timestamp     C01  C02       C03      C04       C05     C06  \\\n",
       "0      2021-07-10 00:00:01 -2.0395    0  11.78894  0.00058  16.32080  0.4010   \n",
       "1      2021-07-10 00:00:02 -2.1750    0  11.78894 -0.00282  15.95459  0.4187   \n",
       "2      2021-07-10 00:00:03 -2.5854    0  11.78131 -0.00398  14.79492  0.0691   \n",
       "3      2021-07-10 00:00:04 -2.4722    0  11.78894 -0.00152  14.72626  0.3306   \n",
       "4      2021-07-10 00:00:05 -2.2319    0  11.78131  0.00072  14.78729  0.2150   \n",
       "...                    ...     ...  ...       ...      ...       ...     ...   \n",
       "86395  2021-07-10 23:59:56 -2.8150    0  12.26196  0.00130  15.53497 -0.0507   \n",
       "86396  2021-07-10 23:59:57 -2.6272    0  12.26196  0.00109  15.53497  0.1829   \n",
       "86397  2021-07-10 23:59:58 -2.3564    0  12.26196 -0.00101  15.53497  0.2907   \n",
       "86398  2021-07-10 23:59:59 -2.1541    0  12.26196 -0.00166  15.53497  0.3280   \n",
       "86399  2021-07-11 00:00:00 -2.0198    0  12.26196 -0.00195  15.53497  0.3280   \n",
       "\n",
       "             C07  C08  C09  ...       C78       C79         C80        C81  \\\n",
       "0      12.903438   70    1  ...  31.52100  0.716042   386.51172  356.64423   \n",
       "1      12.903438   70    1  ...  31.51756  0.716042   411.33905  352.08698   \n",
       "2      12.903438   70    1  ...  31.50269  0.716042   438.15259  347.63818   \n",
       "3      12.903438   70    1  ...  31.47942  0.716042   465.95908  340.33203   \n",
       "4      12.903438   70    1  ...  31.47942  0.716042   452.05582  335.17798   \n",
       "...          ...  ...  ...  ...       ...       ...         ...        ...   \n",
       "86395  12.669310   70    1  ...  31.79814  0.716042  1193.48230  347.58386   \n",
       "86396  12.669310   70    1  ...  31.79738  0.716042  1179.76929  348.03607   \n",
       "86397  12.669310   70    1  ...  31.78784  0.716042  1152.66187  348.81366   \n",
       "86398  12.669310   70    1  ...  31.77029  0.716042  1130.65723  349.13916   \n",
       "86399  12.669310   70    1  ...  31.76915  0.716042  1106.10132  346.82434   \n",
       "\n",
       "       C82          C83   C84  C85  C86  attack  \n",
       "0        1  1034.712769  12.0   50  161       0  \n",
       "1        1  1034.712769  12.0   50  155       0  \n",
       "2        1  1034.712769  12.0   50  149       0  \n",
       "3        1  1034.712769  12.0   50  148       0  \n",
       "4        1  1034.712769  12.0   50  148       0  \n",
       "...    ...          ...   ...  ...  ...     ...  \n",
       "86395    1  1018.394040  12.0   50    7       0  \n",
       "86396    1  1018.394040  12.0   50    7       0  \n",
       "86397    1  1018.394040  12.0   50    7       0  \n",
       "86398    1  1018.394040  12.0   50    7       0  \n",
       "86399    1  1018.394040  12.0   50    7       0  \n",
       "\n",
       "[86400 rows x 88 columns]"
      ]
     },
     "execution_count": 18,
     "metadata": {},
     "output_type": "execute_result"
    }
   ],
   "source": [
    "VALIDATION_DF_RAW = dataframe_from_csvs(VALIDATION_DATASET)\n",
    "VALIDATION_DF_RAW.to_csv('VALIDATION_DF_RAW.csv')\n",
    "VALIDATION_DF_RAW"
   ]
  },
  {
   "cell_type": "code",
   "execution_count": 19,
   "metadata": {},
   "outputs": [],
   "source": [
    "VALIDATION_DF = normalize(VALIDATION_DF_RAW[VALID_COLUMNS_IN_TRAIN_DATASET])"
   ]
  },
  {
   "cell_type": "code",
   "execution_count": 21,
   "metadata": {},
   "outputs": [
    {
     "data": {
      "text/plain": [
       "<AxesSubplot:>"
      ]
     },
     "execution_count": 21,
     "metadata": {},
     "output_type": "execute_result"
    },
    {
     "data": {
      "image/png": "[encoded data removed]",
      "text/plain": [
       "<Figure size 432x288 with 1 Axes>"
      ]
     },
     "metadata": {
      "needs_background": "light"
     },
     "output_type": "display_data"
    }
   ],
   "source": [
    "VALIDATION_DF.plot()"
   ]
  },
  {
   "cell_type": "code",
   "execution_count": 41,
   "metadata": {},
   "outputs": [
    {
     "data": {
      "text/plain": [
       "<AxesSubplot:>"
      ]
     },
     "execution_count": 41,
     "metadata": {},
     "output_type": "execute_result"
    },
    {
     "data": {
      "image/png": "[encoded data removed]",
      "text/plain": [
       "<Figure size 432x288 with 1 Axes>"
      ]
     },
     "metadata": {
      "needs_background": "light"
     },
     "output_type": "display_data"
    }
   ],
   "source": [
    "VALIDATION_DF['C84'].plot()"
   ]
  },
  {
   "cell_type": "markdown",
   "metadata": {},
   "source": [
    "모델의 결과가 3차원의 형태이기 떄문에 복원된 결과와의 차이를 확인하기 위해 2차원으로 다시 바꿔줘야한다. -> flatten 함수를 구현하여 활용"
   ]
  },
  {
   "cell_type": "code",
   "execution_count": 44,
   "metadata": {},
   "outputs": [
    {
     "data": {
      "text/plain": [
       "(86400, 1, 86)"
      ]
     },
     "execution_count": 44,
     "metadata": {},
     "output_type": "execute_result"
    }
   ],
   "source": [
    "val = np.array(VALIDATION_DF)\n",
    "x_val = val.reshape(val.shape[0], 1, val.shape[1])\n",
    "x_val.shape"
   ]
  },
  {
   "cell_type": "code",
   "execution_count": 42,
   "metadata": {},
   "outputs": [],
   "source": [
    "def flatten(X):\n",
    "  flattened_X = np.empty((X.shape[0], X.shape[2]))\n",
    "  for i in range(X.shape[0]):\n",
    "    flattened_X[i] = X[i, (X.shape[1]-1), :]\n",
    "  return(flattened_X)\n",
    "\n",
    "def scale(X, scaler):\n",
    "  for i in range(X.shape[0]):\n",
    "    X[i, :, :] = scaler.transform(X[i, :, :])"
   ]
  },
  {
   "cell_type": "markdown",
   "metadata": {},
   "source": [
    "모델에 의해 재구성된 값을 실제 값과 차이를 구해 재구성 손실(reconstruction error)값을 구해준다.  \n",
    "정상인 경우 모델이 잘 학습되어 복원이 잘되어 recontruction error 값이 작게 나오고  \n",
    "공격인 경우 정규화된 값에서 0과 1을 벗어나기 떄문에 reconstruction error 값이 크게 나올 것이다."
   ]
  },
  {
   "cell_type": "code",
   "execution_count": 48,
   "metadata": {},
   "outputs": [
    {
     "name": "stdout",
     "output_type": "stream",
     "text": [
      "(86400, 1, 86)\n",
      "(86400, 86)\n",
      "(86400,)\n",
      "[0.00110369 0.00251067 0.00139001 ... 0.00038566 0.00040184 0.00042372]\n",
      "6.754979372024536\n"
     ]
    }
   ],
   "source": [
    "start = time.time()\n",
    "valid_x_predictions = model.predict(x_val)\n",
    "print(valid_x_predictions.shape)\n",
    "\n",
    "error = flatten(x_val) - flatten(valid_x_predictions)\n",
    "print((flatten(x_val) - flatten(valid_x_predictions)).shape)\n",
    "\n",
    "valid_mse = np.mean(np.power(flatten(x_val) - flatten(valid_x_predictions), 2), axis=1)\n",
    "print(valid_mse.shape)\n",
    "print(valid_mse)\n",
    "print(time.time() - start)"
   ]
  },
  {
   "cell_type": "markdown",
   "metadata": {},
   "source": [
    "### precision Recall Curve"
   ]
  },
  {
   "cell_type": "markdown",
   "metadata": {},
   "source": [
    "threshold의 경우 Recall Precision의 값이 교차되는 지점을 기준으로 조금씩 수정하면서 결과 확인"
   ]
  },
  {
   "cell_type": "code",
   "execution_count": 46,
   "metadata": {},
   "outputs": [
    {
     "data": {
      "image/png": "[encoded data removed]",
      "text/plain": [
       "<Figure size 576x360 with 1 Axes>"
      ]
     },
     "metadata": {
      "needs_background": "light"
     },
     "output_type": "display_data"
    }
   ],
   "source": [
    "error_df = pd.DataFrame({'Reconstruction_error': valid_mse, \n",
    "                         'True_class':list(VALIDATION_DF_RAW['attack'])})\n",
    "precision_rt, recall_rt, threshold_rt = metrics.precision_recall_curve(error_df['True_class'], error_df['Reconstruction_error'])\n",
    "\n",
    "plt.figure(figsize=(8,5))\n",
    "plt.plot(threshold_rt, precision_rt[1:], label='Precision')\n",
    "plt.plot(threshold_rt, recall_rt[1:], label='Recall')\n",
    "plt.xlabel('Threshold'); plt.ylabel('Precision/Recall')\n",
    "plt.legend()\n",
    "plt.show()"
   ]
  },
  {
   "cell_type": "code",
   "execution_count": 47,
   "metadata": {},
   "outputs": [
    {
     "name": "stdout",
     "output_type": "stream",
     "text": [
      "precision:  0.1807909604519774 , recall:  0.1807909604519774\n",
      "threshold:  0.0030679483800228136\n"
     ]
    }
   ],
   "source": [
    "index_cnt = [cnt for cnt, (p, r) in enumerate(zip(precision_rt, recall_rt)) if p==r][0]\n",
    "print('precision: ',precision_rt[index_cnt],', recall: ',recall_rt[index_cnt])\n",
    "\n",
    "# fixed Threshold\n",
    "threshold_fixed = threshold_rt[index_cnt]\n",
    "print('threshold: ',threshold_fixed)"
   ]
  },
  {
   "cell_type": "code",
   "execution_count": null,
   "metadata": {},
   "outputs": [],
   "source": []
  }
 ],
 "metadata": {
  "interpreter": {
   "hash": "263279b5c7f5294ef7179eeb038e9113bb5dce42ff0c0d19b3e81ce1438dd79a"
  },
  "kernelspec": {
   "display_name": "Python 3.8.12 ('keras_env')",
   "language": "python",
   "name": "python3"
  },
  "language_info": {
   "codemirror_mode": {
    "name": "ipython",
    "version": 3
   },
   "file_extension": ".py",
   "mimetype": "text/x-python",
   "name": "python",
   "nbconvert_exporter": "python",
   "pygments_lexer": "ipython3",
   "version": "3.8.12"
  },
  "orig_nbformat": 4
 },
 "nbformat": 4,
 "nbformat_minor": 2
}
