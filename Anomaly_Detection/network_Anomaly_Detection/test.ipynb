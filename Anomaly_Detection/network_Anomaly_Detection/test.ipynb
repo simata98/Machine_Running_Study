{
 "cells": [
  {
   "cell_type": "code",
   "execution_count": 1,
   "metadata": {},
   "outputs": [],
   "source": [
    "import pandas as pd\n",
    "import numpy as np\n"
   ]
  },
  {
   "cell_type": "code",
   "execution_count": 2,
   "metadata": {},
   "outputs": [],
   "source": [
    "file_list = []\n",
    "\n",
    "data_path = './data/flows.csv'\n",
    "df = pd.read_csv(data_path, index_col=None, header=0)"
   ]
  },
  {
   "cell_type": "code",
   "execution_count": 4,
   "metadata": {},
   "outputs": [],
   "source": [
    "df.columns = df.columns.str.strip()"
   ]
  },
  {
   "cell_type": "code",
   "execution_count": 5,
   "metadata": {},
   "outputs": [
    {
     "data": {
      "text/plain": [
       "Series([], dtype: int64)"
      ]
     },
     "execution_count": 5,
     "metadata": {},
     "output_type": "execute_result"
    }
   ],
   "source": [
    "infinity_values = df.isin([np.inf, -np.inf]).sum()\n",
    "infinity_values[infinity_values != 0]"
   ]
  },
  {
   "cell_type": "code",
   "execution_count": 6,
   "metadata": {},
   "outputs": [
    {
     "data": {
      "text/plain": [
       "Series([], dtype: int64)"
      ]
     },
     "execution_count": 6,
     "metadata": {},
     "output_type": "execute_result"
    }
   ],
   "source": [
    "null_values = df.isna().sum()\n",
    "null_values[null_values != 0]"
   ]
  },
  {
   "cell_type": "code",
   "execution_count": 7,
   "metadata": {},
   "outputs": [
    {
     "data": {
      "text/html": [
       "<div>\n",
       "<style scoped>\n",
       "    .dataframe tbody tr th:only-of-type {\n",
       "        vertical-align: middle;\n",
       "    }\n",
       "\n",
       "    .dataframe tbody tr th {\n",
       "        vertical-align: top;\n",
       "    }\n",
       "\n",
       "    .dataframe thead th {\n",
       "        text-align: right;\n",
       "    }\n",
       "</style>\n",
       "<table border=\"1\" class=\"dataframe\">\n",
       "  <thead>\n",
       "    <tr style=\"text-align: right;\">\n",
       "      <th></th>\n",
       "      <th>src_ip</th>\n",
       "      <th>dst_ip</th>\n",
       "      <th>src_port</th>\n",
       "      <th>dst_port</th>\n",
       "      <th>src_mac</th>\n",
       "      <th>dst_mac</th>\n",
       "      <th>protocol</th>\n",
       "      <th>timestamp</th>\n",
       "      <th>flow_duration</th>\n",
       "      <th>flow_byts_s</th>\n",
       "      <th>...</th>\n",
       "      <th>bwd_pkts_b_avg</th>\n",
       "      <th>fwd_blk_rate_avg</th>\n",
       "      <th>bwd_blk_rate_avg</th>\n",
       "      <th>fwd_seg_size_avg</th>\n",
       "      <th>bwd_seg_size_avg</th>\n",
       "      <th>cwe_flag_count</th>\n",
       "      <th>subflow_fwd_pkts</th>\n",
       "      <th>subflow_bwd_pkts</th>\n",
       "      <th>subflow_fwd_byts</th>\n",
       "      <th>subflow_bwd_byts</th>\n",
       "    </tr>\n",
       "  </thead>\n",
       "  <tbody>\n",
       "    <tr>\n",
       "      <th>0</th>\n",
       "      <td>5.74.19.217</td>\n",
       "      <td>10.128.0.3</td>\n",
       "      <td>50444</td>\n",
       "      <td>53</td>\n",
       "      <td>42:01:0a:80:00:01</td>\n",
       "      <td>42:01:0a:80:00:03</td>\n",
       "      <td>17</td>\n",
       "      <td>2022-05-31 19:33:06</td>\n",
       "      <td>0.0</td>\n",
       "      <td>0.0</td>\n",
       "      <td>...</td>\n",
       "      <td>0.0</td>\n",
       "      <td>0.0</td>\n",
       "      <td>0.0</td>\n",
       "      <td>68.0</td>\n",
       "      <td>0.0</td>\n",
       "      <td>0</td>\n",
       "      <td>1</td>\n",
       "      <td>0</td>\n",
       "      <td>68</td>\n",
       "      <td>0</td>\n",
       "    </tr>\n",
       "    <tr>\n",
       "      <th>1</th>\n",
       "      <td>72.24.183.109</td>\n",
       "      <td>10.128.0.3</td>\n",
       "      <td>49116</td>\n",
       "      <td>53</td>\n",
       "      <td>42:01:0a:80:00:01</td>\n",
       "      <td>42:01:0a:80:00:03</td>\n",
       "      <td>17</td>\n",
       "      <td>2022-05-31 19:33:06</td>\n",
       "      <td>0.0</td>\n",
       "      <td>0.0</td>\n",
       "      <td>...</td>\n",
       "      <td>0.0</td>\n",
       "      <td>0.0</td>\n",
       "      <td>0.0</td>\n",
       "      <td>68.0</td>\n",
       "      <td>0.0</td>\n",
       "      <td>0</td>\n",
       "      <td>1</td>\n",
       "      <td>0</td>\n",
       "      <td>68</td>\n",
       "      <td>0</td>\n",
       "    </tr>\n",
       "    <tr>\n",
       "      <th>2</th>\n",
       "      <td>92.65.96.35</td>\n",
       "      <td>10.128.0.3</td>\n",
       "      <td>8508</td>\n",
       "      <td>53</td>\n",
       "      <td>42:01:0a:80:00:01</td>\n",
       "      <td>42:01:0a:80:00:03</td>\n",
       "      <td>17</td>\n",
       "      <td>2022-05-31 19:33:06</td>\n",
       "      <td>0.0</td>\n",
       "      <td>0.0</td>\n",
       "      <td>...</td>\n",
       "      <td>0.0</td>\n",
       "      <td>0.0</td>\n",
       "      <td>0.0</td>\n",
       "      <td>68.0</td>\n",
       "      <td>0.0</td>\n",
       "      <td>0</td>\n",
       "      <td>1</td>\n",
       "      <td>0</td>\n",
       "      <td>68</td>\n",
       "      <td>0</td>\n",
       "    </tr>\n",
       "    <tr>\n",
       "      <th>3</th>\n",
       "      <td>186.180.222.67</td>\n",
       "      <td>10.128.0.3</td>\n",
       "      <td>20252</td>\n",
       "      <td>53</td>\n",
       "      <td>42:01:0a:80:00:01</td>\n",
       "      <td>42:01:0a:80:00:03</td>\n",
       "      <td>17</td>\n",
       "      <td>2022-05-31 19:33:06</td>\n",
       "      <td>0.0</td>\n",
       "      <td>0.0</td>\n",
       "      <td>...</td>\n",
       "      <td>0.0</td>\n",
       "      <td>0.0</td>\n",
       "      <td>0.0</td>\n",
       "      <td>68.0</td>\n",
       "      <td>0.0</td>\n",
       "      <td>0</td>\n",
       "      <td>1</td>\n",
       "      <td>0</td>\n",
       "      <td>68</td>\n",
       "      <td>0</td>\n",
       "    </tr>\n",
       "    <tr>\n",
       "      <th>4</th>\n",
       "      <td>5.74.180.55</td>\n",
       "      <td>10.128.0.3</td>\n",
       "      <td>54622</td>\n",
       "      <td>53</td>\n",
       "      <td>42:01:0a:80:00:01</td>\n",
       "      <td>42:01:0a:80:00:03</td>\n",
       "      <td>17</td>\n",
       "      <td>2022-05-31 19:33:06</td>\n",
       "      <td>0.0</td>\n",
       "      <td>0.0</td>\n",
       "      <td>...</td>\n",
       "      <td>0.0</td>\n",
       "      <td>0.0</td>\n",
       "      <td>0.0</td>\n",
       "      <td>68.0</td>\n",
       "      <td>0.0</td>\n",
       "      <td>0</td>\n",
       "      <td>1</td>\n",
       "      <td>0</td>\n",
       "      <td>68</td>\n",
       "      <td>0</td>\n",
       "    </tr>\n",
       "  </tbody>\n",
       "</table>\n",
       "<p>5 rows × 84 columns</p>\n",
       "</div>"
      ],
      "text/plain": [
       "           src_ip      dst_ip  src_port  dst_port            src_mac  \\\n",
       "0     5.74.19.217  10.128.0.3     50444        53  42:01:0a:80:00:01   \n",
       "1   72.24.183.109  10.128.0.3     49116        53  42:01:0a:80:00:01   \n",
       "2     92.65.96.35  10.128.0.3      8508        53  42:01:0a:80:00:01   \n",
       "3  186.180.222.67  10.128.0.3     20252        53  42:01:0a:80:00:01   \n",
       "4     5.74.180.55  10.128.0.3     54622        53  42:01:0a:80:00:01   \n",
       "\n",
       "             dst_mac  protocol            timestamp  flow_duration  \\\n",
       "0  42:01:0a:80:00:03        17  2022-05-31 19:33:06            0.0   \n",
       "1  42:01:0a:80:00:03        17  2022-05-31 19:33:06            0.0   \n",
       "2  42:01:0a:80:00:03        17  2022-05-31 19:33:06            0.0   \n",
       "3  42:01:0a:80:00:03        17  2022-05-31 19:33:06            0.0   \n",
       "4  42:01:0a:80:00:03        17  2022-05-31 19:33:06            0.0   \n",
       "\n",
       "   flow_byts_s  ...  bwd_pkts_b_avg  fwd_blk_rate_avg  bwd_blk_rate_avg  \\\n",
       "0          0.0  ...             0.0               0.0               0.0   \n",
       "1          0.0  ...             0.0               0.0               0.0   \n",
       "2          0.0  ...             0.0               0.0               0.0   \n",
       "3          0.0  ...             0.0               0.0               0.0   \n",
       "4          0.0  ...             0.0               0.0               0.0   \n",
       "\n",
       "   fwd_seg_size_avg  bwd_seg_size_avg  cwe_flag_count  subflow_fwd_pkts  \\\n",
       "0              68.0               0.0               0                 1   \n",
       "1              68.0               0.0               0                 1   \n",
       "2              68.0               0.0               0                 1   \n",
       "3              68.0               0.0               0                 1   \n",
       "4              68.0               0.0               0                 1   \n",
       "\n",
       "   subflow_bwd_pkts  subflow_fwd_byts  subflow_bwd_byts  \n",
       "0                 0                68                 0  \n",
       "1                 0                68                 0  \n",
       "2                 0                68                 0  \n",
       "3                 0                68                 0  \n",
       "4                 0                68                 0  \n",
       "\n",
       "[5 rows x 84 columns]"
      ]
     },
     "execution_count": 7,
     "metadata": {},
     "output_type": "execute_result"
    }
   ],
   "source": [
    "df.head()"
   ]
  },
  {
   "cell_type": "code",
   "execution_count": null,
   "metadata": {},
   "outputs": [],
   "source": []
  }
 ],
 "metadata": {
  "interpreter": {
   "hash": "263279b5c7f5294ef7179eeb038e9113bb5dce42ff0c0d19b3e81ce1438dd79a"
  },
  "kernelspec": {
   "display_name": "Python 3.8.12 ('keras_env')",
   "language": "python",
   "name": "python3"
  },
  "language_info": {
   "codemirror_mode": {
    "name": "ipython",
    "version": 3
   },
   "file_extension": ".py",
   "mimetype": "text/x-python",
   "name": "python",
   "nbconvert_exporter": "python",
   "pygments_lexer": "ipython3",
   "version": "3.8.12"
  },
  "orig_nbformat": 4
 },
 "nbformat": 4,
 "nbformat_minor": 2
}
