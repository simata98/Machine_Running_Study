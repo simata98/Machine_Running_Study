version https://git-lfs.github.com/spec/v1
oid sha256:b3f951cbe107d3f00c6a4ddfc8d2848168e4967c447b758c2cbdc0baf3b4bf66
size 149924
