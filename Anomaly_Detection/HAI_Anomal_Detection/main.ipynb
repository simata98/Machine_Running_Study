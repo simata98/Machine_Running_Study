version https://git-lfs.github.com/spec/v1
oid sha256:b085039c2bc5293000e425f656c945c8bb548f08fa773d566a9194692f5c7f78
size 4752
