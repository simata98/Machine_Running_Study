{
 "cells": [
  {
   "cell_type": "code",
   "execution_count": 1,
   "metadata": {},
   "outputs": [],
   "source": [
    "import pandas as pd\n",
    "import numpy as np"
   ]
  },
  {
   "cell_type": "code",
   "execution_count": 2,
   "metadata": {},
   "outputs": [],
   "source": [
    "with open('./data/CAN traffic (normal only).txt', 'r') as f:\n",
    "  normal_data_list = [line.rstrip().split(\"\\t\") for line in f]"
   ]
  },
  {
   "cell_type": "code",
   "execution_count": 3,
   "metadata": {},
   "outputs": [
    {
     "data": {
      "text/plain": [
       "[['1597707827', '260', '8', '06 25 05 30 FF CF 71 55', 'Normal'],\n",
       " ['1597707827', '329', '8', '4A C5 7E 8C 31 2D 01 10', 'Normal'],\n",
       " ['1597707827', '38D', '8', '00 00 49 00 90 7F FE 01', 'Normal']]"
      ]
     },
     "execution_count": 3,
     "metadata": {},
     "output_type": "execute_result"
    }
   ],
   "source": [
    "normal_data_list[0:3]"
   ]
  },
  {
   "cell_type": "code",
   "execution_count": 4,
   "metadata": {},
   "outputs": [],
   "source": [
    "with open('./data/CAN traffic (attack included).txt', 'r') as f:\n",
    "  abnormal_data_list = [line.rstrip().split(\"\\t\") for line in f]"
   ]
  },
  {
   "cell_type": "code",
   "execution_count": 5,
   "metadata": {},
   "outputs": [
    {
     "data": {
      "text/plain": [
       "[['1597759710', '153', '8', '20 A1 10 FF 00 FF 50 1F', 'Normal', 'Normal'],\n",
       " ['1597759710', '220', '8', '13 24 7F 60 05 FF BF 10', 'Normal', 'Normal'],\n",
       " ['1597759710', '507', '4', '08 00 00 01', 'Normal', 'Normal']]"
      ]
     },
     "execution_count": 5,
     "metadata": {},
     "output_type": "execute_result"
    }
   ],
   "source": [
    "abnormal_data_list[0:3]"
   ]
  },
  {
   "cell_type": "code",
   "execution_count": 6,
   "metadata": {},
   "outputs": [],
   "source": [
    "normal_data_df = pd.DataFrame(normal_data_list, columns=['Timestamp', 'Arbitration ID', 'DLC', 'data', 'Class'])\n",
    "abnormal_data_df = pd.DataFrame(abnormal_data_list, columns=['Timestamp', 'Arbitration ID', 'DLC', 'data', 'Class', 'SubClass'])"
   ]
  },
  {
   "cell_type": "code",
   "execution_count": 7,
   "metadata": {},
   "outputs": [
    {
     "data": {
      "text/html": [
       "<div>\n",
       "<style scoped>\n",
       "    .dataframe tbody tr th:only-of-type {\n",
       "        vertical-align: middle;\n",
       "    }\n",
       "\n",
       "    .dataframe tbody tr th {\n",
       "        vertical-align: top;\n",
       "    }\n",
       "\n",
       "    .dataframe thead th {\n",
       "        text-align: right;\n",
       "    }\n",
       "</style>\n",
       "<table border=\"1\" class=\"dataframe\">\n",
       "  <thead>\n",
       "    <tr style=\"text-align: right;\">\n",
       "      <th></th>\n",
       "      <th>Timestamp</th>\n",
       "      <th>Arbitration ID</th>\n",
       "      <th>DLC</th>\n",
       "      <th>data</th>\n",
       "      <th>Class</th>\n",
       "    </tr>\n",
       "  </thead>\n",
       "  <tbody>\n",
       "    <tr>\n",
       "      <th>0</th>\n",
       "      <td>1597707827</td>\n",
       "      <td>260</td>\n",
       "      <td>8</td>\n",
       "      <td>06 25 05 30 FF CF 71 55</td>\n",
       "      <td>Normal</td>\n",
       "    </tr>\n",
       "    <tr>\n",
       "      <th>1</th>\n",
       "      <td>1597707827</td>\n",
       "      <td>329</td>\n",
       "      <td>8</td>\n",
       "      <td>4A C5 7E 8C 31 2D 01 10</td>\n",
       "      <td>Normal</td>\n",
       "    </tr>\n",
       "    <tr>\n",
       "      <th>2</th>\n",
       "      <td>1597707827</td>\n",
       "      <td>38D</td>\n",
       "      <td>8</td>\n",
       "      <td>00 00 49 00 90 7F FE 01</td>\n",
       "      <td>Normal</td>\n",
       "    </tr>\n",
       "  </tbody>\n",
       "</table>\n",
       "</div>"
      ],
      "text/plain": [
       "    Timestamp Arbitration ID DLC                     data   Class\n",
       "0  1597707827            260   8  06 25 05 30 FF CF 71 55  Normal\n",
       "1  1597707827            329   8  4A C5 7E 8C 31 2D 01 10  Normal\n",
       "2  1597707827            38D   8  00 00 49 00 90 7F FE 01  Normal"
      ]
     },
     "execution_count": 7,
     "metadata": {},
     "output_type": "execute_result"
    }
   ],
   "source": [
    "normal_data_df.head(3)"
   ]
  },
  {
   "cell_type": "code",
   "execution_count": 8,
   "metadata": {},
   "outputs": [
    {
     "data": {
      "text/html": [
       "<div>\n",
       "<style scoped>\n",
       "    .dataframe tbody tr th:only-of-type {\n",
       "        vertical-align: middle;\n",
       "    }\n",
       "\n",
       "    .dataframe tbody tr th {\n",
       "        vertical-align: top;\n",
       "    }\n",
       "\n",
       "    .dataframe thead th {\n",
       "        text-align: right;\n",
       "    }\n",
       "</style>\n",
       "<table border=\"1\" class=\"dataframe\">\n",
       "  <thead>\n",
       "    <tr style=\"text-align: right;\">\n",
       "      <th></th>\n",
       "      <th>Timestamp</th>\n",
       "      <th>Arbitration ID</th>\n",
       "      <th>DLC</th>\n",
       "      <th>data</th>\n",
       "      <th>Class</th>\n",
       "      <th>SubClass</th>\n",
       "    </tr>\n",
       "  </thead>\n",
       "  <tbody>\n",
       "    <tr>\n",
       "      <th>0</th>\n",
       "      <td>1597759710</td>\n",
       "      <td>153</td>\n",
       "      <td>8</td>\n",
       "      <td>20 A1 10 FF 00 FF 50 1F</td>\n",
       "      <td>Normal</td>\n",
       "      <td>Normal</td>\n",
       "    </tr>\n",
       "    <tr>\n",
       "      <th>1</th>\n",
       "      <td>1597759710</td>\n",
       "      <td>220</td>\n",
       "      <td>8</td>\n",
       "      <td>13 24 7F 60 05 FF BF 10</td>\n",
       "      <td>Normal</td>\n",
       "      <td>Normal</td>\n",
       "    </tr>\n",
       "    <tr>\n",
       "      <th>2</th>\n",
       "      <td>1597759710</td>\n",
       "      <td>507</td>\n",
       "      <td>4</td>\n",
       "      <td>08 00 00 01</td>\n",
       "      <td>Normal</td>\n",
       "      <td>Normal</td>\n",
       "    </tr>\n",
       "  </tbody>\n",
       "</table>\n",
       "</div>"
      ],
      "text/plain": [
       "    Timestamp Arbitration ID DLC                     data   Class SubClass\n",
       "0  1597759710            153   8  20 A1 10 FF 00 FF 50 1F  Normal   Normal\n",
       "1  1597759710            220   8  13 24 7F 60 05 FF BF 10  Normal   Normal\n",
       "2  1597759710            507   4              08 00 00 01  Normal   Normal"
      ]
     },
     "execution_count": 8,
     "metadata": {},
     "output_type": "execute_result"
    }
   ],
   "source": [
    "abnormal_data_df.head(3)"
   ]
  },
  {
   "cell_type": "markdown",
   "metadata": {},
   "source": [
    "**Using Arbitration ID**"
   ]
  },
  {
   "cell_type": "code",
   "execution_count": 9,
   "metadata": {},
   "outputs": [],
   "source": [
    "normal_ArbID_df = normal_data_df['Arbitration ID'].apply(int, base=16)\n",
    "abnormal_ArbID_df = abnormal_data_df['Arbitration ID'].apply(int, base=16)\n"
   ]
  },
  {
   "cell_type": "code",
   "execution_count": 10,
   "metadata": {},
   "outputs": [
    {
     "data": {
      "text/plain": [
       "0          608\n",
       "1          809\n",
       "2          909\n",
       "3         1056\n",
       "4         1057\n",
       "          ... \n",
       "179341     913\n",
       "179342     608\n",
       "179343    1057\n",
       "179344     304\n",
       "179345     320\n",
       "Name: Arbitration ID, Length: 179346, dtype: int64"
      ]
     },
     "execution_count": 10,
     "metadata": {},
     "output_type": "execute_result"
    }
   ],
   "source": [
    "normal_ArbID_df"
   ]
  },
  {
   "cell_type": "code",
   "execution_count": 11,
   "metadata": {},
   "outputs": [
    {
     "data": {
      "text/plain": [
       "0          339\n",
       "1          544\n",
       "2         1287\n",
       "3          854\n",
       "4          832\n",
       "          ... \n",
       "806385     870\n",
       "806386     871\n",
       "806387     872\n",
       "806388    1151\n",
       "806389    1225\n",
       "Name: Arbitration ID, Length: 806390, dtype: int64"
      ]
     },
     "execution_count": 11,
     "metadata": {},
     "output_type": "execute_result"
    }
   ],
   "source": [
    "abnormal_ArbID_df"
   ]
  },
  {
   "cell_type": "code",
   "execution_count": 12,
   "metadata": {},
   "outputs": [
    {
     "data": {
      "text/plain": [
       "0          339\n",
       "1          544\n",
       "2         1287\n",
       "3          854\n",
       "4          832\n",
       "          ... \n",
       "806385     870\n",
       "806386     871\n",
       "806387     872\n",
       "806388    1151\n",
       "806389    1225\n",
       "Name: Arbitration ID, Length: 806390, dtype: int64"
      ]
     },
     "execution_count": 12,
     "metadata": {},
     "output_type": "execute_result"
    }
   ],
   "source": [
    "abnormal_ArbID_df"
   ]
  },
  {
   "cell_type": "code",
   "execution_count": 13,
   "metadata": {},
   "outputs": [],
   "source": [
    "train_arbID_seq = normal_ArbID_df.to_numpy()\n",
    "test_arbID_seq = abnormal_ArbID_df.to_numpy()"
   ]
  },
  {
   "cell_type": "code",
   "execution_count": 14,
   "metadata": {},
   "outputs": [
    {
     "name": "stdout",
     "output_type": "stream",
     "text": [
      "179346\n",
      "806390\n"
     ]
    }
   ],
   "source": [
    "print(len(train_arbID_seq))\n",
    "print(len(test_arbID_seq))"
   ]
  },
  {
   "cell_type": "code",
   "execution_count": 15,
   "metadata": {},
   "outputs": [],
   "source": [
    "def get_split_arbid_seq_by_wnd(arbidseq, window_size=5):\n",
    "  splited = np.lib.stride_tricks.as_strided(arbidseq,shape=(np.size(arbidseq)-window_size+1,window_size),strides=(arbidseq.strides[0],arbidseq.strides[0]))\n",
    "  return splited"
   ]
  },
  {
   "cell_type": "code",
   "execution_count": 16,
   "metadata": {},
   "outputs": [],
   "source": [
    "tr_set = get_split_arbid_seq_by_wnd(train_arbID_seq)\n",
    "te_set = get_split_arbid_seq_by_wnd(test_arbID_seq)\n"
   ]
  },
  {
   "cell_type": "code",
   "execution_count": 17,
   "metadata": {},
   "outputs": [],
   "source": [
    "import hmmlearn.hmm as hmm"
   ]
  },
  {
   "cell_type": "code",
   "execution_count": 18,
   "metadata": {},
   "outputs": [
    {
     "name": "stdout",
     "output_type": "stream",
     "text": [
      "179342\n",
      "806386\n"
     ]
    }
   ],
   "source": [
    "tr_set_size = len(tr_set)\n",
    "print(tr_set_size)\n",
    "te_set_size = len(te_set)\n",
    "print(te_set_size)"
   ]
  },
  {
   "cell_type": "code",
   "execution_count": 19,
   "metadata": {},
   "outputs": [],
   "source": [
    "tr_set=tr_set.astype(int)\n",
    "te_set=te_set.astype(int)"
   ]
  },
  {
   "cell_type": "code",
   "execution_count": 20,
   "metadata": {},
   "outputs": [
    {
     "name": "stdout",
     "output_type": "stream",
     "text": [
      "--------------------\n",
      "-6265544.540709559\n",
      "-6465855.056967285\n",
      "--------------------\n",
      "[1.00000000e+00 2.59528284e-10]\n",
      "[[0.84543979 0.15456021]\n",
      " [0.08668545 0.91331455]]\n"
     ]
    }
   ],
   "source": [
    "h = hmm.GaussianHMM(2) # 모델 파라미터 설정, 모델링 객체 생성\n",
    "print('--------------------')\n",
    "h.fit(tr_set) # 학습진행\n",
    "print(h.score(tr_set)) # log(foward prob)\n",
    "print(h.score(te_set)/(te_set_size/tr_set_size))\n",
    "print('--------------------')\n",
    "print(h.startprob_)\n",
    "print(h.transmat_)"
   ]
  },
  {
   "cell_type": "code",
   "execution_count": 21,
   "metadata": {},
   "outputs": [],
   "source": [
    "import matplotlib.pyplot as plt"
   ]
  },
  {
   "cell_type": "code",
   "execution_count": 22,
   "metadata": {},
   "outputs": [
    {
     "name": "stdout",
     "output_type": "stream",
     "text": [
      "--------------------\n",
      "-6220997.719996078\n",
      "-6492987.873545902\n",
      "--------------------\n",
      "[1.00000000e+00 1.66882579e-14 3.86265096e-44]\n",
      "[[8.41959630e-01 1.21726920e-16 1.58040370e-01]\n",
      " [2.37700970e-01 6.74611898e-01 8.76871320e-02]\n",
      " [8.78668644e-14 4.51479497e-01 5.48520503e-01]]\n"
     ]
    }
   ],
   "source": [
    "h2 = hmm.GaussianHMM(3) # 모델 파라미터 설정, 모델링 객체 생성\n",
    "print('--------------------')\n",
    "h2.fit(tr_set) # 학습진행\n",
    "print(h2.score(tr_set)) # log(foward prob)\n",
    "print(h2.score(te_set)/(te_set_size/tr_set_size))\n",
    "print('--------------------')\n",
    "print(h2.startprob_)\n",
    "print(h2.transmat_)"
   ]
  },
  {
   "cell_type": "code",
   "execution_count": 23,
   "metadata": {},
   "outputs": [
    {
     "name": "stdout",
     "output_type": "stream",
     "text": [
      "--------------------\n",
      "-6149946.600655656\n",
      "-6498707.382895833\n",
      "--------------------\n",
      "[1.75257988e-25 9.99999958e-01 4.15958579e-08 8.12321652e-52]\n",
      "[[5.50347213e-01 3.24990099e-04 1.18629901e-17 4.49327797e-01]\n",
      " [1.62389794e-01 8.37610206e-01 9.18676277e-20 7.73926711e-27]\n",
      " [1.54964122e-01 3.27651958e-01 4.04345235e-01 1.13038685e-01]\n",
      " [2.82249278e-03 3.43073659e-06 4.83423635e-01 5.13750441e-01]]\n"
     ]
    }
   ],
   "source": [
    "h3 = hmm.GaussianHMM(4) # 모델 파라미터 설정, 모델링 객체 생성\n",
    "print('--------------------')\n",
    "h3.fit(tr_set) # 학습진행\n",
    "print(h3.score(tr_set)) # log(foward prob)\n",
    "print(h3.score(te_set)/(te_set_size/tr_set_size))\n",
    "print('--------------------')\n",
    "print(h3.startprob_)\n",
    "print(h3.transmat_)"
   ]
  },
  {
   "cell_type": "code",
   "execution_count": null,
   "metadata": {},
   "outputs": [],
   "source": []
  }
 ],
 "metadata": {
  "interpreter": {
   "hash": "e1cccd04e85b6896c0b444fb4c711c31b631e3aead8bbe915e9db3696d19a850"
  },
  "kernelspec": {
   "display_name": "Python 3.8.8 64-bit ('base': conda)",
   "language": "python",
   "name": "python3"
  },
  "language_info": {
   "codemirror_mode": {
    "name": "ipython",
    "version": 3
   },
   "file_extension": ".py",
   "mimetype": "text/x-python",
   "name": "python",
   "nbconvert_exporter": "python",
   "pygments_lexer": "ipython3",
   "version": "3.8.8"
  },
  "orig_nbformat": 4
 },
 "nbformat": 4,
 "nbformat_minor": 2
}
