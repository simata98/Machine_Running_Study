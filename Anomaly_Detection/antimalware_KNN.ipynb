{
 "cells": [
  {
   "cell_type": "code",
   "execution_count": 1,
   "metadata": {},
   "outputs": [],
   "source": [
    "import numpy as np\n",
    "import pandas as pd\n",
    "import seaborn as sns\n",
    "import pickle as pck\n",
    "import matplotlib.pyplot as plt\n",
    "\n",
    "from sklearn.model_selection import train_test_split\n",
    "from sklearn.decomposition import PCA\n",
    "from sklearn.preprocessing import StandardScaler\n",
    "%matplotlib inline"
   ]
  },
  {
   "cell_type": "code",
   "execution_count": 2,
   "metadata": {},
   "outputs": [],
   "source": [
    "#Loading dataset from training\n",
    "data = pd.read_csv('./data/dataset_malwares.csv', sep=',')\n",
    "\n",
    "#The target is Malware Column {0=Benign, 1=Malware}\n",
    "X = data.drop(['Name','Malware'], axis=1)\n",
    "y = data['Malware']\n",
    "\n",
    "X_train, X_test, y_train, y_test= train_test_split(X,y, test_size=0.2, random_state=101)"
   ]
  },
  {
   "cell_type": "code",
   "execution_count": 3,
   "metadata": {},
   "outputs": [],
   "source": [
    "scaler = StandardScaler()\n",
    "X_scaled = scaler.fit_transform(X_train)"
   ]
  },
  {
   "cell_type": "code",
   "execution_count": 4,
   "metadata": {},
   "outputs": [
    {
     "data": {
      "text/html": [
       "<div>\n",
       "<style scoped>\n",
       "    .dataframe tbody tr th:only-of-type {\n",
       "        vertical-align: middle;\n",
       "    }\n",
       "\n",
       "    .dataframe tbody tr th {\n",
       "        vertical-align: top;\n",
       "    }\n",
       "\n",
       "    .dataframe thead th {\n",
       "        text-align: right;\n",
       "    }\n",
       "</style>\n",
       "<table border=\"1\" class=\"dataframe\">\n",
       "  <thead>\n",
       "    <tr style=\"text-align: right;\">\n",
       "      <th></th>\n",
       "      <th>e_magic</th>\n",
       "      <th>e_cblp</th>\n",
       "      <th>e_cp</th>\n",
       "      <th>e_crlc</th>\n",
       "      <th>e_cparhdr</th>\n",
       "      <th>e_minalloc</th>\n",
       "      <th>e_maxalloc</th>\n",
       "      <th>e_ss</th>\n",
       "      <th>e_sp</th>\n",
       "      <th>e_csum</th>\n",
       "      <th>...</th>\n",
       "      <th>SectionMaxChar</th>\n",
       "      <th>SectionMainChar</th>\n",
       "      <th>DirectoryEntryImport</th>\n",
       "      <th>DirectoryEntryImportSize</th>\n",
       "      <th>DirectoryEntryExport</th>\n",
       "      <th>ImageDirectoryEntryExport</th>\n",
       "      <th>ImageDirectoryEntryImport</th>\n",
       "      <th>ImageDirectoryEntryResource</th>\n",
       "      <th>ImageDirectoryEntryException</th>\n",
       "      <th>ImageDirectoryEntrySecurity</th>\n",
       "    </tr>\n",
       "  </thead>\n",
       "  <tbody>\n",
       "    <tr>\n",
       "      <th>0</th>\n",
       "      <td>0.0</td>\n",
       "      <td>-0.038591</td>\n",
       "      <td>-0.050297</td>\n",
       "      <td>-0.041557</td>\n",
       "      <td>-0.040212</td>\n",
       "      <td>-0.042419</td>\n",
       "      <td>0.148298</td>\n",
       "      <td>-0.016139</td>\n",
       "      <td>-0.036843</td>\n",
       "      <td>-0.031918</td>\n",
       "      <td>...</td>\n",
       "      <td>1.076024</td>\n",
       "      <td>0.0</td>\n",
       "      <td>1.379922</td>\n",
       "      <td>-0.623512</td>\n",
       "      <td>-0.087645</td>\n",
       "      <td>0.000436</td>\n",
       "      <td>-0.000677</td>\n",
       "      <td>-0.067061</td>\n",
       "      <td>-0.019125</td>\n",
       "      <td>-0.040622</td>\n",
       "    </tr>\n",
       "    <tr>\n",
       "      <th>1</th>\n",
       "      <td>0.0</td>\n",
       "      <td>-0.038591</td>\n",
       "      <td>-0.050297</td>\n",
       "      <td>-0.041557</td>\n",
       "      <td>-0.040212</td>\n",
       "      <td>-0.042419</td>\n",
       "      <td>0.148298</td>\n",
       "      <td>-0.016139</td>\n",
       "      <td>-0.036843</td>\n",
       "      <td>-0.031918</td>\n",
       "      <td>...</td>\n",
       "      <td>0.097299</td>\n",
       "      <td>0.0</td>\n",
       "      <td>-0.656755</td>\n",
       "      <td>0.249356</td>\n",
       "      <td>-0.087645</td>\n",
       "      <td>-0.016366</td>\n",
       "      <td>-0.059942</td>\n",
       "      <td>-0.060538</td>\n",
       "      <td>-0.020494</td>\n",
       "      <td>-0.040622</td>\n",
       "    </tr>\n",
       "    <tr>\n",
       "      <th>2</th>\n",
       "      <td>0.0</td>\n",
       "      <td>-0.038591</td>\n",
       "      <td>-0.050297</td>\n",
       "      <td>-0.041557</td>\n",
       "      <td>-0.040212</td>\n",
       "      <td>-0.042419</td>\n",
       "      <td>0.148298</td>\n",
       "      <td>-0.016139</td>\n",
       "      <td>-0.036843</td>\n",
       "      <td>-0.031918</td>\n",
       "      <td>...</td>\n",
       "      <td>0.097299</td>\n",
       "      <td>0.0</td>\n",
       "      <td>1.125337</td>\n",
       "      <td>1.886949</td>\n",
       "      <td>-0.063126</td>\n",
       "      <td>-0.011787</td>\n",
       "      <td>-0.056269</td>\n",
       "      <td>-0.059451</td>\n",
       "      <td>-0.020494</td>\n",
       "      <td>-0.040622</td>\n",
       "    </tr>\n",
       "    <tr>\n",
       "      <th>3</th>\n",
       "      <td>0.0</td>\n",
       "      <td>-0.038591</td>\n",
       "      <td>-0.050297</td>\n",
       "      <td>-0.041557</td>\n",
       "      <td>-0.040212</td>\n",
       "      <td>-0.042419</td>\n",
       "      <td>0.148298</td>\n",
       "      <td>-0.016139</td>\n",
       "      <td>-0.036843</td>\n",
       "      <td>-0.031918</td>\n",
       "      <td>...</td>\n",
       "      <td>0.097299</td>\n",
       "      <td>0.0</td>\n",
       "      <td>0.106999</td>\n",
       "      <td>0.434744</td>\n",
       "      <td>-0.087645</td>\n",
       "      <td>-0.016366</td>\n",
       "      <td>-0.075943</td>\n",
       "      <td>-0.045862</td>\n",
       "      <td>-0.020494</td>\n",
       "      <td>5.561297</td>\n",
       "    </tr>\n",
       "    <tr>\n",
       "      <th>4</th>\n",
       "      <td>0.0</td>\n",
       "      <td>-0.038591</td>\n",
       "      <td>-0.050297</td>\n",
       "      <td>-0.041557</td>\n",
       "      <td>-0.040212</td>\n",
       "      <td>-0.042419</td>\n",
       "      <td>0.148298</td>\n",
       "      <td>-0.016139</td>\n",
       "      <td>-0.036843</td>\n",
       "      <td>-0.031918</td>\n",
       "      <td>...</td>\n",
       "      <td>0.097299</td>\n",
       "      <td>0.0</td>\n",
       "      <td>-0.274878</td>\n",
       "      <td>-0.113695</td>\n",
       "      <td>-0.087645</td>\n",
       "      <td>-0.016366</td>\n",
       "      <td>-0.038952</td>\n",
       "      <td>-0.045862</td>\n",
       "      <td>-0.020494</td>\n",
       "      <td>-0.006233</td>\n",
       "    </tr>\n",
       "  </tbody>\n",
       "</table>\n",
       "<p>5 rows × 77 columns</p>\n",
       "</div>"
      ],
      "text/plain": [
       "   e_magic    e_cblp      e_cp    e_crlc  e_cparhdr  e_minalloc  e_maxalloc  \\\n",
       "0      0.0 -0.038591 -0.050297 -0.041557  -0.040212   -0.042419    0.148298   \n",
       "1      0.0 -0.038591 -0.050297 -0.041557  -0.040212   -0.042419    0.148298   \n",
       "2      0.0 -0.038591 -0.050297 -0.041557  -0.040212   -0.042419    0.148298   \n",
       "3      0.0 -0.038591 -0.050297 -0.041557  -0.040212   -0.042419    0.148298   \n",
       "4      0.0 -0.038591 -0.050297 -0.041557  -0.040212   -0.042419    0.148298   \n",
       "\n",
       "       e_ss      e_sp    e_csum  ...  SectionMaxChar  SectionMainChar  \\\n",
       "0 -0.016139 -0.036843 -0.031918  ...        1.076024              0.0   \n",
       "1 -0.016139 -0.036843 -0.031918  ...        0.097299              0.0   \n",
       "2 -0.016139 -0.036843 -0.031918  ...        0.097299              0.0   \n",
       "3 -0.016139 -0.036843 -0.031918  ...        0.097299              0.0   \n",
       "4 -0.016139 -0.036843 -0.031918  ...        0.097299              0.0   \n",
       "\n",
       "   DirectoryEntryImport  DirectoryEntryImportSize  DirectoryEntryExport  \\\n",
       "0              1.379922                 -0.623512             -0.087645   \n",
       "1             -0.656755                  0.249356             -0.087645   \n",
       "2              1.125337                  1.886949             -0.063126   \n",
       "3              0.106999                  0.434744             -0.087645   \n",
       "4             -0.274878                 -0.113695             -0.087645   \n",
       "\n",
       "   ImageDirectoryEntryExport  ImageDirectoryEntryImport  \\\n",
       "0                   0.000436                  -0.000677   \n",
       "1                  -0.016366                  -0.059942   \n",
       "2                  -0.011787                  -0.056269   \n",
       "3                  -0.016366                  -0.075943   \n",
       "4                  -0.016366                  -0.038952   \n",
       "\n",
       "   ImageDirectoryEntryResource  ImageDirectoryEntryException  \\\n",
       "0                    -0.067061                     -0.019125   \n",
       "1                    -0.060538                     -0.020494   \n",
       "2                    -0.059451                     -0.020494   \n",
       "3                    -0.045862                     -0.020494   \n",
       "4                    -0.045862                     -0.020494   \n",
       "\n",
       "   ImageDirectoryEntrySecurity  \n",
       "0                    -0.040622  \n",
       "1                    -0.040622  \n",
       "2                    -0.040622  \n",
       "3                     5.561297  \n",
       "4                    -0.006233  \n",
       "\n",
       "[5 rows x 77 columns]"
      ]
     },
     "execution_count": 4,
     "metadata": {},
     "output_type": "execute_result"
    }
   ],
   "source": [
    "X_new = pd.DataFrame(X_scaled, columns=X.columns)\n",
    "X_new.head()"
   ]
  },
  {
   "cell_type": "code",
   "execution_count": 5,
   "metadata": {},
   "outputs": [
    {
     "name": "stdout",
     "output_type": "stream",
     "text": [
      "Variance sum :  0.9872673777501166\n"
     ]
    }
   ],
   "source": [
    "skpca = PCA(n_components=55)\n",
    "X_pca = skpca.fit_transform(X_new)\n",
    "print('Variance sum : ', skpca.explained_variance_ratio_.cumsum()[-1])"
   ]
  },
  {
   "cell_type": "code",
   "execution_count": 6,
   "metadata": {},
   "outputs": [],
   "source": [
    "from sklearn.ensemble import RandomForestClassifier as RFC\n",
    "from sklearn.metrics import classification_report, confusion_matrix"
   ]
  },
  {
   "cell_type": "code",
   "execution_count": 7,
   "metadata": {},
   "outputs": [
    {
     "name": "stdout",
     "output_type": "stream",
     "text": [
      "              precision    recall  f1-score   support\n",
      "\n",
      "           0       0.97      0.97      0.97       974\n",
      "           1       0.99      0.99      0.99      2949\n",
      "\n",
      "    accuracy                           0.99      3923\n",
      "   macro avg       0.98      0.98      0.98      3923\n",
      "weighted avg       0.99      0.99      0.99      3923\n",
      "\n"
     ]
    }
   ],
   "source": [
    "model = RFC(n_estimators=100, random_state=0, \n",
    "                          oob_score = True,\n",
    "                          max_depth = 16, \n",
    "                          max_features = 'sqrt')\n",
    "model.fit(X_pca, y_train)\n",
    "\n",
    "X_test_scaled = scaler.transform(X_test)\n",
    "X_test_new = pd.DataFrame(X_test_scaled, columns=X.columns)\n",
    "X_test_pca = skpca.transform(X_test_new)\n",
    "\n",
    "y_pred = model.predict(X_test_pca)\n",
    "print(classification_report(y_test,y_pred))"
   ]
  },
  {
   "cell_type": "code",
   "execution_count": 8,
   "metadata": {},
   "outputs": [
    {
     "data": {
      "text/plain": [
       "<AxesSubplot:>"
      ]
     },
     "execution_count": 8,
     "metadata": {},
     "output_type": "execute_result"
    },
    {
     "data": {
      "image/png": "[encoded data removed]",
      "text/plain": [
       "<Figure size 432x288 with 1 Axes>"
      ]
     },
     "metadata": {
      "needs_background": "light"
     },
     "output_type": "display_data"
    }
   ],
   "source": [
    "sns.heatmap(confusion_matrix(y_test,y_pred), annot=True, fmt=\"d\", cmap=plt.cm.Blues, cbar=False)"
   ]
  },
  {
   "cell_type": "code",
   "execution_count": 9,
   "metadata": {},
   "outputs": [],
   "source": [
    "from sklearn.svm import SVC"
   ]
  },
  {
   "cell_type": "code",
   "execution_count": 10,
   "metadata": {},
   "outputs": [],
   "source": [
    "model = SVC()"
   ]
  },
  {
   "cell_type": "code",
   "execution_count": 11,
   "metadata": {},
   "outputs": [
    {
     "data": {
      "text/plain": [
       "SVC()"
      ]
     },
     "execution_count": 11,
     "metadata": {},
     "output_type": "execute_result"
    }
   ],
   "source": [
    "model.fit(X_pca,y_train)"
   ]
  },
  {
   "cell_type": "code",
   "execution_count": 12,
   "metadata": {},
   "outputs": [],
   "source": [
    "predictions = model.predict(X_test_pca)"
   ]
  },
  {
   "cell_type": "code",
   "execution_count": 13,
   "metadata": {},
   "outputs": [
    {
     "name": "stdout",
     "output_type": "stream",
     "text": [
      "              precision    recall  f1-score   support\n",
      "\n",
      "           0       0.95      0.94      0.94       974\n",
      "           1       0.98      0.98      0.98      2949\n",
      "\n",
      "    accuracy                           0.97      3923\n",
      "   macro avg       0.96      0.96      0.96      3923\n",
      "weighted avg       0.97      0.97      0.97      3923\n",
      "\n"
     ]
    }
   ],
   "source": [
    "print(classification_report(y_test,predictions))"
   ]
  },
  {
   "cell_type": "code",
   "execution_count": 14,
   "metadata": {},
   "outputs": [
    {
     "data": {
      "text/plain": [
       "<AxesSubplot:>"
      ]
     },
     "execution_count": 14,
     "metadata": {},
     "output_type": "execute_result"
    },
    {
     "data": {
      "image/png": "[encoded data removed]",
      "text/plain": [
       "<Figure size 432x288 with 1 Axes>"
      ]
     },
     "metadata": {
      "needs_background": "light"
     },
     "output_type": "display_data"
    }
   ],
   "source": [
    "sns.heatmap(confusion_matrix(y_test,predictions), annot=True, fmt=\"d\", cmap=plt.cm.Blues, cbar=False)"
   ]
  },
  {
   "cell_type": "code",
   "execution_count": 15,
   "metadata": {},
   "outputs": [],
   "source": [
    "from sklearn.model_selection import GridSearchCV"
   ]
  },
  {
   "cell_type": "code",
   "execution_count": 16,
   "metadata": {},
   "outputs": [],
   "source": [
    "param_grid = {'C':[0.1,1,10,100,1000],'gamma':[1,0.1,0.01,0.001,0.0001]}\n"
   ]
  },
  {
   "cell_type": "code",
   "execution_count": 17,
   "metadata": {},
   "outputs": [],
   "source": [
    "grid = GridSearchCV(SVC(),param_grid,verbose=3)\n"
   ]
  },
  {
   "cell_type": "code",
   "execution_count": 18,
   "metadata": {},
   "outputs": [
    {
     "name": "stdout",
     "output_type": "stream",
     "text": [
      "Fitting 5 folds for each of 25 candidates, totalling 125 fits\n",
      "[CV 1/5] END .................................C=0.1, gamma=1; total time=   6.7s\n",
      "[CV 2/5] END .................................C=0.1, gamma=1; total time=   5.8s\n",
      "[CV 3/5] END .................................C=0.1, gamma=1; total time=   6.0s\n",
      "[CV 4/5] END .................................C=0.1, gamma=1; total time=   6.1s\n",
      "[CV 5/5] END .................................C=0.1, gamma=1; total time=   5.7s\n",
      "[CV 1/5] END ...............................C=0.1, gamma=0.1; total time=   2.7s\n",
      "[CV 2/5] END ...............................C=0.1, gamma=0.1; total time=   3.2s\n",
      "[CV 3/5] END ...............................C=0.1, gamma=0.1; total time=   2.7s\n",
      "[CV 4/5] END ...............................C=0.1, gamma=0.1; total time=   2.8s\n",
      "[CV 5/5] END ...............................C=0.1, gamma=0.1; total time=   2.7s\n",
      "[CV 1/5] END ..............................C=0.1, gamma=0.01; total time=   3.0s\n",
      "[CV 2/5] END ..............................C=0.1, gamma=0.01; total time=   3.3s\n",
      "[CV 3/5] END ..............................C=0.1, gamma=0.01; total time=   2.9s\n",
      "[CV 4/5] END ..............................C=0.1, gamma=0.01; total time=   2.9s\n",
      "[CV 5/5] END ..............................C=0.1, gamma=0.01; total time=   3.0s\n",
      "[CV 1/5] END .............................C=0.1, gamma=0.001; total time=   5.7s\n",
      "[CV 2/5] END .............................C=0.1, gamma=0.001; total time=   5.7s\n",
      "[CV 3/5] END .............................C=0.1, gamma=0.001; total time=   5.8s\n",
      "[CV 4/5] END .............................C=0.1, gamma=0.001; total time=   6.3s\n",
      "[CV 5/5] END .............................C=0.1, gamma=0.001; total time=   5.8s\n",
      "[CV 1/5] END ............................C=0.1, gamma=0.0001; total time=   7.8s\n",
      "[CV 2/5] END ............................C=0.1, gamma=0.0001; total time=   7.6s\n",
      "[CV 3/5] END ............................C=0.1, gamma=0.0001; total time=   7.5s\n",
      "[CV 4/5] END ............................C=0.1, gamma=0.0001; total time=   7.2s\n",
      "[CV 5/5] END ............................C=0.1, gamma=0.0001; total time=   7.6s\n",
      "[CV 1/5] END ...................................C=1, gamma=1; total time=   4.8s\n",
      "[CV 2/5] END ...................................C=1, gamma=1; total time=   5.2s\n",
      "[CV 3/5] END ...................................C=1, gamma=1; total time=   4.8s\n",
      "[CV 4/5] END ...................................C=1, gamma=1; total time=   4.6s\n",
      "[CV 5/5] END ...................................C=1, gamma=1; total time=   4.9s\n",
      "[CV 1/5] END .................................C=1, gamma=0.1; total time=   2.0s\n",
      "[CV 2/5] END .................................C=1, gamma=0.1; total time=   2.1s\n",
      "[CV 3/5] END .................................C=1, gamma=0.1; total time=   1.9s\n",
      "[CV 4/5] END .................................C=1, gamma=0.1; total time=   1.9s\n",
      "[CV 5/5] END .................................C=1, gamma=0.1; total time=   1.9s\n",
      "[CV 1/5] END ................................C=1, gamma=0.01; total time=   1.7s\n",
      "[CV 2/5] END ................................C=1, gamma=0.01; total time=   1.7s\n",
      "[CV 3/5] END ................................C=1, gamma=0.01; total time=   1.7s\n",
      "[CV 4/5] END ................................C=1, gamma=0.01; total time=   1.6s\n",
      "[CV 5/5] END ................................C=1, gamma=0.01; total time=   1.7s\n",
      "[CV 1/5] END ...............................C=1, gamma=0.001; total time=   2.8s\n",
      "[CV 2/5] END ...............................C=1, gamma=0.001; total time=   2.8s\n",
      "[CV 3/5] END ...............................C=1, gamma=0.001; total time=   2.7s\n",
      "[CV 4/5] END ...............................C=1, gamma=0.001; total time=   2.9s\n",
      "[CV 5/5] END ...............................C=1, gamma=0.001; total time=   2.9s\n",
      "[CV 1/5] END ..............................C=1, gamma=0.0001; total time=   5.7s\n",
      "[CV 2/5] END ..............................C=1, gamma=0.0001; total time=   6.2s\n",
      "[CV 3/5] END ..............................C=1, gamma=0.0001; total time=   5.6s\n",
      "[CV 4/5] END ..............................C=1, gamma=0.0001; total time=   5.6s\n",
      "[CV 5/5] END ..............................C=1, gamma=0.0001; total time=   5.9s\n",
      "[CV 1/5] END ..................................C=10, gamma=1; total time=   4.5s\n",
      "[CV 2/5] END ..................................C=10, gamma=1; total time=   4.6s\n",
      "[CV 3/5] END ..................................C=10, gamma=1; total time=   4.7s\n",
      "[CV 4/5] END ..................................C=10, gamma=1; total time=   4.6s\n",
      "[CV 5/5] END ..................................C=10, gamma=1; total time=   4.8s\n",
      "[CV 1/5] END ................................C=10, gamma=0.1; total time=   1.9s\n",
      "[CV 2/5] END ................................C=10, gamma=0.1; total time=   2.0s\n",
      "[CV 3/5] END ................................C=10, gamma=0.1; total time=   1.9s\n",
      "[CV 4/5] END ................................C=10, gamma=0.1; total time=   1.7s\n",
      "[CV 5/5] END ................................C=10, gamma=0.1; total time=   1.7s\n",
      "[CV 1/5] END ...............................C=10, gamma=0.01; total time=   1.4s\n",
      "[CV 2/5] END ...............................C=10, gamma=0.01; total time=   1.4s\n",
      "[CV 3/5] END ...............................C=10, gamma=0.01; total time=   1.3s\n",
      "[CV 4/5] END ...............................C=10, gamma=0.01; total time=   1.4s\n",
      "[CV 5/5] END ...............................C=10, gamma=0.01; total time=   1.3s\n",
      "[CV 1/5] END ..............................C=10, gamma=0.001; total time=   1.7s\n",
      "[CV 2/5] END ..............................C=10, gamma=0.001; total time=   1.9s\n",
      "[CV 3/5] END ..............................C=10, gamma=0.001; total time=   1.7s\n",
      "[CV 4/5] END ..............................C=10, gamma=0.001; total time=   1.7s\n",
      "[CV 5/5] END ..............................C=10, gamma=0.001; total time=   1.8s\n",
      "[CV 1/5] END .............................C=10, gamma=0.0001; total time=   2.7s\n",
      "[CV 2/5] END .............................C=10, gamma=0.0001; total time=   2.8s\n",
      "[CV 3/5] END .............................C=10, gamma=0.0001; total time=   3.0s\n",
      "[CV 4/5] END .............................C=10, gamma=0.0001; total time=   3.0s\n",
      "[CV 5/5] END .............................C=10, gamma=0.0001; total time=   2.8s\n",
      "[CV 1/5] END .................................C=100, gamma=1; total time=   5.1s\n",
      "[CV 2/5] END .................................C=100, gamma=1; total time=   5.1s\n",
      "[CV 3/5] END .................................C=100, gamma=1; total time=   4.9s\n",
      "[CV 4/5] END .................................C=100, gamma=1; total time=   5.1s\n",
      "[CV 5/5] END .................................C=100, gamma=1; total time=   5.6s\n",
      "[CV 1/5] END ...............................C=100, gamma=0.1; total time=   1.8s\n",
      "[CV 2/5] END ...............................C=100, gamma=0.1; total time=   2.0s\n",
      "[CV 3/5] END ...............................C=100, gamma=0.1; total time=   2.0s\n",
      "[CV 4/5] END ...............................C=100, gamma=0.1; total time=   1.9s\n",
      "[CV 5/5] END ...............................C=100, gamma=0.1; total time=   1.9s\n",
      "[CV 1/5] END ..............................C=100, gamma=0.01; total time=   1.5s\n",
      "[CV 2/5] END ..............................C=100, gamma=0.01; total time=   1.6s\n",
      "[CV 3/5] END ..............................C=100, gamma=0.01; total time=   1.7s\n",
      "[CV 4/5] END ..............................C=100, gamma=0.01; total time=   1.4s\n",
      "[CV 5/5] END ..............................C=100, gamma=0.01; total time=   1.4s\n",
      "[CV 1/5] END .............................C=100, gamma=0.001; total time=   1.7s\n",
      "[CV 2/5] END .............................C=100, gamma=0.001; total time=   1.9s\n",
      "[CV 3/5] END .............................C=100, gamma=0.001; total time=   1.7s\n",
      "[CV 4/5] END .............................C=100, gamma=0.001; total time=   1.6s\n",
      "[CV 5/5] END .............................C=100, gamma=0.001; total time=   1.7s\n",
      "[CV 1/5] END ............................C=100, gamma=0.0001; total time=   1.9s\n",
      "[CV 2/5] END ............................C=100, gamma=0.0001; total time=   2.2s\n",
      "[CV 3/5] END ............................C=100, gamma=0.0001; total time=   1.8s\n",
      "[CV 4/5] END ............................C=100, gamma=0.0001; total time=   1.8s\n",
      "[CV 5/5] END ............................C=100, gamma=0.0001; total time=   1.9s\n",
      "[CV 1/5] END ................................C=1000, gamma=1; total time=   4.7s\n",
      "[CV 2/5] END ................................C=1000, gamma=1; total time=   4.8s\n",
      "[CV 3/5] END ................................C=1000, gamma=1; total time=   4.7s\n",
      "[CV 4/5] END ................................C=1000, gamma=1; total time=   4.8s\n",
      "[CV 5/5] END ................................C=1000, gamma=1; total time=   4.8s\n",
      "[CV 1/5] END ..............................C=1000, gamma=0.1; total time=   1.7s\n",
      "[CV 2/5] END ..............................C=1000, gamma=0.1; total time=   2.0s\n",
      "[CV 3/5] END ..............................C=1000, gamma=0.1; total time=   1.9s\n",
      "[CV 4/5] END ..............................C=1000, gamma=0.1; total time=   1.7s\n",
      "[CV 5/5] END ..............................C=1000, gamma=0.1; total time=   1.7s\n",
      "[CV 1/5] END .............................C=1000, gamma=0.01; total time=   1.9s\n",
      "[CV 2/5] END .............................C=1000, gamma=0.01; total time=   1.9s\n",
      "[CV 3/5] END .............................C=1000, gamma=0.01; total time=   2.0s\n",
      "[CV 4/5] END .............................C=1000, gamma=0.01; total time=   1.7s\n",
      "[CV 5/5] END .............................C=1000, gamma=0.01; total time=   1.9s\n",
      "[CV 1/5] END ............................C=1000, gamma=0.001; total time=   1.7s\n",
      "[CV 2/5] END ............................C=1000, gamma=0.001; total time=   1.9s\n",
      "[CV 3/5] END ............................C=1000, gamma=0.001; total time=   2.0s\n",
      "[CV 4/5] END ............................C=1000, gamma=0.001; total time=   1.7s\n",
      "[CV 5/5] END ............................C=1000, gamma=0.001; total time=   1.6s\n",
      "[CV 1/5] END ...........................C=1000, gamma=0.0001; total time=   1.6s\n",
      "[CV 2/5] END ...........................C=1000, gamma=0.0001; total time=   1.7s\n",
      "[CV 3/5] END ...........................C=1000, gamma=0.0001; total time=   1.7s\n",
      "[CV 4/5] END ...........................C=1000, gamma=0.0001; total time=   1.7s\n",
      "[CV 5/5] END ...........................C=1000, gamma=0.0001; total time=   1.6s\n"
     ]
    },
    {
     "data": {
      "text/plain": [
       "GridSearchCV(estimator=SVC(),\n",
       "             param_grid={'C': [0.1, 1, 10, 100, 1000],\n",
       "                         'gamma': [1, 0.1, 0.01, 0.001, 0.0001]},\n",
       "             verbose=3)"
      ]
     },
     "execution_count": 18,
     "metadata": {},
     "output_type": "execute_result"
    }
   ],
   "source": [
    "grid.fit(X_pca, y_train)\n"
   ]
  },
  {
   "cell_type": "code",
   "execution_count": 19,
   "metadata": {},
   "outputs": [
    {
     "data": {
      "text/plain": [
       "{'C': 100, 'gamma': 0.1}"
      ]
     },
     "execution_count": 19,
     "metadata": {},
     "output_type": "execute_result"
    }
   ],
   "source": [
    "grid.best_params_"
   ]
  },
  {
   "cell_type": "code",
   "execution_count": 20,
   "metadata": {},
   "outputs": [
    {
     "data": {
      "text/plain": [
       "SVC(C=100, gamma=0.1)"
      ]
     },
     "execution_count": 20,
     "metadata": {},
     "output_type": "execute_result"
    }
   ],
   "source": [
    "grid.best_estimator_"
   ]
  },
  {
   "cell_type": "code",
   "execution_count": 21,
   "metadata": {},
   "outputs": [],
   "source": [
    "grid_predictions = grid.predict(X_test_pca)"
   ]
  },
  {
   "cell_type": "code",
   "execution_count": 22,
   "metadata": {},
   "outputs": [
    {
     "name": "stdout",
     "output_type": "stream",
     "text": [
      "              precision    recall  f1-score   support\n",
      "\n",
      "           0       0.97      0.96      0.96       974\n",
      "           1       0.99      0.99      0.99      2949\n",
      "\n",
      "    accuracy                           0.98      3923\n",
      "   macro avg       0.98      0.97      0.98      3923\n",
      "weighted avg       0.98      0.98      0.98      3923\n",
      "\n"
     ]
    }
   ],
   "source": [
    "print(classification_report(y_test,grid_predictions))"
   ]
  },
  {
   "cell_type": "code",
   "execution_count": 23,
   "metadata": {},
   "outputs": [
    {
     "data": {
      "text/plain": [
       "<AxesSubplot:>"
      ]
     },
     "execution_count": 23,
     "metadata": {},
     "output_type": "execute_result"
    },
    {
     "data": {
      "image/png": "[encoded data removed]",
      "text/plain": [
       "<Figure size 432x288 with 1 Axes>"
      ]
     },
     "metadata": {
      "needs_background": "light"
     },
     "output_type": "display_data"
    }
   ],
   "source": [
    "sns.heatmap(confusion_matrix(y_test,grid_predictions), annot=True, fmt=\"d\", cmap=plt.cm.Blues, cbar=False)"
   ]
  },
  {
   "cell_type": "code",
   "execution_count": 24,
   "metadata": {},
   "outputs": [],
   "source": [
    "from sklearn.neighbors import KNeighborsClassifier"
   ]
  },
  {
   "cell_type": "code",
   "execution_count": 25,
   "metadata": {},
   "outputs": [],
   "source": [
    "knn = KNeighborsClassifier(n_neighbors=1)"
   ]
  },
  {
   "cell_type": "code",
   "execution_count": 26,
   "metadata": {},
   "outputs": [
    {
     "data": {
      "text/plain": [
       "KNeighborsClassifier(n_neighbors=1)"
      ]
     },
     "execution_count": 26,
     "metadata": {},
     "output_type": "execute_result"
    }
   ],
   "source": [
    "knn.fit(X_pca, y_train)"
   ]
  },
  {
   "cell_type": "code",
   "execution_count": 27,
   "metadata": {},
   "outputs": [],
   "source": [
    "pred = knn.predict(X_test_pca)"
   ]
  },
  {
   "cell_type": "code",
   "execution_count": 28,
   "metadata": {},
   "outputs": [
    {
     "data": {
      "text/plain": [
       "<AxesSubplot:>"
      ]
     },
     "execution_count": 28,
     "metadata": {},
     "output_type": "execute_result"
    },
    {
     "data": {
      "image/png": "[encoded data removed]",
      "text/plain": [
       "<Figure size 432x288 with 1 Axes>"
      ]
     },
     "metadata": {
      "needs_background": "light"
     },
     "output_type": "display_data"
    }
   ],
   "source": [
    "sns.heatmap(confusion_matrix(y_test,pred), annot=True, fmt=\"d\", cmap=plt.cm.Blues, cbar=False)"
   ]
  },
  {
   "cell_type": "code",
   "execution_count": 29,
   "metadata": {},
   "outputs": [
    {
     "name": "stdout",
     "output_type": "stream",
     "text": [
      "              precision    recall  f1-score   support\n",
      "\n",
      "           0       0.96      0.98      0.97       974\n",
      "           1       0.99      0.99      0.99      2949\n",
      "\n",
      "    accuracy                           0.98      3923\n",
      "   macro avg       0.98      0.98      0.98      3923\n",
      "weighted avg       0.98      0.98      0.98      3923\n",
      "\n"
     ]
    }
   ],
   "source": [
    "print(classification_report(y_test,pred))"
   ]
  },
  {
   "cell_type": "code",
   "execution_count": 30,
   "metadata": {},
   "outputs": [],
   "source": [
    "error_rate = []\n",
    "for i in range(1,20):\n",
    "    knn = KNeighborsClassifier(n_neighbors=i)\n",
    "    knn.fit(X_pca,y_train)\n",
    "    pred_i = knn.predict(X_test_pca)\n",
    "    error_rate.append(np.mean(pred_i != y_test))"
   ]
  },
  {
   "cell_type": "code",
   "execution_count": 31,
   "metadata": {},
   "outputs": [
    {
     "data": {
      "text/plain": [
       "Text(0, 0.5, 'Error Rate')"
      ]
     },
     "execution_count": 31,
     "metadata": {},
     "output_type": "execute_result"
    },
    {
     "data": {
      "image/png": "[encoded data removed]",
      "text/plain": [
       "<Figure size 720x432 with 1 Axes>"
      ]
     },
     "metadata": {
      "needs_background": "light"
     },
     "output_type": "display_data"
    }
   ],
   "source": [
    "plt.figure(figsize=(10,6))\n",
    "plt.plot(range(1,20),error_rate,color='blue',linestyle=\"--\",marker=\"o\", markerfacecolor='red',markersize=10)\n",
    "plt.title(\"Error Rate Vs K\")\n",
    "plt.xlabel(\"K\")\n",
    "plt.xticks(np.arange(0, 20, step=1))\n",
    "plt.ylabel(\"Error Rate\")"
   ]
  },
  {
   "cell_type": "code",
   "execution_count": null,
   "metadata": {},
   "outputs": [],
   "source": []
  }
 ],
 "metadata": {
  "interpreter": {
   "hash": "e1cccd04e85b6896c0b444fb4c711c31b631e3aead8bbe915e9db3696d19a850"
  },
  "kernelspec": {
   "display_name": "Python 3.8.8 ('base')",
   "language": "python",
   "name": "python3"
  },
  "language_info": {
   "codemirror_mode": {
    "name": "ipython",
    "version": 3
   },
   "file_extension": ".py",
   "mimetype": "text/x-python",
   "name": "python",
   "nbconvert_exporter": "python",
   "pygments_lexer": "ipython3",
   "version": "3.8.8"
  },
  "orig_nbformat": 4
 },
 "nbformat": 4,
 "nbformat_minor": 2
}
